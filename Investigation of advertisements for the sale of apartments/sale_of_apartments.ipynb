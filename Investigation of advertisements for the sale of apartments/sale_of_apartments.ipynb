{
 "cells": [
  {
   "cell_type": "markdown",
   "metadata": {},
   "source": [
    "<div class=\"alert alert-info\">\n",
    "    \n",
    "# Исследование объявлений о продаже квартир\n",
    "\n",
    "В вашем распоряжении данные сервиса Яндекc Недвижимость — архив объявлений о продаже квартир в Санкт-Петербурге и соседних населённых пунктах за несколько лет. Нужно научиться определять рыночную стоимость объектов недвижимости. Ваша задача — установить параметры. Это позволит построить автоматизированную систему: она отследит аномалии и мошенническую деятельность. \n",
    "\n",
    "По каждой квартире на продажу доступны два вида данных. Первые вписаны пользователем, вторые получены автоматически на основе картографических данных. Например, расстояние до центра, аэропорта, ближайшего парка и водоёма. \n",
    "\n",
    "Описание данных  \n",
    "    airports_nearest — расстояние до ближайшего аэропорта в метрах (м)  \n",
    "    balcony — число балконов  \n",
    "    ceiling_height — высота потолков (м)  \n",
    "    cityCenters_nearest — расстояние до центра города (м)  \n",
    "    days_exposition — сколько дней было размещено объявление (от публикации до снятия)  \n",
    "    first_day_exposition — дата публикации  \n",
    "    floor — этаж  \n",
    "    floors_total — всего этажей в доме  \n",
    "    is_apartment — апартаменты (булев тип)  \n",
    "    kitchen_area — площадь кухни в квадратных метрах (м²)  \n",
    "    last_price — цена на момент снятия с публикации  \n",
    "    living_area — жилая площадь в квадратных метрах (м²)  \n",
    "    locality_name — название населённого пункта  \n",
    "    open_plan — свободная планировка (булев тип)  \n",
    "    parks_around3000 — число парков в радиусе 3 км  \n",
    "    parks_nearest — расстояние до ближайшего парка (м)  \n",
    "    ponds_around3000 — число водоёмов в радиусе 3 км  \n",
    "    ponds_nearest — расстояние до ближайшего водоёма (м)  \n",
    "    rooms — число комнат  \n",
    "    studio — квартира-студия (булев тип)  \n",
    "    total_area — площадь квартиры в квадратных метрах (м²)  \n",
    "    total_images — число фотографий квартиры в объявлении  "
   ]
  },
  {
   "cell_type": "markdown",
   "metadata": {},
   "source": [
    "<div class=\"alert alert-info\">\n",
    "    \n",
    "## Изучение данных из файла"
   ]
  },
  {
   "cell_type": "code",
   "execution_count": 60,
   "metadata": {},
   "outputs": [],
   "source": [
    "import pandas as pd\n",
    "import math\n",
    "#import calendar\n",
    "#import numpy as np"
   ]
  },
  {
   "cell_type": "code",
   "execution_count": 61,
   "metadata": {},
   "outputs": [],
   "source": [
    "try:\n",
    "    df = pd.read_csv('real_estate_data.csv', sep='\\t')\n",
    "except:\n",
    "    df = pd.read_csv('/datasets/real_estate_data.csv', sep='\\t')"
   ]
  },
  {
   "cell_type": "code",
   "execution_count": 62,
   "metadata": {},
   "outputs": [
    {
     "name": "stdout",
     "output_type": "stream",
     "text": [
      "<class 'pandas.core.frame.DataFrame'>\n",
      "RangeIndex: 23699 entries, 0 to 23698\n",
      "Data columns (total 22 columns):\n",
      " #   Column                Non-Null Count  Dtype  \n",
      "---  ------                --------------  -----  \n",
      " 0   total_images          23699 non-null  int64  \n",
      " 1   last_price            23699 non-null  float64\n",
      " 2   total_area            23699 non-null  float64\n",
      " 3   first_day_exposition  23699 non-null  object \n",
      " 4   rooms                 23699 non-null  int64  \n",
      " 5   ceiling_height        14504 non-null  float64\n",
      " 6   floors_total          23613 non-null  float64\n",
      " 7   living_area           21796 non-null  float64\n",
      " 8   floor                 23699 non-null  int64  \n",
      " 9   is_apartment          2775 non-null   object \n",
      " 10  studio                23699 non-null  bool   \n",
      " 11  open_plan             23699 non-null  bool   \n",
      " 12  kitchen_area          21421 non-null  float64\n",
      " 13  balcony               12180 non-null  float64\n",
      " 14  locality_name         23650 non-null  object \n",
      " 15  airports_nearest      18157 non-null  float64\n",
      " 16  cityCenters_nearest   18180 non-null  float64\n",
      " 17  parks_around3000      18181 non-null  float64\n",
      " 18  parks_nearest         8079 non-null   float64\n",
      " 19  ponds_around3000      18181 non-null  float64\n",
      " 20  ponds_nearest         9110 non-null   float64\n",
      " 21  days_exposition       20518 non-null  float64\n",
      "dtypes: bool(2), float64(14), int64(3), object(3)\n",
      "memory usage: 3.7+ MB\n"
     ]
    },
    {
     "data": {
      "text/html": [
       "<div>\n",
       "<style scoped>\n",
       "    .dataframe tbody tr th:only-of-type {\n",
       "        vertical-align: middle;\n",
       "    }\n",
       "\n",
       "    .dataframe tbody tr th {\n",
       "        vertical-align: top;\n",
       "    }\n",
       "\n",
       "    .dataframe thead th {\n",
       "        text-align: right;\n",
       "    }\n",
       "</style>\n",
       "<table border=\"1\" class=\"dataframe\">\n",
       "  <thead>\n",
       "    <tr style=\"text-align: right;\">\n",
       "      <th></th>\n",
       "      <th>total_images</th>\n",
       "      <th>last_price</th>\n",
       "      <th>total_area</th>\n",
       "      <th>first_day_exposition</th>\n",
       "      <th>rooms</th>\n",
       "      <th>ceiling_height</th>\n",
       "      <th>floors_total</th>\n",
       "      <th>living_area</th>\n",
       "      <th>floor</th>\n",
       "      <th>is_apartment</th>\n",
       "      <th>...</th>\n",
       "      <th>kitchen_area</th>\n",
       "      <th>balcony</th>\n",
       "      <th>locality_name</th>\n",
       "      <th>airports_nearest</th>\n",
       "      <th>cityCenters_nearest</th>\n",
       "      <th>parks_around3000</th>\n",
       "      <th>parks_nearest</th>\n",
       "      <th>ponds_around3000</th>\n",
       "      <th>ponds_nearest</th>\n",
       "      <th>days_exposition</th>\n",
       "    </tr>\n",
       "  </thead>\n",
       "  <tbody>\n",
       "    <tr>\n",
       "      <th>0</th>\n",
       "      <td>20</td>\n",
       "      <td>13000000.0</td>\n",
       "      <td>108.0</td>\n",
       "      <td>2019-03-07T00:00:00</td>\n",
       "      <td>3</td>\n",
       "      <td>2.70</td>\n",
       "      <td>16.0</td>\n",
       "      <td>51.0</td>\n",
       "      <td>8</td>\n",
       "      <td>NaN</td>\n",
       "      <td>...</td>\n",
       "      <td>25.0</td>\n",
       "      <td>NaN</td>\n",
       "      <td>Санкт-Петербург</td>\n",
       "      <td>18863.0</td>\n",
       "      <td>16028.0</td>\n",
       "      <td>1.0</td>\n",
       "      <td>482.0</td>\n",
       "      <td>2.0</td>\n",
       "      <td>755.0</td>\n",
       "      <td>NaN</td>\n",
       "    </tr>\n",
       "    <tr>\n",
       "      <th>1</th>\n",
       "      <td>7</td>\n",
       "      <td>3350000.0</td>\n",
       "      <td>40.4</td>\n",
       "      <td>2018-12-04T00:00:00</td>\n",
       "      <td>1</td>\n",
       "      <td>NaN</td>\n",
       "      <td>11.0</td>\n",
       "      <td>18.6</td>\n",
       "      <td>1</td>\n",
       "      <td>NaN</td>\n",
       "      <td>...</td>\n",
       "      <td>11.0</td>\n",
       "      <td>2.0</td>\n",
       "      <td>посёлок Шушары</td>\n",
       "      <td>12817.0</td>\n",
       "      <td>18603.0</td>\n",
       "      <td>0.0</td>\n",
       "      <td>NaN</td>\n",
       "      <td>0.0</td>\n",
       "      <td>NaN</td>\n",
       "      <td>81.0</td>\n",
       "    </tr>\n",
       "    <tr>\n",
       "      <th>2</th>\n",
       "      <td>10</td>\n",
       "      <td>5196000.0</td>\n",
       "      <td>56.0</td>\n",
       "      <td>2015-08-20T00:00:00</td>\n",
       "      <td>2</td>\n",
       "      <td>NaN</td>\n",
       "      <td>5.0</td>\n",
       "      <td>34.3</td>\n",
       "      <td>4</td>\n",
       "      <td>NaN</td>\n",
       "      <td>...</td>\n",
       "      <td>8.3</td>\n",
       "      <td>0.0</td>\n",
       "      <td>Санкт-Петербург</td>\n",
       "      <td>21741.0</td>\n",
       "      <td>13933.0</td>\n",
       "      <td>1.0</td>\n",
       "      <td>90.0</td>\n",
       "      <td>2.0</td>\n",
       "      <td>574.0</td>\n",
       "      <td>558.0</td>\n",
       "    </tr>\n",
       "    <tr>\n",
       "      <th>3</th>\n",
       "      <td>0</td>\n",
       "      <td>64900000.0</td>\n",
       "      <td>159.0</td>\n",
       "      <td>2015-07-24T00:00:00</td>\n",
       "      <td>3</td>\n",
       "      <td>NaN</td>\n",
       "      <td>14.0</td>\n",
       "      <td>NaN</td>\n",
       "      <td>9</td>\n",
       "      <td>NaN</td>\n",
       "      <td>...</td>\n",
       "      <td>NaN</td>\n",
       "      <td>0.0</td>\n",
       "      <td>Санкт-Петербург</td>\n",
       "      <td>28098.0</td>\n",
       "      <td>6800.0</td>\n",
       "      <td>2.0</td>\n",
       "      <td>84.0</td>\n",
       "      <td>3.0</td>\n",
       "      <td>234.0</td>\n",
       "      <td>424.0</td>\n",
       "    </tr>\n",
       "    <tr>\n",
       "      <th>4</th>\n",
       "      <td>2</td>\n",
       "      <td>10000000.0</td>\n",
       "      <td>100.0</td>\n",
       "      <td>2018-06-19T00:00:00</td>\n",
       "      <td>2</td>\n",
       "      <td>3.03</td>\n",
       "      <td>14.0</td>\n",
       "      <td>32.0</td>\n",
       "      <td>13</td>\n",
       "      <td>NaN</td>\n",
       "      <td>...</td>\n",
       "      <td>41.0</td>\n",
       "      <td>NaN</td>\n",
       "      <td>Санкт-Петербург</td>\n",
       "      <td>31856.0</td>\n",
       "      <td>8098.0</td>\n",
       "      <td>2.0</td>\n",
       "      <td>112.0</td>\n",
       "      <td>1.0</td>\n",
       "      <td>48.0</td>\n",
       "      <td>121.0</td>\n",
       "    </tr>\n",
       "  </tbody>\n",
       "</table>\n",
       "<p>5 rows × 22 columns</p>\n",
       "</div>"
      ],
      "text/plain": [
       "   total_images  last_price  total_area first_day_exposition  rooms  \\\n",
       "0            20  13000000.0       108.0  2019-03-07T00:00:00      3   \n",
       "1             7   3350000.0        40.4  2018-12-04T00:00:00      1   \n",
       "2            10   5196000.0        56.0  2015-08-20T00:00:00      2   \n",
       "3             0  64900000.0       159.0  2015-07-24T00:00:00      3   \n",
       "4             2  10000000.0       100.0  2018-06-19T00:00:00      2   \n",
       "\n",
       "   ceiling_height  floors_total  living_area  floor is_apartment  ...  \\\n",
       "0            2.70          16.0         51.0      8          NaN  ...   \n",
       "1             NaN          11.0         18.6      1          NaN  ...   \n",
       "2             NaN           5.0         34.3      4          NaN  ...   \n",
       "3             NaN          14.0          NaN      9          NaN  ...   \n",
       "4            3.03          14.0         32.0     13          NaN  ...   \n",
       "\n",
       "   kitchen_area  balcony    locality_name  airports_nearest  \\\n",
       "0          25.0      NaN  Санкт-Петербург           18863.0   \n",
       "1          11.0      2.0   посёлок Шушары           12817.0   \n",
       "2           8.3      0.0  Санкт-Петербург           21741.0   \n",
       "3           NaN      0.0  Санкт-Петербург           28098.0   \n",
       "4          41.0      NaN  Санкт-Петербург           31856.0   \n",
       "\n",
       "  cityCenters_nearest  parks_around3000  parks_nearest  ponds_around3000  \\\n",
       "0             16028.0               1.0          482.0               2.0   \n",
       "1             18603.0               0.0            NaN               0.0   \n",
       "2             13933.0               1.0           90.0               2.0   \n",
       "3              6800.0               2.0           84.0               3.0   \n",
       "4              8098.0               2.0          112.0               1.0   \n",
       "\n",
       "   ponds_nearest  days_exposition  \n",
       "0          755.0              NaN  \n",
       "1            NaN             81.0  \n",
       "2          574.0            558.0  \n",
       "3          234.0            424.0  \n",
       "4           48.0            121.0  \n",
       "\n",
       "[5 rows x 22 columns]"
      ]
     },
     "execution_count": 62,
     "metadata": {},
     "output_type": "execute_result"
    }
   ],
   "source": [
    "df.info()\n",
    "df.head()"
   ]
  },
  {
   "cell_type": "markdown",
   "metadata": {},
   "source": [
    "<div class=\"alert alert-info\">\n",
    "    \n",
    "### Вывод"
   ]
  },
  {
   "cell_type": "markdown",
   "metadata": {},
   "source": [
    "🧑‍🎓 Ира: 22 столбца в датафрейме, строк всего 23699, в данных присутствуют пропуски, некоторые столбцы названы не совсем корректно(на мой взгляд)    "
   ]
  },
  {
   "cell_type": "markdown",
   "metadata": {},
   "source": [
    "<div class=\"alert alert-info\">\n",
    "\n",
    "## Предобработка данных"
   ]
  },
  {
   "cell_type": "code",
   "execution_count": 63,
   "metadata": {},
   "outputs": [
    {
     "data": {
      "text/plain": [
       "total_images                0\n",
       "last_price                  0\n",
       "total_area                  0\n",
       "first_day_exposition        0\n",
       "rooms                       0\n",
       "ceiling_height           9195\n",
       "floors_total               86\n",
       "living_area              1903\n",
       "floor                       0\n",
       "is_apartment            20924\n",
       "studio                      0\n",
       "open_plan                   0\n",
       "kitchen_area             2278\n",
       "balcony                 11519\n",
       "locality_name              49\n",
       "airports_nearest         5542\n",
       "cityCenters_nearest      5519\n",
       "parks_around3000         5518\n",
       "parks_nearest           15620\n",
       "ponds_around3000         5518\n",
       "ponds_nearest           14589\n",
       "days_exposition          3181\n",
       "dtype: int64"
      ]
     },
     "execution_count": 63,
     "metadata": {},
     "output_type": "execute_result"
    }
   ],
   "source": [
    "df.isna().sum()"
   ]
  },
  {
   "cell_type": "code",
   "execution_count": 64,
   "metadata": {},
   "outputs": [],
   "source": [
    "df.rename(columns={\"cityCenters_nearest\": \"city_centers_nearest\", \"parks_around3000\": \"parks_around_3000\",\n",
    "                  \"ponds_around3000\": \"ponds_around_3000\"}, inplace=True)"
   ]
  },
  {
   "cell_type": "code",
   "execution_count": 65,
   "metadata": {},
   "outputs": [],
   "source": [
    "all_variables = df.shape[0]\n",
    "\n",
    "def empty_unique_values(list_column):\n",
    "    for column in list_column:\n",
    "        column_nan = df[column].isna().sum()\n",
    "        column_proportion = column_nan / all_variables * 100\n",
    "        print('Доля пропущенных значений в столбце', column, '=', column_proportion)\n",
    "        print()\n",
    "        #print('Кол-во уникальных значений в столбце', column, '=', df[column].unique())\n",
    "        #print()"
   ]
  },
  {
   "cell_type": "code",
   "execution_count": 66,
   "metadata": {},
   "outputs": [
    {
     "name": "stdout",
     "output_type": "stream",
     "text": [
      "Доля пропущенных значений в столбце ceiling_height = 38.799105447487236\n",
      "\n",
      "Доля пропущенных значений в столбце floors_total = 0.36288450989493226\n",
      "\n",
      "Доля пропущенных значений в столбце living_area = 8.029874678256467\n",
      "\n",
      "Доля пропущенных значений в столбце is_apartment = 88.2906451749019\n",
      "\n",
      "Доля пропущенных значений в столбце kitchen_area = 9.612219924891345\n",
      "\n",
      "Доля пропущенных значений в столбце balcony = 48.605426389299126\n",
      "\n",
      "Доля пропущенных значений в столбце locality_name = 0.20675977889362418\n",
      "\n",
      "Доля пропущенных значений в столбце airports_nearest = 23.384952951601335\n",
      "\n",
      "Доля пропущенных значений в столбце city_centers_nearest = 23.28790244314106\n",
      "\n",
      "Доля пропущенных значений в столбце parks_around_3000 = 23.2836828558167\n",
      "\n",
      "Доля пропущенных значений в столбце parks_nearest = 65.90995400649817\n",
      "\n",
      "Доля пропущенных значений в столбце ponds_around_3000 = 23.2836828558167\n",
      "\n",
      "Доля пропущенных значений в столбце ponds_nearest = 61.55955947508333\n",
      "\n",
      "Доля пропущенных значений в столбце days_exposition = 13.422507278788135\n",
      "\n"
     ]
    }
   ],
   "source": [
    "list_column = ['ceiling_height', 'floors_total', 'living_area', 'is_apartment',\n",
    "               'kitchen_area', 'balcony', 'locality_name', 'airports_nearest', 'city_centers_nearest',\n",
    "               'parks_around_3000', 'parks_nearest', 'ponds_around_3000', 'ponds_nearest', 'days_exposition']\n",
    "\n",
    "empty_unique_values(list_column)\n",
    "\n"
   ]
  },
  {
   "cell_type": "code",
   "execution_count": 67,
   "metadata": {},
   "outputs": [
    {
     "name": "stdout",
     "output_type": "stream",
     "text": [
      "Кол-во уникальных значений в столбце balcony = [nan  2.  0.  1.  5.  4.  3.]\n",
      "Кол-во уникальных значений в столбце is_apartment = [nan False True]\n"
     ]
    }
   ],
   "source": [
    "print('Кол-во уникальных значений в столбце balcony =', df['balcony'].unique())\n",
    "print('Кол-во уникальных значений в столбце is_apartment =', df['is_apartment'].unique())"
   ]
  },
  {
   "cell_type": "markdown",
   "metadata": {},
   "source": [
    "\n",
    "🧑‍🎓 Ира: заполнить пустые значения возможно только в столбцах balcony и is_apartment   \n",
    "    Если кол-во балконов не заполнено, скорее всего оно = 0, так как могли не заполнить кол-во балконов при их отсутствии  \n",
    "    Если признак аппартаментов не заполнен, скорее всего значение = False, так как если это не апартаменты, могли не указать  \n",
    "\n",
    "Все остальные пропуски выглядят просто как незнание клиента, так как обычно вся инфо по квартире мало кому интересна, особенно если квартира старая/досталась в наследство, поэтому человек может не знать/не помнить такие метрики, как расстояние до центра/аэропорта или высота потолков, близость парков/прудов.  \n",
    "\n",
    "Пустота в метриках по типу жилая площадь в кв метрах или площадь кухни выглядит странно, так как во многих сервисах это обязательные поля для заполнения, но если такого условия нет, человек мог не заполнить эти данные опять же по незнанию, или же это была программная ошибка.   \n",
    "\n"
   ]
  },
  {
   "cell_type": "code",
   "execution_count": 68,
   "metadata": {},
   "outputs": [],
   "source": [
    "df = df.dropna(subset=['locality_name'], how='all')\n",
    "df['balcony'] = df['balcony'].fillna(0.0)\n",
    "df['is_apartment'] = df['is_apartment'].fillna('False')\n",
    "\n",
    "def df_median(list_median):\n",
    "    for row in list_median:\n",
    "        df[row] = df[row].fillna(df[row].median())\n",
    "        \n",
    "list_median = ['ceiling_height', 'floors_total','living_area','kitchen_area',\n",
    "               'airports_nearest','city_centers_nearest',\n",
    "               'parks_around_3000','parks_nearest','ponds_around_3000','ponds_nearest','days_exposition']\n",
    "\n",
    "df_median(list_median)\n"
   ]
  },
  {
   "cell_type": "code",
   "execution_count": 69,
   "metadata": {
    "scrolled": false
   },
   "outputs": [
    {
     "data": {
      "text/plain": [
       "total_images            0\n",
       "last_price              0\n",
       "total_area              0\n",
       "first_day_exposition    0\n",
       "rooms                   0\n",
       "ceiling_height          0\n",
       "floors_total            0\n",
       "living_area             0\n",
       "floor                   0\n",
       "is_apartment            0\n",
       "studio                  0\n",
       "open_plan               0\n",
       "kitchen_area            0\n",
       "balcony                 0\n",
       "locality_name           0\n",
       "airports_nearest        0\n",
       "city_centers_nearest    0\n",
       "parks_around_3000       0\n",
       "parks_nearest           0\n",
       "ponds_around_3000       0\n",
       "ponds_nearest           0\n",
       "days_exposition         0\n",
       "dtype: int64"
      ]
     },
     "execution_count": 69,
     "metadata": {},
     "output_type": "execute_result"
    }
   ],
   "source": [
    "df.isna().sum()"
   ]
  },
  {
   "cell_type": "code",
   "execution_count": 70,
   "metadata": {},
   "outputs": [],
   "source": [
    "df['floors_total'] = df['floors_total'].astype(int)\n",
    "df['balcony'] = df['balcony'].astype(int)\n",
    "df['parks_around_3000'] = df['parks_around_3000'].astype(int)\n",
    "df['ponds_around_3000'] = df['ponds_around_3000'].astype(int)\n"
   ]
  },
  {
   "cell_type": "markdown",
   "metadata": {},
   "source": [
    "<div class=\"alert alert-info\">\n",
    "\n",
    "### Предобработка данных - вывод"
   ]
  },
  {
   "cell_type": "markdown",
   "metadata": {},
   "source": [
    "Были проанализированы пропуски в данных, исправлены кривые нейминги столбцов датасета, исправлены типы данных для некоторых метрик.\n",
    "\n",
    "Пропуски в некоторых метриках, таких как жилая площадь в кв метрах или площадь кухни выглядит, следует отдельно проанализировать,\n",
    "возможноследует сказать команде разработки об этом. \n",
    "\n",
    "Пропуски в метриках заполнены среднем значением по всему датасету, пропуски в столбцах \"кол-во балконов\" и \"признак апартаментов\" заполнены \n",
    "логически правильными значениями(на мой взгляд)\n",
    "\n",
    "\n",
    "\n"
   ]
  },
  {
   "cell_type": "markdown",
   "metadata": {},
   "source": [
    "<div class=\"alert alert-info\">\n",
    "\n",
    "## Расчёты и добавление результатов в таблицу"
   ]
  },
  {
   "cell_type": "markdown",
   "metadata": {},
   "source": [
    "В таблицу необходимо добавить следующую информацию:  \n",
    "* цену квадратного метра;  \n",
    "* день недели, месяц и год публикации объявления;  \n",
    "* этаж квартиры; варианты — первый, последний, другой;  \n",
    "* соотношение жилой и общей площади, а также отношение площади кухни к общей."
   ]
  },
  {
   "cell_type": "code",
   "execution_count": 71,
   "metadata": {},
   "outputs": [
    {
     "data": {
      "text/html": [
       "<div>\n",
       "<style scoped>\n",
       "    .dataframe tbody tr th:only-of-type {\n",
       "        vertical-align: middle;\n",
       "    }\n",
       "\n",
       "    .dataframe tbody tr th {\n",
       "        vertical-align: top;\n",
       "    }\n",
       "\n",
       "    .dataframe thead th {\n",
       "        text-align: right;\n",
       "    }\n",
       "</style>\n",
       "<table border=\"1\" class=\"dataframe\">\n",
       "  <thead>\n",
       "    <tr style=\"text-align: right;\">\n",
       "      <th></th>\n",
       "      <th>total_images</th>\n",
       "      <th>last_price</th>\n",
       "      <th>total_area</th>\n",
       "      <th>first_day_exposition</th>\n",
       "      <th>rooms</th>\n",
       "      <th>ceiling_height</th>\n",
       "      <th>floors_total</th>\n",
       "      <th>living_area</th>\n",
       "      <th>floor</th>\n",
       "      <th>is_apartment</th>\n",
       "      <th>...</th>\n",
       "      <th>ponds_nearest</th>\n",
       "      <th>days_exposition</th>\n",
       "      <th>area_price</th>\n",
       "      <th>date_datetime</th>\n",
       "      <th>exposition_day</th>\n",
       "      <th>exposition_month</th>\n",
       "      <th>exposition_year</th>\n",
       "      <th>living_area_ratio</th>\n",
       "      <th>kitchen_area_ratio</th>\n",
       "      <th>floor_category</th>\n",
       "    </tr>\n",
       "  </thead>\n",
       "  <tbody>\n",
       "    <tr>\n",
       "      <th>0</th>\n",
       "      <td>20</td>\n",
       "      <td>13000000.0</td>\n",
       "      <td>108.0</td>\n",
       "      <td>2019-03-07T00:00:00</td>\n",
       "      <td>3</td>\n",
       "      <td>2.70</td>\n",
       "      <td>16</td>\n",
       "      <td>51.0</td>\n",
       "      <td>8</td>\n",
       "      <td>False</td>\n",
       "      <td>...</td>\n",
       "      <td>755.0</td>\n",
       "      <td>95.0</td>\n",
       "      <td>120370.370370</td>\n",
       "      <td>2019-03-07</td>\n",
       "      <td>7</td>\n",
       "      <td>3</td>\n",
       "      <td>2019</td>\n",
       "      <td>0.472222</td>\n",
       "      <td>0.231481</td>\n",
       "      <td>другой</td>\n",
       "    </tr>\n",
       "    <tr>\n",
       "      <th>1</th>\n",
       "      <td>7</td>\n",
       "      <td>3350000.0</td>\n",
       "      <td>40.4</td>\n",
       "      <td>2018-12-04T00:00:00</td>\n",
       "      <td>1</td>\n",
       "      <td>2.65</td>\n",
       "      <td>11</td>\n",
       "      <td>18.6</td>\n",
       "      <td>1</td>\n",
       "      <td>False</td>\n",
       "      <td>...</td>\n",
       "      <td>502.0</td>\n",
       "      <td>81.0</td>\n",
       "      <td>82920.792079</td>\n",
       "      <td>2018-12-04</td>\n",
       "      <td>4</td>\n",
       "      <td>12</td>\n",
       "      <td>2018</td>\n",
       "      <td>0.460396</td>\n",
       "      <td>0.272277</td>\n",
       "      <td>первый</td>\n",
       "    </tr>\n",
       "    <tr>\n",
       "      <th>2</th>\n",
       "      <td>10</td>\n",
       "      <td>5196000.0</td>\n",
       "      <td>56.0</td>\n",
       "      <td>2015-08-20T00:00:00</td>\n",
       "      <td>2</td>\n",
       "      <td>2.65</td>\n",
       "      <td>5</td>\n",
       "      <td>34.3</td>\n",
       "      <td>4</td>\n",
       "      <td>False</td>\n",
       "      <td>...</td>\n",
       "      <td>574.0</td>\n",
       "      <td>558.0</td>\n",
       "      <td>92785.714286</td>\n",
       "      <td>2015-08-20</td>\n",
       "      <td>20</td>\n",
       "      <td>8</td>\n",
       "      <td>2015</td>\n",
       "      <td>0.612500</td>\n",
       "      <td>0.148214</td>\n",
       "      <td>другой</td>\n",
       "    </tr>\n",
       "    <tr>\n",
       "      <th>3</th>\n",
       "      <td>0</td>\n",
       "      <td>64900000.0</td>\n",
       "      <td>159.0</td>\n",
       "      <td>2015-07-24T00:00:00</td>\n",
       "      <td>3</td>\n",
       "      <td>2.65</td>\n",
       "      <td>14</td>\n",
       "      <td>30.0</td>\n",
       "      <td>9</td>\n",
       "      <td>False</td>\n",
       "      <td>...</td>\n",
       "      <td>234.0</td>\n",
       "      <td>424.0</td>\n",
       "      <td>408176.100629</td>\n",
       "      <td>2015-07-24</td>\n",
       "      <td>24</td>\n",
       "      <td>7</td>\n",
       "      <td>2015</td>\n",
       "      <td>0.188679</td>\n",
       "      <td>0.057233</td>\n",
       "      <td>другой</td>\n",
       "    </tr>\n",
       "    <tr>\n",
       "      <th>4</th>\n",
       "      <td>2</td>\n",
       "      <td>10000000.0</td>\n",
       "      <td>100.0</td>\n",
       "      <td>2018-06-19T00:00:00</td>\n",
       "      <td>2</td>\n",
       "      <td>3.03</td>\n",
       "      <td>14</td>\n",
       "      <td>32.0</td>\n",
       "      <td>13</td>\n",
       "      <td>False</td>\n",
       "      <td>...</td>\n",
       "      <td>48.0</td>\n",
       "      <td>121.0</td>\n",
       "      <td>100000.000000</td>\n",
       "      <td>2018-06-19</td>\n",
       "      <td>19</td>\n",
       "      <td>6</td>\n",
       "      <td>2018</td>\n",
       "      <td>0.320000</td>\n",
       "      <td>0.410000</td>\n",
       "      <td>другой</td>\n",
       "    </tr>\n",
       "  </tbody>\n",
       "</table>\n",
       "<p>5 rows × 30 columns</p>\n",
       "</div>"
      ],
      "text/plain": [
       "   total_images  last_price  total_area first_day_exposition  rooms  \\\n",
       "0            20  13000000.0       108.0  2019-03-07T00:00:00      3   \n",
       "1             7   3350000.0        40.4  2018-12-04T00:00:00      1   \n",
       "2            10   5196000.0        56.0  2015-08-20T00:00:00      2   \n",
       "3             0  64900000.0       159.0  2015-07-24T00:00:00      3   \n",
       "4             2  10000000.0       100.0  2018-06-19T00:00:00      2   \n",
       "\n",
       "   ceiling_height  floors_total  living_area  floor is_apartment  ...  \\\n",
       "0            2.70            16         51.0      8        False  ...   \n",
       "1            2.65            11         18.6      1        False  ...   \n",
       "2            2.65             5         34.3      4        False  ...   \n",
       "3            2.65            14         30.0      9        False  ...   \n",
       "4            3.03            14         32.0     13        False  ...   \n",
       "\n",
       "   ponds_nearest  days_exposition     area_price  date_datetime  \\\n",
       "0          755.0             95.0  120370.370370     2019-03-07   \n",
       "1          502.0             81.0   82920.792079     2018-12-04   \n",
       "2          574.0            558.0   92785.714286     2015-08-20   \n",
       "3          234.0            424.0  408176.100629     2015-07-24   \n",
       "4           48.0            121.0  100000.000000     2018-06-19   \n",
       "\n",
       "  exposition_day  exposition_month  exposition_year  living_area_ratio  \\\n",
       "0              7                 3             2019           0.472222   \n",
       "1              4                12             2018           0.460396   \n",
       "2             20                 8             2015           0.612500   \n",
       "3             24                 7             2015           0.188679   \n",
       "4             19                 6             2018           0.320000   \n",
       "\n",
       "   kitchen_area_ratio  floor_category  \n",
       "0            0.231481          другой  \n",
       "1            0.272277          первый  \n",
       "2            0.148214          другой  \n",
       "3            0.057233          другой  \n",
       "4            0.410000          другой  \n",
       "\n",
       "[5 rows x 30 columns]"
      ]
     },
     "execution_count": 71,
     "metadata": {},
     "output_type": "execute_result"
    }
   ],
   "source": [
    "df['area_price'] = df['last_price'] / df['total_area']\n",
    "df['date_datetime'] = pd.to_datetime(df['first_day_exposition'], format='%Y-%m-%dT%H:%M:%S')\n",
    "df['exposition_day'] = pd.DatetimeIndex(df['date_datetime']).day\n",
    "df['exposition_month'] = pd.DatetimeIndex(df['date_datetime']).month \n",
    "df['exposition_year'] = pd.DatetimeIndex(df['date_datetime']).year\n",
    "df['living_area_ratio'] = df['living_area'] / df['total_area'] #соотношение жилой площади и общей\n",
    "df['kitchen_area_ratio'] = df['kitchen_area'] / df['total_area'] #соотношение площади кухни к общей\n",
    "\n",
    "def floor_categorys(row):\n",
    "    if row['floor'] == 1:\n",
    "        return 'первый'\n",
    "    elif row['floor'] == row['floors_total']:\n",
    "        return 'последний'\n",
    "    else: return 'другой'\n",
    "\n",
    "df['floor_category'] = df.apply(floor_categorys, axis=1)\n",
    "\n",
    "df.head() #выведем первые 5 строк таблицы для проверки, что все необходимые столбцы добавлены"
   ]
  },
  {
   "cell_type": "markdown",
   "metadata": {},
   "source": [
    "<div class=\"alert alert-info\">\n",
    "\n",
    "## Исследовательский анализ данных"
   ]
  },
  {
   "cell_type": "markdown",
   "metadata": {},
   "source": [
    "<div class=\"alert alert-info\">\n",
    "\n",
    "### Изучите следующие параметры: площадь, цена, число комнат, высота потолков. Постройте гистограммы для каждого параметра."
   ]
  },
  {
   "cell_type": "code",
   "execution_count": 72,
   "metadata": {},
   "outputs": [
    {
     "data": {
      "text/plain": [
       "array([[<AxesSubplot:title={'center':'total_area'}>]], dtype=object)"
      ]
     },
     "execution_count": 72,
     "metadata": {},
     "output_type": "execute_result"
    },
    {
     "data": {
      "image/png": "[encoded data removed]",
      "text/plain": [
       "<Figure size 432x288 with 1 Axes>"
      ]
     },
     "metadata": {
      "needs_background": "light"
     },
     "output_type": "display_data"
    }
   ],
   "source": [
    "df.hist('total_area', range=(0,400), bins=30)"
   ]
  },
  {
   "cell_type": "markdown",
   "metadata": {},
   "source": [
    "🧑‍🎓 Ира: На данной гистограмме видно, что большинство квартир имеет общую площадь в диапазоне 30-70 кв.м,\n",
    "но есть и исключения, где общая площадь превышает 200 кв.м, скорее всего это ошибка ввода данных"
   ]
  },
  {
   "cell_type": "code",
   "execution_count": 73,
   "metadata": {
    "scrolled": true
   },
   "outputs": [
    {
     "data": {
      "text/plain": [
       "array([[<AxesSubplot:title={'center':'last_price'}>]], dtype=object)"
      ]
     },
     "execution_count": 73,
     "metadata": {},
     "output_type": "execute_result"
    },
    {
     "data": {
      "image/png": "[encoded data removed]",
      "text/plain": [
       "<Figure size 432x288 with 1 Axes>"
      ]
     },
     "metadata": {
      "needs_background": "light"
     },
     "output_type": "display_data"
    }
   ],
   "source": [
    "df.hist('last_price', bins=30, range=(0,55000000))"
   ]
  },
  {
   "cell_type": "markdown",
   "metadata": {},
   "source": [
    "🧑‍🎓 Ира: гистограмма цены очень схожа с гистрограммой общей площади. Это логично, ведь цена сильно зависит от площади квартиры(чем больше площадь - тем выше цена)"
   ]
  },
  {
   "cell_type": "code",
   "execution_count": 74,
   "metadata": {
    "scrolled": true
   },
   "outputs": [
    {
     "data": {
      "text/plain": [
       "array([[<AxesSubplot:title={'center':'rooms'}>]], dtype=object)"
      ]
     },
     "execution_count": 74,
     "metadata": {},
     "output_type": "execute_result"
    },
    {
     "data": {
      "image/png": "[encoded data removed]",
      "text/plain": [
       "<Figure size 432x288 with 1 Axes>"
      ]
     },
     "metadata": {
      "needs_background": "light"
     },
     "output_type": "display_data"
    }
   ],
   "source": [
    "df.hist('rooms', range=(0,10))"
   ]
  },
  {
   "cell_type": "markdown",
   "metadata": {},
   "source": [
    "🧑‍🎓 Ира: большинство квартир имеют 2-3 комнаты"
   ]
  },
  {
   "cell_type": "code",
   "execution_count": 75,
   "metadata": {
    "scrolled": true
   },
   "outputs": [
    {
     "data": {
      "text/plain": [
       "array([[<AxesSubplot:title={'center':'ceiling_height'}>]], dtype=object)"
      ]
     },
     "execution_count": 75,
     "metadata": {},
     "output_type": "execute_result"
    },
    {
     "data": {
      "image/png": "[encoded data removed]",
      "text/plain": [
       "<Figure size 432x288 with 1 Axes>"
      ]
     },
     "metadata": {
      "needs_background": "light"
     },
     "output_type": "display_data"
    }
   ],
   "source": [
    "df.hist('ceiling_height', range=(1,6))"
   ]
  },
  {
   "cell_type": "markdown",
   "metadata": {},
   "source": [
    "🧑‍🎓 Ира: на гистограмме четко видно, что подавляющее большинство квартир имеет высоту потолков до 3м"
   ]
  },
  {
   "cell_type": "markdown",
   "metadata": {},
   "source": [
    "<div class=\"alert alert-info\">\n",
    "\n",
    "### Изучите время продажи квартиры. Постройте гистограмму. Посчитайте среднее и медиану. Опишите, сколько обычно занимает продажа. Когда можно считать, что продажи прошли очень быстро, а когда необычно долго?"
   ]
  },
  {
   "cell_type": "code",
   "execution_count": 76,
   "metadata": {},
   "outputs": [
    {
     "data": {
      "text/plain": [
       "array([[<AxesSubplot:title={'center':'days_exposition'}>]], dtype=object)"
      ]
     },
     "execution_count": 76,
     "metadata": {},
     "output_type": "execute_result"
    },
    {
     "data": {
      "image/png": "[encoded data removed]",
      "text/plain": [
       "<Figure size 432x288 with 1 Axes>"
      ]
     },
     "metadata": {
      "needs_background": "light"
     },
     "output_type": "display_data"
    }
   ],
   "source": [
    "df.hist('days_exposition', bins=30)"
   ]
  },
  {
   "cell_type": "code",
   "execution_count": 77,
   "metadata": {},
   "outputs": [
    {
     "name": "stdout",
     "output_type": "stream",
     "text": [
      "days_exposition_mean =  169.22274841437633 days_exposition_median =  95.0\n"
     ]
    }
   ],
   "source": [
    "days_exposition_mean = df['days_exposition'].mean()\n",
    "days_exposition_median = df['days_exposition'].median()\n",
    "\n",
    "print('days_exposition_mean = ', days_exposition_mean,\n",
    "        'days_exposition_median = ', days_exposition_median)\n",
    "\n",
    "\n"
   ]
  },
  {
   "cell_type": "markdown",
   "metadata": {},
   "source": [
    "🧑‍🎓 Ира: на гистограмме видно, что есть большой пик в начале, где кол-во дней не превышает 100.  \n",
    "Так же можно сказать, что в среднем продажа квартиры занимает от 100 до 200 дней  \n",
    " \n",
    "Если отвечать вопрос, когда продажи прошли очень быстро, а когда очень долго, я бы сказала, что пик до 100 дней- это сверхбыстрые продажи, а все что дольше 800-сверхдолгие  \n",
    "В одном из [источников](https://www.domofond.ru/statya/vo_skolko_oboydetsya_srochnaya_prodazha_nedvizhimosti/100605)  нашла:\n",
    "> Так, средний срок продажи однокомнатных квартир составляет 1–2 месяца, двухкомнатных — 2–4 месяца, трехкомнатных — до 6 месяцев.  \n",
    "\n",
    " \n",
    "Это соответствует моим выводам"
   ]
  },
  {
   "cell_type": "markdown",
   "metadata": {},
   "source": [
    "<div class=\"alert alert-info\">\n",
    "\n",
    "### Уберите редкие и выбивающиеся значения. Опишите, какие особенности обнаружили."
   ]
  },
  {
   "cell_type": "code",
   "execution_count": 78,
   "metadata": {},
   "outputs": [],
   "source": [
    "df = df.query('100 <= days_exposition <= 800')\n",
    "df = df.query('total_area <= 200')\n",
    "df = df.query('last_price <= 30000000')"
   ]
  },
  {
   "cell_type": "code",
   "execution_count": 79,
   "metadata": {
    "scrolled": true
   },
   "outputs": [
    {
     "data": {
      "text/plain": [
       "array([[<AxesSubplot:title={'center':'days_exposition'}>]], dtype=object)"
      ]
     },
     "execution_count": 79,
     "metadata": {},
     "output_type": "execute_result"
    },
    {
     "data": {
      "image/png": "[encoded data removed]",
      "text/plain": [
       "<Figure size 432x288 with 1 Axes>"
      ]
     },
     "metadata": {
      "needs_background": "light"
     },
     "output_type": "display_data"
    }
   ],
   "source": [
    "df.hist('days_exposition', bins=30)"
   ]
  },
  {
   "cell_type": "markdown",
   "metadata": {},
   "source": [
    "<div class=\"alert alert-info\">\n",
    "    \n",
    "### Какие факторы больше всего влияют на стоимость квартиры?"
   ]
  },
  {
   "cell_type": "markdown",
   "metadata": {},
   "source": [
    " Изучите, зависит ли цена от площади, числа комнат, удалённости от центра. Изучите зависимость цены от того, на каком этаже расположена квартира: первом, последнем или другом. Также изучите зависимость от даты размещения: дня недели, месяца и года."
   ]
  },
  {
   "cell_type": "code",
   "execution_count": 80,
   "metadata": {},
   "outputs": [
    {
     "data": {
      "text/plain": [
       "last_price              1.000000\n",
       "total_area              0.792425\n",
       "rooms                   0.506980\n",
       "city_centers_nearest   -0.306143\n",
       "parks_nearest           0.055042\n",
       "airports_nearest       -0.025821\n",
       "ponds_nearest          -0.068585\n",
       "exposition_day          0.000696\n",
       "exposition_month        0.003986\n",
       "exposition_year        -0.013598\n",
       "Name: last_price, dtype: float64"
      ]
     },
     "execution_count": 80,
     "metadata": {},
     "output_type": "execute_result"
    }
   ],
   "source": [
    "df_corr = df[['last_price', 'total_area', 'rooms', 'city_centers_nearest', 'parks_nearest', 'airports_nearest',\n",
    "             'ponds_nearest', 'floor_category', 'exposition_day', 'exposition_month', 'exposition_year']]\n",
    "\n",
    "\n",
    "df_corr.corr()['last_price'] #выведем только столбец last_price, так как остальные корреляции нам не нужны\n"
   ]
  },
  {
   "cell_type": "code",
   "execution_count": 81,
   "metadata": {},
   "outputs": [
    {
     "data": {
      "text/plain": [
       "array([[<AxesSubplot:xlabel='last_price', ylabel='last_price'>,\n",
       "        <AxesSubplot:xlabel='total_area', ylabel='last_price'>,\n",
       "        <AxesSubplot:xlabel='rooms', ylabel='last_price'>,\n",
       "        <AxesSubplot:xlabel='city_centers_nearest', ylabel='last_price'>],\n",
       "       [<AxesSubplot:xlabel='last_price', ylabel='total_area'>,\n",
       "        <AxesSubplot:xlabel='total_area', ylabel='total_area'>,\n",
       "        <AxesSubplot:xlabel='rooms', ylabel='total_area'>,\n",
       "        <AxesSubplot:xlabel='city_centers_nearest', ylabel='total_area'>],\n",
       "       [<AxesSubplot:xlabel='last_price', ylabel='rooms'>,\n",
       "        <AxesSubplot:xlabel='total_area', ylabel='rooms'>,\n",
       "        <AxesSubplot:xlabel='rooms', ylabel='rooms'>,\n",
       "        <AxesSubplot:xlabel='city_centers_nearest', ylabel='rooms'>],\n",
       "       [<AxesSubplot:xlabel='last_price', ylabel='city_centers_nearest'>,\n",
       "        <AxesSubplot:xlabel='total_area', ylabel='city_centers_nearest'>,\n",
       "        <AxesSubplot:xlabel='rooms', ylabel='city_centers_nearest'>,\n",
       "        <AxesSubplot:xlabel='city_centers_nearest', ylabel='city_centers_nearest'>]],\n",
       "      dtype=object)"
      ]
     },
     "execution_count": 81,
     "metadata": {},
     "output_type": "execute_result"
    },
    {
     "data": {
      "image/png": "[encoded data removed]",
      "text/plain": [
       "<Figure size 720x720 with 16 Axes>"
      ]
     },
     "metadata": {
      "needs_background": "light"
     },
     "output_type": "display_data"
    }
   ],
   "source": [
    "pd.plotting.scatter_matrix(df_corr[['last_price', 'total_area', 'rooms', 'city_centers_nearest']], figsize=(10, 10)) "
   ]
  },
  {
   "cell_type": "markdown",
   "metadata": {},
   "source": [
    "🧑‍🎓 Ира:   \n",
    " На финальную цену сильно влияет площадь квартиры(и это логично): чем выше площадь, тем выше стоимость квартиры \n",
    " \n",
    " Меньше, но все же кол-во комнат тоже влияет на стоимость, чем больше комнат, тем выше стоимость(но если квартира свободной планировки, кол-во комнат скорее всего будет нежавно, так как можно сделать из планируемой трешки двушку или наоборот)  \n",
    " \n",
    " Еще слабее, но расстояние до центра города влияет на стоимость в обратную сторону, чем дальше расстояние до центра, тем стоимость ниже. \n",
    " Хотя на диаграмме рассеяния видно, что большинство \"дорогих квартир\" лежит на расстоянии до 2км от центра города.  \n",
    " \n",
    " Расстояние до парков/прудов/аэропорта почти никак не влияют на стоимость(корреляция даже меньше |0,1|), так же как и то, когда было выставлено объявление о продаже.\n",
    " \n",
    " Мое мнение - странно, что расстояние до парков/прудов почти никак не влияет на стоимость.  \n",
    " В наше время, особенно в больших городах, это очень важно, в любом объявлении или презентации новостройки будет описано, какая вокруд продаваемого жилья парковая инфраструктура(при условии, что она имеется). Возможно в данном датасете нет такого влияния потому, что подборка не только по Питеру, но и по пригородам, а там скорее всего парки/пруды или вообще какая-то зелень есть почти везде\n"
   ]
  },
  {
   "cell_type": "markdown",
   "metadata": {},
   "source": [
    "<div class=\"alert alert-info\">\n",
    "    \n",
    "### Выберите 10 населённых пунктов с наибольшим числом объявлений."
   ]
  },
  {
   "cell_type": "markdown",
   "metadata": {},
   "source": [
    " Посчитайте среднюю цену квадратного метра в этих населённых пунктах. Выделите населённые пункты с самой высокой и низкой стоимостью жилья. Эти данные можно найти по имени в столбце locality_name."
   ]
  },
  {
   "cell_type": "code",
   "execution_count": 82,
   "metadata": {},
   "outputs": [
    {
     "data": {
      "text/html": [
       "<div>\n",
       "<style scoped>\n",
       "    .dataframe tbody tr th:only-of-type {\n",
       "        vertical-align: middle;\n",
       "    }\n",
       "\n",
       "    .dataframe tbody tr th {\n",
       "        vertical-align: top;\n",
       "    }\n",
       "\n",
       "    .dataframe thead th {\n",
       "        text-align: right;\n",
       "    }\n",
       "</style>\n",
       "<table border=\"1\" class=\"dataframe\">\n",
       "  <thead>\n",
       "    <tr style=\"text-align: right;\">\n",
       "      <th></th>\n",
       "      <th>area_price</th>\n",
       "    </tr>\n",
       "    <tr>\n",
       "      <th>locality_name</th>\n",
       "      <th></th>\n",
       "    </tr>\n",
       "  </thead>\n",
       "  <tbody>\n",
       "    <tr>\n",
       "      <th>Всеволожск</th>\n",
       "      <td>66764.064041</td>\n",
       "    </tr>\n",
       "    <tr>\n",
       "      <th>Выборг</th>\n",
       "      <td>56028.529823</td>\n",
       "    </tr>\n",
       "    <tr>\n",
       "      <th>Гатчина</th>\n",
       "      <td>66238.414366</td>\n",
       "    </tr>\n",
       "    <tr>\n",
       "      <th>Колпино</th>\n",
       "      <td>74760.227074</td>\n",
       "    </tr>\n",
       "    <tr>\n",
       "      <th>Пушкин</th>\n",
       "      <td>103308.036791</td>\n",
       "    </tr>\n",
       "    <tr>\n",
       "      <th>Санкт-Петербург</th>\n",
       "      <td>109063.649359</td>\n",
       "    </tr>\n",
       "    <tr>\n",
       "      <th>деревня Кудрово</th>\n",
       "      <td>91861.511582</td>\n",
       "    </tr>\n",
       "    <tr>\n",
       "      <th>посёлок Мурино</th>\n",
       "      <td>83934.195754</td>\n",
       "    </tr>\n",
       "    <tr>\n",
       "      <th>посёлок Парголово</th>\n",
       "      <td>89301.326153</td>\n",
       "    </tr>\n",
       "    <tr>\n",
       "      <th>посёлок Шушары</th>\n",
       "      <td>76424.594860</td>\n",
       "    </tr>\n",
       "  </tbody>\n",
       "</table>\n",
       "</div>"
      ],
      "text/plain": [
       "                      area_price\n",
       "locality_name                   \n",
       "Всеволожск          66764.064041\n",
       "Выборг              56028.529823\n",
       "Гатчина             66238.414366\n",
       "Колпино             74760.227074\n",
       "Пушкин             103308.036791\n",
       "Санкт-Петербург    109063.649359\n",
       "деревня Кудрово     91861.511582\n",
       "посёлок Мурино      83934.195754\n",
       "посёлок Парголово   89301.326153\n",
       "посёлок Шушары      76424.594860"
      ]
     },
     "metadata": {},
     "output_type": "display_data"
    },
    {
     "data": {
      "text/plain": [
       "56028.52982322673"
      ]
     },
     "metadata": {},
     "output_type": "display_data"
    },
    {
     "data": {
      "text/plain": [
       "109063.64935919765"
      ]
     },
     "metadata": {},
     "output_type": "display_data"
    }
   ],
   "source": [
    "df_majority = df.pivot_table(index='locality_name' ,values='last_price',\n",
    "                             aggfunc='count').sort_values(by='last_price', ascending=False).head(10)\n",
    "\n",
    "good_data = df.query('locality_name in @df_majority.index')\n",
    "good_data_stat = good_data.pivot_table(index='locality_name' ,values='area_price', aggfunc='mean')\n",
    "display(good_data_stat)\n",
    "min_price = good_data_stat['area_price'].min()\n",
    "max_price = good_data_stat['area_price'].max()\n",
    "display(min_price, max_price)\n",
    "\n"
   ]
  },
  {
   "cell_type": "markdown",
   "metadata": {},
   "source": [
    "<div class=\"alert alert-info\">\n",
    "\n",
    "### Изучите предложения квартир"
   ]
  },
  {
   "cell_type": "markdown",
   "metadata": {},
   "source": [
    "для каждой квартиры есть информация о расстоянии до центра. Выделите квартиры в Санкт-Петербурге (locality_name). Ваша задача — выяснить, какая область входит в центр. Создайте столбец с расстоянием до центра в километрах: округлите до целых значений. После этого посчитайте среднюю цену для каждого километра. Постройте график: он должен показывать, как цена зависит от удалённости от центра. Определите границу, где график сильно меняется, — это и будет центральная зона."
   ]
  },
  {
   "cell_type": "code",
   "execution_count": 83,
   "metadata": {
    "scrolled": true
   },
   "outputs": [
    {
     "data": {
      "text/plain": [
       "<AxesSubplot:xlabel='centers_nearest_km'>"
      ]
     },
     "execution_count": 83,
     "metadata": {},
     "output_type": "execute_result"
    },
    {
     "data": {
      "image/png": "[encoded data removed]",
      "text/plain": [
       "<Figure size 432x288 with 1 Axes>"
      ]
     },
     "metadata": {
      "needs_background": "light"
     },
     "output_type": "display_data"
    }
   ],
   "source": [
    "saint_p_df = df.query('locality_name == \"Санкт-Петербург\"').reset_index(drop=True)\n",
    "saint_p_df['centers_nearest_km'] = (saint_p_df['city_centers_nearest'] / 1000).round()\n",
    "saint_p_mean = saint_p_df.pivot_table(index=['centers_nearest_km'], values='last_price', \n",
    "                                      aggfunc='mean').reset_index()\n",
    "\n",
    "saint_p_mean.plot(x='centers_nearest_km', y='last_price', kind='bar', grid=True)\n"
   ]
  },
  {
   "cell_type": "markdown",
   "metadata": {},
   "source": [
    "🧑‍🎓 Ира: Дороже всего средняя цена за км находится на расстоянии меньше 7км"
   ]
  },
  {
   "cell_type": "markdown",
   "metadata": {},
   "source": [
    "<div class=\"alert alert-info\">\n",
    "\n",
    "### Выделите сегмент квартир в центре."
   ]
  },
  {
   "cell_type": "markdown",
   "metadata": {},
   "source": [
    "Проанализируйте эту территорию и изучите следующие параметры: площадь, цена, число комнат, высота потолков. Также выделите факторы, которые влияют на стоимость квартиры (число комнат, этаж, удалённость от центра, дата размещения объявления). Сделайте выводы. Отличаются ли они от общих выводов по всей базе?"
   ]
  },
  {
   "cell_type": "code",
   "execution_count": 84,
   "metadata": {},
   "outputs": [
    {
     "name": "stdout",
     "output_type": "stream",
     "text": [
      "total_area            0.732790\n",
      "last_price            1.000000\n",
      "rooms                 0.438040\n",
      "ceiling_height        0.082848\n",
      "floor                 0.162443\n",
      "centers_nearest_km   -0.100218\n",
      "exposition_day        0.008268\n",
      "exposition_month      0.000994\n",
      "exposition_year       0.018638\n",
      "Name: last_price, dtype: float64\n"
     ]
    }
   ],
   "source": [
    "saint_p_center = saint_p_df[saint_p_df['centers_nearest_km'] \n",
    "                            <= 8][['total_area', 'last_price', 'rooms', 'ceiling_height',\n",
    "                                  'floor', 'centers_nearest_km', \n",
    "                                   'exposition_day', 'exposition_month', 'exposition_year']].reset_index(drop=True)\n",
    "\n",
    "\n",
    "print(saint_p_center.corr()['last_price'])\n",
    "\n"
   ]
  },
  {
   "cell_type": "code",
   "execution_count": 85,
   "metadata": {},
   "outputs": [
    {
     "data": {
      "text/plain": [
       "array([[<AxesSubplot:xlabel='last_price', ylabel='last_price'>,\n",
       "        <AxesSubplot:xlabel='total_area', ylabel='last_price'>,\n",
       "        <AxesSubplot:xlabel='rooms', ylabel='last_price'>,\n",
       "        <AxesSubplot:xlabel='centers_nearest_km', ylabel='last_price'>],\n",
       "       [<AxesSubplot:xlabel='last_price', ylabel='total_area'>,\n",
       "        <AxesSubplot:xlabel='total_area', ylabel='total_area'>,\n",
       "        <AxesSubplot:xlabel='rooms', ylabel='total_area'>,\n",
       "        <AxesSubplot:xlabel='centers_nearest_km', ylabel='total_area'>],\n",
       "       [<AxesSubplot:xlabel='last_price', ylabel='rooms'>,\n",
       "        <AxesSubplot:xlabel='total_area', ylabel='rooms'>,\n",
       "        <AxesSubplot:xlabel='rooms', ylabel='rooms'>,\n",
       "        <AxesSubplot:xlabel='centers_nearest_km', ylabel='rooms'>],\n",
       "       [<AxesSubplot:xlabel='last_price', ylabel='centers_nearest_km'>,\n",
       "        <AxesSubplot:xlabel='total_area', ylabel='centers_nearest_km'>,\n",
       "        <AxesSubplot:xlabel='rooms', ylabel='centers_nearest_km'>,\n",
       "        <AxesSubplot:xlabel='centers_nearest_km', ylabel='centers_nearest_km'>]],\n",
       "      dtype=object)"
      ]
     },
     "execution_count": 85,
     "metadata": {},
     "output_type": "execute_result"
    },
    {
     "data": {
      "image/png": "[encoded data removed]",
      "text/plain": [
       "<Figure size 648x648 with 16 Axes>"
      ]
     },
     "metadata": {
      "needs_background": "light"
     },
     "output_type": "display_data"
    }
   ],
   "source": [
    "pd.plotting.scatter_matrix(saint_p_center[['last_price', 'total_area',\n",
    "                                           'rooms', 'centers_nearest_km']], figsize=(9, 9)) "
   ]
  },
  {
   "cell_type": "markdown",
   "metadata": {},
   "source": [
    "🧑‍🎓 Ира: выводы по срезу данных от общих выводов не особо отличаются, но в отличии от общих выводов, в этом сегменте квартир влияние расстояния от центра практически отсутствует(что наверное логично)"
   ]
  },
  {
   "cell_type": "markdown",
   "metadata": {},
   "source": [
    "<div class=\"alert alert-info\">\n",
    "\n",
    "## Общий вывод"
   ]
  },
  {
   "cell_type": "markdown",
   "metadata": {},
   "source": [
    "Была проанализирована таблица с информацией об объявлениях по продаже недвижимости в Санкт-Петербурге и области.  \n",
    "\n",
    "Были замечены пропуски в данных, которые были заменены при возможности. По моему мнению, об отсутствующих данных необходимо сказать команде разработки, чтобы команда нашла ошибку в загрузке данных и исправили формирование данных.  \n",
    "\n",
    "Так же были изучены зависимости цены квартиры от метрик. Основным влияющим фактором при ценообразиовании является площадь квартиры.  \n",
    "\n",
    "Так же можно сказать, что в среднем продажа квартиры занимает от 100 до 200 дней.  \n",
    "\n",
    "Самая низкая стоимсоть кв.м в Выборге  \n",
    "\n",
    "Самая высокая в Санкт-Петербурге\n"
   ]
  },
  {
   "cell_type": "code",
   "execution_count": null,
   "metadata": {},
   "outputs": [],
   "source": []
  }
 ],
 "metadata": {
  "ExecuteTimeLog": [
   {
    "duration": 528,
    "start_time": "2022-03-23T18:29:22.150Z"
   },
   {
    "duration": 93,
    "start_time": "2022-03-23T18:29:24.639Z"
   },
   {
    "duration": 18,
    "start_time": "2022-03-23T18:29:33.016Z"
   },
   {
    "duration": 33,
    "start_time": "2022-03-23T18:29:57.276Z"
   },
   {
    "duration": 5,
    "start_time": "2022-03-23T18:31:28.462Z"
   },
   {
    "duration": 94,
    "start_time": "2022-03-23T18:31:30.547Z"
   },
   {
    "duration": 22,
    "start_time": "2022-03-23T18:31:32.470Z"
   },
   {
    "duration": 200,
    "start_time": "2022-03-23T18:31:41.314Z"
   },
   {
    "duration": 94,
    "start_time": "2022-03-23T18:31:51.589Z"
   },
   {
    "duration": 23,
    "start_time": "2022-03-23T18:31:53.272Z"
   },
   {
    "duration": 129,
    "start_time": "2022-03-23T18:32:28.322Z"
   },
   {
    "duration": 30,
    "start_time": "2022-03-23T18:32:37.211Z"
   },
   {
    "duration": 132,
    "start_time": "2022-03-23T18:33:10.451Z"
   },
   {
    "duration": 30,
    "start_time": "2022-03-23T18:33:12.255Z"
   },
   {
    "duration": 607,
    "start_time": "2022-03-23T18:35:02.743Z"
   },
   {
    "duration": 107,
    "start_time": "2022-03-23T18:35:09.274Z"
   },
   {
    "duration": 23,
    "start_time": "2022-03-23T18:35:10.882Z"
   },
   {
    "duration": 94,
    "start_time": "2022-03-23T18:35:16.839Z"
   },
   {
    "duration": 96,
    "start_time": "2022-03-23T18:41:51.327Z"
   },
   {
    "duration": 23,
    "start_time": "2022-03-23T18:41:52.956Z"
   },
   {
    "duration": 98,
    "start_time": "2022-03-23T18:45:32.475Z"
   },
   {
    "duration": 10,
    "start_time": "2022-03-23T18:45:33.774Z"
   },
   {
    "duration": 188,
    "start_time": "2022-03-23T18:52:42.310Z"
   },
   {
    "duration": 91,
    "start_time": "2022-03-23T18:52:47.220Z"
   },
   {
    "duration": 9,
    "start_time": "2022-03-23T18:52:49.224Z"
   },
   {
    "duration": 105,
    "start_time": "2022-03-23T18:59:34.731Z"
   },
   {
    "duration": 37,
    "start_time": "2022-03-23T18:59:36.508Z"
   },
   {
    "duration": 54,
    "start_time": "2022-03-23T19:01:55.618Z"
   },
   {
    "duration": 63,
    "start_time": "2022-03-23T19:16:28.207Z"
   },
   {
    "duration": 91,
    "start_time": "2022-03-23T19:16:40.115Z"
   },
   {
    "duration": 59,
    "start_time": "2022-03-23T19:16:49.549Z"
   },
   {
    "duration": 102,
    "start_time": "2022-03-23T19:17:04.541Z"
   },
   {
    "duration": 82,
    "start_time": "2022-03-23T19:17:10.540Z"
   },
   {
    "duration": 14,
    "start_time": "2022-03-23T19:18:49.362Z"
   },
   {
    "duration": 10,
    "start_time": "2022-03-23T19:26:14.283Z"
   },
   {
    "duration": 15,
    "start_time": "2022-03-23T19:26:21.477Z"
   },
   {
    "duration": 7,
    "start_time": "2022-03-23T19:29:44.316Z"
   },
   {
    "duration": 19,
    "start_time": "2022-03-23T19:32:24.074Z"
   },
   {
    "duration": 5,
    "start_time": "2022-03-23T19:32:34.888Z"
   },
   {
    "duration": 80,
    "start_time": "2022-03-23T19:32:36.520Z"
   },
   {
    "duration": 5,
    "start_time": "2022-03-23T19:33:07.192Z"
   },
   {
    "duration": 73,
    "start_time": "2022-03-23T19:33:08.610Z"
   },
   {
    "duration": 5,
    "start_time": "2022-03-23T19:34:33.913Z"
   },
   {
    "duration": 25,
    "start_time": "2022-03-23T19:34:35.296Z"
   },
   {
    "duration": 15,
    "start_time": "2022-03-23T19:37:07.201Z"
   },
   {
    "duration": 21,
    "start_time": "2022-03-23T19:37:15.240Z"
   },
   {
    "duration": 17,
    "start_time": "2022-03-23T19:37:42.520Z"
   },
   {
    "duration": 24,
    "start_time": "2022-03-23T19:37:46.566Z"
   },
   {
    "duration": 15,
    "start_time": "2022-03-23T19:39:08.619Z"
   },
   {
    "duration": 21,
    "start_time": "2022-03-23T19:39:11.738Z"
   },
   {
    "duration": 15,
    "start_time": "2022-03-23T19:39:30.452Z"
   },
   {
    "duration": 252,
    "start_time": "2022-03-23T19:40:03.307Z"
   },
   {
    "duration": 15,
    "start_time": "2022-03-23T19:41:06.468Z"
   },
   {
    "duration": 24,
    "start_time": "2022-03-23T19:41:12.710Z"
   },
   {
    "duration": 4,
    "start_time": "2022-03-23T19:42:03.371Z"
   },
   {
    "duration": 24,
    "start_time": "2022-03-23T19:42:19.224Z"
   },
   {
    "duration": 5,
    "start_time": "2022-03-23T19:42:22.367Z"
   },
   {
    "duration": 24,
    "start_time": "2022-03-23T19:42:24.882Z"
   },
   {
    "duration": 10,
    "start_time": "2022-03-23T19:45:41.733Z"
   },
   {
    "duration": 12,
    "start_time": "2022-03-23T19:45:54.835Z"
   },
   {
    "duration": 8,
    "start_time": "2022-03-23T19:47:25.720Z"
   },
   {
    "duration": 8,
    "start_time": "2022-03-23T19:51:53.932Z"
   },
   {
    "duration": 19,
    "start_time": "2022-03-23T19:53:25.421Z"
   },
   {
    "duration": 207,
    "start_time": "2022-03-23T20:13:23.262Z"
   },
   {
    "duration": 205,
    "start_time": "2022-03-23T20:13:35.477Z"
   },
   {
    "duration": 16,
    "start_time": "2022-03-23T20:13:44.307Z"
   },
   {
    "duration": 11,
    "start_time": "2022-03-23T20:14:39.906Z"
   },
   {
    "duration": 10,
    "start_time": "2022-03-23T20:16:47.048Z"
   },
   {
    "duration": 194,
    "start_time": "2022-03-23T20:16:58.294Z"
   },
   {
    "duration": 25,
    "start_time": "2022-03-23T20:17:03.634Z"
   },
   {
    "duration": 72,
    "start_time": "2022-03-23T20:17:21.641Z"
   },
   {
    "duration": 39,
    "start_time": "2022-03-23T20:19:27.167Z"
   },
   {
    "duration": 43,
    "start_time": "2022-03-23T20:19:37.241Z"
   },
   {
    "duration": 26,
    "start_time": "2022-03-23T20:19:47.928Z"
   },
   {
    "duration": 68,
    "start_time": "2022-03-23T20:19:53.956Z"
   },
   {
    "duration": 72,
    "start_time": "2022-03-23T20:28:24.010Z"
   },
   {
    "duration": 4,
    "start_time": "2022-03-23T20:36:14.056Z"
   },
   {
    "duration": 173,
    "start_time": "2022-03-23T20:38:17.551Z"
   },
   {
    "duration": 776,
    "start_time": "2022-03-23T20:38:56.226Z"
   },
   {
    "duration": 839,
    "start_time": "2022-03-23T20:39:06.749Z"
   },
   {
    "duration": 804,
    "start_time": "2022-03-23T20:39:20.842Z"
   },
   {
    "duration": 753,
    "start_time": "2022-03-23T20:40:37.263Z"
   },
   {
    "duration": 764,
    "start_time": "2022-03-23T20:41:32.641Z"
   },
   {
    "duration": 67,
    "start_time": "2022-03-24T05:29:21.038Z"
   },
   {
    "duration": 8,
    "start_time": "2022-03-24T05:29:25.629Z"
   },
   {
    "duration": 487,
    "start_time": "2022-03-24T05:29:31.601Z"
   },
   {
    "duration": 96,
    "start_time": "2022-03-24T05:29:32.799Z"
   },
   {
    "duration": 61,
    "start_time": "2022-03-24T05:29:33.760Z"
   },
   {
    "duration": 13,
    "start_time": "2022-03-24T05:29:39.044Z"
   },
   {
    "duration": 5,
    "start_time": "2022-03-24T05:29:42.178Z"
   },
   {
    "duration": 5,
    "start_time": "2022-03-24T05:29:42.979Z"
   },
   {
    "duration": 26,
    "start_time": "2022-03-24T05:29:43.826Z"
   },
   {
    "duration": 7,
    "start_time": "2022-03-24T05:29:47.311Z"
   },
   {
    "duration": 8,
    "start_time": "2022-03-24T05:29:49.929Z"
   },
   {
    "duration": 15,
    "start_time": "2022-03-24T05:29:50.804Z"
   },
   {
    "duration": 739,
    "start_time": "2022-03-24T05:29:54.429Z"
   },
   {
    "duration": 780,
    "start_time": "2022-03-24T05:29:58.179Z"
   },
   {
    "duration": 247,
    "start_time": "2022-03-24T05:30:21.899Z"
   },
   {
    "duration": 375,
    "start_time": "2022-03-24T05:30:26.888Z"
   },
   {
    "duration": 267,
    "start_time": "2022-03-24T05:31:14.245Z"
   },
   {
    "duration": 211,
    "start_time": "2022-03-24T05:31:51.498Z"
   },
   {
    "duration": 249,
    "start_time": "2022-03-24T05:32:01.844Z"
   },
   {
    "duration": 154,
    "start_time": "2022-03-24T05:32:22.229Z"
   },
   {
    "duration": 257,
    "start_time": "2022-03-24T05:32:30.933Z"
   },
   {
    "duration": 276,
    "start_time": "2022-03-24T05:34:12.146Z"
   },
   {
    "duration": 249,
    "start_time": "2022-03-24T05:34:16.523Z"
   },
   {
    "duration": 261,
    "start_time": "2022-03-24T05:34:20.831Z"
   },
   {
    "duration": 251,
    "start_time": "2022-03-24T05:34:24.988Z"
   },
   {
    "duration": 275,
    "start_time": "2022-03-24T05:34:30.269Z"
   },
   {
    "duration": 339,
    "start_time": "2022-03-24T05:34:33.825Z"
   },
   {
    "duration": 243,
    "start_time": "2022-03-24T05:34:42.998Z"
   },
   {
    "duration": 237,
    "start_time": "2022-03-24T05:35:41.338Z"
   },
   {
    "duration": 213,
    "start_time": "2022-03-24T05:35:52.141Z"
   },
   {
    "duration": 212,
    "start_time": "2022-03-24T05:37:26.351Z"
   },
   {
    "duration": 216,
    "start_time": "2022-03-24T05:37:38.381Z"
   },
   {
    "duration": 211,
    "start_time": "2022-03-24T05:37:46.242Z"
   },
   {
    "duration": 204,
    "start_time": "2022-03-24T05:37:49.895Z"
   },
   {
    "duration": 220,
    "start_time": "2022-03-24T05:37:57.808Z"
   },
   {
    "duration": 213,
    "start_time": "2022-03-24T05:38:04.090Z"
   },
   {
    "duration": 211,
    "start_time": "2022-03-24T05:38:10.040Z"
   },
   {
    "duration": 530,
    "start_time": "2022-03-24T05:39:45.163Z"
   },
   {
    "duration": 331,
    "start_time": "2022-03-24T05:39:55.707Z"
   },
   {
    "duration": 278,
    "start_time": "2022-03-24T05:40:17.102Z"
   },
   {
    "duration": 268,
    "start_time": "2022-03-24T05:40:29.390Z"
   },
   {
    "duration": 53,
    "start_time": "2022-03-24T05:43:58.926Z"
   },
   {
    "duration": 30,
    "start_time": "2022-03-24T05:44:08.716Z"
   },
   {
    "duration": 15,
    "start_time": "2022-03-24T05:46:38.075Z"
   },
   {
    "duration": 8,
    "start_time": "2022-03-24T05:47:13.172Z"
   },
   {
    "duration": 8,
    "start_time": "2022-03-24T05:47:27.258Z"
   },
   {
    "duration": 16,
    "start_time": "2022-03-24T06:06:29.547Z"
   },
   {
    "duration": 262,
    "start_time": "2022-03-24T06:06:38.421Z"
   },
   {
    "duration": 106,
    "start_time": "2022-03-24T06:07:42.498Z"
   },
   {
    "duration": 5,
    "start_time": "2022-03-24T06:07:45.788Z"
   },
   {
    "duration": 7,
    "start_time": "2022-03-24T06:07:47.046Z"
   },
   {
    "duration": 8,
    "start_time": "2022-03-24T06:07:49.510Z"
   },
   {
    "duration": 8,
    "start_time": "2022-03-24T06:07:50.968Z"
   },
   {
    "duration": 843,
    "start_time": "2022-03-24T06:07:54.530Z"
   },
   {
    "duration": 9,
    "start_time": "2022-03-24T06:08:01.922Z"
   },
   {
    "duration": 18,
    "start_time": "2022-03-24T06:08:05.016Z"
   },
   {
    "duration": 260,
    "start_time": "2022-03-24T06:08:07.022Z"
   },
   {
    "duration": 14,
    "start_time": "2022-03-24T06:08:29.058Z"
   },
   {
    "duration": 262,
    "start_time": "2022-03-24T06:08:29.652Z"
   },
   {
    "duration": 11,
    "start_time": "2022-03-24T06:09:26.201Z"
   },
   {
    "duration": 390,
    "start_time": "2022-03-24T06:09:27.932Z"
   },
   {
    "duration": 65,
    "start_time": "2022-03-24T18:44:21.113Z"
   },
   {
    "duration": 4,
    "start_time": "2022-03-24T18:48:32.076Z"
   },
   {
    "duration": 93,
    "start_time": "2022-03-24T18:48:33.145Z"
   },
   {
    "duration": 54,
    "start_time": "2022-03-24T18:48:33.980Z"
   },
   {
    "duration": 13,
    "start_time": "2022-03-24T18:48:37.423Z"
   },
   {
    "duration": 4,
    "start_time": "2022-03-24T18:48:40.961Z"
   },
   {
    "duration": 6,
    "start_time": "2022-03-24T18:48:42.314Z"
   },
   {
    "duration": 10,
    "start_time": "2022-03-24T18:48:46.514Z"
   },
   {
    "duration": 9,
    "start_time": "2022-03-24T18:48:48.473Z"
   },
   {
    "duration": 15,
    "start_time": "2022-03-24T18:48:50.907Z"
   },
   {
    "duration": 768,
    "start_time": "2022-03-24T18:48:55.874Z"
   },
   {
    "duration": 254,
    "start_time": "2022-03-24T18:50:28.138Z"
   },
   {
    "duration": 4,
    "start_time": "2022-03-24T18:50:35.558Z"
   },
   {
    "duration": 91,
    "start_time": "2022-03-24T18:50:35.928Z"
   },
   {
    "duration": 82,
    "start_time": "2022-03-24T18:50:36.275Z"
   },
   {
    "duration": 13,
    "start_time": "2022-03-24T18:50:41.183Z"
   },
   {
    "duration": 5,
    "start_time": "2022-03-24T18:50:43.843Z"
   },
   {
    "duration": 5,
    "start_time": "2022-03-24T18:50:44.288Z"
   },
   {
    "duration": 27,
    "start_time": "2022-03-24T18:50:45.005Z"
   },
   {
    "duration": 8,
    "start_time": "2022-03-24T18:50:48.148Z"
   },
   {
    "duration": 14,
    "start_time": "2022-03-24T18:50:49.011Z"
   },
   {
    "duration": 200,
    "start_time": "2022-03-24T18:50:52.268Z"
   },
   {
    "duration": 1122,
    "start_time": "2022-03-24T18:51:04.550Z"
   },
   {
    "duration": 281,
    "start_time": "2022-03-24T18:51:51.287Z"
   },
   {
    "duration": 259,
    "start_time": "2022-03-24T18:51:54.506Z"
   },
   {
    "duration": 230,
    "start_time": "2022-03-24T18:51:57.438Z"
   },
   {
    "duration": 216,
    "start_time": "2022-03-24T18:52:00.309Z"
   },
   {
    "duration": 285,
    "start_time": "2022-03-24T18:52:03.396Z"
   },
   {
    "duration": 8,
    "start_time": "2022-03-24T18:52:06.016Z"
   },
   {
    "duration": 14,
    "start_time": "2022-03-24T18:52:09.220Z"
   },
   {
    "duration": 267,
    "start_time": "2022-03-24T18:52:10.206Z"
   },
   {
    "duration": 22,
    "start_time": "2022-03-24T18:52:37.897Z"
   },
   {
    "duration": 2519,
    "start_time": "2022-03-24T18:52:44.289Z"
   },
   {
    "duration": 2429,
    "start_time": "2022-03-24T18:52:49.142Z"
   },
   {
    "duration": 6,
    "start_time": "2022-03-24T18:53:05.292Z"
   },
   {
    "duration": 23,
    "start_time": "2022-03-24T18:53:11.820Z"
   },
   {
    "duration": 2408,
    "start_time": "2022-03-24T18:55:55.561Z"
   },
   {
    "duration": 63,
    "start_time": "2022-03-24T18:56:07.767Z"
   },
   {
    "duration": 9,
    "start_time": "2022-03-24T18:56:36.209Z"
   },
   {
    "duration": 15,
    "start_time": "2022-03-24T18:56:39.846Z"
   },
   {
    "duration": 10,
    "start_time": "2022-03-24T18:56:43.872Z"
   },
   {
    "duration": 24,
    "start_time": "2022-03-24T18:56:53.844Z"
   },
   {
    "duration": 2994,
    "start_time": "2022-03-24T18:58:38.213Z"
   },
   {
    "duration": 2601,
    "start_time": "2022-03-24T18:58:56.238Z"
   },
   {
    "duration": 19,
    "start_time": "2022-03-24T18:59:15.225Z"
   },
   {
    "duration": 22,
    "start_time": "2022-03-24T18:59:24.464Z"
   },
   {
    "duration": 27,
    "start_time": "2022-03-24T19:03:22.861Z"
   },
   {
    "duration": 25,
    "start_time": "2022-03-24T19:04:14.108Z"
   },
   {
    "duration": 13,
    "start_time": "2022-03-24T19:04:45.719Z"
   },
   {
    "duration": 25,
    "start_time": "2022-03-24T19:04:58.512Z"
   },
   {
    "duration": 18,
    "start_time": "2022-03-24T19:05:20.055Z"
   },
   {
    "duration": 16,
    "start_time": "2022-03-24T19:06:48.477Z"
   },
   {
    "duration": 20,
    "start_time": "2022-03-24T19:07:46.439Z"
   },
   {
    "duration": 13,
    "start_time": "2022-03-24T19:37:12.388Z"
   },
   {
    "duration": 37,
    "start_time": "2022-03-24T19:37:23.798Z"
   },
   {
    "duration": 11,
    "start_time": "2022-03-24T19:37:58.986Z"
   },
   {
    "duration": 13,
    "start_time": "2022-03-24T19:38:29.831Z"
   },
   {
    "duration": 11,
    "start_time": "2022-03-24T19:39:48.131Z"
   },
   {
    "duration": 12,
    "start_time": "2022-03-24T19:39:56.686Z"
   },
   {
    "duration": 17,
    "start_time": "2022-03-24T19:42:01.376Z"
   },
   {
    "duration": 18,
    "start_time": "2022-03-24T19:42:13.147Z"
   },
   {
    "duration": 13,
    "start_time": "2022-03-24T19:43:08.131Z"
   },
   {
    "duration": 13,
    "start_time": "2022-03-24T19:43:18.974Z"
   },
   {
    "duration": 27,
    "start_time": "2022-03-24T19:44:55.667Z"
   },
   {
    "duration": 20,
    "start_time": "2022-03-24T19:45:13.173Z"
   },
   {
    "duration": 20,
    "start_time": "2022-03-24T19:45:51.152Z"
   },
   {
    "duration": 28,
    "start_time": "2022-03-24T19:46:11.490Z"
   },
   {
    "duration": 22,
    "start_time": "2022-03-24T19:46:30.821Z"
   },
   {
    "duration": 2522,
    "start_time": "2022-03-24T19:47:03.114Z"
   },
   {
    "duration": 674,
    "start_time": "2022-03-24T19:47:15.939Z"
   },
   {
    "duration": 22,
    "start_time": "2022-03-24T19:47:35.770Z"
   },
   {
    "duration": 26,
    "start_time": "2022-03-24T19:48:26.330Z"
   },
   {
    "duration": 21,
    "start_time": "2022-03-24T19:48:30.756Z"
   },
   {
    "duration": 33,
    "start_time": "2022-03-24T19:48:44.389Z"
   },
   {
    "duration": 25,
    "start_time": "2022-03-24T19:49:00.822Z"
   },
   {
    "duration": 11,
    "start_time": "2022-03-24T19:49:35.895Z"
   },
   {
    "duration": 21,
    "start_time": "2022-03-24T19:49:51.109Z"
   },
   {
    "duration": 25,
    "start_time": "2022-03-24T19:50:41.686Z"
   },
   {
    "duration": 75,
    "start_time": "2022-03-24T19:50:49.526Z"
   },
   {
    "duration": 49,
    "start_time": "2022-03-24T20:03:23.088Z"
   },
   {
    "duration": 49,
    "start_time": "2022-03-24T20:08:03.950Z"
   },
   {
    "duration": 37,
    "start_time": "2022-03-24T20:08:23.570Z"
   },
   {
    "duration": 38,
    "start_time": "2022-03-24T20:10:44.827Z"
   },
   {
    "duration": 38,
    "start_time": "2022-03-24T20:10:56.381Z"
   },
   {
    "duration": 43,
    "start_time": "2022-03-24T20:11:10.475Z"
   },
   {
    "duration": 42,
    "start_time": "2022-03-24T20:11:27.006Z"
   },
   {
    "duration": 154,
    "start_time": "2022-03-25T05:23:53.853Z"
   },
   {
    "duration": 42,
    "start_time": "2022-03-25T05:25:13.511Z"
   },
   {
    "duration": 398,
    "start_time": "2022-03-25T05:25:37.240Z"
   },
   {
    "duration": 4541,
    "start_time": "2022-03-25T05:25:37.640Z"
   },
   {
    "duration": 5855,
    "start_time": "2022-03-25T05:25:42.183Z"
   },
   {
    "duration": 3053,
    "start_time": "2022-03-25T05:25:51.707Z"
   },
   {
    "duration": 5,
    "start_time": "2022-03-25T05:25:59.196Z"
   },
   {
    "duration": 2520,
    "start_time": "2022-03-25T05:26:01.503Z"
   },
   {
    "duration": 734,
    "start_time": "2022-03-25T05:26:04.026Z"
   },
   {
    "duration": 6,
    "start_time": "2022-03-25T05:26:10.975Z"
   },
   {
    "duration": 3928,
    "start_time": "2022-03-25T05:26:12.623Z"
   },
   {
    "duration": 548,
    "start_time": "2022-03-25T05:26:20.095Z"
   },
   {
    "duration": 1087,
    "start_time": "2022-03-25T05:26:24.625Z"
   },
   {
    "duration": 3740,
    "start_time": "2022-03-25T05:26:28.699Z"
   },
   {
    "duration": 195,
    "start_time": "2022-03-25T05:26:39.265Z"
   },
   {
    "duration": 818,
    "start_time": "2022-03-25T05:26:42.111Z"
   },
   {
    "duration": 226,
    "start_time": "2022-03-25T05:26:47.601Z"
   },
   {
    "duration": 6,
    "start_time": "2022-03-25T05:26:50.856Z"
   },
   {
    "duration": 1875,
    "start_time": "2022-03-25T05:26:54.503Z"
   },
   {
    "duration": 231,
    "start_time": "2022-03-25T05:26:58.512Z"
   },
   {
    "duration": 10,
    "start_time": "2022-03-25T05:27:03.417Z"
   },
   {
    "duration": 19,
    "start_time": "2022-03-25T05:27:12.632Z"
   },
   {
    "duration": 26,
    "start_time": "2022-03-25T05:27:27.921Z"
   },
   {
    "duration": 25,
    "start_time": "2022-03-25T05:27:34.069Z"
   },
   {
    "duration": 8,
    "start_time": "2022-03-25T05:34:38.700Z"
   },
   {
    "duration": 46,
    "start_time": "2022-03-25T05:35:07.367Z"
   },
   {
    "duration": 14,
    "start_time": "2022-03-25T05:40:02.529Z"
   },
   {
    "duration": 1810,
    "start_time": "2022-03-25T05:40:20.968Z"
   },
   {
    "duration": 14,
    "start_time": "2022-03-25T05:40:40.818Z"
   },
   {
    "duration": 13,
    "start_time": "2022-03-25T05:41:53.014Z"
   },
   {
    "duration": 9,
    "start_time": "2022-03-25T05:42:03.968Z"
   },
   {
    "duration": 9,
    "start_time": "2022-03-25T05:42:56.957Z"
   },
   {
    "duration": 8,
    "start_time": "2022-03-25T05:43:11.782Z"
   },
   {
    "duration": 27,
    "start_time": "2022-03-25T05:43:16.789Z"
   },
   {
    "duration": 9,
    "start_time": "2022-03-25T05:44:03.539Z"
   },
   {
    "duration": 9,
    "start_time": "2022-03-25T05:44:22.173Z"
   },
   {
    "duration": 9,
    "start_time": "2022-03-25T05:44:32.631Z"
   },
   {
    "duration": 21,
    "start_time": "2022-03-25T05:45:07.545Z"
   },
   {
    "duration": 13,
    "start_time": "2022-03-25T05:45:44.388Z"
   },
   {
    "duration": 9,
    "start_time": "2022-03-25T05:45:53.520Z"
   },
   {
    "duration": 26,
    "start_time": "2022-03-25T05:45:59.430Z"
   },
   {
    "duration": 8,
    "start_time": "2022-03-25T05:46:32.058Z"
   },
   {
    "duration": 24,
    "start_time": "2022-03-25T05:48:03.800Z"
   },
   {
    "duration": 30,
    "start_time": "2022-03-25T05:50:37.951Z"
   },
   {
    "duration": 29,
    "start_time": "2022-03-25T05:50:47.819Z"
   },
   {
    "duration": 13,
    "start_time": "2022-03-25T05:52:24.551Z"
   },
   {
    "duration": 3,
    "start_time": "2022-03-25T05:52:45.690Z"
   },
   {
    "duration": 32,
    "start_time": "2022-03-25T05:52:51.421Z"
   },
   {
    "duration": 272,
    "start_time": "2022-03-25T05:53:46.673Z"
   },
   {
    "duration": 25,
    "start_time": "2022-03-25T05:53:53.044Z"
   },
   {
    "duration": 26,
    "start_time": "2022-03-25T05:54:29.172Z"
   },
   {
    "duration": 30,
    "start_time": "2022-03-25T05:54:36.540Z"
   },
   {
    "duration": 3,
    "start_time": "2022-03-25T05:54:47.746Z"
   },
   {
    "duration": 27,
    "start_time": "2022-03-25T05:55:01.167Z"
   },
   {
    "duration": 28,
    "start_time": "2022-03-25T05:55:16.891Z"
   },
   {
    "duration": 415,
    "start_time": "2022-03-26T17:52:24.954Z"
   },
   {
    "duration": 99,
    "start_time": "2022-03-26T17:52:33.216Z"
   },
   {
    "duration": 48,
    "start_time": "2022-03-26T17:52:34.049Z"
   },
   {
    "duration": 12,
    "start_time": "2022-03-26T17:52:39.767Z"
   },
   {
    "duration": 4,
    "start_time": "2022-03-26T17:52:41.729Z"
   },
   {
    "duration": 4,
    "start_time": "2022-03-26T17:52:43.528Z"
   },
   {
    "duration": 20,
    "start_time": "2022-03-26T17:52:44.108Z"
   },
   {
    "duration": 7,
    "start_time": "2022-03-26T17:52:47.002Z"
   },
   {
    "duration": 8,
    "start_time": "2022-03-26T17:52:49.541Z"
   },
   {
    "duration": 13,
    "start_time": "2022-03-26T17:52:50.297Z"
   },
   {
    "duration": 433,
    "start_time": "2022-03-26T17:52:53.059Z"
   },
   {
    "duration": 657,
    "start_time": "2022-03-26T17:52:55.799Z"
   },
   {
    "duration": 165,
    "start_time": "2022-03-26T17:52:56.568Z"
   },
   {
    "duration": 147,
    "start_time": "2022-03-26T17:52:58.065Z"
   },
   {
    "duration": 138,
    "start_time": "2022-03-26T17:52:59.152Z"
   },
   {
    "duration": 175,
    "start_time": "2022-03-26T17:53:04.134Z"
   },
   {
    "duration": 8,
    "start_time": "2022-03-26T17:53:05.650Z"
   },
   {
    "duration": 12,
    "start_time": "2022-03-26T17:53:09.684Z"
   },
   {
    "duration": 181,
    "start_time": "2022-03-26T17:53:10.690Z"
   },
   {
    "duration": 13,
    "start_time": "2022-03-26T17:53:14.889Z"
   },
   {
    "duration": 34,
    "start_time": "2022-03-26T17:53:23.835Z"
   },
   {
    "duration": 33,
    "start_time": "2022-03-26T17:53:28.183Z"
   },
   {
    "duration": 81,
    "start_time": "2022-03-26T17:56:12.359Z"
   },
   {
    "duration": 22,
    "start_time": "2022-03-26T17:56:17.692Z"
   },
   {
    "duration": 23,
    "start_time": "2022-03-26T17:56:32.371Z"
   },
   {
    "duration": 36,
    "start_time": "2022-03-26T17:57:00.362Z"
   },
   {
    "duration": 41,
    "start_time": "2022-03-26T17:58:23.187Z"
   },
   {
    "duration": 24,
    "start_time": "2022-03-26T17:58:28.044Z"
   },
   {
    "duration": 26,
    "start_time": "2022-03-26T17:58:34.786Z"
   },
   {
    "duration": 27,
    "start_time": "2022-03-26T18:03:43.222Z"
   },
   {
    "duration": 27,
    "start_time": "2022-03-26T18:03:46.827Z"
   },
   {
    "duration": 32,
    "start_time": "2022-03-26T18:03:58.860Z"
   },
   {
    "duration": 26,
    "start_time": "2022-03-26T18:04:01.660Z"
   },
   {
    "duration": 25,
    "start_time": "2022-03-26T18:04:06.148Z"
   },
   {
    "duration": 41,
    "start_time": "2022-03-26T18:14:11.651Z"
   },
   {
    "duration": 26,
    "start_time": "2022-03-26T18:14:39.219Z"
   },
   {
    "duration": 43,
    "start_time": "2022-03-26T18:17:17.337Z"
   },
   {
    "duration": 25,
    "start_time": "2022-03-26T18:17:48.200Z"
   },
   {
    "duration": 45,
    "start_time": "2022-03-26T18:18:03.783Z"
   },
   {
    "duration": 20,
    "start_time": "2022-03-26T18:19:10.596Z"
   },
   {
    "duration": 18,
    "start_time": "2022-03-26T18:19:30.847Z"
   },
   {
    "duration": 26,
    "start_time": "2022-03-26T18:19:42.417Z"
   },
   {
    "duration": 26,
    "start_time": "2022-03-26T18:20:31.176Z"
   },
   {
    "duration": 174,
    "start_time": "2022-03-26T18:23:07.102Z"
   },
   {
    "duration": 26,
    "start_time": "2022-03-26T18:23:48.404Z"
   },
   {
    "duration": 25,
    "start_time": "2022-03-26T18:24:12.653Z"
   },
   {
    "duration": 25,
    "start_time": "2022-03-26T18:24:19.198Z"
   },
   {
    "duration": 146,
    "start_time": "2022-03-26T18:24:48.093Z"
   },
   {
    "duration": 25,
    "start_time": "2022-03-26T18:26:17.742Z"
   },
   {
    "duration": 24,
    "start_time": "2022-03-26T18:26:53.568Z"
   },
   {
    "duration": 266,
    "start_time": "2022-03-26T18:28:31.378Z"
   },
   {
    "duration": 149,
    "start_time": "2022-03-26T18:29:40.440Z"
   },
   {
    "duration": 227,
    "start_time": "2022-03-26T18:30:01.122Z"
   },
   {
    "duration": 174,
    "start_time": "2022-03-26T18:31:25.231Z"
   },
   {
    "duration": 424,
    "start_time": "2022-03-26T18:33:45.842Z"
   },
   {
    "duration": 187,
    "start_time": "2022-03-26T18:33:54.517Z"
   },
   {
    "duration": 183,
    "start_time": "2022-03-26T18:35:07.116Z"
   },
   {
    "duration": 171,
    "start_time": "2022-03-26T18:35:13.779Z"
   },
   {
    "duration": 299,
    "start_time": "2022-03-26T18:35:53.279Z"
   },
   {
    "duration": 378,
    "start_time": "2022-03-26T18:36:19.137Z"
   },
   {
    "duration": 399,
    "start_time": "2022-03-26T18:36:40.075Z"
   },
   {
    "duration": 290,
    "start_time": "2022-03-26T18:37:03.611Z"
   },
   {
    "duration": 2116,
    "start_time": "2022-03-26T18:38:11.456Z"
   },
   {
    "duration": 242,
    "start_time": "2022-03-26T18:38:31.244Z"
   },
   {
    "duration": 156,
    "start_time": "2022-03-26T18:38:45.780Z"
   },
   {
    "duration": 278,
    "start_time": "2022-03-26T18:38:55.256Z"
   },
   {
    "duration": 2226,
    "start_time": "2022-03-26T18:39:42.251Z"
   },
   {
    "duration": 282,
    "start_time": "2022-03-26T18:39:59.432Z"
   },
   {
    "duration": 2317,
    "start_time": "2022-03-26T18:40:04.335Z"
   },
   {
    "duration": 293,
    "start_time": "2022-03-26T18:40:08.210Z"
   },
   {
    "duration": 18,
    "start_time": "2022-03-26T18:41:57.525Z"
   },
   {
    "duration": 17,
    "start_time": "2022-03-26T18:42:02.809Z"
   },
   {
    "duration": 16,
    "start_time": "2022-03-26T18:46:18.652Z"
   },
   {
    "duration": 2,
    "start_time": "2022-03-26T18:46:32.111Z"
   },
   {
    "duration": 16,
    "start_time": "2022-03-26T18:46:37.474Z"
   },
   {
    "duration": 17,
    "start_time": "2022-03-26T18:46:54.855Z"
   },
   {
    "duration": 312,
    "start_time": "2022-03-26T18:47:03.943Z"
   },
   {
    "duration": 329,
    "start_time": "2022-03-26T18:47:20.017Z"
   },
   {
    "duration": 2457,
    "start_time": "2022-03-26T18:47:56.780Z"
   },
   {
    "duration": 423,
    "start_time": "2022-03-26T18:48:11.402Z"
   },
   {
    "duration": 284,
    "start_time": "2022-03-26T18:48:38.479Z"
   },
   {
    "duration": 290,
    "start_time": "2022-03-26T18:48:51.277Z"
   },
   {
    "duration": 457,
    "start_time": "2022-03-26T18:49:36.421Z"
   },
   {
    "duration": 291,
    "start_time": "2022-03-26T18:49:52.160Z"
   },
   {
    "duration": 300,
    "start_time": "2022-03-26T18:51:39.845Z"
   },
   {
    "duration": 292,
    "start_time": "2022-03-26T18:52:45.990Z"
   },
   {
    "duration": 17,
    "start_time": "2022-03-26T18:52:51.339Z"
   },
   {
    "duration": 18,
    "start_time": "2022-03-26T18:53:18.979Z"
   },
   {
    "duration": 17,
    "start_time": "2022-03-26T18:53:59.765Z"
   },
   {
    "duration": 19,
    "start_time": "2022-03-26T18:54:04.726Z"
   },
   {
    "duration": 17,
    "start_time": "2022-03-26T18:56:54.584Z"
   },
   {
    "duration": 289,
    "start_time": "2022-03-26T18:57:02.238Z"
   },
   {
    "duration": 432,
    "start_time": "2022-03-26T18:57:06.493Z"
   },
   {
    "duration": 308,
    "start_time": "2022-03-26T18:57:39.257Z"
   },
   {
    "duration": 48291,
    "start_time": "2022-03-26T18:59:33.647Z"
   },
   {
    "duration": 19,
    "start_time": "2022-03-26T19:00:29.342Z"
   },
   {
    "duration": 18,
    "start_time": "2022-03-26T19:00:40.588Z"
   },
   {
    "duration": 16,
    "start_time": "2022-03-26T19:01:43.398Z"
   },
   {
    "duration": 17,
    "start_time": "2022-03-26T19:04:45.871Z"
   },
   {
    "duration": 49489,
    "start_time": "2022-03-26T19:04:53.327Z"
   },
   {
    "duration": 24,
    "start_time": "2022-03-26T19:07:10.651Z"
   },
   {
    "duration": 48936,
    "start_time": "2022-03-26T19:09:30.437Z"
   },
   {
    "duration": 17,
    "start_time": "2022-03-26T19:10:31.802Z"
   },
   {
    "duration": 17,
    "start_time": "2022-03-26T19:10:46.839Z"
   },
   {
    "duration": 17,
    "start_time": "2022-03-26T19:11:36.702Z"
   },
   {
    "duration": 21,
    "start_time": "2022-03-26T19:11:57.169Z"
   },
   {
    "duration": 22,
    "start_time": "2022-03-26T19:12:11.422Z"
   },
   {
    "duration": 301,
    "start_time": "2022-03-26T19:12:28.864Z"
   },
   {
    "duration": 309,
    "start_time": "2022-03-26T19:12:37.094Z"
   },
   {
    "duration": 28,
    "start_time": "2022-03-26T19:20:07.933Z"
   },
   {
    "duration": 2344,
    "start_time": "2022-03-26T19:22:35.757Z"
   },
   {
    "duration": 10,
    "start_time": "2022-03-26T19:22:51.405Z"
   },
   {
    "duration": 27,
    "start_time": "2022-03-26T19:23:12.994Z"
   },
   {
    "duration": 2235,
    "start_time": "2022-03-26T19:23:28.515Z"
   },
   {
    "duration": 23,
    "start_time": "2022-03-26T19:24:02.799Z"
   },
   {
    "duration": 16,
    "start_time": "2022-03-26T19:24:14.952Z"
   },
   {
    "duration": 21,
    "start_time": "2022-03-26T19:24:33.450Z"
   },
   {
    "duration": 14,
    "start_time": "2022-03-26T19:24:54.085Z"
   },
   {
    "duration": 13,
    "start_time": "2022-03-26T19:24:56.960Z"
   },
   {
    "duration": 24,
    "start_time": "2022-03-26T19:26:01.329Z"
   },
   {
    "duration": 18,
    "start_time": "2022-03-26T19:26:13.722Z"
   },
   {
    "duration": 19,
    "start_time": "2022-03-26T19:26:23.002Z"
   },
   {
    "duration": 14,
    "start_time": "2022-03-26T19:27:05.032Z"
   },
   {
    "duration": 16,
    "start_time": "2022-03-26T19:27:09.743Z"
   },
   {
    "duration": 14,
    "start_time": "2022-03-26T19:32:28.565Z"
   },
   {
    "duration": 14,
    "start_time": "2022-03-26T19:32:44.428Z"
   },
   {
    "duration": 15,
    "start_time": "2022-03-26T19:32:48.370Z"
   },
   {
    "duration": 14,
    "start_time": "2022-03-26T19:33:55.291Z"
   },
   {
    "duration": 16,
    "start_time": "2022-03-26T19:34:52.654Z"
   },
   {
    "duration": 11,
    "start_time": "2022-03-26T19:38:03.821Z"
   },
   {
    "duration": 14,
    "start_time": "2022-03-26T19:41:34.838Z"
   },
   {
    "duration": 138,
    "start_time": "2022-03-26T19:54:42.858Z"
   },
   {
    "duration": 2420,
    "start_time": "2022-03-26T19:55:05.404Z"
   },
   {
    "duration": 3,
    "start_time": "2022-03-26T19:55:38.486Z"
   },
   {
    "duration": 124,
    "start_time": "2022-03-26T19:55:40.201Z"
   },
   {
    "duration": 42,
    "start_time": "2022-03-26T19:55:40.936Z"
   },
   {
    "duration": 11,
    "start_time": "2022-03-26T19:55:44.970Z"
   },
   {
    "duration": 5,
    "start_time": "2022-03-26T19:55:47.700Z"
   },
   {
    "duration": 4,
    "start_time": "2022-03-26T19:55:49.151Z"
   },
   {
    "duration": 19,
    "start_time": "2022-03-26T19:55:53.070Z"
   },
   {
    "duration": 7,
    "start_time": "2022-03-26T19:55:55.832Z"
   },
   {
    "duration": 4153,
    "start_time": "2022-03-26T19:55:58.540Z"
   },
   {
    "duration": 871,
    "start_time": "2022-03-26T19:58:43.882Z"
   },
   {
    "duration": 22,
    "start_time": "2022-03-26T20:00:46.361Z"
   },
   {
    "duration": 6,
    "start_time": "2022-03-26T20:00:59.972Z"
   },
   {
    "duration": 17,
    "start_time": "2022-03-26T20:01:03.224Z"
   },
   {
    "duration": 40,
    "start_time": "2022-03-26T20:01:15.880Z"
   },
   {
    "duration": 11,
    "start_time": "2022-03-26T20:01:22.132Z"
   },
   {
    "duration": 7,
    "start_time": "2022-03-26T20:02:34.348Z"
   },
   {
    "duration": 11,
    "start_time": "2022-03-26T20:02:36.027Z"
   },
   {
    "duration": 382,
    "start_time": "2022-03-26T20:02:38.712Z"
   },
   {
    "duration": 23,
    "start_time": "2022-03-26T20:04:36.391Z"
   },
   {
    "duration": 30,
    "start_time": "2022-03-26T20:05:23.182Z"
   },
   {
    "duration": 3,
    "start_time": "2022-03-26T20:06:36.505Z"
   },
   {
    "duration": 78,
    "start_time": "2022-03-26T20:06:37.064Z"
   },
   {
    "duration": 38,
    "start_time": "2022-03-26T20:06:37.487Z"
   },
   {
    "duration": 10,
    "start_time": "2022-03-26T20:06:41.824Z"
   },
   {
    "duration": 3,
    "start_time": "2022-03-26T20:06:44.926Z"
   },
   {
    "duration": 4,
    "start_time": "2022-03-26T20:06:46.522Z"
   },
   {
    "duration": 7,
    "start_time": "2022-03-26T20:06:49.071Z"
   },
   {
    "duration": 6,
    "start_time": "2022-03-26T20:06:53.059Z"
   },
   {
    "duration": 11,
    "start_time": "2022-03-26T20:06:54.291Z"
   },
   {
    "duration": 15,
    "start_time": "2022-03-26T20:07:06.490Z"
   },
   {
    "duration": 13,
    "start_time": "2022-03-26T20:11:46.544Z"
   },
   {
    "duration": 13,
    "start_time": "2022-03-26T20:11:56.008Z"
   },
   {
    "duration": 17,
    "start_time": "2022-03-26T20:11:58.462Z"
   },
   {
    "duration": 15,
    "start_time": "2022-03-26T20:12:05.282Z"
   },
   {
    "duration": 13,
    "start_time": "2022-03-26T20:13:09.667Z"
   },
   {
    "duration": 51,
    "start_time": "2022-03-26T20:13:17.839Z"
   },
   {
    "duration": 11,
    "start_time": "2022-03-26T20:13:23.754Z"
   },
   {
    "duration": 11,
    "start_time": "2022-03-26T20:13:42.957Z"
   },
   {
    "duration": 52,
    "start_time": "2022-03-26T20:14:01.139Z"
   },
   {
    "duration": 12,
    "start_time": "2022-03-26T20:14:03.739Z"
   },
   {
    "duration": 16,
    "start_time": "2022-03-26T20:14:10.671Z"
   },
   {
    "duration": 6,
    "start_time": "2022-03-26T20:14:23.718Z"
   },
   {
    "duration": 135,
    "start_time": "2022-03-26T20:14:43.043Z"
   },
   {
    "duration": 9,
    "start_time": "2022-03-26T20:14:50.525Z"
   },
   {
    "duration": 6,
    "start_time": "2022-03-26T20:15:10.552Z"
   },
   {
    "duration": 16,
    "start_time": "2022-03-26T20:16:34.702Z"
   },
   {
    "duration": 50,
    "start_time": "2022-03-26T20:20:22.788Z"
   },
   {
    "duration": 47,
    "start_time": "2022-03-26T20:23:16.776Z"
   },
   {
    "duration": 8,
    "start_time": "2022-03-26T20:24:17.223Z"
   },
   {
    "duration": 8,
    "start_time": "2022-03-26T20:24:42.323Z"
   },
   {
    "duration": 50,
    "start_time": "2022-03-26T20:24:59.876Z"
   },
   {
    "duration": 54,
    "start_time": "2022-03-26T20:25:12.042Z"
   },
   {
    "duration": 8,
    "start_time": "2022-03-26T20:25:28.449Z"
   },
   {
    "duration": 13,
    "start_time": "2022-03-26T20:25:32.338Z"
   },
   {
    "duration": 53,
    "start_time": "2022-03-26T20:26:32.006Z"
   },
   {
    "duration": 51,
    "start_time": "2022-03-26T20:27:29.010Z"
   },
   {
    "duration": 22,
    "start_time": "2022-03-26T20:27:45.962Z"
   },
   {
    "duration": 18,
    "start_time": "2022-03-26T20:28:00.840Z"
   },
   {
    "duration": 16,
    "start_time": "2022-03-26T20:28:08.817Z"
   },
   {
    "duration": 10,
    "start_time": "2022-03-26T20:39:19.417Z"
   },
   {
    "duration": 26,
    "start_time": "2022-03-26T20:40:28.195Z"
   },
   {
    "duration": 106,
    "start_time": "2022-03-26T20:42:07.627Z"
   },
   {
    "duration": 12,
    "start_time": "2022-03-26T20:42:13.944Z"
   },
   {
    "duration": 23,
    "start_time": "2022-03-26T20:43:28.527Z"
   },
   {
    "duration": 3,
    "start_time": "2022-03-26T20:43:41.720Z"
   },
   {
    "duration": 78,
    "start_time": "2022-03-26T20:43:42.202Z"
   },
   {
    "duration": 39,
    "start_time": "2022-03-26T20:43:42.853Z"
   },
   {
    "duration": 11,
    "start_time": "2022-03-26T20:43:47.459Z"
   },
   {
    "duration": 5,
    "start_time": "2022-03-26T20:43:50.330Z"
   },
   {
    "duration": 4,
    "start_time": "2022-03-26T20:43:51.940Z"
   },
   {
    "duration": 7,
    "start_time": "2022-03-26T20:43:55.208Z"
   },
   {
    "duration": 22,
    "start_time": "2022-03-26T20:43:57.614Z"
   },
   {
    "duration": 104,
    "start_time": "2022-03-26T20:44:43.835Z"
   },
   {
    "duration": 11,
    "start_time": "2022-03-26T20:44:47.967Z"
   },
   {
    "duration": 21,
    "start_time": "2022-03-26T20:45:07.326Z"
   },
   {
    "duration": 585,
    "start_time": "2022-03-26T20:47:27.954Z"
   },
   {
    "duration": 28,
    "start_time": "2022-03-26T20:48:42.533Z"
   },
   {
    "duration": 31,
    "start_time": "2022-03-26T20:49:25.610Z"
   },
   {
    "duration": 200,
    "start_time": "2022-03-26T20:51:41.635Z"
   },
   {
    "duration": 26,
    "start_time": "2022-03-26T20:52:29.492Z"
   },
   {
    "duration": 11,
    "start_time": "2022-03-26T20:52:32.620Z"
   },
   {
    "duration": 135,
    "start_time": "2022-03-26T20:54:08.790Z"
   },
   {
    "duration": 16,
    "start_time": "2022-03-26T20:54:12.113Z"
   },
   {
    "duration": 12,
    "start_time": "2022-03-26T20:54:13.757Z"
   },
   {
    "duration": 3,
    "start_time": "2022-03-26T20:54:40.226Z"
   },
   {
    "duration": 110,
    "start_time": "2022-03-26T20:54:40.729Z"
   },
   {
    "duration": 50,
    "start_time": "2022-03-26T20:54:41.736Z"
   },
   {
    "duration": 13,
    "start_time": "2022-03-26T20:54:45.645Z"
   },
   {
    "duration": 5,
    "start_time": "2022-03-26T20:54:49.570Z"
   },
   {
    "duration": 5,
    "start_time": "2022-03-26T20:54:50.078Z"
   },
   {
    "duration": 21,
    "start_time": "2022-03-26T20:54:52.510Z"
   },
   {
    "duration": 8,
    "start_time": "2022-03-26T20:54:55.073Z"
   },
   {
    "duration": 19,
    "start_time": "2022-03-26T20:54:57.766Z"
   },
   {
    "duration": 10,
    "start_time": "2022-03-26T20:54:59.737Z"
   },
   {
    "duration": 25,
    "start_time": "2022-03-26T20:55:49.221Z"
   },
   {
    "duration": 11,
    "start_time": "2022-03-26T20:55:51.419Z"
   },
   {
    "duration": 29,
    "start_time": "2022-03-26T20:56:20.637Z"
   },
   {
    "duration": 12,
    "start_time": "2022-03-26T20:56:23.242Z"
   },
   {
    "duration": 47,
    "start_time": "2022-03-26T20:58:41.825Z"
   },
   {
    "duration": 11,
    "start_time": "2022-03-26T20:58:43.616Z"
   },
   {
    "duration": 59,
    "start_time": "2022-03-26T20:59:03.610Z"
   },
   {
    "duration": 12,
    "start_time": "2022-03-26T20:59:05.045Z"
   },
   {
    "duration": 49,
    "start_time": "2022-03-26T20:59:28.916Z"
   },
   {
    "duration": 11,
    "start_time": "2022-03-26T20:59:30.664Z"
   },
   {
    "duration": 24,
    "start_time": "2022-03-26T21:01:10.319Z"
   },
   {
    "duration": 10,
    "start_time": "2022-03-26T21:01:12.584Z"
   },
   {
    "duration": 22,
    "start_time": "2022-03-26T21:01:24.336Z"
   },
   {
    "duration": 7,
    "start_time": "2022-03-26T21:02:18.238Z"
   },
   {
    "duration": 3,
    "start_time": "2022-03-26T21:02:24.067Z"
   },
   {
    "duration": 83,
    "start_time": "2022-03-26T21:02:24.709Z"
   },
   {
    "duration": 41,
    "start_time": "2022-03-26T21:02:25.553Z"
   },
   {
    "duration": 12,
    "start_time": "2022-03-26T21:02:31.177Z"
   },
   {
    "duration": 4,
    "start_time": "2022-03-26T21:02:34.241Z"
   },
   {
    "duration": 4,
    "start_time": "2022-03-26T21:02:35.881Z"
   },
   {
    "duration": 19,
    "start_time": "2022-03-26T21:02:41.069Z"
   },
   {
    "duration": 7,
    "start_time": "2022-03-26T21:02:44.173Z"
   },
   {
    "duration": 27,
    "start_time": "2022-03-26T21:03:00.608Z"
   },
   {
    "duration": 12,
    "start_time": "2022-03-26T21:03:06.401Z"
   },
   {
    "duration": 9,
    "start_time": "2022-03-26T21:03:11.909Z"
   },
   {
    "duration": 621,
    "start_time": "2022-03-26T21:03:14.151Z"
   },
   {
    "duration": 174,
    "start_time": "2022-03-26T21:03:17.919Z"
   },
   {
    "duration": 231,
    "start_time": "2022-03-26T21:03:19.022Z"
   },
   {
    "duration": 162,
    "start_time": "2022-03-26T21:03:21.294Z"
   },
   {
    "duration": 149,
    "start_time": "2022-03-26T21:03:23.127Z"
   },
   {
    "duration": 187,
    "start_time": "2022-03-26T21:03:25.703Z"
   },
   {
    "duration": 6,
    "start_time": "2022-03-26T21:03:27.702Z"
   },
   {
    "duration": 10,
    "start_time": "2022-03-26T21:03:30.089Z"
   },
   {
    "duration": 175,
    "start_time": "2022-03-26T21:03:30.926Z"
   },
   {
    "duration": 12,
    "start_time": "2022-03-26T21:03:33.876Z"
   },
   {
    "duration": 30,
    "start_time": "2022-03-26T21:03:42.199Z"
   },
   {
    "duration": 291,
    "start_time": "2022-03-26T21:04:12.503Z"
   },
   {
    "duration": 9,
    "start_time": "2022-03-26T21:04:23.134Z"
   },
   {
    "duration": 176,
    "start_time": "2022-04-07T16:02:32.665Z"
   },
   {
    "duration": 177,
    "start_time": "2022-04-07T16:03:22.221Z"
   },
   {
    "duration": 208,
    "start_time": "2022-04-07T16:09:47.948Z"
   },
   {
    "duration": 370,
    "start_time": "2022-04-07T16:16:48.676Z"
   },
   {
    "duration": 88,
    "start_time": "2022-04-07T16:16:50.034Z"
   },
   {
    "duration": 46,
    "start_time": "2022-04-07T16:16:51.401Z"
   },
   {
    "duration": 9,
    "start_time": "2022-04-07T16:16:55.654Z"
   },
   {
    "duration": 3,
    "start_time": "2022-04-07T16:16:58.503Z"
   },
   {
    "duration": 3,
    "start_time": "2022-04-07T16:17:01.015Z"
   },
   {
    "duration": 18,
    "start_time": "2022-04-07T16:17:01.912Z"
   },
   {
    "duration": 6,
    "start_time": "2022-04-07T16:17:03.997Z"
   },
   {
    "duration": 28,
    "start_time": "2022-04-07T16:17:06.666Z"
   },
   {
    "duration": 10,
    "start_time": "2022-04-07T16:17:08.452Z"
   },
   {
    "duration": 10,
    "start_time": "2022-04-07T16:17:10.156Z"
   },
   {
    "duration": 398,
    "start_time": "2022-04-07T16:17:14.391Z"
   },
   {
    "duration": 652,
    "start_time": "2022-04-07T16:17:18.559Z"
   },
   {
    "duration": 186,
    "start_time": "2022-04-07T16:17:26.314Z"
   },
   {
    "duration": 157,
    "start_time": "2022-04-07T16:17:42.137Z"
   },
   {
    "duration": 167,
    "start_time": "2022-04-07T16:17:46.398Z"
   },
   {
    "duration": 179,
    "start_time": "2022-04-07T16:17:53.900Z"
   },
   {
    "duration": 6,
    "start_time": "2022-04-07T16:18:13.705Z"
   },
   {
    "duration": 17,
    "start_time": "2022-04-07T16:18:25.808Z"
   },
   {
    "duration": 197,
    "start_time": "2022-04-07T16:18:27.922Z"
   },
   {
    "duration": 10,
    "start_time": "2022-04-07T16:19:00.693Z"
   },
   {
    "duration": 194,
    "start_time": "2022-04-07T16:19:02.732Z"
   },
   {
    "duration": 18,
    "start_time": "2022-04-07T16:20:03.524Z"
   },
   {
    "duration": 173,
    "start_time": "2022-04-07T16:20:05.568Z"
   },
   {
    "duration": 86,
    "start_time": "2022-04-07T16:20:38.694Z"
   },
   {
    "duration": 39,
    "start_time": "2022-04-07T16:20:39.372Z"
   },
   {
    "duration": 10,
    "start_time": "2022-04-07T16:20:43.220Z"
   },
   {
    "duration": 4,
    "start_time": "2022-04-07T16:20:46.597Z"
   },
   {
    "duration": 3,
    "start_time": "2022-04-07T16:20:48.500Z"
   },
   {
    "duration": 22,
    "start_time": "2022-04-07T16:20:49.188Z"
   },
   {
    "duration": 7,
    "start_time": "2022-04-07T16:20:51.251Z"
   },
   {
    "duration": 27,
    "start_time": "2022-04-07T16:20:53.763Z"
   },
   {
    "duration": 10,
    "start_time": "2022-04-07T16:20:56.193Z"
   },
   {
    "duration": 8,
    "start_time": "2022-04-07T16:20:58.583Z"
   },
   {
    "duration": 403,
    "start_time": "2022-04-07T16:21:02.550Z"
   },
   {
    "duration": 250,
    "start_time": "2022-04-07T16:21:07.119Z"
   },
   {
    "duration": 177,
    "start_time": "2022-04-07T16:21:10.078Z"
   },
   {
    "duration": 153,
    "start_time": "2022-04-07T16:21:16.586Z"
   },
   {
    "duration": 158,
    "start_time": "2022-04-07T16:21:19.949Z"
   },
   {
    "duration": 189,
    "start_time": "2022-04-07T16:21:24.469Z"
   },
   {
    "duration": 6,
    "start_time": "2022-04-07T16:21:27.640Z"
   },
   {
    "duration": 11,
    "start_time": "2022-04-07T16:21:33.280Z"
   },
   {
    "duration": 221,
    "start_time": "2022-04-07T16:21:35.051Z"
   },
   {
    "duration": 13,
    "start_time": "2022-04-07T16:21:47.771Z"
   },
   {
    "duration": 176,
    "start_time": "2022-04-07T16:21:50.977Z"
   },
   {
    "duration": 15,
    "start_time": "2022-04-07T16:22:11.097Z"
   },
   {
    "duration": 165,
    "start_time": "2022-04-07T16:22:13.092Z"
   },
   {
    "duration": 16,
    "start_time": "2022-04-07T16:22:16.487Z"
   },
   {
    "duration": 185,
    "start_time": "2022-04-07T16:22:18.454Z"
   },
   {
    "duration": 84,
    "start_time": "2022-04-07T16:22:30.080Z"
   },
   {
    "duration": 38,
    "start_time": "2022-04-07T16:22:30.558Z"
   },
   {
    "duration": 9,
    "start_time": "2022-04-07T16:22:33.911Z"
   },
   {
    "duration": 3,
    "start_time": "2022-04-07T16:22:36.630Z"
   },
   {
    "duration": 4,
    "start_time": "2022-04-07T16:22:38.057Z"
   },
   {
    "duration": 18,
    "start_time": "2022-04-07T16:22:39.441Z"
   },
   {
    "duration": 7,
    "start_time": "2022-04-07T16:22:41.561Z"
   },
   {
    "duration": 25,
    "start_time": "2022-04-07T16:22:43.176Z"
   },
   {
    "duration": 10,
    "start_time": "2022-04-07T16:22:45.658Z"
   },
   {
    "duration": 8,
    "start_time": "2022-04-07T16:22:48.227Z"
   },
   {
    "duration": 436,
    "start_time": "2022-04-07T16:22:51.152Z"
   },
   {
    "duration": 173,
    "start_time": "2022-04-07T16:22:55.163Z"
   },
   {
    "duration": 165,
    "start_time": "2022-04-07T16:22:57.279Z"
   },
   {
    "duration": 143,
    "start_time": "2022-04-07T16:22:59.563Z"
   },
   {
    "duration": 157,
    "start_time": "2022-04-07T16:23:02.198Z"
   },
   {
    "duration": 179,
    "start_time": "2022-04-07T16:23:07.510Z"
   },
   {
    "duration": 6,
    "start_time": "2022-04-07T16:23:09.979Z"
   },
   {
    "duration": 16,
    "start_time": "2022-04-07T16:23:12.733Z"
   },
   {
    "duration": 181,
    "start_time": "2022-04-07T16:23:14.226Z"
   },
   {
    "duration": 164,
    "start_time": "2022-04-07T16:23:40.542Z"
   },
   {
    "duration": 89,
    "start_time": "2022-04-07T16:28:22.402Z"
   },
   {
    "duration": 10,
    "start_time": "2022-04-07T16:28:29.857Z"
   },
   {
    "duration": 9,
    "start_time": "2022-04-07T16:28:36.023Z"
   },
   {
    "duration": 158,
    "start_time": "2022-04-07T16:28:38.823Z"
   },
   {
    "duration": 4701,
    "start_time": "2022-04-07T16:29:30.051Z"
   },
   {
    "duration": 4241,
    "start_time": "2022-04-07T16:30:34.626Z"
   },
   {
    "duration": 2701,
    "start_time": "2022-04-07T16:31:27.014Z"
   },
   {
    "duration": 2829,
    "start_time": "2022-04-07T16:31:42.556Z"
   },
   {
    "duration": 721,
    "start_time": "2022-04-07T16:32:07.601Z"
   },
   {
    "duration": 662,
    "start_time": "2022-04-07T16:32:37.291Z"
   },
   {
    "duration": 882,
    "start_time": "2022-04-07T16:34:14.619Z"
   },
   {
    "duration": 1214,
    "start_time": "2022-04-07T16:34:34.684Z"
   },
   {
    "duration": 516,
    "start_time": "2022-04-07T16:37:04.537Z"
   },
   {
    "duration": 3,
    "start_time": "2022-04-07T16:37:32.560Z"
   },
   {
    "duration": 96,
    "start_time": "2022-04-07T16:37:32.941Z"
   },
   {
    "duration": 39,
    "start_time": "2022-04-07T16:37:33.317Z"
   },
   {
    "duration": 10,
    "start_time": "2022-04-07T16:37:37.530Z"
   },
   {
    "duration": 4,
    "start_time": "2022-04-07T16:37:40.136Z"
   },
   {
    "duration": 4,
    "start_time": "2022-04-07T16:37:42.431Z"
   },
   {
    "duration": 23,
    "start_time": "2022-04-07T16:37:43.565Z"
   },
   {
    "duration": 6,
    "start_time": "2022-04-07T16:37:45.506Z"
   },
   {
    "duration": 28,
    "start_time": "2022-04-07T16:37:48.110Z"
   },
   {
    "duration": 10,
    "start_time": "2022-04-07T16:37:51.075Z"
   },
   {
    "duration": 10,
    "start_time": "2022-04-07T16:37:53.689Z"
   },
   {
    "duration": 643,
    "start_time": "2022-04-07T16:37:58.731Z"
   },
   {
    "duration": 189,
    "start_time": "2022-04-07T16:38:03.852Z"
   },
   {
    "duration": 189,
    "start_time": "2022-04-07T16:38:06.830Z"
   },
   {
    "duration": 167,
    "start_time": "2022-04-07T16:38:10.333Z"
   },
   {
    "duration": 150,
    "start_time": "2022-04-07T16:38:12.656Z"
   },
   {
    "duration": 198,
    "start_time": "2022-04-07T16:38:15.996Z"
   },
   {
    "duration": 6,
    "start_time": "2022-04-07T16:38:18.155Z"
   },
   {
    "duration": 18,
    "start_time": "2022-04-07T16:38:21.044Z"
   },
   {
    "duration": 173,
    "start_time": "2022-04-07T16:38:23.554Z"
   },
   {
    "duration": 8,
    "start_time": "2022-04-07T16:38:31.089Z"
   },
   {
    "duration": 521,
    "start_time": "2022-04-07T16:39:32.639Z"
   },
   {
    "duration": 678,
    "start_time": "2022-04-07T16:39:51.528Z"
   },
   {
    "duration": 4918,
    "start_time": "2022-04-07T16:40:15.961Z"
   },
   {
    "duration": 671,
    "start_time": "2022-04-07T16:40:30.824Z"
   },
   {
    "duration": 16,
    "start_time": "2022-04-07T16:41:05.147Z"
   },
   {
    "duration": 178,
    "start_time": "2022-04-07T16:41:07.329Z"
   },
   {
    "duration": 9,
    "start_time": "2022-04-07T16:41:10.083Z"
   },
   {
    "duration": 85,
    "start_time": "2022-04-07T16:41:57.959Z"
   },
   {
    "duration": 41,
    "start_time": "2022-04-07T16:41:58.413Z"
   },
   {
    "duration": 10,
    "start_time": "2022-04-07T16:42:01.657Z"
   },
   {
    "duration": 4,
    "start_time": "2022-04-07T16:42:05.224Z"
   },
   {
    "duration": 3,
    "start_time": "2022-04-07T16:42:06.835Z"
   },
   {
    "duration": 18,
    "start_time": "2022-04-07T16:42:07.745Z"
   },
   {
    "duration": 6,
    "start_time": "2022-04-07T16:42:09.751Z"
   },
   {
    "duration": 27,
    "start_time": "2022-04-07T16:42:12.501Z"
   },
   {
    "duration": 10,
    "start_time": "2022-04-07T16:42:14.628Z"
   },
   {
    "duration": 8,
    "start_time": "2022-04-07T16:42:17.236Z"
   },
   {
    "duration": 367,
    "start_time": "2022-04-07T16:42:20.375Z"
   },
   {
    "duration": 186,
    "start_time": "2022-04-07T16:42:23.983Z"
   },
   {
    "duration": 175,
    "start_time": "2022-04-07T16:42:28.252Z"
   },
   {
    "duration": 159,
    "start_time": "2022-04-07T16:42:32.870Z"
   },
   {
    "duration": 162,
    "start_time": "2022-04-07T16:42:35.524Z"
   },
   {
    "duration": 188,
    "start_time": "2022-04-07T16:42:40.246Z"
   },
   {
    "duration": 5,
    "start_time": "2022-04-07T16:42:42.768Z"
   },
   {
    "duration": 13,
    "start_time": "2022-04-07T16:42:46.674Z"
   },
   {
    "duration": 184,
    "start_time": "2022-04-07T16:42:48.247Z"
   },
   {
    "duration": 12,
    "start_time": "2022-04-07T16:42:51.851Z"
   },
   {
    "duration": 22,
    "start_time": "2022-04-07T16:43:21.219Z"
   },
   {
    "duration": 12,
    "start_time": "2022-04-07T16:43:25.947Z"
   },
   {
    "duration": 93,
    "start_time": "2022-04-07T16:43:51.281Z"
   },
   {
    "duration": 41,
    "start_time": "2022-04-07T16:43:52.193Z"
   },
   {
    "duration": 10,
    "start_time": "2022-04-07T16:43:55.663Z"
   },
   {
    "duration": 4,
    "start_time": "2022-04-07T16:43:59.468Z"
   },
   {
    "duration": 4,
    "start_time": "2022-04-07T16:44:00.915Z"
   },
   {
    "duration": 26,
    "start_time": "2022-04-07T16:44:03.027Z"
   },
   {
    "duration": 6,
    "start_time": "2022-04-07T16:44:05.361Z"
   },
   {
    "duration": 25,
    "start_time": "2022-04-07T16:44:07.405Z"
   },
   {
    "duration": 11,
    "start_time": "2022-04-07T16:44:10.156Z"
   },
   {
    "duration": 8,
    "start_time": "2022-04-07T16:44:12.751Z"
   },
   {
    "duration": 439,
    "start_time": "2022-04-07T16:44:16.273Z"
   },
   {
    "duration": 205,
    "start_time": "2022-04-07T16:44:20.277Z"
   },
   {
    "duration": 193,
    "start_time": "2022-04-07T16:44:23.299Z"
   },
   {
    "duration": 167,
    "start_time": "2022-04-07T16:45:15.395Z"
   },
   {
    "duration": 172,
    "start_time": "2022-04-07T16:45:18.001Z"
   },
   {
    "duration": 201,
    "start_time": "2022-04-07T16:45:21.277Z"
   },
   {
    "duration": 6,
    "start_time": "2022-04-07T16:45:23.564Z"
   },
   {
    "duration": 19,
    "start_time": "2022-04-07T16:45:30.928Z"
   },
   {
    "duration": 196,
    "start_time": "2022-04-07T16:45:33.725Z"
   },
   {
    "duration": 13,
    "start_time": "2022-04-07T16:45:37.448Z"
   },
   {
    "duration": 899,
    "start_time": "2022-04-07T16:46:00.021Z"
   },
   {
    "duration": 2347,
    "start_time": "2022-04-07T16:46:32.916Z"
   },
   {
    "duration": 858,
    "start_time": "2022-04-07T16:48:27.319Z"
   },
   {
    "duration": 820,
    "start_time": "2022-04-07T16:50:30.165Z"
   },
   {
    "duration": 1328,
    "start_time": "2022-04-07T16:50:46.959Z"
   },
   {
    "duration": 1953,
    "start_time": "2022-04-07T16:50:55.563Z"
   },
   {
    "duration": 1966,
    "start_time": "2022-04-07T16:52:16.528Z"
   },
   {
    "duration": 31,
    "start_time": "2022-04-07T16:55:47.573Z"
   },
   {
    "duration": 322,
    "start_time": "2022-04-07T16:55:53.224Z"
   },
   {
    "duration": 10,
    "start_time": "2022-04-07T16:56:09.225Z"
   },
   {
    "duration": 12,
    "start_time": "2022-04-07T16:56:21.557Z"
   },
   {
    "duration": 719,
    "start_time": "2022-04-07T16:57:11.449Z"
   },
   {
    "duration": 13,
    "start_time": "2022-04-07T16:58:13.557Z"
   },
   {
    "duration": 997,
    "start_time": "2022-04-07T16:58:30.234Z"
   },
   {
    "duration": 1788,
    "start_time": "2022-04-07T16:59:03.246Z"
   },
   {
    "duration": 1370,
    "start_time": "2022-04-07T16:59:14.105Z"
   },
   {
    "duration": 12,
    "start_time": "2022-04-07T17:06:03.510Z"
   },
   {
    "duration": 975,
    "start_time": "2022-04-07T17:06:10.417Z"
   }
  ],
  "kernelspec": {
   "display_name": "Python 3 (ipykernel)",
   "language": "python",
   "name": "python3"
  },
  "language_info": {
   "codemirror_mode": {
    "name": "ipython",
    "version": 3
   },
   "file_extension": ".py",
   "mimetype": "text/x-python",
   "name": "python",
   "nbconvert_exporter": "python",
   "pygments_lexer": "ipython3",
   "version": "3.9.7"
  },
  "toc": {
   "base_numbering": 1,
   "nav_menu": {},
   "number_sections": true,
   "sideBar": true,
   "skip_h1_title": true,
   "title_cell": "Содержание",
   "title_sidebar": "Contents",
   "toc_cell": true,
   "toc_position": {},
   "toc_section_display": true,
   "toc_window_display": false
  }
 },
 "nbformat": 4,
 "nbformat_minor": 4
}
