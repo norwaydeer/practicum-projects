{
 "cells": [
  {
   "cell_type": "markdown",
   "metadata": {},
   "source": [
    "<div class=\"alert alert-info\">\n",
    "    \n",
    "# Исследование гипотез и проведение А/В- тестов "
   ]
  },
  {
   "cell_type": "markdown",
   "metadata": {},
   "source": [
    "<div style=\"border:solid green 2px; padding: 20px\">\n",
    "<b>Постановка задачи</b>\n",
    "    \n",
    "    В рамкахм проекта необходимо изучить приоритизировать выдвинутые гипотезы для увеличения выручки компании. \n",
    "    После чего провести А/В тесты и проанализировать их результат, после чего принять решение о резултате проведения теста и дальнейщих действиях"
   ]
  },
  {
   "cell_type": "markdown",
   "metadata": {},
   "source": [
    "<div style=\"border:solid green 2px; padding: 20px\">\n",
    "<b>Описание входных данных</b>\n",
    "    \n",
    "Файл /datasets/hypothesis.csv    \n",
    "- Hypothesis — краткое описание гипотезы;  \n",
    "- Reach — охват пользователей по 10-балльной шкале;  \n",
    "- Impact — влияние на пользователей по 10-балльной шкале;  \n",
    "- Confidence — уверенность в гипотезе по 10-балльной шкале;  \n",
    "- Efforts — затраты ресурсов на проверку гипотезы по 10-балльной шкале. Чем больше значение Efforts, тем дороже проверка гипотезы.\n",
    "\n",
    "    \n",
    "Файл /datasets/orders.csv  \n",
    "- transactionId — идентификатор заказа;  \n",
    "- visitorId — идентификатор пользователя, совершившего заказ;  \n",
    "-date — дата, когда был совершён заказ;  \n",
    "- revenue — выручка заказа;  \n",
    "- group — группа A/B-теста, в которую попал заказ.  \n",
    "    \n",
    "Файл /datasets/visitors.csv  \n",
    "- date — дата;  \n",
    "- group — группа A/B-теста;  \n",
    "- visitors — количество пользователей в указанную дату в указанной группе A/B-теста  \n",
    "    "
   ]
  },
  {
   "cell_type": "code",
   "execution_count": 1,
   "metadata": {},
   "outputs": [],
   "source": [
    "import pandas as pd\n",
    "import scipy.stats as stats\n",
    "import datetime as dt\n",
    "import numpy as np\n",
    "import matplotlib.pyplot as plt"
   ]
  },
  {
   "cell_type": "code",
   "execution_count": 2,
   "metadata": {},
   "outputs": [],
   "source": [
    "try:\n",
    "    visitors = pd.read_csv('visitors.csv')\n",
    "    orders = pd.read_csv('orders.csv')\n",
    "    hypothesis = pd.read_csv('hypothesis.csv')\n",
    "except:\n",
    "    visitors = pd.read_csv('/datasets/visitors.csv')\n",
    "    orders = pd.read_csv('/datasets/orders.csv')\n",
    "    hypothesis = pd.read_csv('/datasets/hypothesis.csv')"
   ]
  },
  {
   "cell_type": "code",
   "execution_count": 3,
   "metadata": {},
   "outputs": [],
   "source": [
    "def get_info(df):\n",
    "    df.info()\n",
    "    display(df.head())\n",
    "    display(df.isna().sum())"
   ]
  },
  {
   "cell_type": "code",
   "execution_count": 4,
   "metadata": {},
   "outputs": [
    {
     "name": "stdout",
     "output_type": "stream",
     "text": [
      "<class 'pandas.core.frame.DataFrame'>\n",
      "RangeIndex: 62 entries, 0 to 61\n",
      "Data columns (total 3 columns):\n",
      " #   Column    Non-Null Count  Dtype \n",
      "---  ------    --------------  ----- \n",
      " 0   date      62 non-null     object\n",
      " 1   group     62 non-null     object\n",
      " 2   visitors  62 non-null     int64 \n",
      "dtypes: int64(1), object(2)\n",
      "memory usage: 1.6+ KB\n"
     ]
    },
    {
     "data": {
      "text/html": [
       "<div>\n",
       "<style scoped>\n",
       "    .dataframe tbody tr th:only-of-type {\n",
       "        vertical-align: middle;\n",
       "    }\n",
       "\n",
       "    .dataframe tbody tr th {\n",
       "        vertical-align: top;\n",
       "    }\n",
       "\n",
       "    .dataframe thead th {\n",
       "        text-align: right;\n",
       "    }\n",
       "</style>\n",
       "<table border=\"1\" class=\"dataframe\">\n",
       "  <thead>\n",
       "    <tr style=\"text-align: right;\">\n",
       "      <th></th>\n",
       "      <th>date</th>\n",
       "      <th>group</th>\n",
       "      <th>visitors</th>\n",
       "    </tr>\n",
       "  </thead>\n",
       "  <tbody>\n",
       "    <tr>\n",
       "      <th>0</th>\n",
       "      <td>2019-08-01</td>\n",
       "      <td>A</td>\n",
       "      <td>719</td>\n",
       "    </tr>\n",
       "    <tr>\n",
       "      <th>1</th>\n",
       "      <td>2019-08-02</td>\n",
       "      <td>A</td>\n",
       "      <td>619</td>\n",
       "    </tr>\n",
       "    <tr>\n",
       "      <th>2</th>\n",
       "      <td>2019-08-03</td>\n",
       "      <td>A</td>\n",
       "      <td>507</td>\n",
       "    </tr>\n",
       "    <tr>\n",
       "      <th>3</th>\n",
       "      <td>2019-08-04</td>\n",
       "      <td>A</td>\n",
       "      <td>717</td>\n",
       "    </tr>\n",
       "    <tr>\n",
       "      <th>4</th>\n",
       "      <td>2019-08-05</td>\n",
       "      <td>A</td>\n",
       "      <td>756</td>\n",
       "    </tr>\n",
       "  </tbody>\n",
       "</table>\n",
       "</div>"
      ],
      "text/plain": [
       "         date group  visitors\n",
       "0  2019-08-01     A       719\n",
       "1  2019-08-02     A       619\n",
       "2  2019-08-03     A       507\n",
       "3  2019-08-04     A       717\n",
       "4  2019-08-05     A       756"
      ]
     },
     "metadata": {},
     "output_type": "display_data"
    },
    {
     "data": {
      "text/plain": [
       "date        0\n",
       "group       0\n",
       "visitors    0\n",
       "dtype: int64"
      ]
     },
     "metadata": {},
     "output_type": "display_data"
    }
   ],
   "source": [
    "get_info(visitors)"
   ]
  },
  {
   "cell_type": "code",
   "execution_count": 5,
   "metadata": {},
   "outputs": [
    {
     "name": "stdout",
     "output_type": "stream",
     "text": [
      "<class 'pandas.core.frame.DataFrame'>\n",
      "RangeIndex: 1197 entries, 0 to 1196\n",
      "Data columns (total 5 columns):\n",
      " #   Column         Non-Null Count  Dtype \n",
      "---  ------         --------------  ----- \n",
      " 0   transactionId  1197 non-null   int64 \n",
      " 1   visitorId      1197 non-null   int64 \n",
      " 2   date           1197 non-null   object\n",
      " 3   revenue        1197 non-null   int64 \n",
      " 4   group          1197 non-null   object\n",
      "dtypes: int64(3), object(2)\n",
      "memory usage: 46.9+ KB\n"
     ]
    },
    {
     "data": {
      "text/html": [
       "<div>\n",
       "<style scoped>\n",
       "    .dataframe tbody tr th:only-of-type {\n",
       "        vertical-align: middle;\n",
       "    }\n",
       "\n",
       "    .dataframe tbody tr th {\n",
       "        vertical-align: top;\n",
       "    }\n",
       "\n",
       "    .dataframe thead th {\n",
       "        text-align: right;\n",
       "    }\n",
       "</style>\n",
       "<table border=\"1\" class=\"dataframe\">\n",
       "  <thead>\n",
       "    <tr style=\"text-align: right;\">\n",
       "      <th></th>\n",
       "      <th>transactionId</th>\n",
       "      <th>visitorId</th>\n",
       "      <th>date</th>\n",
       "      <th>revenue</th>\n",
       "      <th>group</th>\n",
       "    </tr>\n",
       "  </thead>\n",
       "  <tbody>\n",
       "    <tr>\n",
       "      <th>0</th>\n",
       "      <td>3667963787</td>\n",
       "      <td>3312258926</td>\n",
       "      <td>2019-08-15</td>\n",
       "      <td>1650</td>\n",
       "      <td>B</td>\n",
       "    </tr>\n",
       "    <tr>\n",
       "      <th>1</th>\n",
       "      <td>2804400009</td>\n",
       "      <td>3642806036</td>\n",
       "      <td>2019-08-15</td>\n",
       "      <td>730</td>\n",
       "      <td>B</td>\n",
       "    </tr>\n",
       "    <tr>\n",
       "      <th>2</th>\n",
       "      <td>2961555356</td>\n",
       "      <td>4069496402</td>\n",
       "      <td>2019-08-15</td>\n",
       "      <td>400</td>\n",
       "      <td>A</td>\n",
       "    </tr>\n",
       "    <tr>\n",
       "      <th>3</th>\n",
       "      <td>3797467345</td>\n",
       "      <td>1196621759</td>\n",
       "      <td>2019-08-15</td>\n",
       "      <td>9759</td>\n",
       "      <td>B</td>\n",
       "    </tr>\n",
       "    <tr>\n",
       "      <th>4</th>\n",
       "      <td>2282983706</td>\n",
       "      <td>2322279887</td>\n",
       "      <td>2019-08-15</td>\n",
       "      <td>2308</td>\n",
       "      <td>B</td>\n",
       "    </tr>\n",
       "  </tbody>\n",
       "</table>\n",
       "</div>"
      ],
      "text/plain": [
       "   transactionId   visitorId        date  revenue group\n",
       "0     3667963787  3312258926  2019-08-15     1650     B\n",
       "1     2804400009  3642806036  2019-08-15      730     B\n",
       "2     2961555356  4069496402  2019-08-15      400     A\n",
       "3     3797467345  1196621759  2019-08-15     9759     B\n",
       "4     2282983706  2322279887  2019-08-15     2308     B"
      ]
     },
     "metadata": {},
     "output_type": "display_data"
    },
    {
     "data": {
      "text/plain": [
       "transactionId    0\n",
       "visitorId        0\n",
       "date             0\n",
       "revenue          0\n",
       "group            0\n",
       "dtype: int64"
      ]
     },
     "metadata": {},
     "output_type": "display_data"
    }
   ],
   "source": [
    "get_info(orders)"
   ]
  },
  {
   "cell_type": "code",
   "execution_count": 6,
   "metadata": {},
   "outputs": [
    {
     "name": "stdout",
     "output_type": "stream",
     "text": [
      "<class 'pandas.core.frame.DataFrame'>\n",
      "RangeIndex: 9 entries, 0 to 8\n",
      "Data columns (total 5 columns):\n",
      " #   Column      Non-Null Count  Dtype \n",
      "---  ------      --------------  ----- \n",
      " 0   Hypothesis  9 non-null      object\n",
      " 1   Reach       9 non-null      int64 \n",
      " 2   Impact      9 non-null      int64 \n",
      " 3   Confidence  9 non-null      int64 \n",
      " 4   Efforts     9 non-null      int64 \n",
      "dtypes: int64(4), object(1)\n",
      "memory usage: 488.0+ bytes\n"
     ]
    },
    {
     "data": {
      "text/html": [
       "<div>\n",
       "<style scoped>\n",
       "    .dataframe tbody tr th:only-of-type {\n",
       "        vertical-align: middle;\n",
       "    }\n",
       "\n",
       "    .dataframe tbody tr th {\n",
       "        vertical-align: top;\n",
       "    }\n",
       "\n",
       "    .dataframe thead th {\n",
       "        text-align: right;\n",
       "    }\n",
       "</style>\n",
       "<table border=\"1\" class=\"dataframe\">\n",
       "  <thead>\n",
       "    <tr style=\"text-align: right;\">\n",
       "      <th></th>\n",
       "      <th>Hypothesis</th>\n",
       "      <th>Reach</th>\n",
       "      <th>Impact</th>\n",
       "      <th>Confidence</th>\n",
       "      <th>Efforts</th>\n",
       "    </tr>\n",
       "  </thead>\n",
       "  <tbody>\n",
       "    <tr>\n",
       "      <th>0</th>\n",
       "      <td>Добавить два новых канала привлечения трафика,...</td>\n",
       "      <td>3</td>\n",
       "      <td>10</td>\n",
       "      <td>8</td>\n",
       "      <td>6</td>\n",
       "    </tr>\n",
       "    <tr>\n",
       "      <th>1</th>\n",
       "      <td>Запустить собственную службу доставки, что сок...</td>\n",
       "      <td>2</td>\n",
       "      <td>5</td>\n",
       "      <td>4</td>\n",
       "      <td>10</td>\n",
       "    </tr>\n",
       "    <tr>\n",
       "      <th>2</th>\n",
       "      <td>Добавить блоки рекомендаций товаров на сайт ин...</td>\n",
       "      <td>8</td>\n",
       "      <td>3</td>\n",
       "      <td>7</td>\n",
       "      <td>3</td>\n",
       "    </tr>\n",
       "    <tr>\n",
       "      <th>3</th>\n",
       "      <td>Изменить структура категорий, что увеличит кон...</td>\n",
       "      <td>8</td>\n",
       "      <td>3</td>\n",
       "      <td>3</td>\n",
       "      <td>8</td>\n",
       "    </tr>\n",
       "    <tr>\n",
       "      <th>4</th>\n",
       "      <td>Изменить цвет фона главной страницы, чтобы уве...</td>\n",
       "      <td>3</td>\n",
       "      <td>1</td>\n",
       "      <td>1</td>\n",
       "      <td>1</td>\n",
       "    </tr>\n",
       "  </tbody>\n",
       "</table>\n",
       "</div>"
      ],
      "text/plain": [
       "                                          Hypothesis  Reach  Impact  \\\n",
       "0  Добавить два новых канала привлечения трафика,...      3      10   \n",
       "1  Запустить собственную службу доставки, что сок...      2       5   \n",
       "2  Добавить блоки рекомендаций товаров на сайт ин...      8       3   \n",
       "3  Изменить структура категорий, что увеличит кон...      8       3   \n",
       "4  Изменить цвет фона главной страницы, чтобы уве...      3       1   \n",
       "\n",
       "   Confidence  Efforts  \n",
       "0           8        6  \n",
       "1           4       10  \n",
       "2           7        3  \n",
       "3           3        8  \n",
       "4           1        1  "
      ]
     },
     "metadata": {},
     "output_type": "display_data"
    },
    {
     "data": {
      "text/plain": [
       "Hypothesis    0\n",
       "Reach         0\n",
       "Impact        0\n",
       "Confidence    0\n",
       "Efforts       0\n",
       "dtype: int64"
      ]
     },
     "metadata": {},
     "output_type": "display_data"
    }
   ],
   "source": [
    "get_info(hypothesis)"
   ]
  },
  {
   "cell_type": "code",
   "execution_count": 7,
   "metadata": {},
   "outputs": [],
   "source": [
    "hypothesis.columns = hypothesis.columns.str.lower()"
   ]
  },
  {
   "cell_type": "code",
   "execution_count": 8,
   "metadata": {},
   "outputs": [],
   "source": [
    "visitors['date'] = visitors['date'].map(\n",
    "    lambda x: dt.datetime.strptime(x, '%Y-%m-%d')\n",
    ")"
   ]
  },
  {
   "cell_type": "code",
   "execution_count": 9,
   "metadata": {},
   "outputs": [],
   "source": [
    "orders['date'] = orders['date'].map(\n",
    "    lambda x: dt.datetime.strptime(x, '%Y-%m-%d')\n",
    ")"
   ]
  },
  {
   "cell_type": "code",
   "execution_count": 10,
   "metadata": {},
   "outputs": [],
   "source": [
    "def dublicate_check(df):\n",
    "    dublicate_count = df.duplicated().sum()\n",
    "    if dublicate_count > 0:\n",
    "        print('в датафрейме найдены дубли:', dublicate_count)\n",
    "    else:\n",
    "        print('дублей не обнаружено')\n",
    "    "
   ]
  },
  {
   "cell_type": "code",
   "execution_count": 11,
   "metadata": {},
   "outputs": [
    {
     "name": "stdout",
     "output_type": "stream",
     "text": [
      "дублей не обнаружено\n"
     ]
    }
   ],
   "source": [
    "dublicate_check(hypothesis)"
   ]
  },
  {
   "cell_type": "code",
   "execution_count": 12,
   "metadata": {},
   "outputs": [
    {
     "name": "stdout",
     "output_type": "stream",
     "text": [
      "дублей не обнаружено\n"
     ]
    }
   ],
   "source": [
    "dublicate_check(visitors)"
   ]
  },
  {
   "cell_type": "code",
   "execution_count": 13,
   "metadata": {},
   "outputs": [
    {
     "name": "stdout",
     "output_type": "stream",
     "text": [
      "дублей не обнаружено\n"
     ]
    }
   ],
   "source": [
    "dublicate_check(orders)"
   ]
  },
  {
   "cell_type": "code",
   "execution_count": 14,
   "metadata": {},
   "outputs": [
    {
     "name": "stdout",
     "output_type": "stream",
     "text": [
      "Группы в датафрейме visitors ['A' 'B']\n"
     ]
    }
   ],
   "source": [
    "print('Группы в датафрейме visitors', visitors['group'].unique())"
   ]
  },
  {
   "cell_type": "code",
   "execution_count": 15,
   "metadata": {},
   "outputs": [
    {
     "name": "stdout",
     "output_type": "stream",
     "text": [
      "Группы в датафрейме orders ['B' 'A']\n"
     ]
    }
   ],
   "source": [
    "print('Группы в датафрейме orders', orders['group'].unique())"
   ]
  },
  {
   "cell_type": "code",
   "execution_count": 16,
   "metadata": {},
   "outputs": [
    {
     "name": "stdout",
     "output_type": "stream",
     "text": [
      "Минимальная дата в датафрейме visitors 2019-08-01 00:00:00\n",
      "Максимальная дата в датафрейме visitors 2019-08-31 00:00:00\n"
     ]
    }
   ],
   "source": [
    "print('Минимальная дата в датафрейме visitors', visitors['date'].min())\n",
    "print('Максимальная дата в датафрейме visitors', visitors['date'].max())"
   ]
  },
  {
   "cell_type": "code",
   "execution_count": 17,
   "metadata": {},
   "outputs": [
    {
     "name": "stdout",
     "output_type": "stream",
     "text": [
      "Минимальная дата в датафрейме orders 2019-08-01 00:00:00\n",
      "Максимальная дата в датафрейме orders 2019-08-31 00:00:00\n"
     ]
    }
   ],
   "source": [
    "print('Минимальная дата в датафрейме orders', orders['date'].min())\n",
    "print('Максимальная дата в датафрейме orders', orders['date'].max())"
   ]
  },
  {
   "cell_type": "markdown",
   "metadata": {},
   "source": [
    "<div class=\"alert alert-info\">\n",
    "\n",
    "## Приоритизация гипотез"
   ]
  },
  {
   "cell_type": "markdown",
   "metadata": {},
   "source": [
    "<div class=\"alert alert-info\">\n",
    "\n",
    "### Приоритизация гипотез методом ICE"
   ]
  },
  {
   "cell_type": "code",
   "execution_count": 18,
   "metadata": {},
   "outputs": [
    {
     "data": {
      "text/html": [
       "<div>\n",
       "<style scoped>\n",
       "    .dataframe tbody tr th:only-of-type {\n",
       "        vertical-align: middle;\n",
       "    }\n",
       "\n",
       "    .dataframe tbody tr th {\n",
       "        vertical-align: top;\n",
       "    }\n",
       "\n",
       "    .dataframe thead th {\n",
       "        text-align: right;\n",
       "    }\n",
       "</style>\n",
       "<table border=\"1\" class=\"dataframe\">\n",
       "  <thead>\n",
       "    <tr style=\"text-align: right;\">\n",
       "      <th></th>\n",
       "      <th>hypothesis</th>\n",
       "      <th>ICE</th>\n",
       "    </tr>\n",
       "  </thead>\n",
       "  <tbody>\n",
       "    <tr>\n",
       "      <th>8</th>\n",
       "      <td>Запустить акцию, дающую скидку на товар в день...</td>\n",
       "      <td>16.200000</td>\n",
       "    </tr>\n",
       "    <tr>\n",
       "      <th>0</th>\n",
       "      <td>Добавить два новых канала привлечения трафика,...</td>\n",
       "      <td>13.333333</td>\n",
       "    </tr>\n",
       "    <tr>\n",
       "      <th>7</th>\n",
       "      <td>Добавить форму подписки на все основные страни...</td>\n",
       "      <td>11.200000</td>\n",
       "    </tr>\n",
       "    <tr>\n",
       "      <th>6</th>\n",
       "      <td>Показать на главной странице баннеры с актуаль...</td>\n",
       "      <td>8.000000</td>\n",
       "    </tr>\n",
       "    <tr>\n",
       "      <th>2</th>\n",
       "      <td>Добавить блоки рекомендаций товаров на сайт ин...</td>\n",
       "      <td>7.000000</td>\n",
       "    </tr>\n",
       "    <tr>\n",
       "      <th>1</th>\n",
       "      <td>Запустить собственную службу доставки, что сок...</td>\n",
       "      <td>2.000000</td>\n",
       "    </tr>\n",
       "    <tr>\n",
       "      <th>5</th>\n",
       "      <td>Добавить страницу отзывов клиентов о магазине,...</td>\n",
       "      <td>1.333333</td>\n",
       "    </tr>\n",
       "    <tr>\n",
       "      <th>3</th>\n",
       "      <td>Изменить структура категорий, что увеличит кон...</td>\n",
       "      <td>1.125000</td>\n",
       "    </tr>\n",
       "    <tr>\n",
       "      <th>4</th>\n",
       "      <td>Изменить цвет фона главной страницы, чтобы уве...</td>\n",
       "      <td>1.000000</td>\n",
       "    </tr>\n",
       "  </tbody>\n",
       "</table>\n",
       "</div>"
      ],
      "text/plain": [
       "                                          hypothesis        ICE\n",
       "8  Запустить акцию, дающую скидку на товар в день...  16.200000\n",
       "0  Добавить два новых канала привлечения трафика,...  13.333333\n",
       "7  Добавить форму подписки на все основные страни...  11.200000\n",
       "6  Показать на главной странице баннеры с актуаль...   8.000000\n",
       "2  Добавить блоки рекомендаций товаров на сайт ин...   7.000000\n",
       "1  Запустить собственную службу доставки, что сок...   2.000000\n",
       "5  Добавить страницу отзывов клиентов о магазине,...   1.333333\n",
       "3  Изменить структура категорий, что увеличит кон...   1.125000\n",
       "4  Изменить цвет фона главной страницы, чтобы уве...   1.000000"
      ]
     },
     "metadata": {},
     "output_type": "display_data"
    }
   ],
   "source": [
    "hypothesis['ICE'] = (hypothesis['impact'] * hypothesis['confidence']) / hypothesis['efforts']\n",
    "\n",
    "display(hypothesis.sort_values(by='ICE', ascending=False)[['hypothesis', 'ICE']])\n",
    "pd.options.display.max_colwidth = 100\n"
   ]
  },
  {
   "cell_type": "markdown",
   "metadata": {},
   "source": [
    "🧑‍🎓 Ира: наиболее перспективные гипотезы о скидке на товары в дни рождения, новых каналах привлечения пользователей и доп. форме подписки"
   ]
  },
  {
   "cell_type": "markdown",
   "metadata": {},
   "source": [
    "<div class=\"alert alert-info\">\n",
    "\n",
    "### Приоритизация гипотез методом RICE"
   ]
  },
  {
   "cell_type": "code",
   "execution_count": 19,
   "metadata": {},
   "outputs": [
    {
     "data": {
      "text/html": [
       "<div>\n",
       "<style scoped>\n",
       "    .dataframe tbody tr th:only-of-type {\n",
       "        vertical-align: middle;\n",
       "    }\n",
       "\n",
       "    .dataframe tbody tr th {\n",
       "        vertical-align: top;\n",
       "    }\n",
       "\n",
       "    .dataframe thead th {\n",
       "        text-align: right;\n",
       "    }\n",
       "</style>\n",
       "<table border=\"1\" class=\"dataframe\">\n",
       "  <thead>\n",
       "    <tr style=\"text-align: right;\">\n",
       "      <th></th>\n",
       "      <th>hypothesis</th>\n",
       "      <th>RICE</th>\n",
       "    </tr>\n",
       "  </thead>\n",
       "  <tbody>\n",
       "    <tr>\n",
       "      <th>7</th>\n",
       "      <td>Добавить форму подписки на все основные страницы, чтобы собрать базу клиентов для email-рассылок</td>\n",
       "      <td>112.0</td>\n",
       "    </tr>\n",
       "    <tr>\n",
       "      <th>2</th>\n",
       "      <td>Добавить блоки рекомендаций товаров на сайт интернет магазина, чтобы повысить конверсию и средни...</td>\n",
       "      <td>56.0</td>\n",
       "    </tr>\n",
       "    <tr>\n",
       "      <th>0</th>\n",
       "      <td>Добавить два новых канала привлечения трафика, что позволит привлекать на 30% больше пользователей</td>\n",
       "      <td>40.0</td>\n",
       "    </tr>\n",
       "    <tr>\n",
       "      <th>6</th>\n",
       "      <td>Показать на главной странице баннеры с актуальными акциями и распродажами, чтобы увеличить конве...</td>\n",
       "      <td>40.0</td>\n",
       "    </tr>\n",
       "    <tr>\n",
       "      <th>8</th>\n",
       "      <td>Запустить акцию, дающую скидку на товар в день рождения</td>\n",
       "      <td>16.2</td>\n",
       "    </tr>\n",
       "    <tr>\n",
       "      <th>3</th>\n",
       "      <td>Изменить структура категорий, что увеличит конверсию, т.к. пользователи быстрее найдут нужный товар</td>\n",
       "      <td>9.0</td>\n",
       "    </tr>\n",
       "    <tr>\n",
       "      <th>1</th>\n",
       "      <td>Запустить собственную службу доставки, что сократит срок доставки заказов</td>\n",
       "      <td>4.0</td>\n",
       "    </tr>\n",
       "    <tr>\n",
       "      <th>5</th>\n",
       "      <td>Добавить страницу отзывов клиентов о магазине, что позволит увеличить количество заказов</td>\n",
       "      <td>4.0</td>\n",
       "    </tr>\n",
       "    <tr>\n",
       "      <th>4</th>\n",
       "      <td>Изменить цвет фона главной страницы, чтобы увеличить вовлеченность пользователей</td>\n",
       "      <td>3.0</td>\n",
       "    </tr>\n",
       "  </tbody>\n",
       "</table>\n",
       "</div>"
      ],
      "text/plain": [
       "                                                                                            hypothesis  \\\n",
       "7     Добавить форму подписки на все основные страницы, чтобы собрать базу клиентов для email-рассылок   \n",
       "2  Добавить блоки рекомендаций товаров на сайт интернет магазина, чтобы повысить конверсию и средни...   \n",
       "0   Добавить два новых канала привлечения трафика, что позволит привлекать на 30% больше пользователей   \n",
       "6  Показать на главной странице баннеры с актуальными акциями и распродажами, чтобы увеличить конве...   \n",
       "8                                              Запустить акцию, дающую скидку на товар в день рождения   \n",
       "3  Изменить структура категорий, что увеличит конверсию, т.к. пользователи быстрее найдут нужный товар   \n",
       "1                            Запустить собственную службу доставки, что сократит срок доставки заказов   \n",
       "5             Добавить страницу отзывов клиентов о магазине, что позволит увеличить количество заказов   \n",
       "4                     Изменить цвет фона главной страницы, чтобы увеличить вовлеченность пользователей   \n",
       "\n",
       "    RICE  \n",
       "7  112.0  \n",
       "2   56.0  \n",
       "0   40.0  \n",
       "6   40.0  \n",
       "8   16.2  \n",
       "3    9.0  \n",
       "1    4.0  \n",
       "5    4.0  \n",
       "4    3.0  "
      ]
     },
     "metadata": {},
     "output_type": "display_data"
    }
   ],
   "source": [
    "hypothesis['RICE'] = (hypothesis['reach'] * hypothesis['impact'] * hypothesis['confidence']) / hypothesis['efforts']\n",
    "\n",
    "display(hypothesis.sort_values(by='RICE', ascending=False)[['hypothesis', 'RICE']])"
   ]
  },
  {
   "cell_type": "markdown",
   "metadata": {},
   "source": [
    "🧑‍🎓 Ира: наиболее перспективные оказались все так же гипотезы о новых каналах привлечения пользователей и доп. форме подписки, но вместо гипотезы об акции на день рождения в тройке лидеров гипотеза и добавлении блоков на сайт интернет-магазина."
   ]
  },
  {
   "cell_type": "markdown",
   "metadata": {},
   "source": [
    "<div class=\"alert alert-info\">\n",
    "\n",
    "### Вывод"
   ]
  },
  {
   "cell_type": "code",
   "execution_count": 20,
   "metadata": {},
   "outputs": [
    {
     "data": {
      "text/html": [
       "<div>\n",
       "<style scoped>\n",
       "    .dataframe tbody tr th:only-of-type {\n",
       "        vertical-align: middle;\n",
       "    }\n",
       "\n",
       "    .dataframe tbody tr th {\n",
       "        vertical-align: top;\n",
       "    }\n",
       "\n",
       "    .dataframe thead th {\n",
       "        text-align: right;\n",
       "    }\n",
       "</style>\n",
       "<table border=\"1\" class=\"dataframe\">\n",
       "  <thead>\n",
       "    <tr style=\"text-align: right;\">\n",
       "      <th></th>\n",
       "      <th>hypothesis</th>\n",
       "      <th>reach</th>\n",
       "      <th>impact</th>\n",
       "      <th>confidence</th>\n",
       "      <th>efforts</th>\n",
       "      <th>ICE</th>\n",
       "      <th>RICE</th>\n",
       "    </tr>\n",
       "  </thead>\n",
       "  <tbody>\n",
       "    <tr>\n",
       "      <th>7</th>\n",
       "      <td>Добавить форму подписки на все основные страницы, чтобы собрать базу клиентов для email-рассылок</td>\n",
       "      <td>10</td>\n",
       "      <td>7</td>\n",
       "      <td>8</td>\n",
       "      <td>5</td>\n",
       "      <td>11.200000</td>\n",
       "      <td>112.0</td>\n",
       "    </tr>\n",
       "    <tr>\n",
       "      <th>2</th>\n",
       "      <td>Добавить блоки рекомендаций товаров на сайт интернет магазина, чтобы повысить конверсию и средни...</td>\n",
       "      <td>8</td>\n",
       "      <td>3</td>\n",
       "      <td>7</td>\n",
       "      <td>3</td>\n",
       "      <td>7.000000</td>\n",
       "      <td>56.0</td>\n",
       "    </tr>\n",
       "    <tr>\n",
       "      <th>0</th>\n",
       "      <td>Добавить два новых канала привлечения трафика, что позволит привлекать на 30% больше пользователей</td>\n",
       "      <td>3</td>\n",
       "      <td>10</td>\n",
       "      <td>8</td>\n",
       "      <td>6</td>\n",
       "      <td>13.333333</td>\n",
       "      <td>40.0</td>\n",
       "    </tr>\n",
       "    <tr>\n",
       "      <th>6</th>\n",
       "      <td>Показать на главной странице баннеры с актуальными акциями и распродажами, чтобы увеличить конве...</td>\n",
       "      <td>5</td>\n",
       "      <td>3</td>\n",
       "      <td>8</td>\n",
       "      <td>3</td>\n",
       "      <td>8.000000</td>\n",
       "      <td>40.0</td>\n",
       "    </tr>\n",
       "    <tr>\n",
       "      <th>8</th>\n",
       "      <td>Запустить акцию, дающую скидку на товар в день рождения</td>\n",
       "      <td>1</td>\n",
       "      <td>9</td>\n",
       "      <td>9</td>\n",
       "      <td>5</td>\n",
       "      <td>16.200000</td>\n",
       "      <td>16.2</td>\n",
       "    </tr>\n",
       "    <tr>\n",
       "      <th>3</th>\n",
       "      <td>Изменить структура категорий, что увеличит конверсию, т.к. пользователи быстрее найдут нужный товар</td>\n",
       "      <td>8</td>\n",
       "      <td>3</td>\n",
       "      <td>3</td>\n",
       "      <td>8</td>\n",
       "      <td>1.125000</td>\n",
       "      <td>9.0</td>\n",
       "    </tr>\n",
       "    <tr>\n",
       "      <th>1</th>\n",
       "      <td>Запустить собственную службу доставки, что сократит срок доставки заказов</td>\n",
       "      <td>2</td>\n",
       "      <td>5</td>\n",
       "      <td>4</td>\n",
       "      <td>10</td>\n",
       "      <td>2.000000</td>\n",
       "      <td>4.0</td>\n",
       "    </tr>\n",
       "    <tr>\n",
       "      <th>5</th>\n",
       "      <td>Добавить страницу отзывов клиентов о магазине, что позволит увеличить количество заказов</td>\n",
       "      <td>3</td>\n",
       "      <td>2</td>\n",
       "      <td>2</td>\n",
       "      <td>3</td>\n",
       "      <td>1.333333</td>\n",
       "      <td>4.0</td>\n",
       "    </tr>\n",
       "    <tr>\n",
       "      <th>4</th>\n",
       "      <td>Изменить цвет фона главной страницы, чтобы увеличить вовлеченность пользователей</td>\n",
       "      <td>3</td>\n",
       "      <td>1</td>\n",
       "      <td>1</td>\n",
       "      <td>1</td>\n",
       "      <td>1.000000</td>\n",
       "      <td>3.0</td>\n",
       "    </tr>\n",
       "  </tbody>\n",
       "</table>\n",
       "</div>"
      ],
      "text/plain": [
       "                                                                                            hypothesis  \\\n",
       "7     Добавить форму подписки на все основные страницы, чтобы собрать базу клиентов для email-рассылок   \n",
       "2  Добавить блоки рекомендаций товаров на сайт интернет магазина, чтобы повысить конверсию и средни...   \n",
       "0   Добавить два новых канала привлечения трафика, что позволит привлекать на 30% больше пользователей   \n",
       "6  Показать на главной странице баннеры с актуальными акциями и распродажами, чтобы увеличить конве...   \n",
       "8                                              Запустить акцию, дающую скидку на товар в день рождения   \n",
       "3  Изменить структура категорий, что увеличит конверсию, т.к. пользователи быстрее найдут нужный товар   \n",
       "1                            Запустить собственную службу доставки, что сократит срок доставки заказов   \n",
       "5             Добавить страницу отзывов клиентов о магазине, что позволит увеличить количество заказов   \n",
       "4                     Изменить цвет фона главной страницы, чтобы увеличить вовлеченность пользователей   \n",
       "\n",
       "   reach  impact  confidence  efforts        ICE   RICE  \n",
       "7     10       7           8        5  11.200000  112.0  \n",
       "2      8       3           7        3   7.000000   56.0  \n",
       "0      3      10           8        6  13.333333   40.0  \n",
       "6      5       3           8        3   8.000000   40.0  \n",
       "8      1       9           9        5  16.200000   16.2  \n",
       "3      8       3           3        8   1.125000    9.0  \n",
       "1      2       5           4       10   2.000000    4.0  \n",
       "5      3       2           2        3   1.333333    4.0  \n",
       "4      3       1           1        1   1.000000    3.0  "
      ]
     },
     "execution_count": 20,
     "metadata": {},
     "output_type": "execute_result"
    }
   ],
   "source": [
    "hypothesis.sort_values(by='RICE', ascending=False)"
   ]
  },
  {
   "cell_type": "markdown",
   "metadata": {},
   "source": [
    "🧑‍🎓 Ира: наиболее перспективные гипотезы при приоритизации методом ICE оказались гипотезы 8, 0 и 7, в то время как приоритизация методом RICE показала тройку лидеров 7, 2 и 0.  \n",
    "\n",
    "Это может быть связанно с тем, что:  \n",
    "- у гипотезы 7 самый высокий показатель reach;\n",
    "- гипотеза 8 пропала из тройки лидеров при приоритизации методом RICE, так как ее параметр reach самый низкий;\n",
    "- у гипотезы 2 второй самый высокий показатель reach и при этом efforts ниже, чем у г потезы 8.  \n",
    "\n",
    "Получается, что протестировать гипотезу 8 обойдется дороже, чем гипотезу 2, но при этом она практически не охватит пользователей.  \n",
    "Гипотезу 7 протестировать так же дорого, как и гипотезу 8, но при этом она охватывает всех пользователей сайта.  \n",
    "Гипотеза 0 хоть и не охватывает даже половины пользователей, ее влияние на них выше, чем у всех остальных гипотез, к тому же протестировать ее не сильно дороже гипотезы 7"
   ]
  },
  {
   "cell_type": "code",
   "execution_count": 21,
   "metadata": {},
   "outputs": [
    {
     "data": {
      "image/png": "[encoded data removed]",
      "text/plain": [
       "<Figure size 720x720 with 1 Axes>"
      ]
     },
     "metadata": {
      "needs_background": "light"
     },
     "output_type": "display_data"
    }
   ],
   "source": [
    "y = hypothesis['ICE'] \n",
    "z = hypothesis['RICE'] \n",
    "n = hypothesis.index \n",
    "\n",
    "fig, ax = plt.subplots()\n",
    "ax.scatter(z, y)\n",
    "\n",
    "for i, txt in enumerate(n):\n",
    "    ax.annotate(txt, (z[i], y[i]), size=30)\n",
    "\n",
    "plt.title(\"ICE and RICE гипотезы\") \n",
    "plt.xlabel(\"RICE\") \n",
    "plt.ylabel(\"ICE\")\n",
    "\n",
    "fig.set_figheight(10)\n",
    "fig.set_figwidth(10) \n",
    "plt.show()  "
   ]
  },
  {
   "cell_type": "markdown",
   "metadata": {},
   "source": [
    "<div class=\"alert alert-info\">\n",
    "\n",
    "## Анализ A/B-теста"
   ]
  },
  {
   "cell_type": "code",
   "execution_count": 22,
   "metadata": {},
   "outputs": [],
   "source": [
    "datesGroups = orders[['date','group']].drop_duplicates() \n"
   ]
  },
  {
   "cell_type": "code",
   "execution_count": 23,
   "metadata": {},
   "outputs": [],
   "source": [
    "ordersAggregated = datesGroups.apply(\n",
    "    lambda x: orders[\n",
    "        np.logical_and(\n",
    "            orders['date'] <= x['date'], orders['group'] == x['group']\n",
    "        )\n",
    "    ].agg(\n",
    "        {\n",
    "            'date': 'max',\n",
    "            'group': 'max',\n",
    "            'transactionId': 'nunique',\n",
    "            'visitorId': 'nunique',\n",
    "            'revenue': 'sum',\n",
    "        }\n",
    "    ),\n",
    "    axis=1,\n",
    ").sort_values(by=['date', 'group'])"
   ]
  },
  {
   "cell_type": "code",
   "execution_count": 24,
   "metadata": {},
   "outputs": [],
   "source": [
    "visitorsAggregated = datesGroups.apply(\n",
    "    lambda x: visitors[\n",
    "        np.logical_and(\n",
    "            visitors['date'] <= x['date'], visitors['group'] == x['group']\n",
    "        )\n",
    "    ].agg(\n",
    "        {\n",
    "            'date' : 'max',\n",
    "            'group' : 'max',\n",
    "            'visitors' : 'sum'\n",
    "        }\n",
    "    ), \n",
    "    axis=1\n",
    ").sort_values(by=['date','group'])"
   ]
  },
  {
   "cell_type": "code",
   "execution_count": 25,
   "metadata": {},
   "outputs": [
    {
     "name": "stdout",
     "output_type": "stream",
     "text": [
      "        date group  orders  buyers  revenue  visitors\n",
      "0 2019-08-01     A      24      20   148579       719\n",
      "1 2019-08-01     B      21      20   101217       713\n",
      "2 2019-08-02     A      44      38   242401      1338\n",
      "3 2019-08-02     B      45      43   266748      1294\n",
      "4 2019-08-03     A      68      62   354874      1845\n"
     ]
    }
   ],
   "source": [
    "cumulativeData = ordersAggregated.merge(\n",
    "    visitorsAggregated, left_on=['date', 'group'], right_on=['date', 'group']\n",
    ")\n",
    "cumulativeData.columns = ['date', 'group', 'orders', 'buyers', 'revenue', 'visitors']\n",
    "\n",
    "print(cumulativeData.head(5)) "
   ]
  },
  {
   "cell_type": "code",
   "execution_count": 26,
   "metadata": {},
   "outputs": [
    {
     "name": "stdout",
     "output_type": "stream",
     "text": [
      "Минимальная дата в датафрейме orders 2019-08-01 00:00:00\n",
      "Максимальная дата в датафрейме orders 2019-08-31 00:00:00\n"
     ]
    }
   ],
   "source": [
    "print('Минимальная дата в датафрейме orders', orders['date'].min())\n",
    "print('Максимальная дата в датафрейме orders', orders['date'].max())"
   ]
  },
  {
   "cell_type": "markdown",
   "metadata": {},
   "source": [
    "<div class=\"alert alert-info\">\n",
    "\n",
    "### Построение графиков кумулятивной выручки по группам"
   ]
  },
  {
   "cell_type": "code",
   "execution_count": 27,
   "metadata": {},
   "outputs": [],
   "source": [
    "cumulativeRevenueA = cumulativeData[cumulativeData['group'] == 'A'][['date','revenue', 'orders']]\n"
   ]
  },
  {
   "cell_type": "code",
   "execution_count": 28,
   "metadata": {},
   "outputs": [],
   "source": [
    "cumulativeRevenueB = cumulativeData[cumulativeData['group'] == 'B'][['date','revenue', 'orders']]"
   ]
  },
  {
   "cell_type": "code",
   "execution_count": 29,
   "metadata": {},
   "outputs": [
    {
     "data": {
      "image/png": "[encoded data removed]",
      "text/plain": [
       "<Figure size 720x360 with 1 Axes>"
      ]
     },
     "metadata": {
      "needs_background": "light"
     },
     "output_type": "display_data"
    }
   ],
   "source": [
    "plt.figure(figsize=(10, 5))\n",
    "plt.plot(cumulativeRevenueA['date'], cumulativeRevenueA['revenue'], label='A')\n",
    "\n",
    "plt.plot(cumulativeRevenueB['date'], cumulativeRevenueB['revenue'], label='B')\n",
    "\n",
    "plt.legend()\n",
    "plt.title('График распределения куммулятивной выручки во времени')\n",
    "plt.xlabel('Дата проведения теста')\n",
    "plt.ylabel('Выручка')\n",
    "plt.show()"
   ]
  },
  {
   "cell_type": "markdown",
   "metadata": {},
   "source": [
    "🧑‍🎓 Ира: выручка по обеим группам растет во времени, группа В практически на всем графике опережает группу А, но у группы В есть резкий скачек, который может быть обусловлен выбросами."
   ]
  },
  {
   "cell_type": "markdown",
   "metadata": {},
   "source": [
    "<div class=\"alert alert-info\">\n",
    "\n",
    "### Построение графиков кумулятивного среднего чека по группам"
   ]
  },
  {
   "cell_type": "code",
   "execution_count": 30,
   "metadata": {},
   "outputs": [
    {
     "data": {
      "image/png": "[encoded data removed]",
      "text/plain": [
       "<Figure size 720x360 with 1 Axes>"
      ]
     },
     "metadata": {
      "needs_background": "light"
     },
     "output_type": "display_data"
    }
   ],
   "source": [
    "plt.figure(figsize=(10, 5))\n",
    "plt.plot(cumulativeRevenueA['date'], cumulativeRevenueA['revenue'] / cumulativeRevenueA['orders'], label='A')\n",
    "\n",
    "plt.plot(cumulativeRevenueB['date'], cumulativeRevenueB['revenue'] / cumulativeRevenueB['orders'], label='B')\n",
    "\n",
    "plt.legend()\n",
    "plt.title('График распределения кумулятивного среднего чека во времени')\n",
    "plt.xlabel('Дата проведения теста')\n",
    "plt.ylabel('Средний чек')\n",
    "plt.show()\n"
   ]
  },
  {
   "cell_type": "markdown",
   "metadata": {},
   "source": [
    "🧑‍🎓 Ира: средний чек так же растет с течением времени, есть резкие скачки и падения на кривых обеих групп.  \n",
    "Практически на всем графике снова лидирует группа В"
   ]
  },
  {
   "cell_type": "markdown",
   "metadata": {},
   "source": [
    "<div class=\"alert alert-info\">\n",
    "\n",
    "### Построение графиков относительного изменения кумулятивного среднего чека группы B к группе A"
   ]
  },
  {
   "cell_type": "code",
   "execution_count": 31,
   "metadata": {},
   "outputs": [],
   "source": [
    "mergedCumulativeRevenue = cumulativeRevenueA.merge(\n",
    "    cumulativeRevenueB, left_on='date', right_on='date', how='left', suffixes=['A', 'B']\n",
    ")\n"
   ]
  },
  {
   "cell_type": "code",
   "execution_count": 32,
   "metadata": {},
   "outputs": [
    {
     "data": {
      "image/png": "[encoded data removed]",
      "text/plain": [
       "<Figure size 720x360 with 1 Axes>"
      ]
     },
     "metadata": {
      "needs_background": "light"
     },
     "output_type": "display_data"
    }
   ],
   "source": [
    "plt.figure(figsize=(10, 5))\n",
    "plt.plot(\n",
    "    mergedCumulativeRevenue['date'], (\n",
    "        mergedCumulativeRevenue['revenueB'] / mergedCumulativeRevenue['ordersB']\n",
    "    ) / (\n",
    "        mergedCumulativeRevenue['revenueA'] / mergedCumulativeRevenue['ordersA']\n",
    "    )-1\n",
    ")\n",
    "\n",
    "plt.axhline(y=0, color='black', linestyle='--') \n",
    "plt.title('График относительного изменения кумулятивного среднего чека группы B к группе A')\n",
    "plt.xlabel('Дата проведения теста')\n",
    "plt.ylabel('Отношение среднего чека группы В к группе А')\n",
    "plt.show()"
   ]
  },
  {
   "cell_type": "markdown",
   "metadata": {},
   "source": [
    "🧑‍🎓 Ира: результаты меняются слишком резко несколько раз, возможно дело в аномально крупных заказах"
   ]
  },
  {
   "cell_type": "markdown",
   "metadata": {},
   "source": [
    "<div class=\"alert alert-info\">\n",
    "\n",
    "### Построение графиков кумулятивной конверсии по группам"
   ]
  },
  {
   "cell_type": "code",
   "execution_count": 33,
   "metadata": {},
   "outputs": [],
   "source": [
    "cumulativeData['conversion'] = cumulativeData['orders'] / cumulativeData['visitors']"
   ]
  },
  {
   "cell_type": "code",
   "execution_count": 34,
   "metadata": {},
   "outputs": [],
   "source": [
    "cumulativeDataA = cumulativeData[cumulativeData['group']=='A']"
   ]
  },
  {
   "cell_type": "code",
   "execution_count": 35,
   "metadata": {},
   "outputs": [],
   "source": [
    "cumulativeDataB = cumulativeData[cumulativeData['group']=='B']"
   ]
  },
  {
   "cell_type": "code",
   "execution_count": 36,
   "metadata": {},
   "outputs": [
    {
     "data": {
      "image/png": "[encoded data removed]",
      "text/plain": [
       "<Figure size 720x360 with 1 Axes>"
      ]
     },
     "metadata": {
      "needs_background": "light"
     },
     "output_type": "display_data"
    }
   ],
   "source": [
    "plt.figure(figsize=(10, 5))\n",
    "plt.plot(cumulativeDataA['date'], cumulativeDataA['conversion'], label='A')\n",
    "\n",
    "plt.plot(cumulativeDataB['date'], cumulativeDataB['conversion'], label='B')\n",
    "\n",
    "plt.axis([dt.datetime(2019, 7, 31), dt.datetime(2019, 9, 1), 0, 0.05])\n",
    "plt.legend()\n",
    "plt.title('График распределения кумулятивной конверсии по времени')\n",
    "plt.xlabel('Дата проведения теста')\n",
    "plt.ylabel('Конверсия')\n",
    "plt.show()"
   ]
  },
  {
   "cell_type": "markdown",
   "metadata": {},
   "source": [
    "🧑‍🎓 Ира: в начале конверсия групп колебалась, но затем группа В явно начинает лидировать, ее конверсия растет и со временем фиксируется на одном уровне, в то время как конверсия группы А упала ниже группы В, но со временем все равно продолжает испытывать легкие колебания"
   ]
  },
  {
   "cell_type": "markdown",
   "metadata": {},
   "source": [
    "<div class=\"alert alert-info\">\n",
    "\n",
    "### Построение графиков относительного изменения кумулятивной конверсии группы B к группе A"
   ]
  },
  {
   "cell_type": "code",
   "execution_count": 37,
   "metadata": {},
   "outputs": [],
   "source": [
    "mergedCumulativeConversions = cumulativeDataA[['date','conversion']].merge(\n",
    "    cumulativeDataB[['date','conversion']], left_on='date', right_on='date', how='left', suffixes=['A', 'B']\n",
    ")\n"
   ]
  },
  {
   "cell_type": "code",
   "execution_count": 38,
   "metadata": {},
   "outputs": [
    {
     "data": {
      "image/png": "[encoded data removed]",
      "text/plain": [
       "<Figure size 720x360 with 1 Axes>"
      ]
     },
     "metadata": {
      "needs_background": "light"
     },
     "output_type": "display_data"
    }
   ],
   "source": [
    "plt.figure(figsize=(10, 5))\n",
    "plt.plot(\n",
    "    mergedCumulativeConversions['date'], \n",
    "    mergedCumulativeConversions['conversionB'] / mergedCumulativeConversions['conversionA'] - 1,\n",
    "    label=\"Относительный прирост конверсии группы B относительно группы A\"\n",
    ")\n",
    "\n",
    "plt.axhline(y=0, color='black', linestyle='--')\n",
    "plt.axhline(y=0.1, color='grey', linestyle='--')\n",
    "plt.axis([dt.datetime(2019, 7, 31), dt.datetime(2019, 9, 1), -0.5, 0.5])\n",
    "plt.legend() \n",
    "plt.title('График относительного изменения кумулятивной конверсии группы B к группе A')\n",
    "plt.xlabel('Дата проведения теста')\n",
    "plt.show()"
   ]
  },
  {
   "cell_type": "markdown",
   "metadata": {},
   "source": [
    "🧑‍🎓 Ира: конверсия группы В лидирует практически с самого начала, с течением времени она стабильно держится выше 10% относительно конверсии группы А"
   ]
  },
  {
   "cell_type": "markdown",
   "metadata": {},
   "source": [
    "<div class=\"alert alert-info\">\n",
    "\n",
    "### Построение графиков количества заказов по пользователям"
   ]
  },
  {
   "cell_type": "code",
   "execution_count": 39,
   "metadata": {},
   "outputs": [
    {
     "name": "stdout",
     "output_type": "stream",
     "text": [
      "       visitorId  orders\n",
      "1023  4256040402      11\n",
      "591   2458001652      11\n",
      "569   2378935119       9\n",
      "487   2038680547       8\n",
      "44     199603092       5\n",
      "744   3062433592       5\n",
      "55     237748145       5\n",
      "917   3803269165       5\n",
      "299   1230306981       5\n",
      "897   3717692402       5\n"
     ]
    }
   ],
   "source": [
    "ordersByUsers = (\n",
    "    orders.groupby('visitorId', as_index=False)\n",
    "    .agg({'transactionId': 'nunique'})\n",
    ")\n",
    "\n",
    "ordersByUsers.columns = ['visitorId', 'orders']\n",
    "\n",
    "print(ordersByUsers.sort_values(by='orders', ascending=False).head(10)) "
   ]
  },
  {
   "cell_type": "code",
   "execution_count": 40,
   "metadata": {},
   "outputs": [
    {
     "data": {
      "image/png": "[encoded data removed]",
      "text/plain": [
       "<Figure size 432x288 with 1 Axes>"
      ]
     },
     "metadata": {
      "needs_background": "light"
     },
     "output_type": "display_data"
    }
   ],
   "source": [
    "plt.hist(ordersByUsers['orders']) \n",
    "plt.title('Гистограмма кол-ва заказов')\n",
    "plt.xlabel('Кол-во заказов')\n",
    "plt.ylabel('Частота')\n",
    "plt.show()"
   ]
  },
  {
   "cell_type": "code",
   "execution_count": 41,
   "metadata": {},
   "outputs": [
    {
     "data": {
      "image/png": "[encoded data removed]",
      "text/plain": [
       "<Figure size 432x288 with 1 Axes>"
      ]
     },
     "metadata": {
      "needs_background": "light"
     },
     "output_type": "display_data"
    }
   ],
   "source": [
    "x_values = pd.Series(range(0, len(ordersByUsers)))\n",
    "\n",
    "plt.scatter(x_values, ordersByUsers['orders']) \n",
    "plt.title('График кол-ва заказов')\n",
    "plt.xlabel('Частота')\n",
    "plt.ylabel('Кол-во заказов')\n",
    "plt.show()"
   ]
  },
  {
   "cell_type": "markdown",
   "metadata": {},
   "source": [
    "🧑‍🎓 Ира: в основном клиенты совершают 1-2 заказа"
   ]
  },
  {
   "cell_type": "markdown",
   "metadata": {},
   "source": [
    "<div class=\"alert alert-info\">\n",
    "\n",
    "### 95-й и 99-й перцентили количества заказов на пользователя"
   ]
  },
  {
   "cell_type": "code",
   "execution_count": 42,
   "metadata": {},
   "outputs": [
    {
     "name": "stdout",
     "output_type": "stream",
     "text": [
      "[1. 2. 4.]\n"
     ]
    }
   ],
   "source": [
    "print(np.percentile(ordersByUsers['orders'], [90, 95, 99])) "
   ]
  },
  {
   "cell_type": "markdown",
   "metadata": {},
   "source": [
    "<div class=\"alert alert-info\">\n",
    "\n",
    "### Построение графиков стоимостей заказов"
   ]
  },
  {
   "cell_type": "code",
   "execution_count": 43,
   "metadata": {},
   "outputs": [
    {
     "data": {
      "text/html": [
       "<div>\n",
       "<style scoped>\n",
       "    .dataframe tbody tr th:only-of-type {\n",
       "        vertical-align: middle;\n",
       "    }\n",
       "\n",
       "    .dataframe tbody tr th {\n",
       "        vertical-align: top;\n",
       "    }\n",
       "\n",
       "    .dataframe thead th {\n",
       "        text-align: right;\n",
       "    }\n",
       "</style>\n",
       "<table border=\"1\" class=\"dataframe\">\n",
       "  <thead>\n",
       "    <tr style=\"text-align: right;\">\n",
       "      <th></th>\n",
       "      <th>transactionId</th>\n",
       "      <th>visitorId</th>\n",
       "      <th>date</th>\n",
       "      <th>revenue</th>\n",
       "      <th>group</th>\n",
       "    </tr>\n",
       "  </thead>\n",
       "  <tbody>\n",
       "    <tr>\n",
       "      <th>425</th>\n",
       "      <td>590470918</td>\n",
       "      <td>1920142716</td>\n",
       "      <td>2019-08-19</td>\n",
       "      <td>1294500</td>\n",
       "      <td>B</td>\n",
       "    </tr>\n",
       "    <tr>\n",
       "      <th>1196</th>\n",
       "      <td>3936777065</td>\n",
       "      <td>2108080724</td>\n",
       "      <td>2019-08-15</td>\n",
       "      <td>202740</td>\n",
       "      <td>B</td>\n",
       "    </tr>\n",
       "    <tr>\n",
       "      <th>858</th>\n",
       "      <td>192721366</td>\n",
       "      <td>1316129916</td>\n",
       "      <td>2019-08-27</td>\n",
       "      <td>93940</td>\n",
       "      <td>A</td>\n",
       "    </tr>\n",
       "    <tr>\n",
       "      <th>1136</th>\n",
       "      <td>666610489</td>\n",
       "      <td>1307669133</td>\n",
       "      <td>2019-08-13</td>\n",
       "      <td>92550</td>\n",
       "      <td>A</td>\n",
       "    </tr>\n",
       "    <tr>\n",
       "      <th>744</th>\n",
       "      <td>3668308183</td>\n",
       "      <td>888512513</td>\n",
       "      <td>2019-08-27</td>\n",
       "      <td>86620</td>\n",
       "      <td>B</td>\n",
       "    </tr>\n",
       "    <tr>\n",
       "      <th>682</th>\n",
       "      <td>1216533772</td>\n",
       "      <td>4266935830</td>\n",
       "      <td>2019-08-29</td>\n",
       "      <td>78990</td>\n",
       "      <td>B</td>\n",
       "    </tr>\n",
       "    <tr>\n",
       "      <th>662</th>\n",
       "      <td>1811671147</td>\n",
       "      <td>4266935830</td>\n",
       "      <td>2019-08-29</td>\n",
       "      <td>78990</td>\n",
       "      <td>A</td>\n",
       "    </tr>\n",
       "    <tr>\n",
       "      <th>743</th>\n",
       "      <td>3603576309</td>\n",
       "      <td>4133034833</td>\n",
       "      <td>2019-08-09</td>\n",
       "      <td>67990</td>\n",
       "      <td>A</td>\n",
       "    </tr>\n",
       "    <tr>\n",
       "      <th>1103</th>\n",
       "      <td>1348774318</td>\n",
       "      <td>1164614297</td>\n",
       "      <td>2019-08-12</td>\n",
       "      <td>66350</td>\n",
       "      <td>A</td>\n",
       "    </tr>\n",
       "    <tr>\n",
       "      <th>1099</th>\n",
       "      <td>316924019</td>\n",
       "      <td>148427295</td>\n",
       "      <td>2019-08-12</td>\n",
       "      <td>65710</td>\n",
       "      <td>A</td>\n",
       "    </tr>\n",
       "  </tbody>\n",
       "</table>\n",
       "</div>"
      ],
      "text/plain": [
       "      transactionId   visitorId       date  revenue group\n",
       "425       590470918  1920142716 2019-08-19  1294500     B\n",
       "1196     3936777065  2108080724 2019-08-15   202740     B\n",
       "858       192721366  1316129916 2019-08-27    93940     A\n",
       "1136      666610489  1307669133 2019-08-13    92550     A\n",
       "744      3668308183   888512513 2019-08-27    86620     B\n",
       "682      1216533772  4266935830 2019-08-29    78990     B\n",
       "662      1811671147  4266935830 2019-08-29    78990     A\n",
       "743      3603576309  4133034833 2019-08-09    67990     A\n",
       "1103     1348774318  1164614297 2019-08-12    66350     A\n",
       "1099      316924019   148427295 2019-08-12    65710     A"
      ]
     },
     "metadata": {},
     "output_type": "display_data"
    },
    {
     "data": {
      "image/png": "[encoded data removed]",
      "text/plain": [
       "<Figure size 432x288 with 1 Axes>"
      ]
     },
     "metadata": {
      "needs_background": "light"
     },
     "output_type": "display_data"
    }
   ],
   "source": [
    "display(orders.sort_values(by='revenue', ascending=False).head(10))\n",
    "\n",
    "plt.hist(orders['revenue']) \n",
    "plt.title('Гистограмма стоимостей заказов')\n",
    "plt.xlabel('Стоимость заказов')\n",
    "plt.ylabel('Частота')\n",
    "plt.show()"
   ]
  },
  {
   "cell_type": "code",
   "execution_count": 44,
   "metadata": {},
   "outputs": [
    {
     "data": {
      "image/png": "[encoded data removed]",
      "text/plain": [
       "<Figure size 432x288 with 1 Axes>"
      ]
     },
     "metadata": {
      "needs_background": "light"
     },
     "output_type": "display_data"
    }
   ],
   "source": [
    "x_values = pd.Series(range(0, len(orders['revenue'])))\n",
    "\n",
    "plt.scatter(x_values, orders['revenue']) \n",
    "plt.title('График стоимостей заказов')\n",
    "plt.xlabel('Стоимость заказов')\n",
    "plt.show()"
   ]
  },
  {
   "cell_type": "markdown",
   "metadata": {},
   "source": [
    "<div class=\"alert alert-info\">\n",
    "\n",
    "### 95-й и 99-й перцентили стоимости заказов"
   ]
  },
  {
   "cell_type": "code",
   "execution_count": 45,
   "metadata": {},
   "outputs": [
    {
     "name": "stdout",
     "output_type": "stream",
     "text": [
      "[18168.  28000.  58233.2]\n"
     ]
    }
   ],
   "source": [
    "print(np.percentile(orders['revenue'], [90, 95, 99])) "
   ]
  },
  {
   "cell_type": "markdown",
   "metadata": {},
   "source": [
    "🧑‍🎓 Ира: соответственно у нас меньше 1% клиентов делали заказы на сумму свыше 58тыс."
   ]
  },
  {
   "cell_type": "markdown",
   "metadata": {},
   "source": [
    "<div class=\"alert alert-info\">\n",
    "\n",
    "### Статистическая значимость различий в конверсии между группами по «сырым» данным"
   ]
  },
  {
   "cell_type": "markdown",
   "metadata": {},
   "source": [
    "🧑‍🎓 Ира: Сформулируем гипотезу:  \n",
    "        Нулевая гипотеза: различий в конверсии между группами нет.  \n",
    "        Альтернативная: различия в конверсии между группами есть."
   ]
  },
  {
   "cell_type": "code",
   "execution_count": 46,
   "metadata": {},
   "outputs": [
    {
     "data": {
      "text/html": [
       "<div>\n",
       "<style scoped>\n",
       "    .dataframe tbody tr th:only-of-type {\n",
       "        vertical-align: middle;\n",
       "    }\n",
       "\n",
       "    .dataframe tbody tr th {\n",
       "        vertical-align: top;\n",
       "    }\n",
       "\n",
       "    .dataframe thead th {\n",
       "        text-align: right;\n",
       "    }\n",
       "</style>\n",
       "<table border=\"1\" class=\"dataframe\">\n",
       "  <thead>\n",
       "    <tr style=\"text-align: right;\">\n",
       "      <th></th>\n",
       "      <th>date</th>\n",
       "      <th>visitorsPerDateA</th>\n",
       "    </tr>\n",
       "  </thead>\n",
       "  <tbody>\n",
       "    <tr>\n",
       "      <th>0</th>\n",
       "      <td>2019-08-01</td>\n",
       "      <td>719</td>\n",
       "    </tr>\n",
       "    <tr>\n",
       "      <th>1</th>\n",
       "      <td>2019-08-02</td>\n",
       "      <td>619</td>\n",
       "    </tr>\n",
       "    <tr>\n",
       "      <th>2</th>\n",
       "      <td>2019-08-03</td>\n",
       "      <td>507</td>\n",
       "    </tr>\n",
       "    <tr>\n",
       "      <th>3</th>\n",
       "      <td>2019-08-04</td>\n",
       "      <td>717</td>\n",
       "    </tr>\n",
       "    <tr>\n",
       "      <th>4</th>\n",
       "      <td>2019-08-05</td>\n",
       "      <td>756</td>\n",
       "    </tr>\n",
       "  </tbody>\n",
       "</table>\n",
       "</div>"
      ],
      "text/plain": [
       "        date  visitorsPerDateA\n",
       "0 2019-08-01               719\n",
       "1 2019-08-02               619\n",
       "2 2019-08-03               507\n",
       "3 2019-08-04               717\n",
       "4 2019-08-05               756"
      ]
     },
     "execution_count": 46,
     "metadata": {},
     "output_type": "execute_result"
    }
   ],
   "source": [
    "visitorsADaily = visitors[visitors['group'] == 'A'][['date', 'visitors']]\n",
    "\n",
    "visitorsADaily.columns = ['date', 'visitorsPerDateA']\n",
    "visitorsADaily.head()"
   ]
  },
  {
   "cell_type": "code",
   "execution_count": 47,
   "metadata": {},
   "outputs": [
    {
     "data": {
      "text/html": [
       "<div>\n",
       "<style scoped>\n",
       "    .dataframe tbody tr th:only-of-type {\n",
       "        vertical-align: middle;\n",
       "    }\n",
       "\n",
       "    .dataframe tbody tr th {\n",
       "        vertical-align: top;\n",
       "    }\n",
       "\n",
       "    .dataframe thead th {\n",
       "        text-align: right;\n",
       "    }\n",
       "</style>\n",
       "<table border=\"1\" class=\"dataframe\">\n",
       "  <thead>\n",
       "    <tr style=\"text-align: right;\">\n",
       "      <th></th>\n",
       "      <th>date</th>\n",
       "      <th>visitorsCummulativeA</th>\n",
       "    </tr>\n",
       "  </thead>\n",
       "  <tbody>\n",
       "    <tr>\n",
       "      <th>0</th>\n",
       "      <td>2019-08-01</td>\n",
       "      <td>719</td>\n",
       "    </tr>\n",
       "    <tr>\n",
       "      <th>1</th>\n",
       "      <td>2019-08-02</td>\n",
       "      <td>1338</td>\n",
       "    </tr>\n",
       "    <tr>\n",
       "      <th>2</th>\n",
       "      <td>2019-08-03</td>\n",
       "      <td>1845</td>\n",
       "    </tr>\n",
       "    <tr>\n",
       "      <th>3</th>\n",
       "      <td>2019-08-04</td>\n",
       "      <td>2562</td>\n",
       "    </tr>\n",
       "    <tr>\n",
       "      <th>4</th>\n",
       "      <td>2019-08-05</td>\n",
       "      <td>3318</td>\n",
       "    </tr>\n",
       "  </tbody>\n",
       "</table>\n",
       "</div>"
      ],
      "text/plain": [
       "        date  visitorsCummulativeA\n",
       "0 2019-08-01                   719\n",
       "1 2019-08-02                  1338\n",
       "2 2019-08-03                  1845\n",
       "3 2019-08-04                  2562\n",
       "4 2019-08-05                  3318"
      ]
     },
     "execution_count": 47,
     "metadata": {},
     "output_type": "execute_result"
    }
   ],
   "source": [
    "visitorsACummulative = cumulativeData[cumulativeData['group'] == 'A'][['date', 'visitors']].reset_index(drop=True)\n",
    "\n",
    "visitorsACummulative.columns = ['date', 'visitorsCummulativeA']\n",
    "visitorsACummulative.head()"
   ]
  },
  {
   "cell_type": "code",
   "execution_count": 48,
   "metadata": {},
   "outputs": [
    {
     "data": {
      "text/html": [
       "<div>\n",
       "<style scoped>\n",
       "    .dataframe tbody tr th:only-of-type {\n",
       "        vertical-align: middle;\n",
       "    }\n",
       "\n",
       "    .dataframe tbody tr th {\n",
       "        vertical-align: top;\n",
       "    }\n",
       "\n",
       "    .dataframe thead th {\n",
       "        text-align: right;\n",
       "    }\n",
       "</style>\n",
       "<table border=\"1\" class=\"dataframe\">\n",
       "  <thead>\n",
       "    <tr style=\"text-align: right;\">\n",
       "      <th></th>\n",
       "      <th>date</th>\n",
       "      <th>visitorsPerDateB</th>\n",
       "    </tr>\n",
       "  </thead>\n",
       "  <tbody>\n",
       "    <tr>\n",
       "      <th>31</th>\n",
       "      <td>2019-08-01</td>\n",
       "      <td>713</td>\n",
       "    </tr>\n",
       "    <tr>\n",
       "      <th>32</th>\n",
       "      <td>2019-08-02</td>\n",
       "      <td>581</td>\n",
       "    </tr>\n",
       "    <tr>\n",
       "      <th>33</th>\n",
       "      <td>2019-08-03</td>\n",
       "      <td>509</td>\n",
       "    </tr>\n",
       "    <tr>\n",
       "      <th>34</th>\n",
       "      <td>2019-08-04</td>\n",
       "      <td>770</td>\n",
       "    </tr>\n",
       "    <tr>\n",
       "      <th>35</th>\n",
       "      <td>2019-08-05</td>\n",
       "      <td>707</td>\n",
       "    </tr>\n",
       "  </tbody>\n",
       "</table>\n",
       "</div>"
      ],
      "text/plain": [
       "         date  visitorsPerDateB\n",
       "31 2019-08-01               713\n",
       "32 2019-08-02               581\n",
       "33 2019-08-03               509\n",
       "34 2019-08-04               770\n",
       "35 2019-08-05               707"
      ]
     },
     "execution_count": 48,
     "metadata": {},
     "output_type": "execute_result"
    }
   ],
   "source": [
    "visitorsBDaily = visitors[visitors['group'] == 'B'][['date', 'visitors']]\n",
    "visitorsBDaily.columns = ['date', 'visitorsPerDateB']\n",
    "visitorsBDaily.head()"
   ]
  },
  {
   "cell_type": "code",
   "execution_count": 49,
   "metadata": {},
   "outputs": [
    {
     "data": {
      "text/html": [
       "<div>\n",
       "<style scoped>\n",
       "    .dataframe tbody tr th:only-of-type {\n",
       "        vertical-align: middle;\n",
       "    }\n",
       "\n",
       "    .dataframe tbody tr th {\n",
       "        vertical-align: top;\n",
       "    }\n",
       "\n",
       "    .dataframe thead th {\n",
       "        text-align: right;\n",
       "    }\n",
       "</style>\n",
       "<table border=\"1\" class=\"dataframe\">\n",
       "  <thead>\n",
       "    <tr style=\"text-align: right;\">\n",
       "      <th></th>\n",
       "      <th>date</th>\n",
       "      <th>visitorsCummulativeB</th>\n",
       "    </tr>\n",
       "  </thead>\n",
       "  <tbody>\n",
       "    <tr>\n",
       "      <th>0</th>\n",
       "      <td>2019-08-01</td>\n",
       "      <td>713</td>\n",
       "    </tr>\n",
       "    <tr>\n",
       "      <th>1</th>\n",
       "      <td>2019-08-02</td>\n",
       "      <td>1294</td>\n",
       "    </tr>\n",
       "    <tr>\n",
       "      <th>2</th>\n",
       "      <td>2019-08-03</td>\n",
       "      <td>1803</td>\n",
       "    </tr>\n",
       "    <tr>\n",
       "      <th>3</th>\n",
       "      <td>2019-08-04</td>\n",
       "      <td>2573</td>\n",
       "    </tr>\n",
       "    <tr>\n",
       "      <th>4</th>\n",
       "      <td>2019-08-05</td>\n",
       "      <td>3280</td>\n",
       "    </tr>\n",
       "  </tbody>\n",
       "</table>\n",
       "</div>"
      ],
      "text/plain": [
       "        date  visitorsCummulativeB\n",
       "0 2019-08-01                   713\n",
       "1 2019-08-02                  1294\n",
       "2 2019-08-03                  1803\n",
       "3 2019-08-04                  2573\n",
       "4 2019-08-05                  3280"
      ]
     },
     "execution_count": 49,
     "metadata": {},
     "output_type": "execute_result"
    }
   ],
   "source": [
    "visitorsBCummulative = cumulativeData[cumulativeData['group'] == 'B'][['date', 'visitors']].reset_index(drop=True)\n",
    "\n",
    "visitorsBCummulative.columns = ['date', 'visitorsCummulativeB']\n",
    "visitorsBCummulative.head()"
   ]
  },
  {
   "cell_type": "code",
   "execution_count": 50,
   "metadata": {},
   "outputs": [
    {
     "data": {
      "text/html": [
       "<div>\n",
       "<style scoped>\n",
       "    .dataframe tbody tr th:only-of-type {\n",
       "        vertical-align: middle;\n",
       "    }\n",
       "\n",
       "    .dataframe tbody tr th {\n",
       "        vertical-align: top;\n",
       "    }\n",
       "\n",
       "    .dataframe thead th {\n",
       "        text-align: right;\n",
       "    }\n",
       "</style>\n",
       "<table border=\"1\" class=\"dataframe\">\n",
       "  <thead>\n",
       "    <tr style=\"text-align: right;\">\n",
       "      <th></th>\n",
       "      <th>date</th>\n",
       "      <th>ordersPerDateA</th>\n",
       "      <th>revenuePerDateA</th>\n",
       "    </tr>\n",
       "  </thead>\n",
       "  <tbody>\n",
       "    <tr>\n",
       "      <th>0</th>\n",
       "      <td>2019-08-01</td>\n",
       "      <td>24</td>\n",
       "      <td>148579</td>\n",
       "    </tr>\n",
       "    <tr>\n",
       "      <th>1</th>\n",
       "      <td>2019-08-02</td>\n",
       "      <td>20</td>\n",
       "      <td>93822</td>\n",
       "    </tr>\n",
       "    <tr>\n",
       "      <th>2</th>\n",
       "      <td>2019-08-03</td>\n",
       "      <td>24</td>\n",
       "      <td>112473</td>\n",
       "    </tr>\n",
       "    <tr>\n",
       "      <th>3</th>\n",
       "      <td>2019-08-04</td>\n",
       "      <td>16</td>\n",
       "      <td>70825</td>\n",
       "    </tr>\n",
       "    <tr>\n",
       "      <th>4</th>\n",
       "      <td>2019-08-05</td>\n",
       "      <td>25</td>\n",
       "      <td>124218</td>\n",
       "    </tr>\n",
       "  </tbody>\n",
       "</table>\n",
       "</div>"
      ],
      "text/plain": [
       "        date  ordersPerDateA  revenuePerDateA\n",
       "0 2019-08-01              24           148579\n",
       "1 2019-08-02              20            93822\n",
       "2 2019-08-03              24           112473\n",
       "3 2019-08-04              16            70825\n",
       "4 2019-08-05              25           124218"
      ]
     },
     "execution_count": 50,
     "metadata": {},
     "output_type": "execute_result"
    }
   ],
   "source": [
    "ordersADaily = (\n",
    "    orders[orders['group'] == 'A'][['date', 'transactionId', 'visitorId', 'revenue']]\n",
    "    .groupby('date', as_index=False)\n",
    "    .agg({'transactionId': pd.Series.nunique, 'revenue': 'sum'})\n",
    ")\n",
    "ordersADaily.columns = ['date', 'ordersPerDateA', 'revenuePerDateA']\n",
    "\n",
    "ordersADaily.head()"
   ]
  },
  {
   "cell_type": "code",
   "execution_count": 51,
   "metadata": {},
   "outputs": [
    {
     "data": {
      "text/html": [
       "<div>\n",
       "<style scoped>\n",
       "    .dataframe tbody tr th:only-of-type {\n",
       "        vertical-align: middle;\n",
       "    }\n",
       "\n",
       "    .dataframe tbody tr th {\n",
       "        vertical-align: top;\n",
       "    }\n",
       "\n",
       "    .dataframe thead th {\n",
       "        text-align: right;\n",
       "    }\n",
       "</style>\n",
       "<table border=\"1\" class=\"dataframe\">\n",
       "  <thead>\n",
       "    <tr style=\"text-align: right;\">\n",
       "      <th></th>\n",
       "      <th>date</th>\n",
       "      <th>ordersCummulativeA</th>\n",
       "      <th>revenueCummulativeA</th>\n",
       "    </tr>\n",
       "  </thead>\n",
       "  <tbody>\n",
       "    <tr>\n",
       "      <th>0</th>\n",
       "      <td>2019-08-01</td>\n",
       "      <td>24</td>\n",
       "      <td>148579</td>\n",
       "    </tr>\n",
       "    <tr>\n",
       "      <th>1</th>\n",
       "      <td>2019-08-02</td>\n",
       "      <td>44</td>\n",
       "      <td>242401</td>\n",
       "    </tr>\n",
       "    <tr>\n",
       "      <th>2</th>\n",
       "      <td>2019-08-03</td>\n",
       "      <td>68</td>\n",
       "      <td>354874</td>\n",
       "    </tr>\n",
       "    <tr>\n",
       "      <th>3</th>\n",
       "      <td>2019-08-04</td>\n",
       "      <td>84</td>\n",
       "      <td>425699</td>\n",
       "    </tr>\n",
       "    <tr>\n",
       "      <th>4</th>\n",
       "      <td>2019-08-05</td>\n",
       "      <td>109</td>\n",
       "      <td>549917</td>\n",
       "    </tr>\n",
       "  </tbody>\n",
       "</table>\n",
       "</div>"
      ],
      "text/plain": [
       "        date  ordersCummulativeA  revenueCummulativeA\n",
       "0 2019-08-01                  24               148579\n",
       "1 2019-08-02                  44               242401\n",
       "2 2019-08-03                  68               354874\n",
       "3 2019-08-04                  84               425699\n",
       "4 2019-08-05                 109               549917"
      ]
     },
     "execution_count": 51,
     "metadata": {},
     "output_type": "execute_result"
    }
   ],
   "source": [
    "ordersACummulative = cumulativeData[\n",
    "    cumulativeData['group'] == 'A'][['date', 'orders', 'revenue']\n",
    "                                                                   ].reset_index(drop=True)\n",
    "\n",
    "ordersACummulative.columns = [\n",
    "    'date',\n",
    "    'ordersCummulativeA',\n",
    "    'revenueCummulativeA',\n",
    "]\n",
    "\n",
    "ordersACummulative.head()"
   ]
  },
  {
   "cell_type": "code",
   "execution_count": 52,
   "metadata": {},
   "outputs": [
    {
     "data": {
      "text/html": [
       "<div>\n",
       "<style scoped>\n",
       "    .dataframe tbody tr th:only-of-type {\n",
       "        vertical-align: middle;\n",
       "    }\n",
       "\n",
       "    .dataframe tbody tr th {\n",
       "        vertical-align: top;\n",
       "    }\n",
       "\n",
       "    .dataframe thead th {\n",
       "        text-align: right;\n",
       "    }\n",
       "</style>\n",
       "<table border=\"1\" class=\"dataframe\">\n",
       "  <thead>\n",
       "    <tr style=\"text-align: right;\">\n",
       "      <th></th>\n",
       "      <th>date</th>\n",
       "      <th>ordersPerDateB</th>\n",
       "      <th>revenuePerDateB</th>\n",
       "    </tr>\n",
       "  </thead>\n",
       "  <tbody>\n",
       "    <tr>\n",
       "      <th>0</th>\n",
       "      <td>2019-08-01</td>\n",
       "      <td>21</td>\n",
       "      <td>101217</td>\n",
       "    </tr>\n",
       "    <tr>\n",
       "      <th>1</th>\n",
       "      <td>2019-08-02</td>\n",
       "      <td>24</td>\n",
       "      <td>165531</td>\n",
       "    </tr>\n",
       "    <tr>\n",
       "      <th>2</th>\n",
       "      <td>2019-08-03</td>\n",
       "      <td>16</td>\n",
       "      <td>114248</td>\n",
       "    </tr>\n",
       "    <tr>\n",
       "      <th>3</th>\n",
       "      <td>2019-08-04</td>\n",
       "      <td>17</td>\n",
       "      <td>108571</td>\n",
       "    </tr>\n",
       "    <tr>\n",
       "      <th>4</th>\n",
       "      <td>2019-08-05</td>\n",
       "      <td>23</td>\n",
       "      <td>92428</td>\n",
       "    </tr>\n",
       "  </tbody>\n",
       "</table>\n",
       "</div>"
      ],
      "text/plain": [
       "        date  ordersPerDateB  revenuePerDateB\n",
       "0 2019-08-01              21           101217\n",
       "1 2019-08-02              24           165531\n",
       "2 2019-08-03              16           114248\n",
       "3 2019-08-04              17           108571\n",
       "4 2019-08-05              23            92428"
      ]
     },
     "execution_count": 52,
     "metadata": {},
     "output_type": "execute_result"
    }
   ],
   "source": [
    "ordersBDaily = (\n",
    "    orders[orders['group'] == 'B'][['date', 'transactionId', 'visitorId', 'revenue']]\n",
    "    .groupby('date', as_index=False)\n",
    "    .agg({'transactionId': pd.Series.nunique, 'revenue': 'sum'})\n",
    ")\n",
    "ordersBDaily.columns = ['date', 'ordersPerDateB', 'revenuePerDateB']\n",
    "ordersBDaily.head()\n"
   ]
  },
  {
   "cell_type": "code",
   "execution_count": 53,
   "metadata": {},
   "outputs": [
    {
     "data": {
      "text/html": [
       "<div>\n",
       "<style scoped>\n",
       "    .dataframe tbody tr th:only-of-type {\n",
       "        vertical-align: middle;\n",
       "    }\n",
       "\n",
       "    .dataframe tbody tr th {\n",
       "        vertical-align: top;\n",
       "    }\n",
       "\n",
       "    .dataframe thead th {\n",
       "        text-align: right;\n",
       "    }\n",
       "</style>\n",
       "<table border=\"1\" class=\"dataframe\">\n",
       "  <thead>\n",
       "    <tr style=\"text-align: right;\">\n",
       "      <th></th>\n",
       "      <th>date</th>\n",
       "      <th>ordersCummulativeB</th>\n",
       "      <th>revenueCummulativeB</th>\n",
       "    </tr>\n",
       "  </thead>\n",
       "  <tbody>\n",
       "    <tr>\n",
       "      <th>0</th>\n",
       "      <td>2019-08-01</td>\n",
       "      <td>21</td>\n",
       "      <td>101217</td>\n",
       "    </tr>\n",
       "    <tr>\n",
       "      <th>1</th>\n",
       "      <td>2019-08-02</td>\n",
       "      <td>45</td>\n",
       "      <td>266748</td>\n",
       "    </tr>\n",
       "    <tr>\n",
       "      <th>2</th>\n",
       "      <td>2019-08-03</td>\n",
       "      <td>61</td>\n",
       "      <td>380996</td>\n",
       "    </tr>\n",
       "    <tr>\n",
       "      <th>3</th>\n",
       "      <td>2019-08-04</td>\n",
       "      <td>78</td>\n",
       "      <td>489567</td>\n",
       "    </tr>\n",
       "    <tr>\n",
       "      <th>4</th>\n",
       "      <td>2019-08-05</td>\n",
       "      <td>101</td>\n",
       "      <td>581995</td>\n",
       "    </tr>\n",
       "  </tbody>\n",
       "</table>\n",
       "</div>"
      ],
      "text/plain": [
       "        date  ordersCummulativeB  revenueCummulativeB\n",
       "0 2019-08-01                  21               101217\n",
       "1 2019-08-02                  45               266748\n",
       "2 2019-08-03                  61               380996\n",
       "3 2019-08-04                  78               489567\n",
       "4 2019-08-05                 101               581995"
      ]
     },
     "execution_count": 53,
     "metadata": {},
     "output_type": "execute_result"
    }
   ],
   "source": [
    "ordersBCummulative = cumulativeData[\n",
    "    cumulativeData['group'] == 'B'][['date', 'orders', 'revenue']\n",
    "                                                                   ].reset_index(drop=True)\n",
    "\n",
    "\n",
    "ordersBCummulative.columns = [\n",
    "    'date',\n",
    "    'ordersCummulativeB',\n",
    "    'revenueCummulativeB',\n",
    "]\n",
    "ordersBCummulative.head()"
   ]
  },
  {
   "cell_type": "code",
   "execution_count": 54,
   "metadata": {},
   "outputs": [
    {
     "data": {
      "text/html": [
       "<div>\n",
       "<style scoped>\n",
       "    .dataframe tbody tr th:only-of-type {\n",
       "        vertical-align: middle;\n",
       "    }\n",
       "\n",
       "    .dataframe tbody tr th {\n",
       "        vertical-align: top;\n",
       "    }\n",
       "\n",
       "    .dataframe thead th {\n",
       "        text-align: right;\n",
       "    }\n",
       "</style>\n",
       "<table border=\"1\" class=\"dataframe\">\n",
       "  <thead>\n",
       "    <tr style=\"text-align: right;\">\n",
       "      <th></th>\n",
       "      <th>date</th>\n",
       "      <th>ordersPerDateA</th>\n",
       "      <th>revenuePerDateA</th>\n",
       "      <th>ordersPerDateB</th>\n",
       "      <th>revenuePerDateB</th>\n",
       "      <th>ordersCummulativeA</th>\n",
       "      <th>revenueCummulativeA</th>\n",
       "      <th>ordersCummulativeB</th>\n",
       "      <th>revenueCummulativeB</th>\n",
       "      <th>visitorsPerDateA</th>\n",
       "      <th>visitorsPerDateB</th>\n",
       "      <th>visitorsCummulativeA</th>\n",
       "      <th>visitorsCummulativeB</th>\n",
       "    </tr>\n",
       "  </thead>\n",
       "  <tbody>\n",
       "    <tr>\n",
       "      <th>0</th>\n",
       "      <td>2019-08-01</td>\n",
       "      <td>24</td>\n",
       "      <td>148579</td>\n",
       "      <td>21</td>\n",
       "      <td>101217</td>\n",
       "      <td>24</td>\n",
       "      <td>148579</td>\n",
       "      <td>21</td>\n",
       "      <td>101217</td>\n",
       "      <td>719</td>\n",
       "      <td>713</td>\n",
       "      <td>719</td>\n",
       "      <td>713</td>\n",
       "    </tr>\n",
       "    <tr>\n",
       "      <th>1</th>\n",
       "      <td>2019-08-02</td>\n",
       "      <td>20</td>\n",
       "      <td>93822</td>\n",
       "      <td>24</td>\n",
       "      <td>165531</td>\n",
       "      <td>44</td>\n",
       "      <td>242401</td>\n",
       "      <td>45</td>\n",
       "      <td>266748</td>\n",
       "      <td>619</td>\n",
       "      <td>581</td>\n",
       "      <td>1338</td>\n",
       "      <td>1294</td>\n",
       "    </tr>\n",
       "    <tr>\n",
       "      <th>2</th>\n",
       "      <td>2019-08-03</td>\n",
       "      <td>24</td>\n",
       "      <td>112473</td>\n",
       "      <td>16</td>\n",
       "      <td>114248</td>\n",
       "      <td>68</td>\n",
       "      <td>354874</td>\n",
       "      <td>61</td>\n",
       "      <td>380996</td>\n",
       "      <td>507</td>\n",
       "      <td>509</td>\n",
       "      <td>1845</td>\n",
       "      <td>1803</td>\n",
       "    </tr>\n",
       "    <tr>\n",
       "      <th>3</th>\n",
       "      <td>2019-08-04</td>\n",
       "      <td>16</td>\n",
       "      <td>70825</td>\n",
       "      <td>17</td>\n",
       "      <td>108571</td>\n",
       "      <td>84</td>\n",
       "      <td>425699</td>\n",
       "      <td>78</td>\n",
       "      <td>489567</td>\n",
       "      <td>717</td>\n",
       "      <td>770</td>\n",
       "      <td>2562</td>\n",
       "      <td>2573</td>\n",
       "    </tr>\n",
       "    <tr>\n",
       "      <th>4</th>\n",
       "      <td>2019-08-05</td>\n",
       "      <td>25</td>\n",
       "      <td>124218</td>\n",
       "      <td>23</td>\n",
       "      <td>92428</td>\n",
       "      <td>109</td>\n",
       "      <td>549917</td>\n",
       "      <td>101</td>\n",
       "      <td>581995</td>\n",
       "      <td>756</td>\n",
       "      <td>707</td>\n",
       "      <td>3318</td>\n",
       "      <td>3280</td>\n",
       "    </tr>\n",
       "  </tbody>\n",
       "</table>\n",
       "</div>"
      ],
      "text/plain": [
       "        date  ordersPerDateA  revenuePerDateA  ordersPerDateB  \\\n",
       "0 2019-08-01              24           148579              21   \n",
       "1 2019-08-02              20            93822              24   \n",
       "2 2019-08-03              24           112473              16   \n",
       "3 2019-08-04              16            70825              17   \n",
       "4 2019-08-05              25           124218              23   \n",
       "\n",
       "   revenuePerDateB  ordersCummulativeA  revenueCummulativeA  \\\n",
       "0           101217                  24               148579   \n",
       "1           165531                  44               242401   \n",
       "2           114248                  68               354874   \n",
       "3           108571                  84               425699   \n",
       "4            92428                 109               549917   \n",
       "\n",
       "   ordersCummulativeB  revenueCummulativeB  visitorsPerDateA  \\\n",
       "0                  21               101217               719   \n",
       "1                  45               266748               619   \n",
       "2                  61               380996               507   \n",
       "3                  78               489567               717   \n",
       "4                 101               581995               756   \n",
       "\n",
       "   visitorsPerDateB  visitorsCummulativeA  visitorsCummulativeB  \n",
       "0               713                   719                   713  \n",
       "1               581                  1338                  1294  \n",
       "2               509                  1845                  1803  \n",
       "3               770                  2562                  2573  \n",
       "4               707                  3318                  3280  "
      ]
     },
     "execution_count": 54,
     "metadata": {},
     "output_type": "execute_result"
    }
   ],
   "source": [
    "data = (\n",
    "    ordersADaily.merge(\n",
    "        ordersBDaily, left_on='date', right_on='date', how='left'\n",
    "    )\n",
    "    .merge(ordersACummulative, left_on='date', right_on='date', how='left')\n",
    "    .merge(ordersBCummulative, left_on='date', right_on='date', how='left')\n",
    "    .merge(visitorsADaily, left_on='date', right_on='date', how='left')\n",
    "    .merge(visitorsBDaily, left_on='date', right_on='date', how='left')\n",
    "    .merge(visitorsACummulative, left_on='date', right_on='date', how='left')\n",
    "    .merge(visitorsBCummulative, left_on='date', right_on='date', how='left')\n",
    ")\n",
    "\n",
    "data.head(5)"
   ]
  },
  {
   "cell_type": "code",
   "execution_count": 55,
   "metadata": {},
   "outputs": [],
   "source": [
    "ordersByUsersA = (\n",
    "    orders[orders['group'] == 'A']\n",
    "    .groupby('visitorId', as_index=False)\n",
    "    .agg({'transactionId': pd.Series.nunique})\n",
    ")\n",
    "\n",
    "ordersByUsersA.columns = ['visitorId', 'orders']"
   ]
  },
  {
   "cell_type": "code",
   "execution_count": 56,
   "metadata": {},
   "outputs": [],
   "source": [
    "ordersByUsersB = (\n",
    "    orders[orders['group'] == 'B']\n",
    "    .groupby('visitorId', as_index=False)\n",
    "    .agg({'transactionId': pd.Series.nunique})\n",
    ")\n",
    "\n",
    "ordersByUsersB.columns = ['visitorId', 'orders'] \n"
   ]
  },
  {
   "cell_type": "code",
   "execution_count": 57,
   "metadata": {},
   "outputs": [
    {
     "data": {
      "text/plain": [
       "0    1\n",
       "1    1\n",
       "2    1\n",
       "3    1\n",
       "4    1\n",
       "Name: orders, dtype: int64"
      ]
     },
     "execution_count": 57,
     "metadata": {},
     "output_type": "execute_result"
    }
   ],
   "source": [
    "sampleA = pd.concat(\n",
    "    [ordersByUsersA['orders'],pd.Series(\n",
    "        0, index=np.arange(data['visitorsPerDateA'].sum() - len(ordersByUsersA['orders'])), name='orders'\n",
    "    )],axis=0\n",
    ")\n",
    "sampleA.head()"
   ]
  },
  {
   "cell_type": "code",
   "execution_count": 58,
   "metadata": {},
   "outputs": [],
   "source": [
    "sampleB = pd.concat(\n",
    "    [ordersByUsersB['orders'],pd.Series(\n",
    "        0, index=np.arange(data['visitorsPerDateB'].sum() - len(ordersByUsersB['orders'])), name='orders'\n",
    "    )],axis=0\n",
    ") \n"
   ]
  },
  {
   "cell_type": "code",
   "execution_count": 59,
   "metadata": {},
   "outputs": [
    {
     "name": "stdout",
     "output_type": "stream",
     "text": [
      "0.017\n",
      "Отвергаем нулевую гипотезу\n"
     ]
    }
   ],
   "source": [
    "avg_conv = stats.mannwhitneyu(sampleA, sampleB)[1]\n",
    "\n",
    "print('{0:.3f}'.format(avg_conv))\n",
    "\n",
    "if avg_conv > 0.05:\n",
    "    print('Нулевая гипотеза не отвергается')\n",
    "else:\n",
    "    print('Отвергаем нулевую гипотезу')"
   ]
  },
  {
   "cell_type": "code",
   "execution_count": 60,
   "metadata": {},
   "outputs": [
    {
     "name": "stdout",
     "output_type": "stream",
     "text": [
      "Прирост конверсии группы В относительно группы А = 0.138\n"
     ]
    }
   ],
   "source": [
    "print('Прирост конверсии группы В относительно группы А = {0:.3f}'.format(sampleB.mean() / sampleA.mean() - 1))"
   ]
  },
  {
   "cell_type": "markdown",
   "metadata": {},
   "source": [
    "🧑‍🎓 Ира: Различия между группами есть, так же виден прирост конверсии группы В относительно группы А на 14%"
   ]
  },
  {
   "cell_type": "markdown",
   "metadata": {},
   "source": [
    "<div class=\"alert alert-info\">\n",
    "\n",
    "### Статистическая значимость различий в среднем чеке заказа между группами по «сырым» данным"
   ]
  },
  {
   "cell_type": "markdown",
   "metadata": {},
   "source": [
    "🧑‍🎓 Ира:  \n",
    "    Нулевая гипотеза: различий в среднем чеке между группами нет.  \n",
    "    Альтернативная гипотеза: различия в среднем чеке между группами есть."
   ]
  },
  {
   "cell_type": "code",
   "execution_count": 61,
   "metadata": {},
   "outputs": [
    {
     "name": "stdout",
     "output_type": "stream",
     "text": [
      "0.729\n",
      "Нулевая гипотеза не отвергается\n"
     ]
    }
   ],
   "source": [
    "avg_bil = stats.mannwhitneyu(orders[orders['group']=='A']['revenue'], orders[orders['group']=='B']['revenue'])[1]\n",
    "print('{0:.3f}'.format(avg_bil))\n",
    "\n",
    "if avg_bil > 0.05:\n",
    "    print('Нулевая гипотеза не отвергается')\n",
    "else:\n",
    "    print('Отвергаем нулевую гипотезу')\n"
   ]
  },
  {
   "cell_type": "code",
   "execution_count": 62,
   "metadata": {},
   "outputs": [
    {
     "name": "stdout",
     "output_type": "stream",
     "text": [
      "Средний чек группы В выше среднего чека группы А на 25.9%\n"
     ]
    }
   ],
   "source": [
    "div_bil = orders[orders['group']=='B']['revenue'].mean() / orders[orders['group']=='A']['revenue'].mean() - 1\n",
    "\n",
    "\n",
    "if div_bil > 0:\n",
    "    print('Средний чек группы В выше среднего чека группы А на {0:.1%}'.format(div_bil))\n",
    "else:\n",
    "    print('Средний чек группы В ниже среднего чека группы А на {0:.1%}'.format(div_bil))\n"
   ]
  },
  {
   "cell_type": "markdown",
   "metadata": {},
   "source": [
    "🧑‍🎓 Ира: гипотеза о равенстве средних чеков не отвергается, но при этом мы видим разницу между чеками в 26%, возможно дело в аномальных заказах"
   ]
  },
  {
   "cell_type": "markdown",
   "metadata": {},
   "source": [
    "<div class=\"alert alert-info\">\n",
    "\n",
    "### Статистическая значимость различий в конверсии между группами по «очищенным» данным"
   ]
  },
  {
   "cell_type": "markdown",
   "metadata": {},
   "source": [
    "<div class=\"alert alert-info\">\n",
    "\n",
    "#### Очистим данные от аномальных значений"
   ]
  },
  {
   "cell_type": "markdown",
   "metadata": {},
   "source": [
    "🧑‍🎓 Ира: Примем за аномальных клиентов тех, кто совершал более 3 заказов или заказы на сумму свыше 30тыс"
   ]
  },
  {
   "cell_type": "code",
   "execution_count": 63,
   "metadata": {},
   "outputs": [
    {
     "data": {
      "text/plain": [
       "74"
      ]
     },
     "metadata": {},
     "output_type": "display_data"
    },
    {
     "data": {
      "text/plain": [
       "1099    148427295\n",
       "18      199603092\n",
       "928     204675465\n",
       "23      237748145\n",
       "37      249864742\n",
       "Name: visitorId, dtype: int64"
      ]
     },
     "execution_count": 63,
     "metadata": {},
     "output_type": "execute_result"
    }
   ],
   "source": [
    "usersWithManyOrders = pd.concat(\n",
    "    [\n",
    "        ordersByUsersA[ordersByUsersA['orders'] > np.percentile(\n",
    "            ordersByUsers['orders'], [95, 99]\n",
    "        )[0]\n",
    "                      ]['visitorId'],\n",
    "        ordersByUsersB[ordersByUsersB['orders'] > np.percentile(\n",
    "            ordersByUsers['orders'], [95, 99]\n",
    "        )[0]\n",
    "                      ]['visitorId'],\n",
    "    ],\n",
    "    axis=0,\n",
    ")\n",
    "\n",
    "usersWithExpensiveOrders = orders[orders['revenue'] > np.percentile(\n",
    "    orders['revenue'], [95, 99]\n",
    ")[0]\n",
    "                                 ]['visitorId']\n",
    "\n",
    "abnormalUsers = (\n",
    "    pd.concat([usersWithManyOrders, usersWithExpensiveOrders], axis=0)\n",
    "    .drop_duplicates()\n",
    "    .sort_values()\n",
    ")\n",
    "\n",
    "display(abnormalUsers.shape[0])\n",
    "abnormalUsers.head()"
   ]
  },
  {
   "cell_type": "code",
   "execution_count": 64,
   "metadata": {},
   "outputs": [],
   "source": [
    "sampleAFiltered = pd.concat(\n",
    "    [\n",
    "        ordersByUsersA[\n",
    "            np.logical_not(ordersByUsersA['visitorId'].isin(abnormalUsers))\n",
    "        ]['orders'],\n",
    "        pd.Series(\n",
    "            0,\n",
    "            index=np.arange(\n",
    "                data['visitorsPerDateA'].sum() - len(ordersByUsersA['orders'])\n",
    "            ),\n",
    "            name='orders',\n",
    "        ),\n",
    "    ],\n",
    "    axis=0,\n",
    ")"
   ]
  },
  {
   "cell_type": "code",
   "execution_count": 65,
   "metadata": {},
   "outputs": [],
   "source": [
    "sampleBFiltered = pd.concat(\n",
    "    [\n",
    "        ordersByUsersB[\n",
    "            np.logical_not(ordersByUsersB['visitorId'].isin(abnormalUsers))\n",
    "        ]['orders'],\n",
    "        pd.Series(\n",
    "            0,\n",
    "            index=np.arange(\n",
    "                data['visitorsPerDateB'].sum() - len(ordersByUsersB['orders'])\n",
    "            ),\n",
    "            name='orders',\n",
    "        ),\n",
    "    ],\n",
    "    axis=0,\n",
    ")"
   ]
  },
  {
   "cell_type": "markdown",
   "metadata": {},
   "source": [
    "<div class=\"alert alert-info\">\n",
    "\n",
    "#### Посчитаем статистическую значимость"
   ]
  },
  {
   "cell_type": "code",
   "execution_count": 66,
   "metadata": {},
   "outputs": [
    {
     "name": "stdout",
     "output_type": "stream",
     "text": [
      "0.013\n",
      "Отвергаем нулевую гипотезу\n"
     ]
    }
   ],
   "source": [
    "filtered_avg_conv = stats.mannwhitneyu(sampleAFiltered, sampleBFiltered)[1]\n",
    "\n",
    "print('{0:.3f}'.format(filtered_avg_conv))\n",
    "\n",
    "if filtered_avg_conv > 0.05:\n",
    "    print('Нулевая гипотеза не отвергается')\n",
    "else:\n",
    "    print('Отвергаем нулевую гипотезу')\n"
   ]
  },
  {
   "cell_type": "code",
   "execution_count": 67,
   "metadata": {},
   "outputs": [
    {
     "name": "stdout",
     "output_type": "stream",
     "text": [
      "Прирост конверсии группы В относительно группы А по очищенным данным = 0.173\n"
     ]
    }
   ],
   "source": [
    "print('Прирост конверсии группы В относительно группы А по очищенным данным = {0:.3f}'.format(\n",
    "    sampleBFiltered.mean() / sampleAFiltered.mean() - 1)\n",
    "     )"
   ]
  },
  {
   "cell_type": "markdown",
   "metadata": {},
   "source": [
    "<div class=\"alert alert-info\">\n",
    "\n",
    "### Статистическая значимость различий в среднем чеке заказа между группами по «очищенным» данным"
   ]
  },
  {
   "cell_type": "code",
   "execution_count": 68,
   "metadata": {},
   "outputs": [
    {
     "name": "stdout",
     "output_type": "stream",
     "text": [
      "0.738\n",
      "Нулевая гипотеза не отвергается\n"
     ]
    }
   ],
   "source": [
    "filtered_avg_bil = stats.mannwhitneyu(\n",
    "            orders[\n",
    "                np.logical_and(\n",
    "                    orders['group'] == 'A',\n",
    "                    np.logical_not(orders['visitorId'].isin(abnormalUsers)),\n",
    "                )\n",
    "            ]['revenue'],\n",
    "            orders[\n",
    "                np.logical_and(\n",
    "                    orders['group'] == 'B',\n",
    "                    np.logical_not(orders['visitorId'].isin(abnormalUsers)),\n",
    "                )\n",
    "            ]['revenue'],\n",
    "        )[1]\n",
    "\n",
    "print('{0:.3f}'.format(filtered_avg_bil))\n",
    "\n",
    "if filtered_avg_bil > 0.05:\n",
    "    print('Нулевая гипотеза не отвергается')\n",
    "else:\n",
    "    print('Отвергаем нулевую гипотезу')\n"
   ]
  },
  {
   "cell_type": "code",
   "execution_count": 69,
   "metadata": {},
   "outputs": [
    {
     "name": "stdout",
     "output_type": "stream",
     "text": [
      "Средний чек группы В ниже среднего чека группы А на -2.0%\n"
     ]
    }
   ],
   "source": [
    "filtered_div_bil = ( orders[\n",
    "            np.logical_and(\n",
    "                orders['group'] == 'B',\n",
    "                np.logical_not(orders['visitorId'].isin(abnormalUsers)),\n",
    "            )\n",
    "        ]['revenue'].mean()\n",
    "        / orders[\n",
    "            np.logical_and(\n",
    "                orders['group'] == 'A',\n",
    "                np.logical_not(orders['visitorId'].isin(abnormalUsers)),\n",
    "            )\n",
    "        ]['revenue'].mean() - 1 )\n",
    "\n",
    "if filtered_div_bil > 0:\n",
    "    print('Средний чек группы В выше среднего чека группы А на {0:.1%}'.format(filtered_div_bil))\n",
    "else:\n",
    "    print('Средний чек группы В ниже среднего чека группы А на {0:.1%}'.format(filtered_div_bil))\n"
   ]
  },
  {
   "cell_type": "markdown",
   "metadata": {},
   "source": [
    "<div class=\"alert alert-info\">\n",
    "\n",
    "## Общий вывод"
   ]
  },
  {
   "cell_type": "code",
   "execution_count": 70,
   "metadata": {},
   "outputs": [
    {
     "name": "stdout",
     "output_type": "stream",
     "text": [
      "p-value конверсии по сырым данным 0.017\n",
      "p-value конверсии по очищенным данным 0.013\n",
      "\n",
      "Прирост конверсии группы В относительно группы А по сырым данным = 0.138\n",
      "Прирост конверсии группы В относительно группы А по очищенным данным = 0.173\n",
      "\n",
      "p-value среднего чека по сырым данным 0.729\n",
      "p-value среднего чека по очищенным данным 0.738\n",
      "\n",
      "Отношение среднего чека группы В к среднему чеку группы А по сырым данным 25.9%\n",
      "Отношение среднего чека группы В к среднему чеку группы А по очищенным данным -2.0%\n"
     ]
    }
   ],
   "source": [
    "print('p-value конверсии по сырым данным {0:.3f}'.format(avg_conv))\n",
    "print('p-value конверсии по очищенным данным {0:.3f}'.format(filtered_avg_conv))\n",
    "print()\n",
    "\n",
    "print('Прирост конверсии группы В относительно группы А по сырым данным = {0:.3f}'.format(\n",
    "    sampleB.mean() / sampleA.mean() - 1)\n",
    "     )\n",
    "\n",
    "print('Прирост конверсии группы В относительно группы А по очищенным данным = {0:.3f}'.format(\n",
    "    sampleBFiltered.mean() / sampleAFiltered.mean() - 1)\n",
    "     )\n",
    "print()\n",
    "\n",
    "print('p-value среднего чека по сырым данным {0:.3f}'.format(avg_bil))\n",
    "print('p-value среднего чека по очищенным данным {0:.3f}'.format(filtered_avg_bil))\n",
    "print()\n",
    "\n",
    "print('Отношение среднего чека группы В к среднему чеку группы А по сырым данным {0:.1%}'.format(div_bil))\n",
    "print('Отношение среднего чека группы В к среднему чеку группы А по очищенным данным {0:.1%}'.format(filtered_div_bil))"
   ]
  },
  {
   "cell_type": "markdown",
   "metadata": {},
   "source": [
    "<div style=\"border:solid green 2px; padding: 20px\">\n",
    "    \n",
    "- статистической значимости в различии конверсий между группами нет ни по сырым ни по очищенным данным\n",
    "- прирост конверсии после очистки данных практически не изменился\n",
    "- есть статистическая значимость в различии по среднему чеку как по сырым, так и по очищенным данным, но после удаления аномалий прирост группы В резко сменился проседанием\n",
    "    \n",
    "\n",
    "    Явный прирост в конверсии виден и на графиках, и по цифрам.\n",
    "    Проседание среднего чека на 2% у группы В может говорить нам об аномально крупном заказе. При этом график относительного прироста среднего чека так же говорит нам о том, что чек практически всегда выше у группы В. \n",
    "    Мои рекомендаци: Остановить тест и признать его успешным"
   ]
  }
 ],
 "metadata": {
  "ExecuteTimeLog": [
   {
    "duration": 40,
    "start_time": "2022-06-14T19:20:15.457Z"
   },
   {
    "duration": 828,
    "start_time": "2022-06-14T19:20:34.558Z"
   },
   {
    "duration": 126,
    "start_time": "2022-06-14T19:20:35.388Z"
   },
   {
    "duration": 4220,
    "start_time": "2022-06-14T19:21:16.885Z"
   },
   {
    "duration": 108,
    "start_time": "2022-06-14T19:21:27.255Z"
   },
   {
    "duration": 3,
    "start_time": "2022-06-14T19:21:40.299Z"
   },
   {
    "duration": 19,
    "start_time": "2022-06-14T19:22:09.103Z"
   },
   {
    "duration": 13,
    "start_time": "2022-06-14T19:22:55.303Z"
   },
   {
    "duration": 12,
    "start_time": "2022-06-14T19:23:09.655Z"
   },
   {
    "duration": 3,
    "start_time": "2022-06-14T19:25:07.012Z"
   },
   {
    "duration": 13,
    "start_time": "2022-06-14T19:25:08.671Z"
   },
   {
    "duration": 13,
    "start_time": "2022-06-14T19:25:13.504Z"
   },
   {
    "duration": 3,
    "start_time": "2022-06-14T19:25:27.531Z"
   },
   {
    "duration": 15,
    "start_time": "2022-06-14T19:25:28.773Z"
   },
   {
    "duration": 20,
    "start_time": "2022-06-14T19:25:32.301Z"
   },
   {
    "duration": 15,
    "start_time": "2022-06-14T19:25:35.203Z"
   },
   {
    "duration": 3,
    "start_time": "2022-06-14T19:40:40.363Z"
   },
   {
    "duration": 131,
    "start_time": "2022-06-14T19:41:31.411Z"
   },
   {
    "duration": 441,
    "start_time": "2022-06-14T19:41:56.014Z"
   },
   {
    "duration": 49,
    "start_time": "2022-06-14T19:41:59.589Z"
   },
   {
    "duration": 21,
    "start_time": "2022-06-14T19:42:13.533Z"
   },
   {
    "duration": 5,
    "start_time": "2022-06-14T19:42:28.202Z"
   },
   {
    "duration": 10,
    "start_time": "2022-06-14T19:42:50.129Z"
   },
   {
    "duration": 31,
    "start_time": "2022-06-14T19:46:05.971Z"
   },
   {
    "duration": 24,
    "start_time": "2022-06-14T19:48:14.811Z"
   },
   {
    "duration": 10,
    "start_time": "2022-06-14T19:59:15.409Z"
   },
   {
    "duration": 23,
    "start_time": "2022-06-14T20:02:13.357Z"
   },
   {
    "duration": 11,
    "start_time": "2022-06-14T20:05:20.226Z"
   },
   {
    "duration": 11,
    "start_time": "2022-06-14T20:06:12.791Z"
   },
   {
    "duration": 14,
    "start_time": "2022-06-14T20:06:34.721Z"
   },
   {
    "duration": 9,
    "start_time": "2022-06-14T20:06:44.512Z"
   },
   {
    "duration": 54,
    "start_time": "2022-06-15T14:49:07.435Z"
   },
   {
    "duration": 37,
    "start_time": "2022-06-15T14:54:27.531Z"
   },
   {
    "duration": 814,
    "start_time": "2022-06-15T14:54:34.161Z"
   },
   {
    "duration": 170,
    "start_time": "2022-06-15T14:54:35.510Z"
   },
   {
    "duration": 3,
    "start_time": "2022-06-15T14:54:35.874Z"
   },
   {
    "duration": 21,
    "start_time": "2022-06-15T14:54:36.472Z"
   },
   {
    "duration": 16,
    "start_time": "2022-06-15T14:54:38.457Z"
   },
   {
    "duration": 15,
    "start_time": "2022-06-15T14:54:38.899Z"
   },
   {
    "duration": 3,
    "start_time": "2022-06-15T14:54:41.259Z"
   },
   {
    "duration": 4,
    "start_time": "2022-06-15T14:54:41.642Z"
   },
   {
    "duration": 11,
    "start_time": "2022-06-15T14:54:41.984Z"
   },
   {
    "duration": 11,
    "start_time": "2022-06-15T14:54:45.553Z"
   },
   {
    "duration": 10,
    "start_time": "2022-06-15T14:54:47.874Z"
   },
   {
    "duration": 10,
    "start_time": "2022-06-15T14:54:50.837Z"
   },
   {
    "duration": 5,
    "start_time": "2022-06-15T14:54:55.136Z"
   },
   {
    "duration": 4,
    "start_time": "2022-06-15T14:55:31.581Z"
   },
   {
    "duration": 56,
    "start_time": "2022-06-15T14:55:44.460Z"
   },
   {
    "duration": 18,
    "start_time": "2022-06-15T14:56:42.453Z"
   },
   {
    "duration": 11,
    "start_time": "2022-06-15T14:56:57.710Z"
   },
   {
    "duration": 6,
    "start_time": "2022-06-15T14:57:48.703Z"
   },
   {
    "duration": 135,
    "start_time": "2022-06-15T14:58:33.505Z"
   },
   {
    "duration": 99,
    "start_time": "2022-06-15T14:59:38.679Z"
   },
   {
    "duration": 9,
    "start_time": "2022-06-15T15:00:24.761Z"
   },
   {
    "duration": 4,
    "start_time": "2022-06-15T15:01:14.866Z"
   },
   {
    "duration": 5,
    "start_time": "2022-06-15T15:01:16.829Z"
   },
   {
    "duration": 8,
    "start_time": "2022-06-15T15:02:06.597Z"
   },
   {
    "duration": 364,
    "start_time": "2022-06-15T15:02:18.562Z"
   },
   {
    "duration": 203,
    "start_time": "2022-06-15T15:02:22.132Z"
   },
   {
    "duration": 183,
    "start_time": "2022-06-15T15:04:26.968Z"
   },
   {
    "duration": 153,
    "start_time": "2022-06-15T15:04:35.470Z"
   },
   {
    "duration": 113,
    "start_time": "2022-06-15T15:07:53.486Z"
   },
   {
    "duration": 141,
    "start_time": "2022-06-15T15:08:08.110Z"
   },
   {
    "duration": 6,
    "start_time": "2022-06-15T15:10:42.944Z"
   },
   {
    "duration": 295,
    "start_time": "2022-06-15T15:12:02.007Z"
   },
   {
    "duration": 4,
    "start_time": "2022-06-15T15:14:51.287Z"
   },
   {
    "duration": 4,
    "start_time": "2022-06-15T15:15:00.020Z"
   },
   {
    "duration": 3,
    "start_time": "2022-06-15T15:15:06.872Z"
   },
   {
    "duration": 149,
    "start_time": "2022-06-15T15:15:36.458Z"
   },
   {
    "duration": 4,
    "start_time": "2022-06-15T15:19:14.156Z"
   },
   {
    "duration": 137,
    "start_time": "2022-06-15T15:20:11.951Z"
   },
   {
    "duration": 9,
    "start_time": "2022-06-15T15:23:40.513Z"
   },
   {
    "duration": 219,
    "start_time": "2022-06-15T15:24:41.232Z"
   },
   {
    "duration": 409,
    "start_time": "2022-06-15T15:26:01.328Z"
   },
   {
    "duration": 275,
    "start_time": "2022-06-15T15:26:16.997Z"
   },
   {
    "duration": 214,
    "start_time": "2022-06-15T15:26:24.852Z"
   },
   {
    "duration": 41,
    "start_time": "2022-06-15T15:26:58.817Z"
   },
   {
    "duration": 130,
    "start_time": "2022-06-15T15:27:04.392Z"
   },
   {
    "duration": 276,
    "start_time": "2022-06-15T15:28:13.356Z"
   },
   {
    "duration": 260,
    "start_time": "2022-06-15T15:28:18.871Z"
   },
   {
    "duration": 150,
    "start_time": "2022-06-15T15:28:32.201Z"
   },
   {
    "duration": 33,
    "start_time": "2022-06-15T15:28:36.822Z"
   },
   {
    "duration": 152,
    "start_time": "2022-06-15T15:28:42.082Z"
   },
   {
    "duration": 268,
    "start_time": "2022-06-15T15:28:48.782Z"
   },
   {
    "duration": 147,
    "start_time": "2022-06-15T15:28:55.508Z"
   },
   {
    "duration": 271,
    "start_time": "2022-06-15T15:30:35.570Z"
   },
   {
    "duration": 58,
    "start_time": "2022-06-16T14:46:23.020Z"
   },
   {
    "duration": 1226,
    "start_time": "2022-06-16T14:46:29.489Z"
   },
   {
    "duration": 271,
    "start_time": "2022-06-16T14:46:30.717Z"
   },
   {
    "duration": 4,
    "start_time": "2022-06-16T14:46:30.989Z"
   },
   {
    "duration": 50,
    "start_time": "2022-06-16T14:46:30.994Z"
   },
   {
    "duration": 32,
    "start_time": "2022-06-16T14:46:31.047Z"
   },
   {
    "duration": 69,
    "start_time": "2022-06-16T14:46:31.081Z"
   },
   {
    "duration": 44,
    "start_time": "2022-06-16T14:46:31.152Z"
   },
   {
    "duration": 15,
    "start_time": "2022-06-16T14:46:31.199Z"
   },
   {
    "duration": 12,
    "start_time": "2022-06-16T14:46:31.349Z"
   },
   {
    "duration": 11,
    "start_time": "2022-06-16T14:46:32.206Z"
   },
   {
    "duration": 13,
    "start_time": "2022-06-16T14:46:32.876Z"
   },
   {
    "duration": 18,
    "start_time": "2022-06-16T14:46:33.561Z"
   },
   {
    "duration": 6,
    "start_time": "2022-06-16T14:46:34.210Z"
   },
   {
    "duration": 172,
    "start_time": "2022-06-16T14:46:34.429Z"
   },
   {
    "duration": 119,
    "start_time": "2022-06-16T14:46:34.678Z"
   },
   {
    "duration": 10,
    "start_time": "2022-06-16T14:46:34.890Z"
   },
   {
    "duration": 5,
    "start_time": "2022-06-16T14:46:35.545Z"
   },
   {
    "duration": 7,
    "start_time": "2022-06-16T14:46:36.017Z"
   },
   {
    "duration": 274,
    "start_time": "2022-06-16T14:46:36.362Z"
   },
   {
    "duration": 186,
    "start_time": "2022-06-16T14:46:37.549Z"
   },
   {
    "duration": 8,
    "start_time": "2022-06-16T14:46:38.682Z"
   },
   {
    "duration": 350,
    "start_time": "2022-06-16T14:46:39.013Z"
   },
   {
    "duration": 4,
    "start_time": "2022-06-16T14:46:40.211Z"
   },
   {
    "duration": 4,
    "start_time": "2022-06-16T14:46:40.428Z"
   },
   {
    "duration": 4,
    "start_time": "2022-06-16T14:46:40.931Z"
   },
   {
    "duration": 198,
    "start_time": "2022-06-16T14:46:41.518Z"
   },
   {
    "duration": 7,
    "start_time": "2022-06-16T14:46:43.197Z"
   },
   {
    "duration": 304,
    "start_time": "2022-06-16T14:46:43.883Z"
   },
   {
    "duration": 9,
    "start_time": "2022-06-16T14:46:45.493Z"
   },
   {
    "duration": 109,
    "start_time": "2022-06-16T14:47:02.203Z"
   },
   {
    "duration": 106,
    "start_time": "2022-06-16T14:47:09.318Z"
   },
   {
    "duration": 120,
    "start_time": "2022-06-16T14:47:34.450Z"
   },
   {
    "duration": 112,
    "start_time": "2022-06-16T14:47:40.394Z"
   },
   {
    "duration": 6,
    "start_time": "2022-06-16T14:48:10.890Z"
   },
   {
    "duration": 211,
    "start_time": "2022-06-16T14:49:36.672Z"
   },
   {
    "duration": 91,
    "start_time": "2022-06-16T14:50:28.995Z"
   },
   {
    "duration": 154,
    "start_time": "2022-06-16T14:50:35.029Z"
   },
   {
    "duration": 9,
    "start_time": "2022-06-16T14:50:57.318Z"
   },
   {
    "duration": 132,
    "start_time": "2022-06-16T14:51:02.852Z"
   },
   {
    "duration": 6,
    "start_time": "2022-06-16T14:52:29.081Z"
   },
   {
    "duration": 5,
    "start_time": "2022-06-16T15:02:38.861Z"
   },
   {
    "duration": 16,
    "start_time": "2022-06-16T15:02:52.861Z"
   },
   {
    "duration": 16,
    "start_time": "2022-06-16T15:03:52.626Z"
   },
   {
    "duration": 9,
    "start_time": "2022-06-16T15:04:00.418Z"
   },
   {
    "duration": 66,
    "start_time": "2022-06-16T15:04:56.635Z"
   },
   {
    "duration": 75,
    "start_time": "2022-06-16T15:05:02.634Z"
   },
   {
    "duration": 12,
    "start_time": "2022-06-16T15:05:40.494Z"
   },
   {
    "duration": 12,
    "start_time": "2022-06-16T15:06:23.226Z"
   },
   {
    "duration": 9,
    "start_time": "2022-06-16T15:06:54.705Z"
   },
   {
    "duration": 55,
    "start_time": "2022-06-16T15:07:36.756Z"
   },
   {
    "duration": 58,
    "start_time": "2022-06-16T15:07:46.073Z"
   },
   {
    "duration": 12,
    "start_time": "2022-06-16T15:08:11.975Z"
   },
   {
    "duration": 18,
    "start_time": "2022-06-16T15:09:19.553Z"
   },
   {
    "duration": 19,
    "start_time": "2022-06-16T15:09:42.486Z"
   },
   {
    "duration": 20,
    "start_time": "2022-06-16T15:09:51.382Z"
   },
   {
    "duration": 55,
    "start_time": "2022-06-16T15:10:46.896Z"
   },
   {
    "duration": 14,
    "start_time": "2022-06-16T15:12:01.734Z"
   },
   {
    "duration": 13,
    "start_time": "2022-06-16T15:12:37.824Z"
   },
   {
    "duration": 13,
    "start_time": "2022-06-16T15:12:45.790Z"
   },
   {
    "duration": 11,
    "start_time": "2022-06-16T15:13:00.638Z"
   },
   {
    "duration": 57,
    "start_time": "2022-06-16T15:14:06.751Z"
   },
   {
    "duration": 10,
    "start_time": "2022-06-16T15:14:19.390Z"
   },
   {
    "duration": 10,
    "start_time": "2022-06-16T15:14:26.525Z"
   },
   {
    "duration": 10,
    "start_time": "2022-06-16T15:14:40.745Z"
   },
   {
    "duration": 12,
    "start_time": "2022-06-16T15:14:49.492Z"
   },
   {
    "duration": 22,
    "start_time": "2022-06-16T15:15:06.365Z"
   },
   {
    "duration": 10,
    "start_time": "2022-06-16T15:15:13.721Z"
   },
   {
    "duration": 10,
    "start_time": "2022-06-16T15:15:16.501Z"
   },
   {
    "duration": 10,
    "start_time": "2022-06-16T15:15:19.751Z"
   },
   {
    "duration": 14,
    "start_time": "2022-06-16T15:15:22.434Z"
   },
   {
    "duration": 12,
    "start_time": "2022-06-16T15:15:25.252Z"
   },
   {
    "duration": 10,
    "start_time": "2022-06-16T15:15:28.308Z"
   },
   {
    "duration": 13,
    "start_time": "2022-06-16T15:15:31.015Z"
   },
   {
    "duration": 18,
    "start_time": "2022-06-16T15:15:38.192Z"
   },
   {
    "duration": 11,
    "start_time": "2022-06-16T15:15:45.387Z"
   },
   {
    "duration": 15,
    "start_time": "2022-06-16T15:15:49.256Z"
   },
   {
    "duration": 20,
    "start_time": "2022-06-16T15:16:33.160Z"
   },
   {
    "duration": 19,
    "start_time": "2022-06-16T15:17:00.745Z"
   },
   {
    "duration": 10,
    "start_time": "2022-06-16T15:17:39.341Z"
   },
   {
    "duration": 31,
    "start_time": "2022-06-16T15:18:02.453Z"
   },
   {
    "duration": 29,
    "start_time": "2022-06-16T15:18:07.478Z"
   },
   {
    "duration": 17,
    "start_time": "2022-06-16T15:19:46.682Z"
   },
   {
    "duration": 72,
    "start_time": "2022-06-16T15:20:14.652Z"
   },
   {
    "duration": 81,
    "start_time": "2022-06-16T15:20:21.560Z"
   },
   {
    "duration": 94,
    "start_time": "2022-06-16T15:20:32.579Z"
   },
   {
    "duration": 92,
    "start_time": "2022-06-16T15:20:44.946Z"
   },
   {
    "duration": 79,
    "start_time": "2022-06-16T15:21:01.888Z"
   },
   {
    "duration": 74,
    "start_time": "2022-06-16T15:21:05.681Z"
   },
   {
    "duration": 72,
    "start_time": "2022-06-16T15:21:08.397Z"
   },
   {
    "duration": 13,
    "start_time": "2022-06-16T15:23:32.317Z"
   },
   {
    "duration": 6,
    "start_time": "2022-06-16T15:25:19.481Z"
   },
   {
    "duration": 8,
    "start_time": "2022-06-16T15:25:50.883Z"
   },
   {
    "duration": 5,
    "start_time": "2022-06-16T15:25:57.379Z"
   },
   {
    "duration": 31,
    "start_time": "2022-06-16T15:26:11.360Z"
   },
   {
    "duration": 7,
    "start_time": "2022-06-16T15:26:13.667Z"
   },
   {
    "duration": 66,
    "start_time": "2022-06-16T15:27:18.587Z"
   },
   {
    "duration": 67,
    "start_time": "2022-06-16T15:27:40.694Z"
   },
   {
    "duration": 7,
    "start_time": "2022-06-16T15:28:06.543Z"
   },
   {
    "duration": 7,
    "start_time": "2022-06-16T15:28:20.202Z"
   },
   {
    "duration": 10,
    "start_time": "2022-06-16T15:28:34.150Z"
   },
   {
    "duration": 10,
    "start_time": "2022-06-16T15:30:54.851Z"
   },
   {
    "duration": 7,
    "start_time": "2022-06-16T15:31:11.336Z"
   },
   {
    "duration": 9,
    "start_time": "2022-06-16T15:31:16.865Z"
   },
   {
    "duration": 7,
    "start_time": "2022-06-16T15:31:21.620Z"
   },
   {
    "duration": 11,
    "start_time": "2022-06-16T15:31:25.822Z"
   },
   {
    "duration": 4,
    "start_time": "2022-06-16T15:31:31.302Z"
   },
   {
    "duration": 36,
    "start_time": "2022-06-16T15:40:09.054Z"
   },
   {
    "duration": 32,
    "start_time": "2022-06-16T15:41:10.445Z"
   },
   {
    "duration": 29,
    "start_time": "2022-06-16T15:41:58.066Z"
   },
   {
    "duration": 5,
    "start_time": "2022-06-16T15:42:38.263Z"
   },
   {
    "duration": 3,
    "start_time": "2022-06-16T15:42:40.937Z"
   },
   {
    "duration": 5,
    "start_time": "2022-06-16T15:42:53.411Z"
   },
   {
    "duration": 5,
    "start_time": "2022-06-16T15:44:03.931Z"
   },
   {
    "duration": 4,
    "start_time": "2022-06-16T15:46:33.415Z"
   },
   {
    "duration": 8,
    "start_time": "2022-06-16T15:47:41.086Z"
   },
   {
    "duration": 9,
    "start_time": "2022-06-16T15:47:56.048Z"
   },
   {
    "duration": 6,
    "start_time": "2022-06-16T15:48:10.823Z"
   },
   {
    "duration": 7,
    "start_time": "2022-06-16T15:49:15.083Z"
   },
   {
    "duration": 32,
    "start_time": "2022-06-16T15:49:40.500Z"
   },
   {
    "duration": 4,
    "start_time": "2022-06-16T15:49:44.338Z"
   },
   {
    "duration": 25,
    "start_time": "2022-06-16T15:49:52.670Z"
   },
   {
    "duration": 11,
    "start_time": "2022-06-16T15:50:05.567Z"
   },
   {
    "duration": 7,
    "start_time": "2022-06-16T15:50:58.496Z"
   },
   {
    "duration": 16,
    "start_time": "2022-06-16T15:51:05.860Z"
   },
   {
    "duration": 6,
    "start_time": "2022-06-16T15:51:14.024Z"
   },
   {
    "duration": 8,
    "start_time": "2022-06-16T15:51:30.798Z"
   },
   {
    "duration": 395,
    "start_time": "2022-06-16T15:59:10.820Z"
   },
   {
    "duration": 12,
    "start_time": "2022-06-16T15:59:24.079Z"
   },
   {
    "duration": 9,
    "start_time": "2022-06-16T15:59:29.243Z"
   },
   {
    "duration": 10,
    "start_time": "2022-06-16T15:59:34.280Z"
   },
   {
    "duration": 10,
    "start_time": "2022-06-16T15:59:53.291Z"
   },
   {
    "duration": 14,
    "start_time": "2022-06-16T16:00:10.310Z"
   },
   {
    "duration": 12,
    "start_time": "2022-06-16T16:00:16.385Z"
   },
   {
    "duration": 15,
    "start_time": "2022-06-16T16:00:39.137Z"
   },
   {
    "duration": 61,
    "start_time": "2022-06-16T16:00:45.348Z"
   },
   {
    "duration": 29,
    "start_time": "2022-06-16T16:00:50.222Z"
   },
   {
    "duration": 11,
    "start_time": "2022-06-16T16:00:52.722Z"
   },
   {
    "duration": 15,
    "start_time": "2022-06-16T16:01:00.962Z"
   },
   {
    "duration": 16,
    "start_time": "2022-06-16T16:01:06.220Z"
   },
   {
    "duration": 7,
    "start_time": "2022-06-16T16:02:27.974Z"
   },
   {
    "duration": 7,
    "start_time": "2022-06-16T16:02:30.803Z"
   },
   {
    "duration": 40,
    "start_time": "2022-06-16T16:05:04.478Z"
   },
   {
    "duration": 22,
    "start_time": "2022-06-16T16:06:20.830Z"
   },
   {
    "duration": 6,
    "start_time": "2022-06-16T16:06:59.018Z"
   },
   {
    "duration": 4,
    "start_time": "2022-06-16T16:07:13.028Z"
   },
   {
    "duration": 429,
    "start_time": "2022-06-16T16:09:20.599Z"
   },
   {
    "duration": 10,
    "start_time": "2022-06-16T16:09:36.008Z"
   },
   {
    "duration": 8,
    "start_time": "2022-06-16T16:09:43.090Z"
   },
   {
    "duration": 13,
    "start_time": "2022-06-16T16:10:48.477Z"
   },
   {
    "duration": 27,
    "start_time": "2022-06-16T16:12:05.892Z"
   },
   {
    "duration": 34,
    "start_time": "2022-06-16T16:12:45.620Z"
   },
   {
    "duration": 62,
    "start_time": "2022-06-16T16:13:02.483Z"
   },
   {
    "duration": 11,
    "start_time": "2022-06-16T16:13:39.764Z"
   },
   {
    "duration": 4,
    "start_time": "2022-06-16T16:15:07.603Z"
   },
   {
    "duration": 5,
    "start_time": "2022-06-16T16:15:23.480Z"
   },
   {
    "duration": 5,
    "start_time": "2022-06-16T16:15:49.280Z"
   },
   {
    "duration": 5,
    "start_time": "2022-06-16T16:16:40.296Z"
   },
   {
    "duration": 4,
    "start_time": "2022-06-16T16:16:55.252Z"
   },
   {
    "duration": 4,
    "start_time": "2022-06-16T16:17:22.782Z"
   },
   {
    "duration": 7,
    "start_time": "2022-06-16T16:18:27.997Z"
   },
   {
    "duration": 4,
    "start_time": "2022-06-16T16:19:20.876Z"
   },
   {
    "duration": 4,
    "start_time": "2022-06-16T16:19:37.933Z"
   },
   {
    "duration": 7,
    "start_time": "2022-06-16T16:20:11.083Z"
   },
   {
    "duration": 8,
    "start_time": "2022-06-16T16:21:04.047Z"
   },
   {
    "duration": 18,
    "start_time": "2022-06-16T16:28:22.400Z"
   },
   {
    "duration": 1214,
    "start_time": "2022-06-16T19:22:22.817Z"
   },
   {
    "duration": 316,
    "start_time": "2022-06-16T19:22:24.038Z"
   },
   {
    "duration": 4,
    "start_time": "2022-06-16T19:22:24.356Z"
   },
   {
    "duration": 38,
    "start_time": "2022-06-16T19:22:24.362Z"
   },
   {
    "duration": 50,
    "start_time": "2022-06-16T19:22:24.405Z"
   },
   {
    "duration": 36,
    "start_time": "2022-06-16T19:22:24.456Z"
   },
   {
    "duration": 60,
    "start_time": "2022-06-16T19:22:24.500Z"
   },
   {
    "duration": 7,
    "start_time": "2022-06-16T19:22:24.562Z"
   },
   {
    "duration": 30,
    "start_time": "2022-06-16T19:22:24.571Z"
   },
   {
    "duration": 40,
    "start_time": "2022-06-16T19:22:24.603Z"
   },
   {
    "duration": 12,
    "start_time": "2022-06-16T19:22:24.645Z"
   },
   {
    "duration": 10,
    "start_time": "2022-06-16T19:22:24.659Z"
   },
   {
    "duration": 10,
    "start_time": "2022-06-16T19:22:24.671Z"
   },
   {
    "duration": 236,
    "start_time": "2022-06-16T19:22:24.683Z"
   },
   {
    "duration": 162,
    "start_time": "2022-06-16T19:22:24.924Z"
   },
   {
    "duration": 11,
    "start_time": "2022-06-16T19:22:25.090Z"
   },
   {
    "duration": 38,
    "start_time": "2022-06-16T19:22:25.102Z"
   },
   {
    "duration": 7,
    "start_time": "2022-06-16T19:22:25.142Z"
   },
   {
    "duration": 315,
    "start_time": "2022-06-16T19:22:25.151Z"
   },
   {
    "duration": 225,
    "start_time": "2022-06-16T19:22:25.468Z"
   },
   {
    "duration": 9,
    "start_time": "2022-06-16T19:22:25.700Z"
   },
   {
    "duration": 342,
    "start_time": "2022-06-16T19:22:25.716Z"
   },
   {
    "duration": 7,
    "start_time": "2022-06-16T19:22:26.060Z"
   },
   {
    "duration": 62,
    "start_time": "2022-06-16T19:22:26.069Z"
   },
   {
    "duration": 10,
    "start_time": "2022-06-16T19:22:26.135Z"
   },
   {
    "duration": 201,
    "start_time": "2022-06-16T19:22:26.148Z"
   },
   {
    "duration": 8,
    "start_time": "2022-06-16T19:22:26.351Z"
   },
   {
    "duration": 373,
    "start_time": "2022-06-16T19:22:26.363Z"
   },
   {
    "duration": 11,
    "start_time": "2022-06-16T19:22:26.739Z"
   },
   {
    "duration": 150,
    "start_time": "2022-06-16T19:22:26.752Z"
   },
   {
    "duration": 136,
    "start_time": "2022-06-16T19:22:26.906Z"
   },
   {
    "duration": 5,
    "start_time": "2022-06-16T19:22:27.044Z"
   },
   {
    "duration": 167,
    "start_time": "2022-06-16T19:22:27.051Z"
   },
   {
    "duration": 149,
    "start_time": "2022-06-16T19:22:27.220Z"
   },
   {
    "duration": 20,
    "start_time": "2022-06-16T19:22:27.371Z"
   },
   {
    "duration": 53,
    "start_time": "2022-06-16T19:22:27.393Z"
   },
   {
    "duration": 13,
    "start_time": "2022-06-16T19:22:27.448Z"
   },
   {
    "duration": 11,
    "start_time": "2022-06-16T19:22:27.463Z"
   },
   {
    "duration": 64,
    "start_time": "2022-06-16T19:22:27.476Z"
   },
   {
    "duration": 125,
    "start_time": "2022-06-16T19:22:27.542Z"
   },
   {
    "duration": 25,
    "start_time": "2022-06-16T19:22:27.669Z"
   },
   {
    "duration": 85,
    "start_time": "2022-06-16T19:22:27.700Z"
   },
   {
    "duration": 40,
    "start_time": "2022-06-16T19:22:27.790Z"
   },
   {
    "duration": 73,
    "start_time": "2022-06-16T19:22:27.833Z"
   },
   {
    "duration": 118,
    "start_time": "2022-06-16T19:22:27.910Z"
   },
   {
    "duration": 138,
    "start_time": "2022-06-16T19:22:28.029Z"
   },
   {
    "duration": 67,
    "start_time": "2022-06-16T19:22:28.169Z"
   },
   {
    "duration": 33,
    "start_time": "2022-06-16T19:22:28.239Z"
   },
   {
    "duration": 78,
    "start_time": "2022-06-16T19:22:28.274Z"
   },
   {
    "duration": 13,
    "start_time": "2022-06-16T19:22:28.355Z"
   },
   {
    "duration": 16,
    "start_time": "2022-06-16T19:22:28.370Z"
   },
   {
    "duration": 60,
    "start_time": "2022-06-16T19:22:28.388Z"
   },
   {
    "duration": 39,
    "start_time": "2022-06-16T19:22:28.450Z"
   },
   {
    "duration": 64,
    "start_time": "2022-06-16T19:22:28.491Z"
   },
   {
    "duration": 10,
    "start_time": "2022-06-16T19:22:28.557Z"
   },
   {
    "duration": 29,
    "start_time": "2022-06-16T19:22:28.569Z"
   },
   {
    "duration": 23,
    "start_time": "2022-06-16T19:22:28.600Z"
   },
   {
    "duration": 14,
    "start_time": "2022-06-16T19:22:28.625Z"
   },
   {
    "duration": 9,
    "start_time": "2022-06-16T19:22:28.641Z"
   },
   {
    "duration": 7,
    "start_time": "2022-06-16T19:22:28.652Z"
   },
   {
    "duration": 42,
    "start_time": "2022-06-17T14:05:25.194Z"
   },
   {
    "duration": 1046,
    "start_time": "2022-06-17T14:05:30.545Z"
   },
   {
    "duration": 256,
    "start_time": "2022-06-17T14:05:31.593Z"
   },
   {
    "duration": 3,
    "start_time": "2022-06-17T14:05:31.850Z"
   },
   {
    "duration": 25,
    "start_time": "2022-06-17T14:05:33.698Z"
   },
   {
    "duration": 20,
    "start_time": "2022-06-17T14:05:35.205Z"
   },
   {
    "duration": 16,
    "start_time": "2022-06-17T14:05:36.595Z"
   },
   {
    "duration": 3,
    "start_time": "2022-06-17T14:05:40.049Z"
   },
   {
    "duration": 4,
    "start_time": "2022-06-17T14:05:40.365Z"
   },
   {
    "duration": 11,
    "start_time": "2022-06-17T14:05:40.637Z"
   },
   {
    "duration": 3,
    "start_time": "2022-06-17T14:05:41.463Z"
   },
   {
    "duration": 5,
    "start_time": "2022-06-17T14:05:42.938Z"
   },
   {
    "duration": 5,
    "start_time": "2022-06-17T14:05:58.247Z"
   },
   {
    "duration": 6,
    "start_time": "2022-06-17T14:06:03.438Z"
   },
   {
    "duration": 3,
    "start_time": "2022-06-17T14:06:20.101Z"
   },
   {
    "duration": 4,
    "start_time": "2022-06-17T14:06:22.905Z"
   },
   {
    "duration": 3,
    "start_time": "2022-06-17T14:06:27.789Z"
   },
   {
    "duration": 4,
    "start_time": "2022-06-17T14:06:28.843Z"
   },
   {
    "duration": 3,
    "start_time": "2022-06-17T14:06:59.489Z"
   },
   {
    "duration": 4,
    "start_time": "2022-06-17T14:08:20.404Z"
   },
   {
    "duration": 3,
    "start_time": "2022-06-17T14:08:35.308Z"
   },
   {
    "duration": 4,
    "start_time": "2022-06-17T14:09:40.501Z"
   },
   {
    "duration": 4,
    "start_time": "2022-06-17T14:09:52.956Z"
   },
   {
    "duration": 24,
    "start_time": "2022-06-17T14:10:21.207Z"
   },
   {
    "duration": 58,
    "start_time": "2022-06-17T14:10:41.707Z"
   },
   {
    "duration": 10,
    "start_time": "2022-06-17T14:10:55.378Z"
   },
   {
    "duration": 3,
    "start_time": "2022-06-17T14:11:20.005Z"
   },
   {
    "duration": 10,
    "start_time": "2022-06-17T14:11:32.420Z"
   },
   {
    "duration": 13,
    "start_time": "2022-06-17T14:11:37.429Z"
   },
   {
    "duration": 180,
    "start_time": "2022-06-17T14:12:00.631Z"
   },
   {
    "duration": 3,
    "start_time": "2022-06-17T14:13:45.393Z"
   },
   {
    "duration": 6,
    "start_time": "2022-06-17T14:14:03.090Z"
   },
   {
    "duration": 147,
    "start_time": "2022-06-17T14:14:03.350Z"
   },
   {
    "duration": 108,
    "start_time": "2022-06-17T14:14:05.421Z"
   },
   {
    "duration": 5,
    "start_time": "2022-06-17T14:14:33.720Z"
   },
   {
    "duration": 12,
    "start_time": "2022-06-17T14:14:47.436Z"
   },
   {
    "duration": 0,
    "start_time": "2022-06-17T14:14:47.450Z"
   },
   {
    "duration": 10,
    "start_time": "2022-06-17T14:14:47.801Z"
   },
   {
    "duration": 10,
    "start_time": "2022-06-17T14:14:51.031Z"
   },
   {
    "duration": 4,
    "start_time": "2022-06-17T14:14:53.034Z"
   },
   {
    "duration": 5,
    "start_time": "2022-06-17T14:14:56.404Z"
   },
   {
    "duration": 5,
    "start_time": "2022-06-17T14:14:58.489Z"
   },
   {
    "duration": 267,
    "start_time": "2022-06-17T14:14:58.931Z"
   },
   {
    "duration": 161,
    "start_time": "2022-06-17T14:16:44.493Z"
   },
   {
    "duration": 172,
    "start_time": "2022-06-17T14:17:28.945Z"
   },
   {
    "duration": 247,
    "start_time": "2022-06-17T14:17:57.906Z"
   },
   {
    "duration": 5,
    "start_time": "2022-06-17T14:18:13.694Z"
   },
   {
    "duration": 349,
    "start_time": "2022-06-17T14:18:55.655Z"
   },
   {
    "duration": 4,
    "start_time": "2022-06-17T14:19:03.042Z"
   },
   {
    "duration": 4,
    "start_time": "2022-06-17T14:19:03.406Z"
   },
   {
    "duration": 4,
    "start_time": "2022-06-17T14:19:03.843Z"
   },
   {
    "duration": 153,
    "start_time": "2022-06-17T14:19:04.728Z"
   },
   {
    "duration": 172,
    "start_time": "2022-06-17T14:19:54.105Z"
   },
   {
    "duration": 7,
    "start_time": "2022-06-17T14:20:10.401Z"
   },
   {
    "duration": 287,
    "start_time": "2022-06-17T14:20:45.965Z"
   },
   {
    "duration": 14,
    "start_time": "2022-06-17T14:21:02.525Z"
   },
   {
    "duration": 95,
    "start_time": "2022-06-17T14:21:04.565Z"
   },
   {
    "duration": 104,
    "start_time": "2022-06-17T14:21:05.555Z"
   },
   {
    "duration": 4,
    "start_time": "2022-06-17T14:21:11.069Z"
   },
   {
    "duration": 131,
    "start_time": "2022-06-17T14:21:14.895Z"
   },
   {
    "duration": 112,
    "start_time": "2022-06-17T14:21:17.524Z"
   },
   {
    "duration": 112,
    "start_time": "2022-06-17T14:23:30.121Z"
   },
   {
    "duration": 113,
    "start_time": "2022-06-17T14:23:42.195Z"
   },
   {
    "duration": 107,
    "start_time": "2022-06-17T14:23:53.868Z"
   },
   {
    "duration": 138,
    "start_time": "2022-06-17T14:24:35.483Z"
   },
   {
    "duration": 208,
    "start_time": "2022-06-17T14:25:08.520Z"
   },
   {
    "duration": 116,
    "start_time": "2022-06-17T14:25:27.026Z"
   },
   {
    "duration": 3,
    "start_time": "2022-06-17T14:25:36.893Z"
   },
   {
    "duration": 9,
    "start_time": "2022-06-17T14:25:43.753Z"
   },
   {
    "duration": 10,
    "start_time": "2022-06-17T14:25:45.452Z"
   },
   {
    "duration": 8,
    "start_time": "2022-06-17T14:25:46.219Z"
   },
   {
    "duration": 9,
    "start_time": "2022-06-17T14:25:48.644Z"
   },
   {
    "duration": 16,
    "start_time": "2022-06-17T14:25:49.197Z"
   },
   {
    "duration": 9,
    "start_time": "2022-06-17T14:25:50.905Z"
   },
   {
    "duration": 18,
    "start_time": "2022-06-17T14:25:51.262Z"
   },
   {
    "duration": 13,
    "start_time": "2022-06-17T14:25:52.965Z"
   },
   {
    "duration": 28,
    "start_time": "2022-06-17T14:25:53.397Z"
   },
   {
    "duration": 59,
    "start_time": "2022-06-17T14:27:04.372Z"
   },
   {
    "duration": 68,
    "start_time": "2022-06-17T14:27:04.644Z"
   },
   {
    "duration": 4,
    "start_time": "2022-06-17T14:27:04.912Z"
   },
   {
    "duration": 4,
    "start_time": "2022-06-17T14:27:06.737Z"
   },
   {
    "duration": 33,
    "start_time": "2022-06-17T14:27:07.271Z"
   },
   {
    "duration": 3,
    "start_time": "2022-06-17T14:27:07.995Z"
   },
   {
    "duration": 8,
    "start_time": "2022-06-17T14:27:12.719Z"
   },
   {
    "duration": 6,
    "start_time": "2022-06-17T14:27:13.189Z"
   },
   {
    "duration": 11,
    "start_time": "2022-06-17T14:27:51.351Z"
   },
   {
    "duration": 468,
    "start_time": "2022-06-17T14:31:00.137Z"
   },
   {
    "duration": 440,
    "start_time": "2022-06-17T14:32:10.031Z"
   },
   {
    "duration": 388,
    "start_time": "2022-06-17T14:32:14.484Z"
   },
   {
    "duration": 12,
    "start_time": "2022-06-17T14:33:14.795Z"
   },
   {
    "duration": 12,
    "start_time": "2022-06-17T14:33:42.012Z"
   },
   {
    "duration": 3,
    "start_time": "2022-06-17T14:34:12.943Z"
   },
   {
    "duration": 6,
    "start_time": "2022-06-17T14:34:20.888Z"
   },
   {
    "duration": 5,
    "start_time": "2022-06-17T14:34:21.152Z"
   },
   {
    "duration": 23,
    "start_time": "2022-06-17T14:34:24.152Z"
   },
   {
    "duration": 3,
    "start_time": "2022-06-17T14:34:24.502Z"
   },
   {
    "duration": 10,
    "start_time": "2022-06-17T14:34:27.878Z"
   },
   {
    "duration": 7,
    "start_time": "2022-06-17T14:34:29.414Z"
   },
   {
    "duration": 7,
    "start_time": "2022-06-17T14:34:32.006Z"
   },
   {
    "duration": 4,
    "start_time": "2022-06-17T14:42:10.391Z"
   },
   {
    "duration": 1576,
    "start_time": "2022-06-29T17:21:03.578Z"
   },
   {
    "duration": 175,
    "start_time": "2022-06-29T17:21:05.157Z"
   },
   {
    "duration": 3,
    "start_time": "2022-06-29T17:21:05.334Z"
   },
   {
    "duration": 28,
    "start_time": "2022-06-29T17:21:05.566Z"
   },
   {
    "duration": 22,
    "start_time": "2022-06-29T17:21:07.026Z"
   },
   {
    "duration": 21,
    "start_time": "2022-06-29T17:21:08.797Z"
   },
   {
    "duration": 3,
    "start_time": "2022-06-29T17:21:12.905Z"
   },
   {
    "duration": 6,
    "start_time": "2022-06-29T17:21:13.296Z"
   },
   {
    "duration": 20,
    "start_time": "2022-06-29T17:21:13.682Z"
   },
   {
    "duration": 4,
    "start_time": "2022-06-29T17:21:14.148Z"
   },
   {
    "duration": 6,
    "start_time": "2022-06-29T17:21:15.651Z"
   },
   {
    "duration": 6,
    "start_time": "2022-06-29T17:21:15.998Z"
   },
   {
    "duration": 8,
    "start_time": "2022-06-29T17:21:16.389Z"
   },
   {
    "duration": 4,
    "start_time": "2022-06-29T17:21:23.691Z"
   },
   {
    "duration": 3,
    "start_time": "2022-06-29T17:21:24.033Z"
   },
   {
    "duration": 6,
    "start_time": "2022-06-29T17:21:24.433Z"
   },
   {
    "duration": 5,
    "start_time": "2022-06-29T17:21:24.980Z"
   },
   {
    "duration": 12,
    "start_time": "2022-06-29T17:21:28.776Z"
   },
   {
    "duration": 14,
    "start_time": "2022-06-29T17:21:31.359Z"
   },
   {
    "duration": 12,
    "start_time": "2022-06-29T17:21:32.149Z"
   },
   {
    "duration": 211,
    "start_time": "2022-06-29T17:21:32.906Z"
   },
   {
    "duration": 6,
    "start_time": "2022-06-29T17:21:33.328Z"
   },
   {
    "duration": 194,
    "start_time": "2022-06-29T17:21:33.529Z"
   },
   {
    "duration": 147,
    "start_time": "2022-06-29T17:21:33.738Z"
   },
   {
    "duration": 11,
    "start_time": "2022-06-29T17:21:33.975Z"
   },
   {
    "duration": 6,
    "start_time": "2022-06-29T17:21:34.515Z"
   },
   {
    "duration": 5,
    "start_time": "2022-06-29T17:21:36.590Z"
   },
   {
    "duration": 5,
    "start_time": "2022-06-29T17:21:36.786Z"
   },
   {
    "duration": 312,
    "start_time": "2022-06-29T17:21:37.405Z"
   },
   {
    "duration": 214,
    "start_time": "2022-06-29T17:21:39.666Z"
   },
   {
    "duration": 7,
    "start_time": "2022-06-29T17:21:44.839Z"
   },
   {
    "duration": 391,
    "start_time": "2022-06-29T17:21:45.124Z"
   },
   {
    "duration": 4,
    "start_time": "2022-06-29T17:21:47.655Z"
   },
   {
    "duration": 4,
    "start_time": "2022-06-29T17:21:48.056Z"
   },
   {
    "duration": 3,
    "start_time": "2022-06-29T17:21:49.553Z"
   },
   {
    "duration": 201,
    "start_time": "2022-06-29T17:21:49.862Z"
   },
   {
    "duration": 9,
    "start_time": "2022-06-29T17:21:53.437Z"
   },
   {
    "duration": 335,
    "start_time": "2022-06-29T17:21:53.937Z"
   },
   {
    "duration": 9,
    "start_time": "2022-06-29T17:21:58.605Z"
   },
   {
    "duration": 139,
    "start_time": "2022-06-29T17:22:00.347Z"
   },
   {
    "duration": 144,
    "start_time": "2022-06-29T17:22:01.110Z"
   },
   {
    "duration": 5,
    "start_time": "2022-06-29T17:22:04.015Z"
   },
   {
    "duration": 154,
    "start_time": "2022-06-29T17:22:06.843Z"
   },
   {
    "duration": 229,
    "start_time": "2022-06-29T17:22:09.226Z"
   },
   {
    "duration": 4,
    "start_time": "2022-06-29T17:22:12.095Z"
   },
   {
    "duration": 10,
    "start_time": "2022-06-29T17:22:14.930Z"
   },
   {
    "duration": 10,
    "start_time": "2022-06-29T17:22:16.580Z"
   },
   {
    "duration": 10,
    "start_time": "2022-06-29T17:22:18.929Z"
   },
   {
    "duration": 11,
    "start_time": "2022-06-29T17:22:18.940Z"
   },
   {
    "duration": 21,
    "start_time": "2022-06-29T17:22:21.512Z"
   },
   {
    "duration": 10,
    "start_time": "2022-06-29T17:22:21.845Z"
   },
   {
    "duration": 19,
    "start_time": "2022-06-29T17:22:23.545Z"
   },
   {
    "duration": 9,
    "start_time": "2022-06-29T17:22:23.938Z"
   },
   {
    "duration": 30,
    "start_time": "2022-06-29T17:22:25.623Z"
   },
   {
    "duration": 81,
    "start_time": "2022-06-29T17:22:28.353Z"
   },
   {
    "duration": 77,
    "start_time": "2022-06-29T17:22:28.600Z"
   },
   {
    "duration": 8,
    "start_time": "2022-06-29T17:22:36.930Z"
   },
   {
    "duration": 7,
    "start_time": "2022-06-29T17:37:44.348Z"
   },
   {
    "duration": 110,
    "start_time": "2022-06-29T17:40:47.398Z"
   },
   {
    "duration": 119,
    "start_time": "2022-06-29T17:44:14.254Z"
   },
   {
    "duration": 104,
    "start_time": "2022-06-29T17:47:19.347Z"
   }
  ],
  "kernelspec": {
   "display_name": "Python 3 (ipykernel)",
   "language": "python",
   "name": "python3"
  },
  "language_info": {
   "codemirror_mode": {
    "name": "ipython",
    "version": 3
   },
   "file_extension": ".py",
   "mimetype": "text/x-python",
   "name": "python",
   "nbconvert_exporter": "python",
   "pygments_lexer": "ipython3",
   "version": "3.9.7"
  },
  "toc": {
   "base_numbering": 1,
   "nav_menu": {},
   "number_sections": true,
   "sideBar": true,
   "skip_h1_title": true,
   "title_cell": "Table of Contents",
   "title_sidebar": "Contents",
   "toc_cell": false,
   "toc_position": {},
   "toc_section_display": true,
   "toc_window_display": true
  }
 },
 "nbformat": 4,
 "nbformat_minor": 2
}
