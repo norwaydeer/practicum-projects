{
 "cells": [
  {
   "cell_type": "markdown",
   "id": "89ec1edd",
   "metadata": {},
   "source": [
    "<div class=\"alert alert-info\">\n",
    "    \n",
    "# A/B-тестирование"
   ]
  },
  {
   "cell_type": "markdown",
   "id": "56db78b3",
   "metadata": {},
   "source": [
    "<div style=\"border:solid green 2px; padding: 20px\">\n",
    "<b>Постановка задачи</b>\n",
    "\n",
    "Ваша задача — провести оценку результатов A/B-теста. В вашем распоряжении есть датасет с действиями пользователей, техническое задание и несколько вспомогательных датасетов.\n",
    "\n",
    "- Оцените корректность проведения теста\n",
    "- Проанализируйте результаты теста\n",
    "\n",
    "Чтобы оценить корректность проведения теста, проверьте:\n",
    "- пересечение тестовой аудитории с конкурирующим тестом,\n",
    "- совпадение теста и маркетинговых событий, другие проблемы временных границ теста."
   ]
  },
  {
   "cell_type": "markdown",
   "id": "8ab58dbd",
   "metadata": {},
   "source": [
    "<div style=\"border:solid green 2px; padding: 20px\">\n",
    "<b>Техническое задание</b>\n",
    "\n",
    "- Название теста: `recommender_system_test`;\n",
    "- группы: А — контрольная, B — новая платёжная воронка;\n",
    "- дата запуска: 2020-12-07;\n",
    "- дата остановки набора новых пользователей: 2020-12-21;\n",
    "- дата остановки: 2021-01-04;\n",
    "- аудитория: 15% новых пользователей из региона EU;\n",
    "- назначение теста: тестирование изменений, связанных с внедрением улучшенной рекомендательной системы;\n",
    "- ожидаемое количество участников теста: 6000.\n",
    "- ожидаемый эффект: за 14 дней с момента регистрации пользователи покажут улучшение каждой метрики не менее, чем на 10%:\n",
    "    - конверсии в просмотр карточек товаров — событие `product_page`,\n",
    "    - просмотры корзины — `product_cart`,\n",
    "    - покупки — `purchase`."
   ]
  },
  {
   "cell_type": "markdown",
   "id": "1472bbd4",
   "metadata": {},
   "source": [
    "<div style=\"border:solid green 2px; padding: 20px\">\n",
    "<b>Описание данных</b>\n",
    "\n",
    "`ab_project_marketing_events.csv` — календарь маркетинговых событий на 2020 год.\n",
    "\n",
    "Структура файла:\n",
    "\n",
    "- `name` — название маркетингового события;\n",
    "- `regions` — регионы, в которых будет проводиться рекламная кампания;\n",
    "- `start_dt` — дата начала кампании;\n",
    "- `finish_dt` — дата завершения кампании.\n",
    "\n",
    "`final_ab_new_users.csv` — пользователи, зарегистрировавшиеся с 7 по 21 декабря 2020 года.\n",
    "\n",
    "Структура файла:\n",
    "\n",
    "- `user_id` — идентификатор пользователя;\n",
    "- `first_date` — дата регистрации;\n",
    "- `region` — регион пользователя;\n",
    "- `device` — устройство, с которого происходила регистрация.\n",
    "\n",
    "`final_ab_events.csv` — действия новых пользователей в период с 7 декабря 2020 по 4 января 2021 года.\n",
    "\n",
    "Структура файла:\n",
    "\n",
    "- `user_id` — идентификатор пользователя;\n",
    "- `event_dt` — дата и время покупки;\n",
    "- `event_name` — тип события;\n",
    "- `details` — дополнительные данные о событии. Например, для покупок, `purchase,` в этом поле хранится стоимость покупки в долларах.\n",
    "\n",
    "`final_ab_participants.csv` — таблица участников тестов.\n",
    "\n",
    "Структура файла:\n",
    "\n",
    "- `user_id` — идентификатор пользователя;\n",
    "- `ab_test` — название теста;\n",
    "- `group` — группа пользователя."
   ]
  },
  {
   "cell_type": "markdown",
   "id": "8be243ad",
   "metadata": {},
   "source": [
    "<div class=\"alert alert-info\">\n",
    "\n",
    "## Подготовка данных"
   ]
  },
  {
   "cell_type": "code",
   "execution_count": 1,
   "id": "2c88267a",
   "metadata": {},
   "outputs": [],
   "source": [
    "import pandas as pd\n",
    "import numpy as np\n",
    "import math as mth\n",
    "import matplotlib.pyplot as plt\n",
    "from datetime import datetime, timedelta\n",
    "from plotly import graph_objects as go \n",
    "import plotly.express as px\n",
    "from scipy import stats as st\n",
    "import scipy.stats as stats"
   ]
  },
  {
   "cell_type": "code",
   "execution_count": 2,
   "id": "a988364c",
   "metadata": {},
   "outputs": [],
   "source": [
    "try:\n",
    "    ab_project_marketing_events = pd.read_csv('ab_project_marketing_events.csv', parse_dates=['start_dt', 'finish_dt'])\n",
    "    final_ab_new_users = pd.read_csv('final_ab_new_users.csv', parse_dates=['first_date'])\n",
    "    final_ab_events = pd.read_csv('final_ab_events.csv', parse_dates=['event_dt'])\n",
    "    final_ab_participants = pd.read_csv('final_ab_participants.csv')\n",
    "except:\n",
    "    ab_project_marketing_events = pd.read_csv('/datasets/ab_project_marketing_events.csv', parse_dates=['start_dt', 'finish_dt'])\n",
    "    final_ab_new_users = pd.read_csv('/datasets/final_ab_new_users.csv', parse_dates=['first_date'])\n",
    "    final_ab_events = pd.read_csv('/datasets/final_ab_events.csv', parse_dates=['event_dt'])\n",
    "    final_ab_participants = pd.read_csv('/datasets/final_ab_participants.csv')\n",
    "    \n",
    "    "
   ]
  },
  {
   "cell_type": "code",
   "execution_count": 3,
   "id": "0209a842",
   "metadata": {},
   "outputs": [],
   "source": [
    "def get_info(df):\n",
    "    df.info()\n",
    "    display(df.head())\n",
    "    display(df.isna().sum())"
   ]
  },
  {
   "cell_type": "code",
   "execution_count": 4,
   "id": "2043f133",
   "metadata": {},
   "outputs": [],
   "source": [
    "def dublicate_check(df):\n",
    "    dublicate_count = df.duplicated().sum()\n",
    "    if dublicate_count > 0:\n",
    "        print('в датафрейме найдены дубли:', dublicate_count)\n",
    "    else:\n",
    "        print('дублей не обнаружено')"
   ]
  },
  {
   "cell_type": "code",
   "execution_count": 5,
   "id": "a39b52fc",
   "metadata": {},
   "outputs": [
    {
     "name": "stdout",
     "output_type": "stream",
     "text": [
      "<class 'pandas.core.frame.DataFrame'>\n",
      "RangeIndex: 14 entries, 0 to 13\n",
      "Data columns (total 4 columns):\n",
      " #   Column     Non-Null Count  Dtype         \n",
      "---  ------     --------------  -----         \n",
      " 0   name       14 non-null     object        \n",
      " 1   regions    14 non-null     object        \n",
      " 2   start_dt   14 non-null     datetime64[ns]\n",
      " 3   finish_dt  14 non-null     datetime64[ns]\n",
      "dtypes: datetime64[ns](2), object(2)\n",
      "memory usage: 576.0+ bytes\n"
     ]
    },
    {
     "data": {
      "text/html": [
       "<div>\n",
       "<style scoped>\n",
       "    .dataframe tbody tr th:only-of-type {\n",
       "        vertical-align: middle;\n",
       "    }\n",
       "\n",
       "    .dataframe tbody tr th {\n",
       "        vertical-align: top;\n",
       "    }\n",
       "\n",
       "    .dataframe thead th {\n",
       "        text-align: right;\n",
       "    }\n",
       "</style>\n",
       "<table border=\"1\" class=\"dataframe\">\n",
       "  <thead>\n",
       "    <tr style=\"text-align: right;\">\n",
       "      <th></th>\n",
       "      <th>name</th>\n",
       "      <th>regions</th>\n",
       "      <th>start_dt</th>\n",
       "      <th>finish_dt</th>\n",
       "    </tr>\n",
       "  </thead>\n",
       "  <tbody>\n",
       "    <tr>\n",
       "      <th>0</th>\n",
       "      <td>Christmas&amp;New Year Promo</td>\n",
       "      <td>EU, N.America</td>\n",
       "      <td>2020-12-25</td>\n",
       "      <td>2021-01-03</td>\n",
       "    </tr>\n",
       "    <tr>\n",
       "      <th>1</th>\n",
       "      <td>St. Valentine's Day Giveaway</td>\n",
       "      <td>EU, CIS, APAC, N.America</td>\n",
       "      <td>2020-02-14</td>\n",
       "      <td>2020-02-16</td>\n",
       "    </tr>\n",
       "    <tr>\n",
       "      <th>2</th>\n",
       "      <td>St. Patric's Day Promo</td>\n",
       "      <td>EU, N.America</td>\n",
       "      <td>2020-03-17</td>\n",
       "      <td>2020-03-19</td>\n",
       "    </tr>\n",
       "    <tr>\n",
       "      <th>3</th>\n",
       "      <td>Easter Promo</td>\n",
       "      <td>EU, CIS, APAC, N.America</td>\n",
       "      <td>2020-04-12</td>\n",
       "      <td>2020-04-19</td>\n",
       "    </tr>\n",
       "    <tr>\n",
       "      <th>4</th>\n",
       "      <td>4th of July Promo</td>\n",
       "      <td>N.America</td>\n",
       "      <td>2020-07-04</td>\n",
       "      <td>2020-07-11</td>\n",
       "    </tr>\n",
       "  </tbody>\n",
       "</table>\n",
       "</div>"
      ],
      "text/plain": [
       "                           name                   regions   start_dt  \\\n",
       "0      Christmas&New Year Promo             EU, N.America 2020-12-25   \n",
       "1  St. Valentine's Day Giveaway  EU, CIS, APAC, N.America 2020-02-14   \n",
       "2        St. Patric's Day Promo             EU, N.America 2020-03-17   \n",
       "3                  Easter Promo  EU, CIS, APAC, N.America 2020-04-12   \n",
       "4             4th of July Promo                 N.America 2020-07-04   \n",
       "\n",
       "   finish_dt  \n",
       "0 2021-01-03  \n",
       "1 2020-02-16  \n",
       "2 2020-03-19  \n",
       "3 2020-04-19  \n",
       "4 2020-07-11  "
      ]
     },
     "metadata": {},
     "output_type": "display_data"
    },
    {
     "data": {
      "text/plain": [
       "name         0\n",
       "regions      0\n",
       "start_dt     0\n",
       "finish_dt    0\n",
       "dtype: int64"
      ]
     },
     "metadata": {},
     "output_type": "display_data"
    }
   ],
   "source": [
    "get_info(ab_project_marketing_events)"
   ]
  },
  {
   "cell_type": "code",
   "execution_count": 6,
   "id": "e81e3ac5",
   "metadata": {},
   "outputs": [
    {
     "name": "stdout",
     "output_type": "stream",
     "text": [
      "дублей не обнаружено\n"
     ]
    }
   ],
   "source": [
    "dublicate_check(ab_project_marketing_events)"
   ]
  },
  {
   "cell_type": "code",
   "execution_count": 7,
   "id": "8479d7e7",
   "metadata": {},
   "outputs": [
    {
     "name": "stdout",
     "output_type": "stream",
     "text": [
      "<class 'pandas.core.frame.DataFrame'>\n",
      "RangeIndex: 61733 entries, 0 to 61732\n",
      "Data columns (total 4 columns):\n",
      " #   Column      Non-Null Count  Dtype         \n",
      "---  ------      --------------  -----         \n",
      " 0   user_id     61733 non-null  object        \n",
      " 1   first_date  61733 non-null  datetime64[ns]\n",
      " 2   region      61733 non-null  object        \n",
      " 3   device      61733 non-null  object        \n",
      "dtypes: datetime64[ns](1), object(3)\n",
      "memory usage: 1.9+ MB\n"
     ]
    },
    {
     "data": {
      "text/html": [
       "<div>\n",
       "<style scoped>\n",
       "    .dataframe tbody tr th:only-of-type {\n",
       "        vertical-align: middle;\n",
       "    }\n",
       "\n",
       "    .dataframe tbody tr th {\n",
       "        vertical-align: top;\n",
       "    }\n",
       "\n",
       "    .dataframe thead th {\n",
       "        text-align: right;\n",
       "    }\n",
       "</style>\n",
       "<table border=\"1\" class=\"dataframe\">\n",
       "  <thead>\n",
       "    <tr style=\"text-align: right;\">\n",
       "      <th></th>\n",
       "      <th>user_id</th>\n",
       "      <th>first_date</th>\n",
       "      <th>region</th>\n",
       "      <th>device</th>\n",
       "    </tr>\n",
       "  </thead>\n",
       "  <tbody>\n",
       "    <tr>\n",
       "      <th>0</th>\n",
       "      <td>D72A72121175D8BE</td>\n",
       "      <td>2020-12-07</td>\n",
       "      <td>EU</td>\n",
       "      <td>PC</td>\n",
       "    </tr>\n",
       "    <tr>\n",
       "      <th>1</th>\n",
       "      <td>F1C668619DFE6E65</td>\n",
       "      <td>2020-12-07</td>\n",
       "      <td>N.America</td>\n",
       "      <td>Android</td>\n",
       "    </tr>\n",
       "    <tr>\n",
       "      <th>2</th>\n",
       "      <td>2E1BF1D4C37EA01F</td>\n",
       "      <td>2020-12-07</td>\n",
       "      <td>EU</td>\n",
       "      <td>PC</td>\n",
       "    </tr>\n",
       "    <tr>\n",
       "      <th>3</th>\n",
       "      <td>50734A22C0C63768</td>\n",
       "      <td>2020-12-07</td>\n",
       "      <td>EU</td>\n",
       "      <td>iPhone</td>\n",
       "    </tr>\n",
       "    <tr>\n",
       "      <th>4</th>\n",
       "      <td>E1BDDCE0DAFA2679</td>\n",
       "      <td>2020-12-07</td>\n",
       "      <td>N.America</td>\n",
       "      <td>iPhone</td>\n",
       "    </tr>\n",
       "  </tbody>\n",
       "</table>\n",
       "</div>"
      ],
      "text/plain": [
       "            user_id first_date     region   device\n",
       "0  D72A72121175D8BE 2020-12-07         EU       PC\n",
       "1  F1C668619DFE6E65 2020-12-07  N.America  Android\n",
       "2  2E1BF1D4C37EA01F 2020-12-07         EU       PC\n",
       "3  50734A22C0C63768 2020-12-07         EU   iPhone\n",
       "4  E1BDDCE0DAFA2679 2020-12-07  N.America   iPhone"
      ]
     },
     "metadata": {},
     "output_type": "display_data"
    },
    {
     "data": {
      "text/plain": [
       "user_id       0\n",
       "first_date    0\n",
       "region        0\n",
       "device        0\n",
       "dtype: int64"
      ]
     },
     "metadata": {},
     "output_type": "display_data"
    }
   ],
   "source": [
    "get_info(final_ab_new_users)"
   ]
  },
  {
   "cell_type": "code",
   "execution_count": 8,
   "id": "36bed655",
   "metadata": {},
   "outputs": [
    {
     "name": "stdout",
     "output_type": "stream",
     "text": [
      "дублей не обнаружено\n"
     ]
    }
   ],
   "source": [
    "dublicate_check(final_ab_new_users)"
   ]
  },
  {
   "cell_type": "code",
   "execution_count": 9,
   "id": "67c878dd",
   "metadata": {},
   "outputs": [
    {
     "name": "stdout",
     "output_type": "stream",
     "text": [
      "<class 'pandas.core.frame.DataFrame'>\n",
      "RangeIndex: 440317 entries, 0 to 440316\n",
      "Data columns (total 4 columns):\n",
      " #   Column      Non-Null Count   Dtype         \n",
      "---  ------      --------------   -----         \n",
      " 0   user_id     440317 non-null  object        \n",
      " 1   event_dt    440317 non-null  datetime64[ns]\n",
      " 2   event_name  440317 non-null  object        \n",
      " 3   details     62740 non-null   float64       \n",
      "dtypes: datetime64[ns](1), float64(1), object(2)\n",
      "memory usage: 13.4+ MB\n"
     ]
    },
    {
     "data": {
      "text/html": [
       "<div>\n",
       "<style scoped>\n",
       "    .dataframe tbody tr th:only-of-type {\n",
       "        vertical-align: middle;\n",
       "    }\n",
       "\n",
       "    .dataframe tbody tr th {\n",
       "        vertical-align: top;\n",
       "    }\n",
       "\n",
       "    .dataframe thead th {\n",
       "        text-align: right;\n",
       "    }\n",
       "</style>\n",
       "<table border=\"1\" class=\"dataframe\">\n",
       "  <thead>\n",
       "    <tr style=\"text-align: right;\">\n",
       "      <th></th>\n",
       "      <th>user_id</th>\n",
       "      <th>event_dt</th>\n",
       "      <th>event_name</th>\n",
       "      <th>details</th>\n",
       "    </tr>\n",
       "  </thead>\n",
       "  <tbody>\n",
       "    <tr>\n",
       "      <th>0</th>\n",
       "      <td>E1BDDCE0DAFA2679</td>\n",
       "      <td>2020-12-07 20:22:03</td>\n",
       "      <td>purchase</td>\n",
       "      <td>99.99</td>\n",
       "    </tr>\n",
       "    <tr>\n",
       "      <th>1</th>\n",
       "      <td>7B6452F081F49504</td>\n",
       "      <td>2020-12-07 09:22:53</td>\n",
       "      <td>purchase</td>\n",
       "      <td>9.99</td>\n",
       "    </tr>\n",
       "    <tr>\n",
       "      <th>2</th>\n",
       "      <td>9CD9F34546DF254C</td>\n",
       "      <td>2020-12-07 12:59:29</td>\n",
       "      <td>purchase</td>\n",
       "      <td>4.99</td>\n",
       "    </tr>\n",
       "    <tr>\n",
       "      <th>3</th>\n",
       "      <td>96F27A054B191457</td>\n",
       "      <td>2020-12-07 04:02:40</td>\n",
       "      <td>purchase</td>\n",
       "      <td>4.99</td>\n",
       "    </tr>\n",
       "    <tr>\n",
       "      <th>4</th>\n",
       "      <td>1FD7660FDF94CA1F</td>\n",
       "      <td>2020-12-07 10:15:09</td>\n",
       "      <td>purchase</td>\n",
       "      <td>4.99</td>\n",
       "    </tr>\n",
       "  </tbody>\n",
       "</table>\n",
       "</div>"
      ],
      "text/plain": [
       "            user_id            event_dt event_name  details\n",
       "0  E1BDDCE0DAFA2679 2020-12-07 20:22:03   purchase    99.99\n",
       "1  7B6452F081F49504 2020-12-07 09:22:53   purchase     9.99\n",
       "2  9CD9F34546DF254C 2020-12-07 12:59:29   purchase     4.99\n",
       "3  96F27A054B191457 2020-12-07 04:02:40   purchase     4.99\n",
       "4  1FD7660FDF94CA1F 2020-12-07 10:15:09   purchase     4.99"
      ]
     },
     "metadata": {},
     "output_type": "display_data"
    },
    {
     "data": {
      "text/plain": [
       "user_id            0\n",
       "event_dt           0\n",
       "event_name         0\n",
       "details       377577\n",
       "dtype: int64"
      ]
     },
     "metadata": {},
     "output_type": "display_data"
    }
   ],
   "source": [
    "get_info(final_ab_events)"
   ]
  },
  {
   "cell_type": "markdown",
   "id": "b4e7f672",
   "metadata": {},
   "source": [
    "🧑‍🎓 Ира: Пропуски здесь можно объяснить тем, что не для каждого события будут писать доп инфо, так как в этом нет смысла"
   ]
  },
  {
   "cell_type": "code",
   "execution_count": 10,
   "id": "23973b4b",
   "metadata": {},
   "outputs": [
    {
     "name": "stdout",
     "output_type": "stream",
     "text": [
      "дублей не обнаружено\n"
     ]
    }
   ],
   "source": [
    "dublicate_check(final_ab_events)"
   ]
  },
  {
   "cell_type": "code",
   "execution_count": 11,
   "id": "bd994e47",
   "metadata": {},
   "outputs": [
    {
     "name": "stdout",
     "output_type": "stream",
     "text": [
      "<class 'pandas.core.frame.DataFrame'>\n",
      "RangeIndex: 18268 entries, 0 to 18267\n",
      "Data columns (total 3 columns):\n",
      " #   Column   Non-Null Count  Dtype \n",
      "---  ------   --------------  ----- \n",
      " 0   user_id  18268 non-null  object\n",
      " 1   group    18268 non-null  object\n",
      " 2   ab_test  18268 non-null  object\n",
      "dtypes: object(3)\n",
      "memory usage: 428.3+ KB\n"
     ]
    },
    {
     "data": {
      "text/html": [
       "<div>\n",
       "<style scoped>\n",
       "    .dataframe tbody tr th:only-of-type {\n",
       "        vertical-align: middle;\n",
       "    }\n",
       "\n",
       "    .dataframe tbody tr th {\n",
       "        vertical-align: top;\n",
       "    }\n",
       "\n",
       "    .dataframe thead th {\n",
       "        text-align: right;\n",
       "    }\n",
       "</style>\n",
       "<table border=\"1\" class=\"dataframe\">\n",
       "  <thead>\n",
       "    <tr style=\"text-align: right;\">\n",
       "      <th></th>\n",
       "      <th>user_id</th>\n",
       "      <th>group</th>\n",
       "      <th>ab_test</th>\n",
       "    </tr>\n",
       "  </thead>\n",
       "  <tbody>\n",
       "    <tr>\n",
       "      <th>0</th>\n",
       "      <td>D1ABA3E2887B6A73</td>\n",
       "      <td>A</td>\n",
       "      <td>recommender_system_test</td>\n",
       "    </tr>\n",
       "    <tr>\n",
       "      <th>1</th>\n",
       "      <td>A7A3664BD6242119</td>\n",
       "      <td>A</td>\n",
       "      <td>recommender_system_test</td>\n",
       "    </tr>\n",
       "    <tr>\n",
       "      <th>2</th>\n",
       "      <td>DABC14FDDFADD29E</td>\n",
       "      <td>A</td>\n",
       "      <td>recommender_system_test</td>\n",
       "    </tr>\n",
       "    <tr>\n",
       "      <th>3</th>\n",
       "      <td>04988C5DF189632E</td>\n",
       "      <td>A</td>\n",
       "      <td>recommender_system_test</td>\n",
       "    </tr>\n",
       "    <tr>\n",
       "      <th>4</th>\n",
       "      <td>482F14783456D21B</td>\n",
       "      <td>B</td>\n",
       "      <td>recommender_system_test</td>\n",
       "    </tr>\n",
       "  </tbody>\n",
       "</table>\n",
       "</div>"
      ],
      "text/plain": [
       "            user_id group                  ab_test\n",
       "0  D1ABA3E2887B6A73     A  recommender_system_test\n",
       "1  A7A3664BD6242119     A  recommender_system_test\n",
       "2  DABC14FDDFADD29E     A  recommender_system_test\n",
       "3  04988C5DF189632E     A  recommender_system_test\n",
       "4  482F14783456D21B     B  recommender_system_test"
      ]
     },
     "metadata": {},
     "output_type": "display_data"
    },
    {
     "data": {
      "text/plain": [
       "user_id    0\n",
       "group      0\n",
       "ab_test    0\n",
       "dtype: int64"
      ]
     },
     "metadata": {},
     "output_type": "display_data"
    }
   ],
   "source": [
    "get_info(final_ab_participants)"
   ]
  },
  {
   "cell_type": "code",
   "execution_count": 12,
   "id": "e8e1118e",
   "metadata": {},
   "outputs": [
    {
     "name": "stdout",
     "output_type": "stream",
     "text": [
      "дублей не обнаружено\n"
     ]
    }
   ],
   "source": [
    "dublicate_check(final_ab_participants)"
   ]
  },
  {
   "cell_type": "code",
   "execution_count": 13,
   "id": "83208c9c",
   "metadata": {},
   "outputs": [],
   "source": [
    "def unique_var(df, column):\n",
    "    return len(df[column].unique()), df[column].unique()"
   ]
  },
  {
   "cell_type": "code",
   "execution_count": 14,
   "id": "a8dee278",
   "metadata": {},
   "outputs": [
    {
     "name": "stdout",
     "output_type": "stream",
     "text": [
      "Кол-во уникальных значений в столбце event = 14\n"
     ]
    },
    {
     "data": {
      "text/plain": [
       "array(['Christmas&New Year Promo', \"St. Valentine's Day Giveaway\",\n",
       "       \"St. Patric's Day Promo\", 'Easter Promo', '4th of July Promo',\n",
       "       'Black Friday Ads Campaign', 'Chinese New Year Promo',\n",
       "       'Labor day (May 1st) Ads Campaign',\n",
       "       \"International Women's Day Promo\",\n",
       "       'Victory Day CIS (May 9th) Event', 'CIS New Year Gift Lottery',\n",
       "       'Dragon Boat Festival Giveaway', \"Single's Day Gift Promo\",\n",
       "       'Chinese Moon Festival'], dtype=object)"
      ]
     },
     "execution_count": 14,
     "metadata": {},
     "output_type": "execute_result"
    }
   ],
   "source": [
    "unique_events_count, unique_events_list = unique_var(ab_project_marketing_events, 'name')\n",
    "print('Кол-во уникальных значений в столбце event =', unique_events_count)\n",
    "unique_events_list"
   ]
  },
  {
   "cell_type": "code",
   "execution_count": 15,
   "id": "aa6d8b04",
   "metadata": {},
   "outputs": [
    {
     "name": "stdout",
     "output_type": "stream",
     "text": [
      "Кол-во уникальных значений в столбце event = 6\n"
     ]
    },
    {
     "data": {
      "text/plain": [
       "array(['EU, N.America', 'EU, CIS, APAC, N.America', 'N.America', 'APAC',\n",
       "       'EU, CIS, APAC', 'CIS'], dtype=object)"
      ]
     },
     "execution_count": 15,
     "metadata": {},
     "output_type": "execute_result"
    }
   ],
   "source": [
    "unique_regions_count, unique_regions_list = unique_var(ab_project_marketing_events, 'regions')\n",
    "print('Кол-во уникальных значений в столбце event =', unique_regions_count)\n",
    "unique_regions_list"
   ]
  },
  {
   "cell_type": "code",
   "execution_count": 16,
   "id": "54413db1",
   "metadata": {},
   "outputs": [
    {
     "name": "stdout",
     "output_type": "stream",
     "text": [
      "Кол-во уникальных значений в столбце event = 4\n"
     ]
    },
    {
     "data": {
      "text/plain": [
       "array(['EU', 'N.America', 'APAC', 'CIS'], dtype=object)"
      ]
     },
     "execution_count": 16,
     "metadata": {},
     "output_type": "execute_result"
    }
   ],
   "source": [
    "unique_ab_regions_count, unique_ab_regions_list = unique_var(final_ab_new_users, 'region')\n",
    "print('Кол-во уникальных значений в столбце event =', unique_ab_regions_count)\n",
    "unique_ab_regions_list"
   ]
  },
  {
   "cell_type": "code",
   "execution_count": 17,
   "id": "09f06e46",
   "metadata": {},
   "outputs": [
    {
     "name": "stdout",
     "output_type": "stream",
     "text": [
      "Кол-во уникальных значений в столбце event = 4\n"
     ]
    },
    {
     "data": {
      "text/plain": [
       "array(['PC', 'Android', 'iPhone', 'Mac'], dtype=object)"
      ]
     },
     "execution_count": 17,
     "metadata": {},
     "output_type": "execute_result"
    }
   ],
   "source": [
    "unique_ab_device_count, unique_ab_device_list = unique_var(final_ab_new_users, 'device')\n",
    "print('Кол-во уникальных значений в столбце event =', unique_ab_device_count)\n",
    "unique_ab_device_list"
   ]
  },
  {
   "cell_type": "code",
   "execution_count": 18,
   "id": "971c1325",
   "metadata": {},
   "outputs": [
    {
     "name": "stdout",
     "output_type": "stream",
     "text": [
      "Кол-во уникальных значений в столбце event = 4\n"
     ]
    },
    {
     "data": {
      "text/plain": [
       "array(['purchase', 'product_cart', 'product_page', 'login'], dtype=object)"
      ]
     },
     "execution_count": 18,
     "metadata": {},
     "output_type": "execute_result"
    }
   ],
   "source": [
    "unique_ab_events_count, unique_ab_events_list = unique_var(final_ab_events, 'event_name')\n",
    "print('Кол-во уникальных значений в столбце event =', unique_ab_events_count)\n",
    "unique_ab_events_list"
   ]
  },
  {
   "cell_type": "markdown",
   "id": "6d70d0be",
   "metadata": {},
   "source": [
    "<div class=\"alert alert-info\">\n",
    "\n",
    "## Оцените корректность проведения теста."
   ]
  },
  {
   "cell_type": "code",
   "execution_count": 19,
   "id": "8f2359c6",
   "metadata": {},
   "outputs": [
    {
     "data": {
      "text/html": [
       "<div>\n",
       "<style scoped>\n",
       "    .dataframe tbody tr th:only-of-type {\n",
       "        vertical-align: middle;\n",
       "    }\n",
       "\n",
       "    .dataframe tbody tr th {\n",
       "        vertical-align: top;\n",
       "    }\n",
       "\n",
       "    .dataframe thead th {\n",
       "        text-align: right;\n",
       "    }\n",
       "</style>\n",
       "<table border=\"1\" class=\"dataframe\">\n",
       "  <thead>\n",
       "    <tr style=\"text-align: right;\">\n",
       "      <th></th>\n",
       "      <th>name</th>\n",
       "      <th>regions</th>\n",
       "      <th>start_dt</th>\n",
       "      <th>finish_dt</th>\n",
       "    </tr>\n",
       "  </thead>\n",
       "  <tbody>\n",
       "    <tr>\n",
       "      <th>0</th>\n",
       "      <td>Christmas&amp;New Year Promo</td>\n",
       "      <td>EU, N.America</td>\n",
       "      <td>2020-12-25</td>\n",
       "      <td>2021-01-03</td>\n",
       "    </tr>\n",
       "    <tr>\n",
       "      <th>1</th>\n",
       "      <td>St. Valentine's Day Giveaway</td>\n",
       "      <td>EU, CIS, APAC, N.America</td>\n",
       "      <td>2020-02-14</td>\n",
       "      <td>2020-02-16</td>\n",
       "    </tr>\n",
       "    <tr>\n",
       "      <th>2</th>\n",
       "      <td>St. Patric's Day Promo</td>\n",
       "      <td>EU, N.America</td>\n",
       "      <td>2020-03-17</td>\n",
       "      <td>2020-03-19</td>\n",
       "    </tr>\n",
       "    <tr>\n",
       "      <th>3</th>\n",
       "      <td>Easter Promo</td>\n",
       "      <td>EU, CIS, APAC, N.America</td>\n",
       "      <td>2020-04-12</td>\n",
       "      <td>2020-04-19</td>\n",
       "    </tr>\n",
       "    <tr>\n",
       "      <th>4</th>\n",
       "      <td>4th of July Promo</td>\n",
       "      <td>N.America</td>\n",
       "      <td>2020-07-04</td>\n",
       "      <td>2020-07-11</td>\n",
       "    </tr>\n",
       "    <tr>\n",
       "      <th>5</th>\n",
       "      <td>Black Friday Ads Campaign</td>\n",
       "      <td>EU, CIS, APAC, N.America</td>\n",
       "      <td>2020-11-26</td>\n",
       "      <td>2020-12-01</td>\n",
       "    </tr>\n",
       "    <tr>\n",
       "      <th>6</th>\n",
       "      <td>Chinese New Year Promo</td>\n",
       "      <td>APAC</td>\n",
       "      <td>2020-01-25</td>\n",
       "      <td>2020-02-07</td>\n",
       "    </tr>\n",
       "    <tr>\n",
       "      <th>7</th>\n",
       "      <td>Labor day (May 1st) Ads Campaign</td>\n",
       "      <td>EU, CIS, APAC</td>\n",
       "      <td>2020-05-01</td>\n",
       "      <td>2020-05-03</td>\n",
       "    </tr>\n",
       "    <tr>\n",
       "      <th>8</th>\n",
       "      <td>International Women's Day Promo</td>\n",
       "      <td>EU, CIS, APAC</td>\n",
       "      <td>2020-03-08</td>\n",
       "      <td>2020-03-10</td>\n",
       "    </tr>\n",
       "    <tr>\n",
       "      <th>9</th>\n",
       "      <td>Victory Day CIS (May 9th) Event</td>\n",
       "      <td>CIS</td>\n",
       "      <td>2020-05-09</td>\n",
       "      <td>2020-05-11</td>\n",
       "    </tr>\n",
       "    <tr>\n",
       "      <th>10</th>\n",
       "      <td>CIS New Year Gift Lottery</td>\n",
       "      <td>CIS</td>\n",
       "      <td>2020-12-30</td>\n",
       "      <td>2021-01-07</td>\n",
       "    </tr>\n",
       "    <tr>\n",
       "      <th>11</th>\n",
       "      <td>Dragon Boat Festival Giveaway</td>\n",
       "      <td>APAC</td>\n",
       "      <td>2020-06-25</td>\n",
       "      <td>2020-07-01</td>\n",
       "    </tr>\n",
       "    <tr>\n",
       "      <th>12</th>\n",
       "      <td>Single's Day Gift Promo</td>\n",
       "      <td>APAC</td>\n",
       "      <td>2020-11-11</td>\n",
       "      <td>2020-11-12</td>\n",
       "    </tr>\n",
       "    <tr>\n",
       "      <th>13</th>\n",
       "      <td>Chinese Moon Festival</td>\n",
       "      <td>APAC</td>\n",
       "      <td>2020-10-01</td>\n",
       "      <td>2020-10-07</td>\n",
       "    </tr>\n",
       "  </tbody>\n",
       "</table>\n",
       "</div>"
      ],
      "text/plain": [
       "                                name                   regions   start_dt  \\\n",
       "0           Christmas&New Year Promo             EU, N.America 2020-12-25   \n",
       "1       St. Valentine's Day Giveaway  EU, CIS, APAC, N.America 2020-02-14   \n",
       "2             St. Patric's Day Promo             EU, N.America 2020-03-17   \n",
       "3                       Easter Promo  EU, CIS, APAC, N.America 2020-04-12   \n",
       "4                  4th of July Promo                 N.America 2020-07-04   \n",
       "5          Black Friday Ads Campaign  EU, CIS, APAC, N.America 2020-11-26   \n",
       "6             Chinese New Year Promo                      APAC 2020-01-25   \n",
       "7   Labor day (May 1st) Ads Campaign             EU, CIS, APAC 2020-05-01   \n",
       "8    International Women's Day Promo             EU, CIS, APAC 2020-03-08   \n",
       "9    Victory Day CIS (May 9th) Event                       CIS 2020-05-09   \n",
       "10         CIS New Year Gift Lottery                       CIS 2020-12-30   \n",
       "11     Dragon Boat Festival Giveaway                      APAC 2020-06-25   \n",
       "12           Single's Day Gift Promo                      APAC 2020-11-11   \n",
       "13             Chinese Moon Festival                      APAC 2020-10-01   \n",
       "\n",
       "    finish_dt  \n",
       "0  2021-01-03  \n",
       "1  2020-02-16  \n",
       "2  2020-03-19  \n",
       "3  2020-04-19  \n",
       "4  2020-07-11  \n",
       "5  2020-12-01  \n",
       "6  2020-02-07  \n",
       "7  2020-05-03  \n",
       "8  2020-03-10  \n",
       "9  2020-05-11  \n",
       "10 2021-01-07  \n",
       "11 2020-07-01  \n",
       "12 2020-11-12  \n",
       "13 2020-10-07  "
      ]
     },
     "execution_count": 19,
     "metadata": {},
     "output_type": "execute_result"
    }
   ],
   "source": [
    "start = pd.to_datetime('2020-12-07')\n",
    "end = pd.to_datetime('2021-01-04')\n",
    "ab_project_marketing_events"
   ]
  },
  {
   "cell_type": "markdown",
   "id": "dbb4aa19",
   "metadata": {},
   "source": [
    "🧑‍🎓 Ира: Выходит, что наш тест совпадает со временем проведения другой маркетинговой кампании"
   ]
  },
  {
   "cell_type": "markdown",
   "id": "b2a9e57c",
   "metadata": {},
   "source": [
    "<div class=\"alert alert-info\">\n",
    "\n",
    "## % Пользователей из региона Европа"
   ]
  },
  {
   "cell_type": "markdown",
   "id": "94775c57",
   "metadata": {},
   "source": [
    "требование: 15% новых пользователей из региона EU"
   ]
  },
  {
   "cell_type": "code",
   "execution_count": 20,
   "id": "2eb6ac77",
   "metadata": {},
   "outputs": [
    {
     "data": {
      "text/html": [
       "<div>\n",
       "<style scoped>\n",
       "    .dataframe tbody tr th:only-of-type {\n",
       "        vertical-align: middle;\n",
       "    }\n",
       "\n",
       "    .dataframe tbody tr th {\n",
       "        vertical-align: top;\n",
       "    }\n",
       "\n",
       "    .dataframe thead th {\n",
       "        text-align: right;\n",
       "    }\n",
       "</style>\n",
       "<table border=\"1\" class=\"dataframe\">\n",
       "  <thead>\n",
       "    <tr style=\"text-align: right;\">\n",
       "      <th></th>\n",
       "      <th>region</th>\n",
       "      <th>user_id</th>\n",
       "    </tr>\n",
       "  </thead>\n",
       "  <tbody>\n",
       "    <tr>\n",
       "      <th>0</th>\n",
       "      <td>APAC</td>\n",
       "      <td>3153</td>\n",
       "    </tr>\n",
       "    <tr>\n",
       "      <th>1</th>\n",
       "      <td>CIS</td>\n",
       "      <td>3155</td>\n",
       "    </tr>\n",
       "    <tr>\n",
       "      <th>2</th>\n",
       "      <td>EU</td>\n",
       "      <td>46270</td>\n",
       "    </tr>\n",
       "    <tr>\n",
       "      <th>3</th>\n",
       "      <td>N.America</td>\n",
       "      <td>9155</td>\n",
       "    </tr>\n",
       "  </tbody>\n",
       "</table>\n",
       "</div>"
      ],
      "text/plain": [
       "      region  user_id\n",
       "0       APAC     3153\n",
       "1        CIS     3155\n",
       "2         EU    46270\n",
       "3  N.America     9155"
      ]
     },
     "execution_count": 20,
     "metadata": {},
     "output_type": "execute_result"
    }
   ],
   "source": [
    "ab_new_users_region_count = final_ab_new_users.groupby('region')['user_id'].nunique().reset_index()\n",
    "ab_new_users_region_count"
   ]
  },
  {
   "cell_type": "code",
   "execution_count": 21,
   "id": "60977138",
   "metadata": {},
   "outputs": [],
   "source": [
    "ab_events_first_ts = (\n",
    "    final_ab_events.sort_values(by=['user_id', 'event_dt'])\n",
    "    .groupby(['user_id'])\n",
    "    .agg(\n",
    "        {\n",
    "            'event_dt': 'first',\n",
    "        }\n",
    "    )\n",
    "    .rename(columns={'event_dt': 'first_ts'})\n",
    "    .reset_index()\n",
    ")\n",
    "\n",
    "ab_events_last_ts = (\n",
    "    final_ab_events.sort_values(by=['user_id', 'event_dt'])\n",
    "    .groupby(['user_id'])\n",
    "    .agg(\n",
    "        {\n",
    "            'event_dt': 'last',\n",
    "        }\n",
    "    )\n",
    "    .rename(columns={'event_dt': 'last_ts'})\n",
    "    .reset_index()\n",
    ")\n",
    "\n",
    "days_active = ab_events_first_ts.merge(ab_events_last_ts, left_on='user_id', right_on='user_id', suffixes=('', '_y'), how='left')\n",
    "days_active = days_active.drop(days_active.filter(regex='_y$').columns, axis=1)\n",
    "days_active['days'] = ((days_active['last_ts'] - days_active['first_ts']) / np.timedelta64(1,'D')).astype(int)\n",
    "two_weeks_active_users = days_active.query('days <= 14')['user_id'].unique()\n",
    "\n"
   ]
  },
  {
   "cell_type": "code",
   "execution_count": 22,
   "id": "5e6d76ea",
   "metadata": {},
   "outputs": [],
   "source": [
    "#для начала объединим данные о группах юзеров с данными о действиях юзеров в период проведения теста\n",
    "ab_events_user = final_ab_events.merge(\n",
    "    final_ab_participants.query('ab_test == \"recommender_system_test\"'), \n",
    "    on ='user_id', how='inner')\n",
    "\n",
    "#далее объеденим с инфо о юзерах, зарегестрированных в период набора\n",
    "ab_events_user = ab_events_user.merge(final_ab_new_users, on ='user_id', how='inner')\n",
    "\n",
    "ab_events_user = ab_events_user.query('user_id in @two_weeks_active_users')\n",
    "ab_events_user['event_date'] = pd.to_datetime(ab_events_user['event_dt']).dt.date\n"
   ]
  },
  {
   "cell_type": "code",
   "execution_count": 23,
   "id": "a7f37530",
   "metadata": {},
   "outputs": [
    {
     "data": {
      "text/html": [
       "<div>\n",
       "<style scoped>\n",
       "    .dataframe tbody tr th:only-of-type {\n",
       "        vertical-align: middle;\n",
       "    }\n",
       "\n",
       "    .dataframe tbody tr th {\n",
       "        vertical-align: top;\n",
       "    }\n",
       "\n",
       "    .dataframe thead th {\n",
       "        text-align: right;\n",
       "    }\n",
       "</style>\n",
       "<table border=\"1\" class=\"dataframe\">\n",
       "  <thead>\n",
       "    <tr style=\"text-align: right;\">\n",
       "      <th></th>\n",
       "      <th>region</th>\n",
       "      <th>user_id_x</th>\n",
       "      <th>user_id_y</th>\n",
       "      <th>new_to_ab_prop</th>\n",
       "    </tr>\n",
       "  </thead>\n",
       "  <tbody>\n",
       "    <tr>\n",
       "      <th>0</th>\n",
       "      <td>APAC</td>\n",
       "      <td>42</td>\n",
       "      <td>3153</td>\n",
       "      <td>1.332065</td>\n",
       "    </tr>\n",
       "    <tr>\n",
       "      <th>1</th>\n",
       "      <td>CIS</td>\n",
       "      <td>27</td>\n",
       "      <td>3155</td>\n",
       "      <td>0.855784</td>\n",
       "    </tr>\n",
       "    <tr>\n",
       "      <th>2</th>\n",
       "      <td>EU</td>\n",
       "      <td>3259</td>\n",
       "      <td>46270</td>\n",
       "      <td>7.043441</td>\n",
       "    </tr>\n",
       "    <tr>\n",
       "      <th>3</th>\n",
       "      <td>N.America</td>\n",
       "      <td>111</td>\n",
       "      <td>9155</td>\n",
       "      <td>1.212452</td>\n",
       "    </tr>\n",
       "  </tbody>\n",
       "</table>\n",
       "</div>"
      ],
      "text/plain": [
       "      region  user_id_x  user_id_y  new_to_ab_prop\n",
       "0       APAC         42       3153        1.332065\n",
       "1        CIS         27       3155        0.855784\n",
       "2         EU       3259      46270        7.043441\n",
       "3  N.America        111       9155        1.212452"
      ]
     },
     "execution_count": 23,
     "metadata": {},
     "output_type": "execute_result"
    }
   ],
   "source": [
    "ab_events_user_region_count = ab_events_user.groupby('region')['user_id'].nunique().reset_index()\n",
    "ab_events_user_region_count = ab_events_user_region_count.merge(ab_new_users_region_count, on='region', how='inner')\n",
    "ab_events_user_region_count['new_to_ab_prop'] = ab_events_user_region_count['user_id_x'] / ab_events_user_region_count['user_id_y'] * 100\n",
    "ab_events_user_region_count\n"
   ]
  },
  {
   "cell_type": "markdown",
   "id": "30d32a17",
   "metadata": {},
   "source": [
    "🧑‍🎓 Ира: Для проверки ТЗ была найдена доля новых уникальных пользователей, участвовавших в тесте, к общему кол-ву новых пользователей сайта в период проведения теста.  \n",
    "Из всех новых пользователей за указанный период лишь малая часть попала в финальную выборку.  \n",
    "Из региона Европа в тесте участвовали лишь 7% новых клиентов сайта  "
   ]
  },
  {
   "cell_type": "code",
   "execution_count": 24,
   "id": "b8ccb3f0",
   "metadata": {},
   "outputs": [
    {
     "name": "stdout",
     "output_type": "stream",
     "text": [
      "A group (18217, 10)\n",
      "B group (4527, 10)\n",
      "B to A group prop = 0.24850414448043037\n"
     ]
    }
   ],
   "source": [
    "ab_events_user_a = ab_events_user.query('group == \"A\"')\n",
    "ab_events_user_b = ab_events_user.query('group == \"B\"')\n",
    "print('A group', ab_events_user_a.shape)\n",
    "print('B group', ab_events_user_b.shape)\n",
    "print('B to A group prop =', ab_events_user_b.shape[0] / ab_events_user_a.shape[0])"
   ]
  },
  {
   "cell_type": "code",
   "execution_count": 25,
   "id": "a3088441",
   "metadata": {},
   "outputs": [
    {
     "data": {
      "text/html": [
       "<div>\n",
       "<style scoped>\n",
       "    .dataframe tbody tr th:only-of-type {\n",
       "        vertical-align: middle;\n",
       "    }\n",
       "\n",
       "    .dataframe tbody tr th {\n",
       "        vertical-align: top;\n",
       "    }\n",
       "\n",
       "    .dataframe thead th {\n",
       "        text-align: right;\n",
       "    }\n",
       "</style>\n",
       "<table border=\"1\" class=\"dataframe\">\n",
       "  <thead>\n",
       "    <tr style=\"text-align: right;\">\n",
       "      <th></th>\n",
       "      <th>user_id</th>\n",
       "      <th>event_dt</th>\n",
       "      <th>event_name</th>\n",
       "      <th>details</th>\n",
       "      <th>group</th>\n",
       "      <th>ab_test</th>\n",
       "      <th>first_date</th>\n",
       "      <th>region</th>\n",
       "      <th>device</th>\n",
       "      <th>event_date</th>\n",
       "    </tr>\n",
       "  </thead>\n",
       "  <tbody>\n",
       "  </tbody>\n",
       "</table>\n",
       "</div>"
      ],
      "text/plain": [
       "Empty DataFrame\n",
       "Columns: [user_id, event_dt, event_name, details, group, ab_test, first_date, region, device, event_date]\n",
       "Index: []"
      ]
     },
     "execution_count": 25,
     "metadata": {},
     "output_type": "execute_result"
    }
   ],
   "source": [
    "b_group_users = ab_events_user_b['user_id'].unique()\n",
    "check_a_group = ab_events_user_a.query('user_id in @b_group_users')\n",
    "check_a_group"
   ]
  },
  {
   "cell_type": "markdown",
   "id": "b1a743da",
   "metadata": {},
   "source": [
    "<div style=\"border:solid blue 1px; padding: 10px\">\n",
    "<b>Краткий вывод</b>\n",
    "    \n",
    "    Если делать краткий общий вывод по первоначальной проверке, выглядит все не очень радужно на мой взгляд:\n",
    "    - очень большая разница в кол-ве пользователей между группами  \n",
    "    - во время проведегния теста была запущена еще одна рекламная кампания, и не смотря на то, что группы к этому времени уже набрались, они могли совершать покупки как раз руководствуясь предложениями этой кампании  "
   ]
  },
  {
   "cell_type": "markdown",
   "id": "ee2702dd",
   "metadata": {},
   "source": [
    "<div class=\"alert alert-info\">\n",
    "\n",
    "## Исследовательский анализ по группам теста"
   ]
  },
  {
   "cell_type": "code",
   "execution_count": 26,
   "id": "ec1b838b",
   "metadata": {},
   "outputs": [
    {
     "data": {
      "text/html": [
       "<div>\n",
       "<style scoped>\n",
       "    .dataframe tbody tr th:only-of-type {\n",
       "        vertical-align: middle;\n",
       "    }\n",
       "\n",
       "    .dataframe tbody tr th {\n",
       "        vertical-align: top;\n",
       "    }\n",
       "\n",
       "    .dataframe thead th {\n",
       "        text-align: right;\n",
       "    }\n",
       "</style>\n",
       "<table border=\"1\" class=\"dataframe\">\n",
       "  <thead>\n",
       "    <tr style=\"text-align: right;\">\n",
       "      <th>event_name</th>\n",
       "      <th>event_date</th>\n",
       "      <th>group</th>\n",
       "      <th>login</th>\n",
       "      <th>product_cart</th>\n",
       "      <th>product_page</th>\n",
       "      <th>purchase</th>\n",
       "    </tr>\n",
       "  </thead>\n",
       "  <tbody>\n",
       "    <tr>\n",
       "      <th>0</th>\n",
       "      <td>2020-12-07</td>\n",
       "      <td>A</td>\n",
       "      <td>113</td>\n",
       "      <td>23</td>\n",
       "      <td>71</td>\n",
       "      <td>33</td>\n",
       "    </tr>\n",
       "    <tr>\n",
       "      <th>1</th>\n",
       "      <td>2020-12-07</td>\n",
       "      <td>B</td>\n",
       "      <td>108</td>\n",
       "      <td>31</td>\n",
       "      <td>69</td>\n",
       "      <td>38</td>\n",
       "    </tr>\n",
       "    <tr>\n",
       "      <th>2</th>\n",
       "      <td>2020-12-08</td>\n",
       "      <td>A</td>\n",
       "      <td>121</td>\n",
       "      <td>32</td>\n",
       "      <td>79</td>\n",
       "      <td>26</td>\n",
       "    </tr>\n",
       "    <tr>\n",
       "      <th>3</th>\n",
       "      <td>2020-12-08</td>\n",
       "      <td>B</td>\n",
       "      <td>92</td>\n",
       "      <td>24</td>\n",
       "      <td>48</td>\n",
       "      <td>26</td>\n",
       "    </tr>\n",
       "    <tr>\n",
       "      <th>4</th>\n",
       "      <td>2020-12-09</td>\n",
       "      <td>A</td>\n",
       "      <td>134</td>\n",
       "      <td>43</td>\n",
       "      <td>81</td>\n",
       "      <td>40</td>\n",
       "    </tr>\n",
       "  </tbody>\n",
       "</table>\n",
       "</div>"
      ],
      "text/plain": [
       "event_name  event_date group  login  product_cart  product_page  purchase\n",
       "0           2020-12-07     A    113            23            71        33\n",
       "1           2020-12-07     B    108            31            69        38\n",
       "2           2020-12-08     A    121            32            79        26\n",
       "3           2020-12-08     B     92            24            48        26\n",
       "4           2020-12-09     A    134            43            81        40"
      ]
     },
     "execution_count": 26,
     "metadata": {},
     "output_type": "execute_result"
    }
   ],
   "source": [
    "user_aggregated = ab_events_user.pivot_table(\n",
    "    index=['event_date', 'group'],\n",
    "    columns='event_name',\n",
    "    values='user_id',\n",
    "    aggfunc='nunique'\n",
    "    \n",
    ").reset_index()\n",
    "user_aggregated.index.name = None\n",
    "user_aggregated.head()"
   ]
  },
  {
   "cell_type": "code",
   "execution_count": 27,
   "id": "29274404",
   "metadata": {},
   "outputs": [
    {
     "data": {
      "text/html": [
       "<div>\n",
       "<style scoped>\n",
       "    .dataframe tbody tr th:only-of-type {\n",
       "        vertical-align: middle;\n",
       "    }\n",
       "\n",
       "    .dataframe tbody tr th {\n",
       "        vertical-align: top;\n",
       "    }\n",
       "\n",
       "    .dataframe thead th {\n",
       "        text-align: right;\n",
       "    }\n",
       "</style>\n",
       "<table border=\"1\" class=\"dataframe\">\n",
       "  <thead>\n",
       "    <tr style=\"text-align: right;\">\n",
       "      <th></th>\n",
       "      <th>event_date</th>\n",
       "      <th>group</th>\n",
       "      <th>event_name</th>\n",
       "    </tr>\n",
       "  </thead>\n",
       "  <tbody>\n",
       "    <tr>\n",
       "      <th>0</th>\n",
       "      <td>2020-12-07</td>\n",
       "      <td>A</td>\n",
       "      <td>240</td>\n",
       "    </tr>\n",
       "    <tr>\n",
       "      <th>1</th>\n",
       "      <td>2020-12-07</td>\n",
       "      <td>B</td>\n",
       "      <td>246</td>\n",
       "    </tr>\n",
       "    <tr>\n",
       "      <th>2</th>\n",
       "      <td>2020-12-08</td>\n",
       "      <td>A</td>\n",
       "      <td>258</td>\n",
       "    </tr>\n",
       "    <tr>\n",
       "      <th>3</th>\n",
       "      <td>2020-12-08</td>\n",
       "      <td>B</td>\n",
       "      <td>190</td>\n",
       "    </tr>\n",
       "    <tr>\n",
       "      <th>4</th>\n",
       "      <td>2020-12-09</td>\n",
       "      <td>A</td>\n",
       "      <td>298</td>\n",
       "    </tr>\n",
       "  </tbody>\n",
       "</table>\n",
       "</div>"
      ],
      "text/plain": [
       "   event_date group  event_name\n",
       "0  2020-12-07     A         240\n",
       "1  2020-12-07     B         246\n",
       "2  2020-12-08     A         258\n",
       "3  2020-12-08     B         190\n",
       "4  2020-12-09     A         298"
      ]
     },
     "execution_count": 27,
     "metadata": {},
     "output_type": "execute_result"
    }
   ],
   "source": [
    "event_aggregated = ab_events_user.pivot_table(\n",
    "    index=['event_date', 'group'],\n",
    "    values='event_name',\n",
    "    aggfunc='count'\n",
    "    \n",
    ").reset_index()\n",
    "event_aggregated.index.name = None\n",
    "event_aggregated.head()"
   ]
  },
  {
   "cell_type": "code",
   "execution_count": 28,
   "id": "b6c8560c",
   "metadata": {},
   "outputs": [
    {
     "data": {
      "text/html": [
       "<div>\n",
       "<style scoped>\n",
       "    .dataframe tbody tr th:only-of-type {\n",
       "        vertical-align: middle;\n",
       "    }\n",
       "\n",
       "    .dataframe tbody tr th {\n",
       "        vertical-align: top;\n",
       "    }\n",
       "\n",
       "    .dataframe thead th {\n",
       "        text-align: right;\n",
       "    }\n",
       "</style>\n",
       "<table border=\"1\" class=\"dataframe\">\n",
       "  <thead>\n",
       "    <tr style=\"text-align: right;\">\n",
       "      <th></th>\n",
       "      <th>event_date</th>\n",
       "      <th>group</th>\n",
       "      <th>event_name</th>\n",
       "    </tr>\n",
       "  </thead>\n",
       "  <tbody>\n",
       "    <tr>\n",
       "      <th>0</th>\n",
       "      <td>2020-12-07</td>\n",
       "      <td>A</td>\n",
       "      <td>2.123894</td>\n",
       "    </tr>\n",
       "    <tr>\n",
       "      <th>1</th>\n",
       "      <td>2020-12-07</td>\n",
       "      <td>B</td>\n",
       "      <td>2.196429</td>\n",
       "    </tr>\n",
       "    <tr>\n",
       "      <th>2</th>\n",
       "      <td>2020-12-08</td>\n",
       "      <td>A</td>\n",
       "      <td>2.114754</td>\n",
       "    </tr>\n",
       "    <tr>\n",
       "      <th>3</th>\n",
       "      <td>2020-12-08</td>\n",
       "      <td>B</td>\n",
       "      <td>2.043011</td>\n",
       "    </tr>\n",
       "    <tr>\n",
       "      <th>4</th>\n",
       "      <td>2020-12-09</td>\n",
       "      <td>A</td>\n",
       "      <td>2.223881</td>\n",
       "    </tr>\n",
       "  </tbody>\n",
       "</table>\n",
       "</div>"
      ],
      "text/plain": [
       "   event_date group  event_name\n",
       "0  2020-12-07     A    2.123894\n",
       "1  2020-12-07     B    2.196429\n",
       "2  2020-12-08     A    2.114754\n",
       "3  2020-12-08     B    2.043011\n",
       "4  2020-12-09     A    2.223881"
      ]
     },
     "execution_count": 28,
     "metadata": {},
     "output_type": "execute_result"
    }
   ],
   "source": [
    "user_event_aggregated = ab_events_user.pivot_table(\n",
    "    index=['event_date', 'group', 'user_id'],\n",
    "    values='event_name',\n",
    "    aggfunc='count'\n",
    "    \n",
    ").reset_index()\n",
    "user_event_aggregated.index.name = None\n",
    "user_event_aggregated = user_event_aggregated.groupby(['event_date', 'group'])['event_name'].mean().reset_index()\n",
    "user_event_aggregated.head()\n",
    "\n",
    "\n"
   ]
  },
  {
   "cell_type": "code",
   "execution_count": 29,
   "id": "e75fc108",
   "metadata": {},
   "outputs": [],
   "source": [
    "def plot_line(a_x, a_y, b_x, b_y, x_label, y_label, title, axis=[None, None, None, None]):\n",
    "    plt.figure(figsize=(10, 5)) \n",
    "    \n",
    "    plt.plot(a_x, a_y, label='A')\n",
    "    \n",
    "    plt.plot(b_x, b_y, label='B')\n",
    "    plt.axis(axis)\n",
    "    plt.legend()\n",
    "    plt.title(title)\n",
    "    plt.xlabel(x_label)\n",
    "    plt.ylabel(y_label)\n",
    "    plt.show()"
   ]
  },
  {
   "cell_type": "code",
   "execution_count": 30,
   "id": "e082a252",
   "metadata": {},
   "outputs": [
    {
     "data": {
      "image/png": "[encoded data removed]",
      "text/plain": [
       "<Figure size 720x360 with 1 Axes>"
      ]
     },
     "metadata": {
      "needs_background": "light"
     },
     "output_type": "display_data"
    }
   ],
   "source": [
    "title = 'Среднее кол-во событий на пользователя во времени'\n",
    "x_label = 'Дата проведения теста'\n",
    "y_label = 'Среднее кол-во событий на пользователя'\n",
    "a_x = user_event_aggregated.query('group == \"A\"')['event_date']\n",
    "a_y = user_event_aggregated.query('group == \"A\"')['event_name']\n",
    "b_x = user_event_aggregated.query('group == \"B\"')['event_date']\n",
    "b_y = user_event_aggregated.query('group == \"B\"')['event_name']\n",
    "plot_line(a_x, a_y, b_x, b_y, x_label, y_label, title, [None, None, 0, 5])"
   ]
  },
  {
   "cell_type": "code",
   "execution_count": 31,
   "id": "f059c90a",
   "metadata": {},
   "outputs": [
    {
     "data": {
      "image/png": "[encoded data removed]",
      "text/plain": [
       "<Figure size 720x360 with 1 Axes>"
      ]
     },
     "metadata": {
      "needs_background": "light"
     },
     "output_type": "display_data"
    }
   ],
   "source": [
    "title = 'Кол-во событий во времени'\n",
    "x_label = 'Дата проведения теста'\n",
    "y_label = 'Кол-во событий'\n",
    "a_x = event_aggregated.query('group == \"A\"')['event_date']\n",
    "a_y = event_aggregated.query('group == \"A\"')['event_name']\n",
    "b_x = event_aggregated.query('group == \"B\"')['event_date']\n",
    "b_y = event_aggregated.query('group == \"B\"')['event_name']\n",
    "plot_line(a_x, a_y, b_x, b_y, x_label, y_label, title)"
   ]
  },
  {
   "cell_type": "markdown",
   "id": "4891deeb",
   "metadata": {},
   "source": [
    "🧑‍🎓 Ира:  \n",
    "я предполагаю, что пользователи могут \"прыгать\" между событиями, и не обязательно, что все 4 события были каждым пользователем выполнены. Это так же видно по диаграмме среднего кол-ва событий на юзера.  \n",
    "Например, если пользователь уже зарегестрирован на сайте, и у него уже собрана корзина, он может залогиниться, перейти в корзину и сразу пойти в покупку, пропустив просмотр карточки товара.  \n",
    "Так же я делаю предположение, что нельзя сразу после логина идти в покупку, скорее всего для этого необходимо перейти в корзину и оттуда нажать \"оплатить\".  \n",
    "\n",
    "Исходя из этих предположений, я посчитаю конверсию логин-карточка-корзина-покупка, а так же логин-корзина-покупка"
   ]
  },
  {
   "cell_type": "code",
   "execution_count": 32,
   "id": "5a099f9e",
   "metadata": {},
   "outputs": [],
   "source": [
    "user_aggregated['login_product_conversion'] = user_aggregated['product_page'] / user_aggregated['login']\n",
    "user_aggregated['product_cart_conversion'] = user_aggregated['product_cart'] / user_aggregated['product_page']\n",
    "user_aggregated['login_cart_conversion'] = user_aggregated['product_cart'] / user_aggregated['login']\n",
    "user_aggregated['cart_purchase_conversion'] = user_aggregated['purchase'] / user_aggregated['product_cart']\n"
   ]
  },
  {
   "cell_type": "code",
   "execution_count": 33,
   "id": "32cedf00",
   "metadata": {},
   "outputs": [
    {
     "data": {
      "text/html": [
       "<div>\n",
       "<style scoped>\n",
       "    .dataframe tbody tr th:only-of-type {\n",
       "        vertical-align: middle;\n",
       "    }\n",
       "\n",
       "    .dataframe tbody tr th {\n",
       "        vertical-align: top;\n",
       "    }\n",
       "\n",
       "    .dataframe thead th {\n",
       "        text-align: right;\n",
       "    }\n",
       "</style>\n",
       "<table border=\"1\" class=\"dataframe\">\n",
       "  <thead>\n",
       "    <tr style=\"text-align: right;\">\n",
       "      <th>event_name</th>\n",
       "      <th>event_date</th>\n",
       "      <th>group</th>\n",
       "      <th>login</th>\n",
       "      <th>product_cart</th>\n",
       "      <th>product_page</th>\n",
       "      <th>purchase</th>\n",
       "      <th>login_product_conversion</th>\n",
       "      <th>product_cart_conversion</th>\n",
       "      <th>login_cart_conversion</th>\n",
       "      <th>cart_purchase_conversion</th>\n",
       "    </tr>\n",
       "  </thead>\n",
       "  <tbody>\n",
       "    <tr>\n",
       "      <th>0</th>\n",
       "      <td>2020-12-07</td>\n",
       "      <td>A</td>\n",
       "      <td>113</td>\n",
       "      <td>23</td>\n",
       "      <td>71</td>\n",
       "      <td>33</td>\n",
       "      <td>0.628319</td>\n",
       "      <td>0.323944</td>\n",
       "      <td>0.203540</td>\n",
       "      <td>1.434783</td>\n",
       "    </tr>\n",
       "    <tr>\n",
       "      <th>1</th>\n",
       "      <td>2020-12-07</td>\n",
       "      <td>B</td>\n",
       "      <td>108</td>\n",
       "      <td>31</td>\n",
       "      <td>69</td>\n",
       "      <td>38</td>\n",
       "      <td>0.638889</td>\n",
       "      <td>0.449275</td>\n",
       "      <td>0.287037</td>\n",
       "      <td>1.225806</td>\n",
       "    </tr>\n",
       "    <tr>\n",
       "      <th>2</th>\n",
       "      <td>2020-12-08</td>\n",
       "      <td>A</td>\n",
       "      <td>121</td>\n",
       "      <td>32</td>\n",
       "      <td>79</td>\n",
       "      <td>26</td>\n",
       "      <td>0.652893</td>\n",
       "      <td>0.405063</td>\n",
       "      <td>0.264463</td>\n",
       "      <td>0.812500</td>\n",
       "    </tr>\n",
       "    <tr>\n",
       "      <th>3</th>\n",
       "      <td>2020-12-08</td>\n",
       "      <td>B</td>\n",
       "      <td>92</td>\n",
       "      <td>24</td>\n",
       "      <td>48</td>\n",
       "      <td>26</td>\n",
       "      <td>0.521739</td>\n",
       "      <td>0.500000</td>\n",
       "      <td>0.260870</td>\n",
       "      <td>1.083333</td>\n",
       "    </tr>\n",
       "    <tr>\n",
       "      <th>4</th>\n",
       "      <td>2020-12-09</td>\n",
       "      <td>A</td>\n",
       "      <td>134</td>\n",
       "      <td>43</td>\n",
       "      <td>81</td>\n",
       "      <td>40</td>\n",
       "      <td>0.604478</td>\n",
       "      <td>0.530864</td>\n",
       "      <td>0.320896</td>\n",
       "      <td>0.930233</td>\n",
       "    </tr>\n",
       "  </tbody>\n",
       "</table>\n",
       "</div>"
      ],
      "text/plain": [
       "event_name  event_date group  login  product_cart  product_page  purchase  \\\n",
       "0           2020-12-07     A    113            23            71        33   \n",
       "1           2020-12-07     B    108            31            69        38   \n",
       "2           2020-12-08     A    121            32            79        26   \n",
       "3           2020-12-08     B     92            24            48        26   \n",
       "4           2020-12-09     A    134            43            81        40   \n",
       "\n",
       "event_name  login_product_conversion  product_cart_conversion  \\\n",
       "0                           0.628319                 0.323944   \n",
       "1                           0.638889                 0.449275   \n",
       "2                           0.652893                 0.405063   \n",
       "3                           0.521739                 0.500000   \n",
       "4                           0.604478                 0.530864   \n",
       "\n",
       "event_name  login_cart_conversion  cart_purchase_conversion  \n",
       "0                        0.203540                  1.434783  \n",
       "1                        0.287037                  1.225806  \n",
       "2                        0.264463                  0.812500  \n",
       "3                        0.260870                  1.083333  \n",
       "4                        0.320896                  0.930233  "
      ]
     },
     "execution_count": 33,
     "metadata": {},
     "output_type": "execute_result"
    }
   ],
   "source": [
    "user_aggregated.head()"
   ]
  },
  {
   "cell_type": "code",
   "execution_count": 34,
   "id": "8c7e7b48",
   "metadata": {},
   "outputs": [
    {
     "data": {
      "image/png": "[encoded data removed]",
      "text/plain": [
       "<Figure size 720x360 with 1 Axes>"
      ]
     },
     "metadata": {
      "needs_background": "light"
     },
     "output_type": "display_data"
    }
   ],
   "source": [
    "title = 'Конверсия Логин-Карточка продука'\n",
    "x_label = 'Дата проведения теста'\n",
    "y_label = 'Кнверсия'\n",
    "a_x = user_aggregated.query('group == \"A\"')['event_date']\n",
    "a_y = user_aggregated.query('group == \"A\"')['login_product_conversion']\n",
    "b_x = user_aggregated.query('group == \"B\"')['event_date']\n",
    "b_y = user_aggregated.query('group == \"B\"')['login_product_conversion']\n",
    "plot_line(a_x, a_y, b_x, b_y, x_label, y_label, title, [None, None, 0, 2])"
   ]
  },
  {
   "cell_type": "code",
   "execution_count": 35,
   "id": "40586477",
   "metadata": {},
   "outputs": [
    {
     "data": {
      "image/png": "[encoded data removed]",
      "text/plain": [
       "<Figure size 720x360 with 1 Axes>"
      ]
     },
     "metadata": {
      "needs_background": "light"
     },
     "output_type": "display_data"
    }
   ],
   "source": [
    "title = 'Конверсия Карточка продука-Корзина товаров'\n",
    "x_label = 'Дата проведения теста'\n",
    "y_label = 'Кнверсия'\n",
    "a_x = user_aggregated.query('group == \"A\"')['event_date']\n",
    "a_y = user_aggregated.query('group == \"A\"')['product_cart_conversion']\n",
    "b_x = user_aggregated.query('group == \"B\"')['event_date']\n",
    "b_y = user_aggregated.query('group == \"B\"')['product_cart_conversion']\n",
    "plot_line(a_x, a_y, b_x, b_y, x_label, y_label, title, [None, None, 0, 2])"
   ]
  },
  {
   "cell_type": "code",
   "execution_count": 36,
   "id": "feacf3a1",
   "metadata": {},
   "outputs": [
    {
     "data": {
      "image/png": "[encoded data removed]",
      "text/plain": [
       "<Figure size 720x360 with 1 Axes>"
      ]
     },
     "metadata": {
      "needs_background": "light"
     },
     "output_type": "display_data"
    }
   ],
   "source": [
    "title = 'Конверсия Логин - Корзина товаров'\n",
    "x_label = 'Дата проведения теста'\n",
    "y_label = 'Кнверсия'\n",
    "a_x = user_aggregated.query('group == \"A\"')['event_date']\n",
    "a_y = user_aggregated.query('group == \"A\"')['login_cart_conversion']\n",
    "b_x = user_aggregated.query('group == \"B\"')['event_date']\n",
    "b_y = user_aggregated.query('group == \"B\"')['login_cart_conversion']\n",
    "plot_line(a_x, a_y, b_x, b_y, x_label, y_label, title, [None, None, 0, 1.5])"
   ]
  },
  {
   "cell_type": "code",
   "execution_count": 37,
   "id": "442a305f",
   "metadata": {},
   "outputs": [
    {
     "data": {
      "image/png": "[encoded data removed]",
      "text/plain": [
       "<Figure size 720x360 with 1 Axes>"
      ]
     },
     "metadata": {
      "needs_background": "light"
     },
     "output_type": "display_data"
    }
   ],
   "source": [
    "title = 'Конверсия Корзина товаров - покупка'\n",
    "x_label = 'Дата проведения теста'\n",
    "y_label = 'Кнверсия'\n",
    "a_x = user_aggregated.query('group == \"A\"')['event_date']\n",
    "a_y = user_aggregated.query('group == \"A\"')['cart_purchase_conversion']\n",
    "b_x = user_aggregated.query('group == \"B\"')['event_date']\n",
    "b_y = user_aggregated.query('group == \"B\"')['cart_purchase_conversion']\n",
    "plot_line(a_x, a_y, b_x, b_y, x_label, y_label, title, [None, None, 0, 5])"
   ]
  },
  {
   "cell_type": "markdown",
   "id": "f24a7e00",
   "metadata": {},
   "source": [
    "🧑‍🎓 Ира: конверсия в группе А почти всегда выше, чем в группе В.  \n",
    "    Конверсия корзина-покупка в группах колеблется, но тоже группе А удается немного лидировать. "
   ]
  },
  {
   "cell_type": "markdown",
   "id": "92d4c75c",
   "metadata": {},
   "source": [
    "<div style=\"border:solid blue 1px; padding: 10px\">\n",
    "<b>Краткий вывод</b>\n",
    "    \n",
    "    Независимо от группы пользователи делают в среднем 2-3 события.  \n",
    "    Кол-во событий во времени в группе А логично больше, так как в ней оказалось больше пользователей.  \n",
    "    Конверсия в группе А тоже выше, но не намного и не всегда.  "
   ]
  },
  {
   "cell_type": "markdown",
   "id": "08621f3f",
   "metadata": {},
   "source": [
    "<div class=\"alert alert-info\">\n",
    "\n",
    "## Оцените результаты A/B-тестирования"
   ]
  },
  {
   "cell_type": "markdown",
   "id": "e919836a",
   "metadata": {},
   "source": [
    "🧑‍🎓 Ира: Необходимо проверить статистическую разницу долей в группах.  \n",
    "    Для начала сформулируем гипотезу:  \n",
    "        нулевая гипотеза: Доля пользователей, совершивших конкретное событие в группах не отличается   \n",
    "        альтернативная: Доля пользователей, совершивших конкретное событие в группах отличается "
   ]
  },
  {
   "cell_type": "code",
   "execution_count": 38,
   "id": "d24eefe4",
   "metadata": {},
   "outputs": [
    {
     "data": {
      "text/html": [
       "<div>\n",
       "<style scoped>\n",
       "    .dataframe tbody tr th:only-of-type {\n",
       "        vertical-align: middle;\n",
       "    }\n",
       "\n",
       "    .dataframe tbody tr th {\n",
       "        vertical-align: top;\n",
       "    }\n",
       "\n",
       "    .dataframe thead th {\n",
       "        text-align: right;\n",
       "    }\n",
       "</style>\n",
       "<table border=\"1\" class=\"dataframe\">\n",
       "  <thead>\n",
       "    <tr style=\"text-align: right;\">\n",
       "      <th>event_name</th>\n",
       "      <th>event_date</th>\n",
       "      <th>group</th>\n",
       "      <th>login</th>\n",
       "      <th>product_cart</th>\n",
       "      <th>product_page</th>\n",
       "      <th>purchase</th>\n",
       "      <th>login_product_conversion</th>\n",
       "      <th>product_cart_conversion</th>\n",
       "      <th>login_cart_conversion</th>\n",
       "      <th>cart_purchase_conversion</th>\n",
       "    </tr>\n",
       "  </thead>\n",
       "  <tbody>\n",
       "    <tr>\n",
       "      <th>0</th>\n",
       "      <td>2020-12-07</td>\n",
       "      <td>A</td>\n",
       "      <td>113</td>\n",
       "      <td>23</td>\n",
       "      <td>71</td>\n",
       "      <td>33</td>\n",
       "      <td>0.628319</td>\n",
       "      <td>0.323944</td>\n",
       "      <td>0.203540</td>\n",
       "      <td>1.434783</td>\n",
       "    </tr>\n",
       "    <tr>\n",
       "      <th>1</th>\n",
       "      <td>2020-12-07</td>\n",
       "      <td>B</td>\n",
       "      <td>108</td>\n",
       "      <td>31</td>\n",
       "      <td>69</td>\n",
       "      <td>38</td>\n",
       "      <td>0.638889</td>\n",
       "      <td>0.449275</td>\n",
       "      <td>0.287037</td>\n",
       "      <td>1.225806</td>\n",
       "    </tr>\n",
       "    <tr>\n",
       "      <th>2</th>\n",
       "      <td>2020-12-08</td>\n",
       "      <td>A</td>\n",
       "      <td>121</td>\n",
       "      <td>32</td>\n",
       "      <td>79</td>\n",
       "      <td>26</td>\n",
       "      <td>0.652893</td>\n",
       "      <td>0.405063</td>\n",
       "      <td>0.264463</td>\n",
       "      <td>0.812500</td>\n",
       "    </tr>\n",
       "    <tr>\n",
       "      <th>3</th>\n",
       "      <td>2020-12-08</td>\n",
       "      <td>B</td>\n",
       "      <td>92</td>\n",
       "      <td>24</td>\n",
       "      <td>48</td>\n",
       "      <td>26</td>\n",
       "      <td>0.521739</td>\n",
       "      <td>0.500000</td>\n",
       "      <td>0.260870</td>\n",
       "      <td>1.083333</td>\n",
       "    </tr>\n",
       "    <tr>\n",
       "      <th>4</th>\n",
       "      <td>2020-12-09</td>\n",
       "      <td>A</td>\n",
       "      <td>134</td>\n",
       "      <td>43</td>\n",
       "      <td>81</td>\n",
       "      <td>40</td>\n",
       "      <td>0.604478</td>\n",
       "      <td>0.530864</td>\n",
       "      <td>0.320896</td>\n",
       "      <td>0.930233</td>\n",
       "    </tr>\n",
       "  </tbody>\n",
       "</table>\n",
       "</div>"
      ],
      "text/plain": [
       "event_name  event_date group  login  product_cart  product_page  purchase  \\\n",
       "0           2020-12-07     A    113            23            71        33   \n",
       "1           2020-12-07     B    108            31            69        38   \n",
       "2           2020-12-08     A    121            32            79        26   \n",
       "3           2020-12-08     B     92            24            48        26   \n",
       "4           2020-12-09     A    134            43            81        40   \n",
       "\n",
       "event_name  login_product_conversion  product_cart_conversion  \\\n",
       "0                           0.628319                 0.323944   \n",
       "1                           0.638889                 0.449275   \n",
       "2                           0.652893                 0.405063   \n",
       "3                           0.521739                 0.500000   \n",
       "4                           0.604478                 0.530864   \n",
       "\n",
       "event_name  login_cart_conversion  cart_purchase_conversion  \n",
       "0                        0.203540                  1.434783  \n",
       "1                        0.287037                  1.225806  \n",
       "2                        0.264463                  0.812500  \n",
       "3                        0.260870                  1.083333  \n",
       "4                        0.320896                  0.930233  "
      ]
     },
     "execution_count": 38,
     "metadata": {},
     "output_type": "execute_result"
    }
   ],
   "source": [
    "user_aggregated.head()"
   ]
  },
  {
   "cell_type": "code",
   "execution_count": 39,
   "id": "deacc523",
   "metadata": {},
   "outputs": [],
   "source": [
    "#функция, которая посчитает кол-во уникальных пользователей конкретного события и выведет долю от общего кол-ва\n",
    "def users_prop(df, event):\n",
    "    all_users = df['user_id'].nunique()\n",
    "    event_users_count = df.query('event_name == @event')['user_id'].nunique()\n",
    "    event_users_to_all_prop = event_users_count / all_users\n",
    "    return all_users, event_users_count, event_users_to_all_prop\n",
    "    "
   ]
  },
  {
   "cell_type": "code",
   "execution_count": null,
   "id": "4e1b0e5f",
   "metadata": {},
   "outputs": [],
   "source": []
  },
  {
   "cell_type": "code",
   "execution_count": 40,
   "id": "a1aa742f",
   "metadata": {},
   "outputs": [],
   "source": [
    "def stat_div(fa_event, sa_event, fa_all, sa_all):\n",
    "    alpha = .05 # критический уровень статистической значимости\n",
    "\n",
    "    successes = np.array([fa_event, sa_event])\n",
    "    trials = np.array([fa_all, sa_all])\n",
    "\n",
    "# пропорция успехов в первой группе:\n",
    "    p1 = successes[0] / trials[0]\n",
    "\n",
    "# пропорция успехов во второй группе:\n",
    "    p2 = successes[1] / trials[1]\n",
    "\n",
    "# пропорция успехов в комбинированном датасете:\n",
    "    p_combined = (successes[0] + successes[1]) / (trials[0] + trials[1])\n",
    "\n",
    "# разница пропорций в датасетах\n",
    "    difference = p1 - p2\n",
    "\n",
    "# считаем статистику в ст.отклонениях стандартного нормального распределения\n",
    "    z_value = difference / mth.sqrt(\n",
    "        p_combined * (1 - p_combined) * (1 / trials[0] + 1 / trials[1])\n",
    "    )\n",
    "\n",
    "# задаем стандартное нормальное распределение (среднее 0, ст.отклонение 1)\n",
    "    distr = stats.norm(0, 1)\n",
    "\n",
    "    p_value = (1 - distr.cdf(abs(z_value))) * 2\n",
    "\n",
    "    print('p-значение: ', p_value)\n",
    "\n",
    "    if p_value < alpha:\n",
    "        print('Отвергаем нулевую гипотезу: между долями есть значимая разница')\n",
    "    else:\n",
    "        print(\n",
    "        'Не получилось отвергнуть нулевую гипотезу, нет оснований считать доли разными'\n",
    "        )"
   ]
  },
  {
   "cell_type": "markdown",
   "id": "c0c911ed",
   "metadata": {},
   "source": [
    "<div class=\"alert alert-info\">\n",
    "\n",
    "#### Событие product_page"
   ]
  },
  {
   "cell_type": "code",
   "execution_count": 41,
   "id": "545ad1aa",
   "metadata": {},
   "outputs": [
    {
     "name": "stdout",
     "output_type": "stream",
     "text": [
      "Всего пользователей в группе 2614\n",
      "Кол-во пользователей, совершивхих событие product_page 1694\n",
      "Доля совершившых событие product_page пользователей к общему кол-ву в группе 0.6480489671002295\n"
     ]
    }
   ],
   "source": [
    "#ab_events_user_a.head()\n",
    "df = ab_events_user_a\n",
    "event = \"product_page\"\n",
    "a_pp_all, a_pp_event, a_pp_prop = users_prop(df, event)\n",
    "print('Всего пользователей в группе', a_pp_all)\n",
    "print('Кол-во пользователей, совершивхих событие {}'.format(event), a_pp_event)\n",
    "print('Доля совершившых событие {} пользователей к общему кол-ву в группе'.format(event), a_pp_prop)"
   ]
  },
  {
   "cell_type": "code",
   "execution_count": 42,
   "id": "e24018e9",
   "metadata": {},
   "outputs": [
    {
     "name": "stdout",
     "output_type": "stream",
     "text": [
      "Всего пользователей в группе 825\n",
      "Кол-во пользователей, совершивхих событие product_page 463\n",
      "Доля совершившых событие product_page пользователей к общему кол-ву в группе 0.5612121212121212\n"
     ]
    }
   ],
   "source": [
    "df = ab_events_user_b\n",
    "event = \"product_page\"\n",
    "b_pp_all, b_pp_event, b_pp_prop = users_prop(df, event)\n",
    "print('Всего пользователей в группе', b_pp_all)\n",
    "print('Кол-во пользователей, совершивхих событие {}'.format(event), b_pp_event)\n",
    "print('Доля совершившых событие {} пользователей к общему кол-ву в группе'.format(event), b_pp_prop)"
   ]
  },
  {
   "cell_type": "code",
   "execution_count": 43,
   "id": "2f2d5c15",
   "metadata": {},
   "outputs": [
    {
     "name": "stdout",
     "output_type": "stream",
     "text": [
      "p-значение:  6.889241488616804e-06\n",
      "Отвергаем нулевую гипотезу: между долями есть значимая разница\n"
     ]
    }
   ],
   "source": [
    "stat_div(a_pp_event, b_pp_event, a_pp_all, b_pp_all)"
   ]
  },
  {
   "cell_type": "markdown",
   "id": "7feef579",
   "metadata": {},
   "source": [
    "<div class=\"alert alert-info\">\n",
    "\n",
    "#### Событие product_cart"
   ]
  },
  {
   "cell_type": "code",
   "execution_count": 44,
   "id": "8db8ecb5",
   "metadata": {},
   "outputs": [
    {
     "name": "stdout",
     "output_type": "stream",
     "text": [
      "Всего пользователей в группе 2614\n",
      "Кол-во пользователей, совершивхих событие product_cart 793\n",
      "Доля совершившых событие product_cart пользователей к общему кол-ву в группе 0.30336648814078043\n"
     ]
    }
   ],
   "source": [
    "#ab_events_user_a.head()\n",
    "df = ab_events_user_a\n",
    "event = \"product_cart\"\n",
    "a_pc_all, a_pc_event, a_pc_prop = users_prop(df, event)\n",
    "print('Всего пользователей в группе', a_pc_all)\n",
    "print('Кол-во пользователей, совершивхих событие {}'.format(event), a_pc_event)\n",
    "print('Доля совершившых событие {} пользователей к общему кол-ву в группе'.format(event), a_pc_prop)"
   ]
  },
  {
   "cell_type": "code",
   "execution_count": 45,
   "id": "b039b287",
   "metadata": {},
   "outputs": [
    {
     "name": "stdout",
     "output_type": "stream",
     "text": [
      "Всего пользователей в группе 825\n",
      "Кол-во пользователей, совершивхих событие product_cart 230\n",
      "Доля совершившых событие product_cart пользователей к общему кол-ву в группе 0.2787878787878788\n"
     ]
    }
   ],
   "source": [
    "df = ab_events_user_b\n",
    "event = \"product_cart\"\n",
    "b_pc_all, b_pc_event, b_pc_prop = users_prop(df, event)\n",
    "print('Всего пользователей в группе', b_pc_all)\n",
    "print('Кол-во пользователей, совершивхих событие {}'.format(event), b_pc_event)\n",
    "print('Доля совершившых событие {} пользователей к общему кол-ву в группе'.format(event), b_pc_prop)"
   ]
  },
  {
   "cell_type": "code",
   "execution_count": 46,
   "id": "ba1021cb",
   "metadata": {},
   "outputs": [
    {
     "name": "stdout",
     "output_type": "stream",
     "text": [
      "p-значение:  0.17818076972714336\n",
      "Не получилось отвергнуть нулевую гипотезу, нет оснований считать доли разными\n"
     ]
    }
   ],
   "source": [
    "stat_div(a_pc_event, b_pc_event, a_pc_all, b_pc_all)"
   ]
  },
  {
   "cell_type": "markdown",
   "id": "2313db93",
   "metadata": {},
   "source": [
    "<div class=\"alert alert-info\">\n",
    "\n",
    "#### Событие purchase"
   ]
  },
  {
   "cell_type": "code",
   "execution_count": 47,
   "id": "d1cdb505",
   "metadata": {},
   "outputs": [
    {
     "name": "stdout",
     "output_type": "stream",
     "text": [
      "Всего пользователей в группе 2614\n",
      "Кол-во пользователей, совершивхих событие purchase 836\n",
      "Доля совершившых событие purchase пользователей к общему кол-ву в группе 0.31981637337413926\n"
     ]
    }
   ],
   "source": [
    "df = ab_events_user_a\n",
    "event = \"purchase\"\n",
    "a_pur_all, a_pur_event, a_pur_prop = users_prop(df, event)\n",
    "print('Всего пользователей в группе', a_pur_all)\n",
    "print('Кол-во пользователей, совершивхих событие {}'.format(event), a_pur_event)\n",
    "print('Доля совершившых событие {} пользователей к общему кол-ву в группе'.format(event), a_pur_prop)"
   ]
  },
  {
   "cell_type": "code",
   "execution_count": 48,
   "id": "fc6104e6",
   "metadata": {},
   "outputs": [
    {
     "name": "stdout",
     "output_type": "stream",
     "text": [
      "Всего пользователей в группе 825\n",
      "Кол-во пользователей, совершивхих событие purchase 229\n",
      "Доля совершившых событие purchase пользователей к общему кол-ву в группе 0.2775757575757576\n"
     ]
    }
   ],
   "source": [
    "df = ab_events_user_b\n",
    "event = \"purchase\"\n",
    "b_pur_all, b_pur_event, b_pur_prop = users_prop(df, event)\n",
    "print('Всего пользователей в группе', b_pur_all)\n",
    "print('Кол-во пользователей, совершивхих событие {}'.format(event), b_pur_event)\n",
    "print('Доля совершившых событие {} пользователей к общему кол-ву в группе'.format(event), b_pur_prop)"
   ]
  },
  {
   "cell_type": "code",
   "execution_count": 49,
   "id": "18b67ec0",
   "metadata": {},
   "outputs": [
    {
     "name": "stdout",
     "output_type": "stream",
     "text": [
      "p-значение:  0.022151356829822832\n",
      "Отвергаем нулевую гипотезу: между долями есть значимая разница\n"
     ]
    }
   ],
   "source": [
    "stat_div(a_pur_event, b_pur_event, a_pur_all, b_pur_all)"
   ]
  },
  {
   "cell_type": "markdown",
   "id": "6f9dc3d0",
   "metadata": {},
   "source": [
    "🧑‍🎓 Ира: Статистически значимой разницы в группах нет только в событии product_cart. Можно сделать вывод, что результат после изменений поменялся, но в худшую сторону"
   ]
  },
  {
   "cell_type": "markdown",
   "id": "ee384cbc",
   "metadata": {},
   "source": [
    "<div class=\"alert alert-info\">\n",
    "\n",
    "## Общий вывод"
   ]
  },
  {
   "cell_type": "markdown",
   "id": "abd727e8",
   "metadata": {},
   "source": [
    "<div style=\"border:solid green 2px; padding: 20px\">\n",
    "Был проведен анализ активности пользователей по двум группам в различных событиях. \n",
    "    \n",
    "    \n",
    "    - В каждой группе теста принимало участие разное кол-во пользователей. \n",
    "    - Во время проведения теста была запущена еще одна кампания, которая могла повлиять на результаты.\n",
    "    \n",
    "    - Анализ А/В тестов показал, что изменение на сайте повлияло на поведение пользователей в худшую сторону.   \n",
    "    \n",
    "    - Мое мнение- тест нужно остановить и признать неудачным.     \n",
    "       "
   ]
  }
 ],
 "metadata": {
  "ExecuteTimeLog": [
   {
    "duration": 1126,
    "start_time": "2022-08-17T13:14:04.730Z"
   },
   {
    "duration": 598,
    "start_time": "2022-08-17T13:14:05.858Z"
   },
   {
    "duration": 2,
    "start_time": "2022-08-17T13:14:06.457Z"
   },
   {
    "duration": 11,
    "start_time": "2022-08-17T13:14:06.461Z"
   },
   {
    "duration": 26,
    "start_time": "2022-08-17T13:14:06.474Z"
   },
   {
    "duration": 10,
    "start_time": "2022-08-17T13:14:06.502Z"
   },
   {
    "duration": 32,
    "start_time": "2022-08-17T13:14:06.513Z"
   },
   {
    "duration": 26,
    "start_time": "2022-08-17T13:14:06.546Z"
   },
   {
    "duration": 70,
    "start_time": "2022-08-17T13:14:06.573Z"
   },
   {
    "duration": 155,
    "start_time": "2022-08-17T13:14:06.645Z"
   },
   {
    "duration": 18,
    "start_time": "2022-08-17T13:14:06.801Z"
   },
   {
    "duration": 33,
    "start_time": "2022-08-17T13:14:06.820Z"
   },
   {
    "duration": 25,
    "start_time": "2022-08-17T13:14:06.854Z"
   },
   {
    "duration": 30,
    "start_time": "2022-08-17T13:14:06.881Z"
   },
   {
    "duration": 16,
    "start_time": "2022-08-17T13:14:06.912Z"
   },
   {
    "duration": 34,
    "start_time": "2022-08-17T13:14:06.929Z"
   },
   {
    "duration": 27,
    "start_time": "2022-08-17T13:14:06.964Z"
   },
   {
    "duration": 54,
    "start_time": "2022-08-17T13:14:06.993Z"
   },
   {
    "duration": 13,
    "start_time": "2022-08-17T13:14:07.049Z"
   },
   {
    "duration": 45,
    "start_time": "2022-08-17T13:14:07.064Z"
   },
   {
    "duration": 885,
    "start_time": "2022-08-17T13:14:07.110Z"
   },
   {
    "duration": 157,
    "start_time": "2022-08-17T13:14:07.996Z"
   },
   {
    "duration": 18,
    "start_time": "2022-08-17T13:14:08.155Z"
   },
   {
    "duration": 13,
    "start_time": "2022-08-17T13:14:08.175Z"
   },
   {
    "duration": 25,
    "start_time": "2022-08-17T13:14:08.189Z"
   },
   {
    "duration": 64,
    "start_time": "2022-08-17T13:14:08.216Z"
   },
   {
    "duration": 15,
    "start_time": "2022-08-17T13:14:08.282Z"
   },
   {
    "duration": 29,
    "start_time": "2022-08-17T13:14:08.299Z"
   },
   {
    "duration": 3,
    "start_time": "2022-08-17T13:14:08.330Z"
   },
   {
    "duration": 110,
    "start_time": "2022-08-17T13:14:08.335Z"
   },
   {
    "duration": 0,
    "start_time": "2022-08-17T13:14:08.446Z"
   },
   {
    "duration": 0,
    "start_time": "2022-08-17T13:14:08.448Z"
   },
   {
    "duration": 0,
    "start_time": "2022-08-17T13:14:08.449Z"
   },
   {
    "duration": 0,
    "start_time": "2022-08-17T13:14:08.450Z"
   },
   {
    "duration": 0,
    "start_time": "2022-08-17T13:14:08.458Z"
   },
   {
    "duration": 0,
    "start_time": "2022-08-17T13:14:08.460Z"
   },
   {
    "duration": 0,
    "start_time": "2022-08-17T13:14:08.460Z"
   },
   {
    "duration": 0,
    "start_time": "2022-08-17T13:14:08.461Z"
   },
   {
    "duration": 0,
    "start_time": "2022-08-17T13:14:08.462Z"
   },
   {
    "duration": 0,
    "start_time": "2022-08-17T13:14:08.463Z"
   },
   {
    "duration": 0,
    "start_time": "2022-08-17T13:14:08.464Z"
   },
   {
    "duration": 0,
    "start_time": "2022-08-17T13:14:08.465Z"
   },
   {
    "duration": 0,
    "start_time": "2022-08-17T13:14:08.466Z"
   },
   {
    "duration": 0,
    "start_time": "2022-08-17T13:14:08.467Z"
   },
   {
    "duration": 0,
    "start_time": "2022-08-17T13:14:08.468Z"
   },
   {
    "duration": 0,
    "start_time": "2022-08-17T13:14:08.468Z"
   },
   {
    "duration": 0,
    "start_time": "2022-08-17T13:14:08.469Z"
   },
   {
    "duration": 0,
    "start_time": "2022-08-17T13:14:08.470Z"
   },
   {
    "duration": 0,
    "start_time": "2022-08-17T13:14:08.471Z"
   },
   {
    "duration": 1162,
    "start_time": "2022-08-17T13:18:28.129Z"
   },
   {
    "duration": 637,
    "start_time": "2022-08-17T13:18:29.292Z"
   },
   {
    "duration": 3,
    "start_time": "2022-08-17T13:18:29.930Z"
   },
   {
    "duration": 5,
    "start_time": "2022-08-17T13:18:29.935Z"
   },
   {
    "duration": 23,
    "start_time": "2022-08-17T13:18:29.941Z"
   },
   {
    "duration": 6,
    "start_time": "2022-08-17T13:18:29.966Z"
   },
   {
    "duration": 38,
    "start_time": "2022-08-17T13:18:29.974Z"
   },
   {
    "duration": 23,
    "start_time": "2022-08-17T13:18:30.013Z"
   },
   {
    "duration": 94,
    "start_time": "2022-08-17T13:18:30.037Z"
   },
   {
    "duration": 176,
    "start_time": "2022-08-17T13:18:30.134Z"
   },
   {
    "duration": 18,
    "start_time": "2022-08-17T13:18:30.312Z"
   },
   {
    "duration": 7,
    "start_time": "2022-08-17T13:18:30.332Z"
   },
   {
    "duration": 20,
    "start_time": "2022-08-17T13:18:30.341Z"
   },
   {
    "duration": 20,
    "start_time": "2022-08-17T13:18:30.363Z"
   },
   {
    "duration": 5,
    "start_time": "2022-08-17T13:18:30.385Z"
   },
   {
    "duration": 18,
    "start_time": "2022-08-17T13:18:30.391Z"
   },
   {
    "duration": 9,
    "start_time": "2022-08-17T13:18:30.410Z"
   },
   {
    "duration": 61,
    "start_time": "2022-08-17T13:18:30.420Z"
   },
   {
    "duration": 11,
    "start_time": "2022-08-17T13:18:30.482Z"
   },
   {
    "duration": 23,
    "start_time": "2022-08-17T13:18:30.494Z"
   },
   {
    "duration": 890,
    "start_time": "2022-08-17T13:18:30.518Z"
   },
   {
    "duration": 178,
    "start_time": "2022-08-17T13:18:31.410Z"
   },
   {
    "duration": 15,
    "start_time": "2022-08-17T13:18:31.589Z"
   },
   {
    "duration": 19,
    "start_time": "2022-08-17T13:18:31.606Z"
   },
   {
    "duration": 12,
    "start_time": "2022-08-17T13:18:31.626Z"
   },
   {
    "duration": 34,
    "start_time": "2022-08-17T13:18:31.640Z"
   },
   {
    "duration": 16,
    "start_time": "2022-08-17T13:18:31.676Z"
   },
   {
    "duration": 29,
    "start_time": "2022-08-17T13:18:31.694Z"
   },
   {
    "duration": 3,
    "start_time": "2022-08-17T13:18:31.724Z"
   },
   {
    "duration": 120,
    "start_time": "2022-08-17T13:18:31.728Z"
   },
   {
    "duration": 0,
    "start_time": "2022-08-17T13:18:31.850Z"
   },
   {
    "duration": 0,
    "start_time": "2022-08-17T13:18:31.851Z"
   },
   {
    "duration": 0,
    "start_time": "2022-08-17T13:18:31.852Z"
   },
   {
    "duration": 0,
    "start_time": "2022-08-17T13:18:31.853Z"
   },
   {
    "duration": 0,
    "start_time": "2022-08-17T13:18:31.859Z"
   },
   {
    "duration": 0,
    "start_time": "2022-08-17T13:18:31.860Z"
   },
   {
    "duration": 0,
    "start_time": "2022-08-17T13:18:31.861Z"
   },
   {
    "duration": 0,
    "start_time": "2022-08-17T13:18:31.863Z"
   },
   {
    "duration": 0,
    "start_time": "2022-08-17T13:18:31.864Z"
   },
   {
    "duration": 0,
    "start_time": "2022-08-17T13:18:31.865Z"
   },
   {
    "duration": 0,
    "start_time": "2022-08-17T13:18:31.866Z"
   },
   {
    "duration": 0,
    "start_time": "2022-08-17T13:18:31.867Z"
   },
   {
    "duration": 0,
    "start_time": "2022-08-17T13:18:31.868Z"
   },
   {
    "duration": 0,
    "start_time": "2022-08-17T13:18:31.869Z"
   },
   {
    "duration": 0,
    "start_time": "2022-08-17T13:18:31.872Z"
   },
   {
    "duration": 0,
    "start_time": "2022-08-17T13:18:31.873Z"
   },
   {
    "duration": 0,
    "start_time": "2022-08-17T13:18:31.874Z"
   },
   {
    "duration": 0,
    "start_time": "2022-08-17T13:18:31.875Z"
   },
   {
    "duration": 0,
    "start_time": "2022-08-17T13:18:31.876Z"
   },
   {
    "duration": 15,
    "start_time": "2022-08-17T13:23:50.777Z"
   },
   {
    "duration": 5,
    "start_time": "2022-08-17T13:23:53.185Z"
   },
   {
    "duration": 10,
    "start_time": "2022-08-17T13:23:53.387Z"
   },
   {
    "duration": 15,
    "start_time": "2022-08-17T13:23:53.579Z"
   },
   {
    "duration": 14,
    "start_time": "2022-08-17T13:23:53.773Z"
   },
   {
    "duration": 15,
    "start_time": "2022-08-17T13:23:53.968Z"
   },
   {
    "duration": 15,
    "start_time": "2022-08-17T13:23:54.157Z"
   },
   {
    "duration": 11,
    "start_time": "2022-08-17T13:23:55.057Z"
   },
   {
    "duration": 3,
    "start_time": "2022-08-17T13:23:55.255Z"
   },
   {
    "duration": 5,
    "start_time": "2022-08-17T13:23:55.640Z"
   },
   {
    "duration": 12,
    "start_time": "2022-08-17T13:23:56.130Z"
   },
   {
    "duration": 9,
    "start_time": "2022-08-17T13:23:56.362Z"
   },
   {
    "duration": 4,
    "start_time": "2022-08-17T13:23:56.535Z"
   },
   {
    "duration": 10,
    "start_time": "2022-08-17T13:23:57.185Z"
   },
   {
    "duration": 7,
    "start_time": "2022-08-17T13:23:57.367Z"
   },
   {
    "duration": 4,
    "start_time": "2022-08-17T13:23:57.910Z"
   },
   {
    "duration": 10,
    "start_time": "2022-08-17T13:23:58.277Z"
   },
   {
    "duration": 8,
    "start_time": "2022-08-17T13:23:58.462Z"
   },
   {
    "duration": 4,
    "start_time": "2022-08-17T13:23:58.629Z"
   },
   {
    "duration": 61,
    "start_time": "2022-08-17T14:44:55.297Z"
   },
   {
    "duration": 1597,
    "start_time": "2022-08-17T14:45:03.698Z"
   },
   {
    "duration": 3293,
    "start_time": "2022-08-17T14:45:05.298Z"
   },
   {
    "duration": 3,
    "start_time": "2022-08-17T14:45:08.594Z"
   },
   {
    "duration": 3,
    "start_time": "2022-08-17T14:45:08.959Z"
   },
   {
    "duration": 53,
    "start_time": "2022-08-17T14:45:08.964Z"
   },
   {
    "duration": 4,
    "start_time": "2022-08-17T14:45:09.018Z"
   },
   {
    "duration": 32,
    "start_time": "2022-08-17T14:45:09.025Z"
   },
   {
    "duration": 45,
    "start_time": "2022-08-17T14:45:09.059Z"
   },
   {
    "duration": 124,
    "start_time": "2022-08-17T14:45:09.107Z"
   },
   {
    "duration": 222,
    "start_time": "2022-08-17T14:45:09.233Z"
   },
   {
    "duration": 44,
    "start_time": "2022-08-17T14:45:09.457Z"
   },
   {
    "duration": 23,
    "start_time": "2022-08-17T14:45:09.503Z"
   },
   {
    "duration": 19,
    "start_time": "2022-08-17T14:45:09.529Z"
   },
   {
    "duration": 17,
    "start_time": "2022-08-17T14:45:09.551Z"
   },
   {
    "duration": 30,
    "start_time": "2022-08-17T14:45:09.570Z"
   },
   {
    "duration": 15,
    "start_time": "2022-08-17T14:45:09.602Z"
   },
   {
    "duration": 11,
    "start_time": "2022-08-17T14:45:09.618Z"
   },
   {
    "duration": 59,
    "start_time": "2022-08-17T14:45:09.631Z"
   },
   {
    "duration": 16,
    "start_time": "2022-08-17T14:45:12.741Z"
   },
   {
    "duration": 14,
    "start_time": "2022-08-17T14:45:24.257Z"
   },
   {
    "duration": 13,
    "start_time": "2022-08-17T14:45:37.392Z"
   },
   {
    "duration": 11,
    "start_time": "2022-08-17T14:46:38.938Z"
   },
   {
    "duration": 29,
    "start_time": "2022-08-17T14:49:05.602Z"
   },
   {
    "duration": 1372,
    "start_time": "2022-08-17T14:49:05.850Z"
   },
   {
    "duration": 223,
    "start_time": "2022-08-17T14:49:07.309Z"
   },
   {
    "duration": 19,
    "start_time": "2022-08-17T14:49:07.702Z"
   },
   {
    "duration": 4,
    "start_time": "2022-08-17T14:55:04.031Z"
   },
   {
    "duration": 16,
    "start_time": "2022-08-17T14:55:41.543Z"
   },
   {
    "duration": 13,
    "start_time": "2022-08-17T14:55:42.411Z"
   },
   {
    "duration": 31,
    "start_time": "2022-08-17T14:55:46.218Z"
   },
   {
    "duration": 20,
    "start_time": "2022-08-17T14:55:47.436Z"
   },
   {
    "duration": 37,
    "start_time": "2022-08-17T14:56:24.414Z"
   },
   {
    "duration": 6,
    "start_time": "2022-08-17T14:56:30.511Z"
   },
   {
    "duration": 79,
    "start_time": "2022-08-17T14:56:33.524Z"
   },
   {
    "duration": 298,
    "start_time": "2022-08-17T14:56:42.862Z"
   },
   {
    "duration": 218,
    "start_time": "2022-08-17T14:56:59.544Z"
   },
   {
    "duration": 1381,
    "start_time": "2022-08-17T14:59:44.059Z"
   },
   {
    "duration": 817,
    "start_time": "2022-08-17T14:59:45.442Z"
   },
   {
    "duration": 3,
    "start_time": "2022-08-17T14:59:53.295Z"
   },
   {
    "duration": 62,
    "start_time": "2022-08-17T14:59:53.301Z"
   },
   {
    "duration": 74,
    "start_time": "2022-08-17T14:59:53.366Z"
   },
   {
    "duration": 15,
    "start_time": "2022-08-17T14:59:53.441Z"
   },
   {
    "duration": 78,
    "start_time": "2022-08-17T14:59:53.459Z"
   },
   {
    "duration": 44,
    "start_time": "2022-08-17T14:59:53.539Z"
   },
   {
    "duration": 114,
    "start_time": "2022-08-17T14:59:53.591Z"
   },
   {
    "duration": 288,
    "start_time": "2022-08-17T14:59:53.707Z"
   },
   {
    "duration": 28,
    "start_time": "2022-08-17T14:59:53.997Z"
   },
   {
    "duration": 86,
    "start_time": "2022-08-17T14:59:54.026Z"
   },
   {
    "duration": 72,
    "start_time": "2022-08-17T14:59:54.115Z"
   },
   {
    "duration": 7,
    "start_time": "2022-08-17T14:59:58.434Z"
   },
   {
    "duration": 7,
    "start_time": "2022-08-17T14:59:58.451Z"
   },
   {
    "duration": 37,
    "start_time": "2022-08-17T14:59:58.460Z"
   },
   {
    "duration": 25,
    "start_time": "2022-08-17T14:59:58.500Z"
   },
   {
    "duration": 61,
    "start_time": "2022-08-17T14:59:58.559Z"
   },
   {
    "duration": 12,
    "start_time": "2022-08-17T14:59:58.623Z"
   },
   {
    "duration": 63,
    "start_time": "2022-08-17T14:59:58.637Z"
   },
   {
    "duration": 1388,
    "start_time": "2022-08-17T14:59:58.702Z"
   },
   {
    "duration": 256,
    "start_time": "2022-08-17T15:00:00.097Z"
   },
   {
    "duration": 40,
    "start_time": "2022-08-17T15:00:00.355Z"
   },
   {
    "duration": 42,
    "start_time": "2022-08-17T15:00:00.397Z"
   },
   {
    "duration": 72,
    "start_time": "2022-08-17T15:00:00.441Z"
   },
   {
    "duration": 71,
    "start_time": "2022-08-17T15:00:00.515Z"
   },
   {
    "duration": 29,
    "start_time": "2022-08-17T15:00:00.588Z"
   },
   {
    "duration": 59,
    "start_time": "2022-08-17T15:00:00.619Z"
   },
   {
    "duration": 12,
    "start_time": "2022-08-17T15:00:00.685Z"
   },
   {
    "duration": 352,
    "start_time": "2022-08-17T15:00:00.700Z"
   },
   {
    "duration": 267,
    "start_time": "2022-08-17T15:00:01.056Z"
   },
   {
    "duration": 8,
    "start_time": "2022-08-17T15:00:01.325Z"
   },
   {
    "duration": 48,
    "start_time": "2022-08-17T15:00:01.336Z"
   },
   {
    "duration": 326,
    "start_time": "2022-08-17T15:00:01.394Z"
   },
   {
    "duration": 264,
    "start_time": "2022-08-17T15:00:01.722Z"
   },
   {
    "duration": 254,
    "start_time": "2022-08-17T15:00:01.989Z"
   },
   {
    "duration": 253,
    "start_time": "2022-08-17T15:00:02.245Z"
   },
   {
    "duration": 15,
    "start_time": "2022-08-17T15:00:02.502Z"
   },
   {
    "duration": 92,
    "start_time": "2022-08-17T15:00:02.519Z"
   },
   {
    "duration": 24,
    "start_time": "2022-08-17T15:00:02.614Z"
   },
   {
    "duration": 24,
    "start_time": "2022-08-17T15:00:02.640Z"
   },
   {
    "duration": 25,
    "start_time": "2022-08-17T15:00:02.666Z"
   },
   {
    "duration": 30,
    "start_time": "2022-08-17T15:00:02.693Z"
   },
   {
    "duration": 22,
    "start_time": "2022-08-17T15:00:02.726Z"
   },
   {
    "duration": 12,
    "start_time": "2022-08-17T15:00:02.751Z"
   },
   {
    "duration": 9,
    "start_time": "2022-08-17T15:00:02.765Z"
   },
   {
    "duration": 41,
    "start_time": "2022-08-17T15:00:02.776Z"
   },
   {
    "duration": 13,
    "start_time": "2022-08-17T15:00:02.818Z"
   },
   {
    "duration": 12,
    "start_time": "2022-08-17T15:00:02.833Z"
   },
   {
    "duration": 2066,
    "start_time": "2022-08-18T03:39:08.440Z"
   },
   {
    "duration": 1220,
    "start_time": "2022-08-18T03:39:10.518Z"
   },
   {
    "duration": 4,
    "start_time": "2022-08-18T03:39:11.740Z"
   },
   {
    "duration": 7,
    "start_time": "2022-08-18T03:39:11.746Z"
   },
   {
    "duration": 26,
    "start_time": "2022-08-18T03:39:11.754Z"
   },
   {
    "duration": 4,
    "start_time": "2022-08-18T03:39:11.782Z"
   },
   {
    "duration": 37,
    "start_time": "2022-08-18T03:39:11.788Z"
   },
   {
    "duration": 29,
    "start_time": "2022-08-18T03:39:11.827Z"
   },
   {
    "duration": 106,
    "start_time": "2022-08-18T03:39:11.857Z"
   },
   {
    "duration": 199,
    "start_time": "2022-08-18T03:39:11.966Z"
   },
   {
    "duration": 21,
    "start_time": "2022-08-18T03:39:12.167Z"
   },
   {
    "duration": 25,
    "start_time": "2022-08-18T03:39:12.189Z"
   },
   {
    "duration": 4,
    "start_time": "2022-08-18T03:39:12.215Z"
   },
   {
    "duration": 8,
    "start_time": "2022-08-18T03:39:12.222Z"
   },
   {
    "duration": 5,
    "start_time": "2022-08-18T03:39:12.232Z"
   },
   {
    "duration": 13,
    "start_time": "2022-08-18T03:39:12.239Z"
   },
   {
    "duration": 17,
    "start_time": "2022-08-18T03:39:12.253Z"
   },
   {
    "duration": 58,
    "start_time": "2022-08-18T03:39:12.302Z"
   },
   {
    "duration": 10,
    "start_time": "2022-08-18T03:39:12.362Z"
   },
   {
    "duration": 49,
    "start_time": "2022-08-18T03:39:12.374Z"
   },
   {
    "duration": 1067,
    "start_time": "2022-08-18T03:39:12.425Z"
   },
   {
    "duration": 191,
    "start_time": "2022-08-18T03:39:13.494Z"
   },
   {
    "duration": 29,
    "start_time": "2022-08-18T03:39:13.687Z"
   },
   {
    "duration": 15,
    "start_time": "2022-08-18T03:39:13.718Z"
   },
   {
    "duration": 12,
    "start_time": "2022-08-18T03:39:13.735Z"
   },
   {
    "duration": 65,
    "start_time": "2022-08-18T03:39:13.749Z"
   },
   {
    "duration": 20,
    "start_time": "2022-08-18T03:39:13.816Z"
   },
   {
    "duration": 37,
    "start_time": "2022-08-18T03:39:13.839Z"
   },
   {
    "duration": 4,
    "start_time": "2022-08-18T03:39:13.878Z"
   },
   {
    "duration": 289,
    "start_time": "2022-08-18T03:39:13.884Z"
   },
   {
    "duration": 217,
    "start_time": "2022-08-18T03:39:14.174Z"
   },
   {
    "duration": 26,
    "start_time": "2022-08-18T03:39:14.393Z"
   },
   {
    "duration": 18,
    "start_time": "2022-08-18T03:39:14.422Z"
   },
   {
    "duration": 208,
    "start_time": "2022-08-18T03:39:14.442Z"
   },
   {
    "duration": 221,
    "start_time": "2022-08-18T03:39:14.652Z"
   },
   {
    "duration": 208,
    "start_time": "2022-08-18T03:39:14.875Z"
   },
   {
    "duration": 198,
    "start_time": "2022-08-18T03:39:15.085Z"
   },
   {
    "duration": 33,
    "start_time": "2022-08-18T03:39:15.284Z"
   },
   {
    "duration": 4,
    "start_time": "2022-08-18T03:39:15.319Z"
   },
   {
    "duration": 6,
    "start_time": "2022-08-18T03:39:15.324Z"
   },
   {
    "duration": 16,
    "start_time": "2022-08-18T03:39:15.332Z"
   },
   {
    "duration": 10,
    "start_time": "2022-08-18T03:39:15.349Z"
   },
   {
    "duration": 10,
    "start_time": "2022-08-18T03:39:15.360Z"
   },
   {
    "duration": 42,
    "start_time": "2022-08-18T03:39:15.372Z"
   },
   {
    "duration": 9,
    "start_time": "2022-08-18T03:39:15.416Z"
   },
   {
    "duration": 7,
    "start_time": "2022-08-18T03:39:15.427Z"
   },
   {
    "duration": 15,
    "start_time": "2022-08-18T03:39:15.435Z"
   },
   {
    "duration": 9,
    "start_time": "2022-08-18T03:39:15.452Z"
   },
   {
    "duration": 13,
    "start_time": "2022-08-18T03:39:15.462Z"
   }
  ],
  "kernelspec": {
   "display_name": "Python 3 (ipykernel)",
   "language": "python",
   "name": "python3"
  },
  "language_info": {
   "codemirror_mode": {
    "name": "ipython",
    "version": 3
   },
   "file_extension": ".py",
   "mimetype": "text/x-python",
   "name": "python",
   "nbconvert_exporter": "python",
   "pygments_lexer": "ipython3",
   "version": "3.9.7"
  },
  "toc": {
   "base_numbering": 1,
   "nav_menu": {},
   "number_sections": true,
   "sideBar": true,
   "skip_h1_title": true,
   "title_cell": "Table of Contents",
   "title_sidebar": "Contents",
   "toc_cell": false,
   "toc_position": {},
   "toc_section_display": true,
   "toc_window_display": true
  }
 },
 "nbformat": 4,
 "nbformat_minor": 5
}
