{
 "cells": [
  {
   "cell_type": "markdown",
   "id": "6c51584a",
   "metadata": {},
   "source": [
    "<div class=\"alert alert-info\">\n",
    "        \n",
    "# Сборный проект\n",
    "\n",
    "</div>"
   ]
  },
  {
   "cell_type": "markdown",
   "id": "9473b722",
   "metadata": {},
   "source": [
    "Описание данных:\n",
    "\n",
    "- Name — название игры  \n",
    "- Platform — платформа  \n",
    "- Year_of_Release — год выпуска  \n",
    "- Genre — жанр игры  \n",
    "- NA_sales — продажи в Северной Америке (миллионы проданных копий)  \n",
    "- EU_sales — продажи в Европе (миллионы проданных копий)  \n",
    "- JP_sales — продажи в Японии (миллионы проданных копий)  \n",
    "- Other_sales — продажи в других странах (миллионы проданных копий)  \n",
    "- Critic_Score — оценка критиков (максимум 100)  \n",
    "- User_Score — оценка пользователей (максимум 10)  \n",
    "- Rating — рейтинг от организации ESRB (англ. Entertainment Software Rating Board). Эта ассоциация определяет рейтинг компьютерных игр и присваивает им подходящую возрастную категорию.  \n",
    "\n",
    "Данные за 2016 год могут быть неполными."
   ]
  },
  {
   "cell_type": "markdown",
   "id": "b742f3e4",
   "metadata": {},
   "source": [
    "Из открытых источников доступны исторические данные о продажах игр, оценки пользователей и экспертов, жанры и платформы (например, Xbox или PlayStation). Вам нужно выявить определяющие успешность игры закономерности. Это позволит сделать ставку на потенциально популярный продукт и спланировать рекламные кампании.  \n",
    "\n",
    "Перед вами данные до 2016 года. Представим, что сейчас декабрь 2016 г., и вы планируете кампанию на 2017-й. Нужно отработать принцип работы с данными. Неважно, прогнозируете ли вы продажи на 2017 год по данным 2016-го или же 2027-й — по данным 2026 года.  \n",
    "\n",
    "В наборе данных попадается аббревиатура ESRB (Entertainment Software Rating Board) — это ассоциация, определяющая возрастной рейтинг компьютерных игр. ESRB оценивает игровой контент и присваивает ему подходящую возрастную категорию, например, «Для взрослых», «Для детей младшего возраста» или «Для подростков»."
   ]
  },
  {
   "cell_type": "code",
   "execution_count": 1,
   "id": "4d1055bd",
   "metadata": {},
   "outputs": [],
   "source": [
    "import pandas as pd\n",
    "import numpy as np\n",
    "import seaborn as sns\n",
    "import matplotlib.pyplot as plt\n",
    "from scipy import stats as st"
   ]
  },
  {
   "cell_type": "code",
   "execution_count": 2,
   "id": "d8ec1d01",
   "metadata": {},
   "outputs": [],
   "source": [
    "try:\n",
    "    games = pd.read_csv('games.csv')\n",
    "except:\n",
    "    games = pd.read_csv('/datasets/games.csv')"
   ]
  },
  {
   "cell_type": "code",
   "execution_count": 3,
   "id": "582bf9fc",
   "metadata": {
    "scrolled": false
   },
   "outputs": [
    {
     "name": "stdout",
     "output_type": "stream",
     "text": [
      "<class 'pandas.core.frame.DataFrame'>\n",
      "RangeIndex: 16715 entries, 0 to 16714\n",
      "Data columns (total 11 columns):\n",
      " #   Column           Non-Null Count  Dtype  \n",
      "---  ------           --------------  -----  \n",
      " 0   Name             16713 non-null  object \n",
      " 1   Platform         16715 non-null  object \n",
      " 2   Year_of_Release  16446 non-null  float64\n",
      " 3   Genre            16713 non-null  object \n",
      " 4   NA_sales         16715 non-null  float64\n",
      " 5   EU_sales         16715 non-null  float64\n",
      " 6   JP_sales         16715 non-null  float64\n",
      " 7   Other_sales      16715 non-null  float64\n",
      " 8   Critic_Score     8137 non-null   float64\n",
      " 9   User_Score       10014 non-null  object \n",
      " 10  Rating           9949 non-null   object \n",
      "dtypes: float64(6), object(5)\n",
      "memory usage: 1.4+ MB\n"
     ]
    },
    {
     "data": {
      "text/html": [
       "<div>\n",
       "<style scoped>\n",
       "    .dataframe tbody tr th:only-of-type {\n",
       "        vertical-align: middle;\n",
       "    }\n",
       "\n",
       "    .dataframe tbody tr th {\n",
       "        vertical-align: top;\n",
       "    }\n",
       "\n",
       "    .dataframe thead th {\n",
       "        text-align: right;\n",
       "    }\n",
       "</style>\n",
       "<table border=\"1\" class=\"dataframe\">\n",
       "  <thead>\n",
       "    <tr style=\"text-align: right;\">\n",
       "      <th></th>\n",
       "      <th>Name</th>\n",
       "      <th>Platform</th>\n",
       "      <th>Year_of_Release</th>\n",
       "      <th>Genre</th>\n",
       "      <th>NA_sales</th>\n",
       "      <th>EU_sales</th>\n",
       "      <th>JP_sales</th>\n",
       "      <th>Other_sales</th>\n",
       "      <th>Critic_Score</th>\n",
       "      <th>User_Score</th>\n",
       "      <th>Rating</th>\n",
       "    </tr>\n",
       "  </thead>\n",
       "  <tbody>\n",
       "    <tr>\n",
       "      <th>0</th>\n",
       "      <td>Wii Sports</td>\n",
       "      <td>Wii</td>\n",
       "      <td>2006.0</td>\n",
       "      <td>Sports</td>\n",
       "      <td>41.36</td>\n",
       "      <td>28.96</td>\n",
       "      <td>3.77</td>\n",
       "      <td>8.45</td>\n",
       "      <td>76.0</td>\n",
       "      <td>8</td>\n",
       "      <td>E</td>\n",
       "    </tr>\n",
       "    <tr>\n",
       "      <th>1</th>\n",
       "      <td>Super Mario Bros.</td>\n",
       "      <td>NES</td>\n",
       "      <td>1985.0</td>\n",
       "      <td>Platform</td>\n",
       "      <td>29.08</td>\n",
       "      <td>3.58</td>\n",
       "      <td>6.81</td>\n",
       "      <td>0.77</td>\n",
       "      <td>NaN</td>\n",
       "      <td>NaN</td>\n",
       "      <td>NaN</td>\n",
       "    </tr>\n",
       "    <tr>\n",
       "      <th>2</th>\n",
       "      <td>Mario Kart Wii</td>\n",
       "      <td>Wii</td>\n",
       "      <td>2008.0</td>\n",
       "      <td>Racing</td>\n",
       "      <td>15.68</td>\n",
       "      <td>12.76</td>\n",
       "      <td>3.79</td>\n",
       "      <td>3.29</td>\n",
       "      <td>82.0</td>\n",
       "      <td>8.3</td>\n",
       "      <td>E</td>\n",
       "    </tr>\n",
       "    <tr>\n",
       "      <th>3</th>\n",
       "      <td>Wii Sports Resort</td>\n",
       "      <td>Wii</td>\n",
       "      <td>2009.0</td>\n",
       "      <td>Sports</td>\n",
       "      <td>15.61</td>\n",
       "      <td>10.93</td>\n",
       "      <td>3.28</td>\n",
       "      <td>2.95</td>\n",
       "      <td>80.0</td>\n",
       "      <td>8</td>\n",
       "      <td>E</td>\n",
       "    </tr>\n",
       "    <tr>\n",
       "      <th>4</th>\n",
       "      <td>Pokemon Red/Pokemon Blue</td>\n",
       "      <td>GB</td>\n",
       "      <td>1996.0</td>\n",
       "      <td>Role-Playing</td>\n",
       "      <td>11.27</td>\n",
       "      <td>8.89</td>\n",
       "      <td>10.22</td>\n",
       "      <td>1.00</td>\n",
       "      <td>NaN</td>\n",
       "      <td>NaN</td>\n",
       "      <td>NaN</td>\n",
       "    </tr>\n",
       "  </tbody>\n",
       "</table>\n",
       "</div>"
      ],
      "text/plain": [
       "                       Name Platform  Year_of_Release         Genre  NA_sales  \\\n",
       "0                Wii Sports      Wii           2006.0        Sports     41.36   \n",
       "1         Super Mario Bros.      NES           1985.0      Platform     29.08   \n",
       "2            Mario Kart Wii      Wii           2008.0        Racing     15.68   \n",
       "3         Wii Sports Resort      Wii           2009.0        Sports     15.61   \n",
       "4  Pokemon Red/Pokemon Blue       GB           1996.0  Role-Playing     11.27   \n",
       "\n",
       "   EU_sales  JP_sales  Other_sales  Critic_Score User_Score Rating  \n",
       "0     28.96      3.77         8.45          76.0          8      E  \n",
       "1      3.58      6.81         0.77           NaN        NaN    NaN  \n",
       "2     12.76      3.79         3.29          82.0        8.3      E  \n",
       "3     10.93      3.28         2.95          80.0          8      E  \n",
       "4      8.89     10.22         1.00           NaN        NaN    NaN  "
      ]
     },
     "execution_count": 3,
     "metadata": {},
     "output_type": "execute_result"
    }
   ],
   "source": [
    "games.info()\n",
    "games.head()"
   ]
  },
  {
   "cell_type": "markdown",
   "id": "26702036",
   "metadata": {},
   "source": [
    "🧑‍🎓 Ира: в датасете почти 17тыс строк, довольно много, но есть большое кол-во пропусков в некоторых столбцах. Некотороые из них могут быть связаны с системной ошибкой при загрузке, а некоторые просто отсутствовать в принципе(такие как оценки игр).\n",
    "Так же есть проблема с некорректными типами данных некоторых столбцов, таких как оценка пользователя, год выпуска игры"
   ]
  },
  {
   "cell_type": "markdown",
   "id": "60c8ccfe",
   "metadata": {},
   "source": [
    "<div class=\"alert alert-info\">\n",
    "        \n",
    "## Подготовка данных\n",
    "\n",
    "</div>"
   ]
  },
  {
   "cell_type": "code",
   "execution_count": 4,
   "id": "6d81e32b",
   "metadata": {},
   "outputs": [],
   "source": [
    "games.rename(columns={\"Name\": \"name\", \"Platform\": \"platform\",\n",
    "                  \"Year_of_Release\": \"year_of_release\", \"Genre\":\"genre\", \"NA_sales\":\"na_sales\", \"EU_sales\":\"eu_sales\",\n",
    "                  \"JP_sales\":\"jp_sales\", \"Other_sales\":\"other_sales\", \"Critic_Score\":\"critic_score\",\n",
    "                  \"User_Score\":\"user_score\", \"Rating\":\"rating\"}, inplace=True)"
   ]
  },
  {
   "cell_type": "code",
   "execution_count": 5,
   "id": "21468463",
   "metadata": {},
   "outputs": [
    {
     "data": {
      "text/plain": [
       "name                  2\n",
       "platform              0\n",
       "year_of_release     269\n",
       "genre                 2\n",
       "na_sales              0\n",
       "eu_sales              0\n",
       "jp_sales              0\n",
       "other_sales           0\n",
       "critic_score       8578\n",
       "user_score         6701\n",
       "rating             6766\n",
       "dtype: int64"
      ]
     },
     "execution_count": 5,
     "metadata": {},
     "output_type": "execute_result"
    }
   ],
   "source": [
    "games.isna().sum()"
   ]
  },
  {
   "cell_type": "markdown",
   "id": "e8ef9d35",
   "metadata": {},
   "source": [
    "🧑‍🎓 Ира: строки с пропусками в столбцах name и year_of_release думаю можно удалить, имя восстановить точно не получится, а поставить корректный год можно только если гуглить дату выхода каждой игры, но так как их почти 300, вряд ли это будет правильным решением. Данных с пропущенным годом не очень много, поэтому можно не оставлять.\n",
    "\n",
    "Все остальное лучше оставить как есть, так как пропуски в оценке критиков и пользователей не совсем корректно заполнять средними, ведь непонятно, пропуск- это ноль или же какая-то незаполненная оценка. \n",
    "Но для дальнейшего преобразрования типа столбца заменим отсутствующие значения на условные 11 у пользоваталей и 101 у критиков\n",
    "\n",
    "Со столбцом rating тоже самое, что и со столбцом year_of_release, но значений с пропусками очень много, почти 1/3 таблицы, их лучше оставить."
   ]
  },
  {
   "cell_type": "code",
   "execution_count": 6,
   "id": "29e5454f",
   "metadata": {},
   "outputs": [
    {
     "data": {
      "text/plain": [
       "name                  0\n",
       "platform              0\n",
       "year_of_release       0\n",
       "genre                 0\n",
       "na_sales              0\n",
       "eu_sales              0\n",
       "jp_sales              0\n",
       "other_sales           0\n",
       "critic_score       8461\n",
       "user_score         6605\n",
       "rating             6676\n",
       "dtype: int64"
      ]
     },
     "execution_count": 6,
     "metadata": {},
     "output_type": "execute_result"
    }
   ],
   "source": [
    "games = games.dropna(subset=['name', 'year_of_release']).reset_index(drop=True)\n",
    "games.isna().sum()"
   ]
  },
  {
   "cell_type": "code",
   "execution_count": 7,
   "id": "22bb6954",
   "metadata": {},
   "outputs": [
    {
     "data": {
      "text/html": [
       "<div>\n",
       "<style scoped>\n",
       "    .dataframe tbody tr th:only-of-type {\n",
       "        vertical-align: middle;\n",
       "    }\n",
       "\n",
       "    .dataframe tbody tr th {\n",
       "        vertical-align: top;\n",
       "    }\n",
       "\n",
       "    .dataframe thead th {\n",
       "        text-align: right;\n",
       "    }\n",
       "</style>\n",
       "<table border=\"1\" class=\"dataframe\">\n",
       "  <thead>\n",
       "    <tr style=\"text-align: right;\">\n",
       "      <th></th>\n",
       "      <th>name</th>\n",
       "      <th>platform</th>\n",
       "      <th>year_of_release</th>\n",
       "      <th>genre</th>\n",
       "      <th>na_sales</th>\n",
       "      <th>eu_sales</th>\n",
       "      <th>jp_sales</th>\n",
       "      <th>other_sales</th>\n",
       "      <th>critic_score</th>\n",
       "      <th>user_score</th>\n",
       "      <th>rating</th>\n",
       "    </tr>\n",
       "  </thead>\n",
       "  <tbody>\n",
       "    <tr>\n",
       "      <th>119</th>\n",
       "      <td>Zumba Fitness</td>\n",
       "      <td>Wii</td>\n",
       "      <td>2010.0</td>\n",
       "      <td>Sports</td>\n",
       "      <td>3.45</td>\n",
       "      <td>2.59</td>\n",
       "      <td>0.0</td>\n",
       "      <td>0.66</td>\n",
       "      <td>NaN</td>\n",
       "      <td>tbd</td>\n",
       "      <td>E</td>\n",
       "    </tr>\n",
       "    <tr>\n",
       "      <th>300</th>\n",
       "      <td>Namco Museum: 50th Anniversary</td>\n",
       "      <td>PS2</td>\n",
       "      <td>2005.0</td>\n",
       "      <td>Misc</td>\n",
       "      <td>2.08</td>\n",
       "      <td>1.35</td>\n",
       "      <td>0.0</td>\n",
       "      <td>0.54</td>\n",
       "      <td>61.0</td>\n",
       "      <td>tbd</td>\n",
       "      <td>E10+</td>\n",
       "    </tr>\n",
       "    <tr>\n",
       "      <th>516</th>\n",
       "      <td>Zumba Fitness 2</td>\n",
       "      <td>Wii</td>\n",
       "      <td>2011.0</td>\n",
       "      <td>Sports</td>\n",
       "      <td>1.51</td>\n",
       "      <td>1.03</td>\n",
       "      <td>0.0</td>\n",
       "      <td>0.27</td>\n",
       "      <td>NaN</td>\n",
       "      <td>tbd</td>\n",
       "      <td>T</td>\n",
       "    </tr>\n",
       "    <tr>\n",
       "      <th>639</th>\n",
       "      <td>uDraw Studio</td>\n",
       "      <td>Wii</td>\n",
       "      <td>2010.0</td>\n",
       "      <td>Misc</td>\n",
       "      <td>1.65</td>\n",
       "      <td>0.57</td>\n",
       "      <td>0.0</td>\n",
       "      <td>0.20</td>\n",
       "      <td>71.0</td>\n",
       "      <td>tbd</td>\n",
       "      <td>E</td>\n",
       "    </tr>\n",
       "    <tr>\n",
       "      <th>709</th>\n",
       "      <td>Just Dance Kids</td>\n",
       "      <td>Wii</td>\n",
       "      <td>2010.0</td>\n",
       "      <td>Misc</td>\n",
       "      <td>1.52</td>\n",
       "      <td>0.54</td>\n",
       "      <td>0.0</td>\n",
       "      <td>0.18</td>\n",
       "      <td>NaN</td>\n",
       "      <td>tbd</td>\n",
       "      <td>E</td>\n",
       "    </tr>\n",
       "  </tbody>\n",
       "</table>\n",
       "</div>"
      ],
      "text/plain": [
       "                               name platform  year_of_release   genre  \\\n",
       "119                   Zumba Fitness      Wii           2010.0  Sports   \n",
       "300  Namco Museum: 50th Anniversary      PS2           2005.0    Misc   \n",
       "516                 Zumba Fitness 2      Wii           2011.0  Sports   \n",
       "639                    uDraw Studio      Wii           2010.0    Misc   \n",
       "709                 Just Dance Kids      Wii           2010.0    Misc   \n",
       "\n",
       "     na_sales  eu_sales  jp_sales  other_sales  critic_score user_score rating  \n",
       "119      3.45      2.59       0.0         0.66           NaN        tbd      E  \n",
       "300      2.08      1.35       0.0         0.54          61.0        tbd   E10+  \n",
       "516      1.51      1.03       0.0         0.27           NaN        tbd      T  \n",
       "639      1.65      0.57       0.0         0.20          71.0        tbd      E  \n",
       "709      1.52      0.54       0.0         0.18           NaN        tbd      E  "
      ]
     },
     "execution_count": 7,
     "metadata": {},
     "output_type": "execute_result"
    }
   ],
   "source": [
    "games.query('user_score == \"tbd\"').head()"
   ]
  },
  {
   "cell_type": "code",
   "execution_count": 8,
   "id": "a591a965",
   "metadata": {
    "scrolled": true
   },
   "outputs": [
    {
     "data": {
      "text/html": [
       "<div>\n",
       "<style scoped>\n",
       "    .dataframe tbody tr th:only-of-type {\n",
       "        vertical-align: middle;\n",
       "    }\n",
       "\n",
       "    .dataframe tbody tr th {\n",
       "        vertical-align: top;\n",
       "    }\n",
       "\n",
       "    .dataframe thead th {\n",
       "        text-align: right;\n",
       "    }\n",
       "</style>\n",
       "<table border=\"1\" class=\"dataframe\">\n",
       "  <thead>\n",
       "    <tr style=\"text-align: right;\">\n",
       "      <th></th>\n",
       "      <th>name</th>\n",
       "      <th>platform</th>\n",
       "      <th>year_of_release</th>\n",
       "      <th>genre</th>\n",
       "      <th>na_sales</th>\n",
       "      <th>eu_sales</th>\n",
       "      <th>jp_sales</th>\n",
       "      <th>other_sales</th>\n",
       "      <th>critic_score</th>\n",
       "      <th>user_score</th>\n",
       "      <th>rating</th>\n",
       "    </tr>\n",
       "  </thead>\n",
       "  <tbody>\n",
       "    <tr>\n",
       "      <th>0</th>\n",
       "      <td>Wii Sports</td>\n",
       "      <td>Wii</td>\n",
       "      <td>2006.0</td>\n",
       "      <td>Sports</td>\n",
       "      <td>41.36</td>\n",
       "      <td>28.96</td>\n",
       "      <td>3.77</td>\n",
       "      <td>8.45</td>\n",
       "      <td>76.0</td>\n",
       "      <td>8</td>\n",
       "      <td>E</td>\n",
       "    </tr>\n",
       "    <tr>\n",
       "      <th>1</th>\n",
       "      <td>Super Mario Bros.</td>\n",
       "      <td>NES</td>\n",
       "      <td>1985.0</td>\n",
       "      <td>Platform</td>\n",
       "      <td>29.08</td>\n",
       "      <td>3.58</td>\n",
       "      <td>6.81</td>\n",
       "      <td>0.77</td>\n",
       "      <td>NaN</td>\n",
       "      <td>NaN</td>\n",
       "      <td>NaN</td>\n",
       "    </tr>\n",
       "    <tr>\n",
       "      <th>2</th>\n",
       "      <td>Mario Kart Wii</td>\n",
       "      <td>Wii</td>\n",
       "      <td>2008.0</td>\n",
       "      <td>Racing</td>\n",
       "      <td>15.68</td>\n",
       "      <td>12.76</td>\n",
       "      <td>3.79</td>\n",
       "      <td>3.29</td>\n",
       "      <td>82.0</td>\n",
       "      <td>8.3</td>\n",
       "      <td>E</td>\n",
       "    </tr>\n",
       "    <tr>\n",
       "      <th>3</th>\n",
       "      <td>Wii Sports Resort</td>\n",
       "      <td>Wii</td>\n",
       "      <td>2009.0</td>\n",
       "      <td>Sports</td>\n",
       "      <td>15.61</td>\n",
       "      <td>10.93</td>\n",
       "      <td>3.28</td>\n",
       "      <td>2.95</td>\n",
       "      <td>80.0</td>\n",
       "      <td>8</td>\n",
       "      <td>E</td>\n",
       "    </tr>\n",
       "    <tr>\n",
       "      <th>4</th>\n",
       "      <td>Pokemon Red/Pokemon Blue</td>\n",
       "      <td>GB</td>\n",
       "      <td>1996.0</td>\n",
       "      <td>Role-Playing</td>\n",
       "      <td>11.27</td>\n",
       "      <td>8.89</td>\n",
       "      <td>10.22</td>\n",
       "      <td>1.00</td>\n",
       "      <td>NaN</td>\n",
       "      <td>NaN</td>\n",
       "      <td>NaN</td>\n",
       "    </tr>\n",
       "  </tbody>\n",
       "</table>\n",
       "</div>"
      ],
      "text/plain": [
       "                       name platform  year_of_release         genre  na_sales  \\\n",
       "0                Wii Sports      Wii           2006.0        Sports     41.36   \n",
       "1         Super Mario Bros.      NES           1985.0      Platform     29.08   \n",
       "2            Mario Kart Wii      Wii           2008.0        Racing     15.68   \n",
       "3         Wii Sports Resort      Wii           2009.0        Sports     15.61   \n",
       "4  Pokemon Red/Pokemon Blue       GB           1996.0  Role-Playing     11.27   \n",
       "\n",
       "   eu_sales  jp_sales  other_sales  critic_score user_score rating  \n",
       "0     28.96      3.77         8.45          76.0          8      E  \n",
       "1      3.58      6.81         0.77           NaN        NaN    NaN  \n",
       "2     12.76      3.79         3.29          82.0        8.3      E  \n",
       "3     10.93      3.28         2.95          80.0          8      E  \n",
       "4      8.89     10.22         1.00           NaN        NaN    NaN  "
      ]
     },
     "execution_count": 8,
     "metadata": {},
     "output_type": "execute_result"
    }
   ],
   "source": [
    "games.query('user_score != \"tbd\"').head()"
   ]
  },
  {
   "cell_type": "markdown",
   "id": "7abfa03e",
   "metadata": {},
   "source": [
    "🧑‍🎓 Ира: Судя по всему, tbd означает To Be Determined, то есть пользовательский рейтинг еще не определен, это странно учитывая, что есть игры с таким рейтингом от 1999.\n",
    "Почему рейтинг не определен понять сложно, я проверяла по продажам в разных регионах, но закономерности нет, с жанром тоже связать отсутствие рейтинга не получается. \n",
    "\n",
    "Вероятнее всего игры или не оценивают, или была какая-то ошибка при загрузке данных, которая повлекла за собой \"пропажу\" пользовательского рейтинга."
   ]
  },
  {
   "cell_type": "code",
   "execution_count": 9,
   "id": "5814538c",
   "metadata": {},
   "outputs": [
    {
     "data": {
      "text/html": [
       "<div>\n",
       "<style scoped>\n",
       "    .dataframe tbody tr th:only-of-type {\n",
       "        vertical-align: middle;\n",
       "    }\n",
       "\n",
       "    .dataframe tbody tr th {\n",
       "        vertical-align: top;\n",
       "    }\n",
       "\n",
       "    .dataframe thead th {\n",
       "        text-align: right;\n",
       "    }\n",
       "</style>\n",
       "<table border=\"1\" class=\"dataframe\">\n",
       "  <thead>\n",
       "    <tr style=\"text-align: right;\">\n",
       "      <th></th>\n",
       "      <th>name</th>\n",
       "      <th>platform</th>\n",
       "      <th>year_of_release</th>\n",
       "      <th>genre</th>\n",
       "      <th>na_sales</th>\n",
       "      <th>eu_sales</th>\n",
       "      <th>jp_sales</th>\n",
       "      <th>other_sales</th>\n",
       "      <th>critic_score</th>\n",
       "      <th>user_score</th>\n",
       "      <th>rating</th>\n",
       "    </tr>\n",
       "  </thead>\n",
       "  <tbody>\n",
       "    <tr>\n",
       "      <th>0</th>\n",
       "      <td>Wii Sports</td>\n",
       "      <td>Wii</td>\n",
       "      <td>2006.0</td>\n",
       "      <td>Sports</td>\n",
       "      <td>41.36</td>\n",
       "      <td>28.96</td>\n",
       "      <td>3.77</td>\n",
       "      <td>8.45</td>\n",
       "      <td>76.0</td>\n",
       "      <td>8</td>\n",
       "      <td>E</td>\n",
       "    </tr>\n",
       "    <tr>\n",
       "      <th>1</th>\n",
       "      <td>Super Mario Bros.</td>\n",
       "      <td>NES</td>\n",
       "      <td>1985.0</td>\n",
       "      <td>Platform</td>\n",
       "      <td>29.08</td>\n",
       "      <td>3.58</td>\n",
       "      <td>6.81</td>\n",
       "      <td>0.77</td>\n",
       "      <td>101</td>\n",
       "      <td>11</td>\n",
       "      <td>unknown</td>\n",
       "    </tr>\n",
       "    <tr>\n",
       "      <th>2</th>\n",
       "      <td>Mario Kart Wii</td>\n",
       "      <td>Wii</td>\n",
       "      <td>2008.0</td>\n",
       "      <td>Racing</td>\n",
       "      <td>15.68</td>\n",
       "      <td>12.76</td>\n",
       "      <td>3.79</td>\n",
       "      <td>3.29</td>\n",
       "      <td>82.0</td>\n",
       "      <td>8.3</td>\n",
       "      <td>E</td>\n",
       "    </tr>\n",
       "    <tr>\n",
       "      <th>3</th>\n",
       "      <td>Wii Sports Resort</td>\n",
       "      <td>Wii</td>\n",
       "      <td>2009.0</td>\n",
       "      <td>Sports</td>\n",
       "      <td>15.61</td>\n",
       "      <td>10.93</td>\n",
       "      <td>3.28</td>\n",
       "      <td>2.95</td>\n",
       "      <td>80.0</td>\n",
       "      <td>8</td>\n",
       "      <td>E</td>\n",
       "    </tr>\n",
       "    <tr>\n",
       "      <th>4</th>\n",
       "      <td>Pokemon Red/Pokemon Blue</td>\n",
       "      <td>GB</td>\n",
       "      <td>1996.0</td>\n",
       "      <td>Role-Playing</td>\n",
       "      <td>11.27</td>\n",
       "      <td>8.89</td>\n",
       "      <td>10.22</td>\n",
       "      <td>1.00</td>\n",
       "      <td>101</td>\n",
       "      <td>11</td>\n",
       "      <td>unknown</td>\n",
       "    </tr>\n",
       "  </tbody>\n",
       "</table>\n",
       "</div>"
      ],
      "text/plain": [
       "                       name platform  year_of_release         genre  na_sales  \\\n",
       "0                Wii Sports      Wii           2006.0        Sports     41.36   \n",
       "1         Super Mario Bros.      NES           1985.0      Platform     29.08   \n",
       "2            Mario Kart Wii      Wii           2008.0        Racing     15.68   \n",
       "3         Wii Sports Resort      Wii           2009.0        Sports     15.61   \n",
       "4  Pokemon Red/Pokemon Blue       GB           1996.0  Role-Playing     11.27   \n",
       "\n",
       "   eu_sales  jp_sales  other_sales critic_score user_score   rating  \n",
       "0     28.96      3.77         8.45         76.0          8        E  \n",
       "1      3.58      6.81         0.77          101         11  unknown  \n",
       "2     12.76      3.79         3.29         82.0        8.3        E  \n",
       "3     10.93      3.28         2.95         80.0          8        E  \n",
       "4      8.89     10.22         1.00          101         11  unknown  "
      ]
     },
     "execution_count": 9,
     "metadata": {},
     "output_type": "execute_result"
    }
   ],
   "source": [
    "games.loc[games['user_score'] == 'tbd', 'user_score'] = '11'\n",
    "games['user_score'] = games['user_score'].fillna('11')\n",
    "games['critic_score'] = games['critic_score'].fillna('101')\n",
    "games['rating'] = games['rating'].fillna('unknown')\n",
    "games.head()\n"
   ]
  },
  {
   "cell_type": "code",
   "execution_count": 10,
   "id": "0da83be7",
   "metadata": {},
   "outputs": [],
   "source": [
    "games['year_of_release'] = games['year_of_release'].astype(int)\n",
    "games['user_score'] = games['user_score'].astype(float)\n",
    "games['critic_score'] = games['critic_score'].astype(float)\n"
   ]
  },
  {
   "cell_type": "code",
   "execution_count": 11,
   "id": "0da389b5",
   "metadata": {},
   "outputs": [
    {
     "data": {
      "text/html": [
       "<div>\n",
       "<style scoped>\n",
       "    .dataframe tbody tr th:only-of-type {\n",
       "        vertical-align: middle;\n",
       "    }\n",
       "\n",
       "    .dataframe tbody tr th {\n",
       "        vertical-align: top;\n",
       "    }\n",
       "\n",
       "    .dataframe thead th {\n",
       "        text-align: right;\n",
       "    }\n",
       "</style>\n",
       "<table border=\"1\" class=\"dataframe\">\n",
       "  <thead>\n",
       "    <tr style=\"text-align: right;\">\n",
       "      <th></th>\n",
       "      <th>name</th>\n",
       "      <th>platform</th>\n",
       "      <th>year_of_release</th>\n",
       "      <th>genre</th>\n",
       "      <th>na_sales</th>\n",
       "      <th>eu_sales</th>\n",
       "      <th>jp_sales</th>\n",
       "      <th>other_sales</th>\n",
       "      <th>critic_score</th>\n",
       "      <th>user_score</th>\n",
       "      <th>rating</th>\n",
       "      <th>all_sales</th>\n",
       "    </tr>\n",
       "  </thead>\n",
       "  <tbody>\n",
       "    <tr>\n",
       "      <th>0</th>\n",
       "      <td>Wii Sports</td>\n",
       "      <td>Wii</td>\n",
       "      <td>2006</td>\n",
       "      <td>Sports</td>\n",
       "      <td>41.36</td>\n",
       "      <td>28.96</td>\n",
       "      <td>3.77</td>\n",
       "      <td>8.45</td>\n",
       "      <td>76.0</td>\n",
       "      <td>8.0</td>\n",
       "      <td>E</td>\n",
       "      <td>82.54</td>\n",
       "    </tr>\n",
       "    <tr>\n",
       "      <th>1</th>\n",
       "      <td>Super Mario Bros.</td>\n",
       "      <td>NES</td>\n",
       "      <td>1985</td>\n",
       "      <td>Platform</td>\n",
       "      <td>29.08</td>\n",
       "      <td>3.58</td>\n",
       "      <td>6.81</td>\n",
       "      <td>0.77</td>\n",
       "      <td>101.0</td>\n",
       "      <td>11.0</td>\n",
       "      <td>unknown</td>\n",
       "      <td>40.24</td>\n",
       "    </tr>\n",
       "    <tr>\n",
       "      <th>2</th>\n",
       "      <td>Mario Kart Wii</td>\n",
       "      <td>Wii</td>\n",
       "      <td>2008</td>\n",
       "      <td>Racing</td>\n",
       "      <td>15.68</td>\n",
       "      <td>12.76</td>\n",
       "      <td>3.79</td>\n",
       "      <td>3.29</td>\n",
       "      <td>82.0</td>\n",
       "      <td>8.3</td>\n",
       "      <td>E</td>\n",
       "      <td>35.52</td>\n",
       "    </tr>\n",
       "    <tr>\n",
       "      <th>3</th>\n",
       "      <td>Wii Sports Resort</td>\n",
       "      <td>Wii</td>\n",
       "      <td>2009</td>\n",
       "      <td>Sports</td>\n",
       "      <td>15.61</td>\n",
       "      <td>10.93</td>\n",
       "      <td>3.28</td>\n",
       "      <td>2.95</td>\n",
       "      <td>80.0</td>\n",
       "      <td>8.0</td>\n",
       "      <td>E</td>\n",
       "      <td>32.77</td>\n",
       "    </tr>\n",
       "    <tr>\n",
       "      <th>4</th>\n",
       "      <td>Pokemon Red/Pokemon Blue</td>\n",
       "      <td>GB</td>\n",
       "      <td>1996</td>\n",
       "      <td>Role-Playing</td>\n",
       "      <td>11.27</td>\n",
       "      <td>8.89</td>\n",
       "      <td>10.22</td>\n",
       "      <td>1.00</td>\n",
       "      <td>101.0</td>\n",
       "      <td>11.0</td>\n",
       "      <td>unknown</td>\n",
       "      <td>31.38</td>\n",
       "    </tr>\n",
       "  </tbody>\n",
       "</table>\n",
       "</div>"
      ],
      "text/plain": [
       "                       name platform  year_of_release         genre  na_sales  \\\n",
       "0                Wii Sports      Wii             2006        Sports     41.36   \n",
       "1         Super Mario Bros.      NES             1985      Platform     29.08   \n",
       "2            Mario Kart Wii      Wii             2008        Racing     15.68   \n",
       "3         Wii Sports Resort      Wii             2009        Sports     15.61   \n",
       "4  Pokemon Red/Pokemon Blue       GB             1996  Role-Playing     11.27   \n",
       "\n",
       "   eu_sales  jp_sales  other_sales  critic_score  user_score   rating  \\\n",
       "0     28.96      3.77         8.45          76.0         8.0        E   \n",
       "1      3.58      6.81         0.77         101.0        11.0  unknown   \n",
       "2     12.76      3.79         3.29          82.0         8.3        E   \n",
       "3     10.93      3.28         2.95          80.0         8.0        E   \n",
       "4      8.89     10.22         1.00         101.0        11.0  unknown   \n",
       "\n",
       "   all_sales  \n",
       "0      82.54  \n",
       "1      40.24  \n",
       "2      35.52  \n",
       "3      32.77  \n",
       "4      31.38  "
      ]
     },
     "execution_count": 11,
     "metadata": {},
     "output_type": "execute_result"
    }
   ],
   "source": [
    "games['all_sales'] = games['na_sales']  + games['eu_sales'] + games['jp_sales'] + games['other_sales']\n",
    "games.head()"
   ]
  },
  {
   "cell_type": "markdown",
   "id": "263c64b1",
   "metadata": {},
   "source": [
    "<div class=\"alert alert-info\">\n",
    "        \n",
    "## Исследовательский анализ данных\n",
    "\n",
    "</div>"
   ]
  },
  {
   "cell_type": "markdown",
   "id": "7996f559",
   "metadata": {},
   "source": [
    "<div class=\"alert alert-info\">\n",
    "        \n",
    "### Сколько игр выпускалось в разные годы\n",
    "\n",
    "</div>"
   ]
  },
  {
   "cell_type": "code",
   "execution_count": 12,
   "id": "8bafa1b7",
   "metadata": {},
   "outputs": [
    {
     "data": {
      "image/png": "[encoded data removed]",
      "text/plain": [
       "<Figure size 648x648 with 1 Axes>"
      ]
     },
     "metadata": {
      "needs_background": "light"
     },
     "output_type": "display_data"
    }
   ],
   "source": [
    "games.groupby('year_of_release')['year_of_release'].count().plot(x='year_of_release', figsize=(9,9), grid=True)\n",
    "plt.show()"
   ]
  },
  {
   "cell_type": "markdown",
   "id": "de33e375",
   "metadata": {},
   "source": [
    "🧑‍🎓 Ира: На мой взгляд данные за периоды, где выпущено меньше 500 игр, не так важны, так как можно проследить, что кол-во игр за последние 15 лет(если мы сейчас в 2016) увеличивалось, и подавляющее большинство игр будет лежать в диапазоне этих лет."
   ]
  },
  {
   "cell_type": "markdown",
   "id": "6438b30c",
   "metadata": {},
   "source": [
    "\n",
    "<div class=\"alert alert-info\">\n",
    "        \n",
    "### Как менялись продажи по платформам\n",
    "\n",
    "</div>"
   ]
  },
  {
   "cell_type": "code",
   "execution_count": 13,
   "id": "d9a4ed8e",
   "metadata": {},
   "outputs": [
    {
     "data": {
      "text/html": [
       "<div>\n",
       "<style scoped>\n",
       "    .dataframe tbody tr th:only-of-type {\n",
       "        vertical-align: middle;\n",
       "    }\n",
       "\n",
       "    .dataframe tbody tr th {\n",
       "        vertical-align: top;\n",
       "    }\n",
       "\n",
       "    .dataframe thead th {\n",
       "        text-align: right;\n",
       "    }\n",
       "</style>\n",
       "<table border=\"1\" class=\"dataframe\">\n",
       "  <thead>\n",
       "    <tr style=\"text-align: right;\">\n",
       "      <th></th>\n",
       "      <th>platform</th>\n",
       "      <th>year_of_release</th>\n",
       "      <th>all_sales</th>\n",
       "    </tr>\n",
       "  </thead>\n",
       "  <tbody>\n",
       "    <tr>\n",
       "      <th>0</th>\n",
       "      <td>3DS</td>\n",
       "      <td>2011</td>\n",
       "      <td>63.20</td>\n",
       "    </tr>\n",
       "    <tr>\n",
       "      <th>1</th>\n",
       "      <td>3DS</td>\n",
       "      <td>2012</td>\n",
       "      <td>51.36</td>\n",
       "    </tr>\n",
       "    <tr>\n",
       "      <th>2</th>\n",
       "      <td>3DS</td>\n",
       "      <td>2013</td>\n",
       "      <td>56.57</td>\n",
       "    </tr>\n",
       "    <tr>\n",
       "      <th>3</th>\n",
       "      <td>3DS</td>\n",
       "      <td>2014</td>\n",
       "      <td>43.76</td>\n",
       "    </tr>\n",
       "    <tr>\n",
       "      <th>4</th>\n",
       "      <td>3DS</td>\n",
       "      <td>2015</td>\n",
       "      <td>27.78</td>\n",
       "    </tr>\n",
       "    <tr>\n",
       "      <th>5</th>\n",
       "      <td>3DS</td>\n",
       "      <td>2016</td>\n",
       "      <td>15.14</td>\n",
       "    </tr>\n",
       "    <tr>\n",
       "      <th>6</th>\n",
       "      <td>DC</td>\n",
       "      <td>2000</td>\n",
       "      <td>5.99</td>\n",
       "    </tr>\n",
       "    <tr>\n",
       "      <th>7</th>\n",
       "      <td>DC</td>\n",
       "      <td>2001</td>\n",
       "      <td>1.07</td>\n",
       "    </tr>\n",
       "    <tr>\n",
       "      <th>8</th>\n",
       "      <td>DC</td>\n",
       "      <td>2002</td>\n",
       "      <td>0.29</td>\n",
       "    </tr>\n",
       "    <tr>\n",
       "      <th>9</th>\n",
       "      <td>DC</td>\n",
       "      <td>2007</td>\n",
       "      <td>0.02</td>\n",
       "    </tr>\n",
       "    <tr>\n",
       "      <th>10</th>\n",
       "      <td>DC</td>\n",
       "      <td>2008</td>\n",
       "      <td>0.04</td>\n",
       "    </tr>\n",
       "    <tr>\n",
       "      <th>11</th>\n",
       "      <td>DS</td>\n",
       "      <td>2004</td>\n",
       "      <td>17.27</td>\n",
       "    </tr>\n",
       "    <tr>\n",
       "      <th>12</th>\n",
       "      <td>DS</td>\n",
       "      <td>2005</td>\n",
       "      <td>130.14</td>\n",
       "    </tr>\n",
       "    <tr>\n",
       "      <th>13</th>\n",
       "      <td>DS</td>\n",
       "      <td>2006</td>\n",
       "      <td>119.81</td>\n",
       "    </tr>\n",
       "    <tr>\n",
       "      <th>14</th>\n",
       "      <td>DS</td>\n",
       "      <td>2007</td>\n",
       "      <td>146.94</td>\n",
       "    </tr>\n",
       "    <tr>\n",
       "      <th>15</th>\n",
       "      <td>DS</td>\n",
       "      <td>2008</td>\n",
       "      <td>145.31</td>\n",
       "    </tr>\n",
       "    <tr>\n",
       "      <th>16</th>\n",
       "      <td>DS</td>\n",
       "      <td>2009</td>\n",
       "      <td>119.54</td>\n",
       "    </tr>\n",
       "    <tr>\n",
       "      <th>17</th>\n",
       "      <td>DS</td>\n",
       "      <td>2010</td>\n",
       "      <td>85.02</td>\n",
       "    </tr>\n",
       "    <tr>\n",
       "      <th>18</th>\n",
       "      <td>DS</td>\n",
       "      <td>2011</td>\n",
       "      <td>26.18</td>\n",
       "    </tr>\n",
       "    <tr>\n",
       "      <th>19</th>\n",
       "      <td>DS</td>\n",
       "      <td>2012</td>\n",
       "      <td>11.01</td>\n",
       "    </tr>\n",
       "  </tbody>\n",
       "</table>\n",
       "</div>"
      ],
      "text/plain": [
       "   platform  year_of_release  all_sales\n",
       "0       3DS             2011      63.20\n",
       "1       3DS             2012      51.36\n",
       "2       3DS             2013      56.57\n",
       "3       3DS             2014      43.76\n",
       "4       3DS             2015      27.78\n",
       "5       3DS             2016      15.14\n",
       "6        DC             2000       5.99\n",
       "7        DC             2001       1.07\n",
       "8        DC             2002       0.29\n",
       "9        DC             2007       0.02\n",
       "10       DC             2008       0.04\n",
       "11       DS             2004      17.27\n",
       "12       DS             2005     130.14\n",
       "13       DS             2006     119.81\n",
       "14       DS             2007     146.94\n",
       "15       DS             2008     145.31\n",
       "16       DS             2009     119.54\n",
       "17       DS             2010      85.02\n",
       "18       DS             2011      26.18\n",
       "19       DS             2012      11.01"
      ]
     },
     "execution_count": 13,
     "metadata": {},
     "output_type": "execute_result"
    }
   ],
   "source": [
    "df_platform = games[['platform', 'year_of_release', 'all_sales']]\n",
    "df_platform = df_platform.query('year_of_release >= 2000').reset_index(drop=True)\n",
    "df_platform_group = df_platform.groupby(['platform', 'year_of_release']).sum().reset_index()\n",
    "df_platform_group.head(20)\n",
    "\n"
   ]
  },
  {
   "cell_type": "code",
   "execution_count": 14,
   "id": "4b819f6b",
   "metadata": {},
   "outputs": [
    {
     "data": {
      "image/png": "[encoded data removed]",
      "text/plain": [
       "<Figure size 432x288 with 1 Axes>"
      ]
     },
     "metadata": {
      "needs_background": "light"
     },
     "output_type": "display_data"
    }
   ],
   "source": [
    "df_platform_sales = df_platform_group.groupby(['platform'])['all_sales'].sum().reset_index().sort_values(by='all_sales',\n",
    "                                                                                     ascending=False)\n",
    "df_platform_sales.hist()\n",
    "plt.show()"
   ]
  },
  {
   "cell_type": "markdown",
   "id": "bc55db6b",
   "metadata": {},
   "source": [
    "🧑‍🎓 Ира: Здесь можно сказать, что основном продажи по платформам составляют 100-400 млн копий, хвост больше 600 можно отбросить, так как таких платформ совсем мало."
   ]
  },
  {
   "cell_type": "code",
   "execution_count": 15,
   "id": "4ff5732f",
   "metadata": {
    "scrolled": false
   },
   "outputs": [
    {
     "data": {
      "image/png": "[encoded data removed]",
      "text/plain": [
       "<Figure size 288x288 with 1 Axes>"
      ]
     },
     "metadata": {
      "needs_background": "light"
     },
     "output_type": "display_data"
    },
    {
     "data": {
      "image/png": "[encoded data removed]",
      "text/plain": [
       "<Figure size 288x288 with 1 Axes>"
      ]
     },
     "metadata": {
      "needs_background": "light"
     },
     "output_type": "display_data"
    },
    {
     "data": {
      "image/png": "[encoded data removed]",
      "text/plain": [
       "<Figure size 288x288 with 1 Axes>"
      ]
     },
     "metadata": {
      "needs_background": "light"
     },
     "output_type": "display_data"
    },
    {
     "data": {
      "image/png": "[encoded data removed]",
      "text/plain": [
       "<Figure size 288x288 with 1 Axes>"
      ]
     },
     "metadata": {
      "needs_background": "light"
     },
     "output_type": "display_data"
    },
    {
     "data": {
      "image/png": "[encoded data removed]",
      "text/plain": [
       "<Figure size 288x288 with 1 Axes>"
      ]
     },
     "metadata": {
      "needs_background": "light"
     },
     "output_type": "display_data"
    }
   ],
   "source": [
    "df_biggest_platform = df_platform_sales[df_platform_sales['all_sales'] > 600]\n",
    "\n",
    "biggest_platform_names = df_biggest_platform['platform'].unique()\n",
    "biggest_platform_years = df_platform_group.query('platform in @biggest_platform_names').reset_index(drop=True)\n",
    "\n",
    "for row in biggest_platform_names:\n",
    "    df_platform_group.query('platform == @row').plot(title=row, y='all_sales', \n",
    "                                                     x='year_of_release', figsize=(4,4))\n"
   ]
  },
  {
   "cell_type": "markdown",
   "id": "e7665f72",
   "metadata": {},
   "source": [
    "🧑‍🎓 Ира: Можно предположить, что \"наибольшие суммарные продажи\" надо считать все, где all_sales > 600  \n",
    "    Характерный срок входа-выхода платформ примерно 10 лет, это можно отследить на графикам продаж платформ PS, Wii, PS2"
   ]
  },
  {
   "cell_type": "markdown",
   "id": "126775d2",
   "metadata": {},
   "source": [
    "<div class=\"alert alert-info\">\n",
    "        \n",
    "### Не учитывайте в работе данные за предыдущие годы\n",
    "\n",
    "</div>"
   ]
  },
  {
   "cell_type": "code",
   "execution_count": 16,
   "id": "d5bb39ed",
   "metadata": {},
   "outputs": [
    {
     "data": {
      "text/html": [
       "<div>\n",
       "<style scoped>\n",
       "    .dataframe tbody tr th:only-of-type {\n",
       "        vertical-align: middle;\n",
       "    }\n",
       "\n",
       "    .dataframe tbody tr th {\n",
       "        vertical-align: top;\n",
       "    }\n",
       "\n",
       "    .dataframe thead th {\n",
       "        text-align: right;\n",
       "    }\n",
       "</style>\n",
       "<table border=\"1\" class=\"dataframe\">\n",
       "  <thead>\n",
       "    <tr style=\"text-align: right;\">\n",
       "      <th></th>\n",
       "      <th>name</th>\n",
       "      <th>platform</th>\n",
       "      <th>year_of_release</th>\n",
       "      <th>genre</th>\n",
       "      <th>na_sales</th>\n",
       "      <th>eu_sales</th>\n",
       "      <th>jp_sales</th>\n",
       "      <th>other_sales</th>\n",
       "      <th>critic_score</th>\n",
       "      <th>user_score</th>\n",
       "      <th>rating</th>\n",
       "      <th>all_sales</th>\n",
       "    </tr>\n",
       "  </thead>\n",
       "  <tbody>\n",
       "    <tr>\n",
       "      <th>0</th>\n",
       "      <td>Grand Theft Auto V</td>\n",
       "      <td>PS3</td>\n",
       "      <td>2013</td>\n",
       "      <td>Action</td>\n",
       "      <td>7.02</td>\n",
       "      <td>9.09</td>\n",
       "      <td>0.98</td>\n",
       "      <td>3.96</td>\n",
       "      <td>97.0</td>\n",
       "      <td>8.2</td>\n",
       "      <td>M</td>\n",
       "      <td>21.05</td>\n",
       "    </tr>\n",
       "    <tr>\n",
       "      <th>1</th>\n",
       "      <td>Grand Theft Auto V</td>\n",
       "      <td>X360</td>\n",
       "      <td>2013</td>\n",
       "      <td>Action</td>\n",
       "      <td>9.66</td>\n",
       "      <td>5.14</td>\n",
       "      <td>0.06</td>\n",
       "      <td>1.41</td>\n",
       "      <td>97.0</td>\n",
       "      <td>8.1</td>\n",
       "      <td>M</td>\n",
       "      <td>16.27</td>\n",
       "    </tr>\n",
       "    <tr>\n",
       "      <th>2</th>\n",
       "      <td>Call of Duty: Black Ops 3</td>\n",
       "      <td>PS4</td>\n",
       "      <td>2015</td>\n",
       "      <td>Shooter</td>\n",
       "      <td>6.03</td>\n",
       "      <td>5.86</td>\n",
       "      <td>0.36</td>\n",
       "      <td>2.38</td>\n",
       "      <td>101.0</td>\n",
       "      <td>11.0</td>\n",
       "      <td>unknown</td>\n",
       "      <td>14.63</td>\n",
       "    </tr>\n",
       "    <tr>\n",
       "      <th>3</th>\n",
       "      <td>Pokemon X/Pokemon Y</td>\n",
       "      <td>3DS</td>\n",
       "      <td>2013</td>\n",
       "      <td>Role-Playing</td>\n",
       "      <td>5.28</td>\n",
       "      <td>4.19</td>\n",
       "      <td>4.35</td>\n",
       "      <td>0.78</td>\n",
       "      <td>101.0</td>\n",
       "      <td>11.0</td>\n",
       "      <td>unknown</td>\n",
       "      <td>14.60</td>\n",
       "    </tr>\n",
       "    <tr>\n",
       "      <th>4</th>\n",
       "      <td>Grand Theft Auto V</td>\n",
       "      <td>PS4</td>\n",
       "      <td>2014</td>\n",
       "      <td>Action</td>\n",
       "      <td>3.96</td>\n",
       "      <td>6.31</td>\n",
       "      <td>0.38</td>\n",
       "      <td>1.97</td>\n",
       "      <td>97.0</td>\n",
       "      <td>8.3</td>\n",
       "      <td>M</td>\n",
       "      <td>12.62</td>\n",
       "    </tr>\n",
       "  </tbody>\n",
       "</table>\n",
       "</div>"
      ],
      "text/plain": [
       "                        name platform  year_of_release         genre  \\\n",
       "0         Grand Theft Auto V      PS3             2013        Action   \n",
       "1         Grand Theft Auto V     X360             2013        Action   \n",
       "2  Call of Duty: Black Ops 3      PS4             2015       Shooter   \n",
       "3        Pokemon X/Pokemon Y      3DS             2013  Role-Playing   \n",
       "4         Grand Theft Auto V      PS4             2014        Action   \n",
       "\n",
       "   na_sales  eu_sales  jp_sales  other_sales  critic_score  user_score  \\\n",
       "0      7.02      9.09      0.98         3.96          97.0         8.2   \n",
       "1      9.66      5.14      0.06         1.41          97.0         8.1   \n",
       "2      6.03      5.86      0.36         2.38         101.0        11.0   \n",
       "3      5.28      4.19      4.35         0.78         101.0        11.0   \n",
       "4      3.96      6.31      0.38         1.97          97.0         8.3   \n",
       "\n",
       "    rating  all_sales  \n",
       "0        M      21.05  \n",
       "1        M      16.27  \n",
       "2  unknown      14.63  \n",
       "3  unknown      14.60  \n",
       "4        M      12.62  "
      ]
     },
     "execution_count": 16,
     "metadata": {},
     "output_type": "execute_result"
    }
   ],
   "source": [
    "clear_data = games.query('year_of_release >= 2013').reset_index(drop=True)\n",
    "clear_data.head()"
   ]
  },
  {
   "cell_type": "markdown",
   "id": "4c599014",
   "metadata": {},
   "source": [
    "<div class=\"alert alert-info\">\n",
    "        \n",
    "### Какие платформы лидируют по продажам, растут или падают?\n",
    "\n",
    "</div>\n"
   ]
  },
  {
   "cell_type": "code",
   "execution_count": 17,
   "id": "87c56da7",
   "metadata": {
    "scrolled": false
   },
   "outputs": [
    {
     "data": {
      "image/png": "[encoded data removed]",
      "text/plain": [
       "<Figure size 360x360 with 1 Axes>"
      ]
     },
     "metadata": {
      "needs_background": "light"
     },
     "output_type": "display_data"
    },
    {
     "data": {
      "image/png": "[encoded data removed]",
      "text/plain": [
       "<Figure size 360x360 with 1 Axes>"
      ]
     },
     "metadata": {
      "needs_background": "light"
     },
     "output_type": "display_data"
    },
    {
     "data": {
      "image/png": "[encoded data removed]",
      "text/plain": [
       "<Figure size 360x360 with 1 Axes>"
      ]
     },
     "metadata": {
      "needs_background": "light"
     },
     "output_type": "display_data"
    },
    {
     "data": {
      "image/png": "[encoded data removed]",
      "text/plain": [
       "<Figure size 360x360 with 1 Axes>"
      ]
     },
     "metadata": {
      "needs_background": "light"
     },
     "output_type": "display_data"
    },
    {
     "data": {
      "image/png": "[encoded data removed]",
      "text/plain": [
       "<Figure size 360x360 with 1 Axes>"
      ]
     },
     "metadata": {
      "needs_background": "light"
     },
     "output_type": "display_data"
    },
    {
     "data": {
      "image/png": "[encoded data removed]",
      "text/plain": [
       "<Figure size 360x360 with 1 Axes>"
      ]
     },
     "metadata": {
      "needs_background": "light"
     },
     "output_type": "display_data"
    },
    {
     "data": {
      "image/png": "[encoded data removed]",
      "text/plain": [
       "<Figure size 360x360 with 1 Axes>"
      ]
     },
     "metadata": {
      "needs_background": "light"
     },
     "output_type": "display_data"
    },
    {
     "data": {
      "image/png": "[encoded data removed]",
      "text/plain": [
       "<Figure size 360x360 with 1 Axes>"
      ]
     },
     "metadata": {
      "needs_background": "light"
     },
     "output_type": "display_data"
    },
    {
     "data": {
      "image/png": "[encoded data removed]",
      "text/plain": [
       "<Figure size 360x360 with 1 Axes>"
      ]
     },
     "metadata": {
      "needs_background": "light"
     },
     "output_type": "display_data"
    },
    {
     "data": {
      "image/png": "[encoded data removed]",
      "text/plain": [
       "<Figure size 360x360 with 1 Axes>"
      ]
     },
     "metadata": {
      "needs_background": "light"
     },
     "output_type": "display_data"
    },
    {
     "data": {
      "image/png": "[encoded data removed]",
      "text/plain": [
       "<Figure size 360x360 with 1 Axes>"
      ]
     },
     "metadata": {
      "needs_background": "light"
     },
     "output_type": "display_data"
    }
   ],
   "source": [
    "platform_list = clear_data['platform'].unique()\n",
    "clear_data_platform = clear_data.groupby(['platform', 'year_of_release'])['all_sales'].sum().reset_index()\n",
    "#clear_data_platform\n",
    "\n",
    "for row in platform_list:\n",
    "    clear_data_platform.query('platform == @row').plot(title=row, y='all_sales', \n",
    "                                                    x='year_of_release', figsize=(5,5), kind='bar')\n",
    "    \n",
    "    \n",
    "    "
   ]
  },
  {
   "cell_type": "markdown",
   "id": "73c0f6d4",
   "metadata": {},
   "source": [
    "🧑‍🎓 Ира: Рост показыыают такие платформы, как XOne, PS4\n",
    "Падают же в свю очередь PC, 3DS, PS3, X360.\n",
    "Некоторые платфорсы за этот период в принципе перестали продаваться, это может быть связано с обновлением платформ и заменой старых платформ обновленными(как с платформами PS)"
   ]
  },
  {
   "cell_type": "code",
   "execution_count": 18,
   "id": "7fb2387d",
   "metadata": {},
   "outputs": [
    {
     "data": {
      "text/html": [
       "<div>\n",
       "<style scoped>\n",
       "    .dataframe tbody tr th:only-of-type {\n",
       "        vertical-align: middle;\n",
       "    }\n",
       "\n",
       "    .dataframe tbody tr th {\n",
       "        vertical-align: top;\n",
       "    }\n",
       "\n",
       "    .dataframe thead th {\n",
       "        text-align: right;\n",
       "    }\n",
       "</style>\n",
       "<table border=\"1\" class=\"dataframe\">\n",
       "  <thead>\n",
       "    <tr style=\"text-align: right;\">\n",
       "      <th></th>\n",
       "      <th>platform</th>\n",
       "      <th>all_sales</th>\n",
       "    </tr>\n",
       "  </thead>\n",
       "  <tbody>\n",
       "    <tr>\n",
       "      <th>4</th>\n",
       "      <td>PS4</td>\n",
       "      <td>314.14</td>\n",
       "    </tr>\n",
       "    <tr>\n",
       "      <th>3</th>\n",
       "      <td>PS3</td>\n",
       "      <td>181.43</td>\n",
       "    </tr>\n",
       "    <tr>\n",
       "      <th>10</th>\n",
       "      <td>XOne</td>\n",
       "      <td>159.32</td>\n",
       "    </tr>\n",
       "    <tr>\n",
       "      <th>0</th>\n",
       "      <td>3DS</td>\n",
       "      <td>143.25</td>\n",
       "    </tr>\n",
       "    <tr>\n",
       "      <th>9</th>\n",
       "      <td>X360</td>\n",
       "      <td>136.80</td>\n",
       "    </tr>\n",
       "    <tr>\n",
       "      <th>8</th>\n",
       "      <td>WiiU</td>\n",
       "      <td>64.63</td>\n",
       "    </tr>\n",
       "    <tr>\n",
       "      <th>2</th>\n",
       "      <td>PC</td>\n",
       "      <td>39.43</td>\n",
       "    </tr>\n",
       "    <tr>\n",
       "      <th>6</th>\n",
       "      <td>PSV</td>\n",
       "      <td>32.99</td>\n",
       "    </tr>\n",
       "    <tr>\n",
       "      <th>7</th>\n",
       "      <td>Wii</td>\n",
       "      <td>13.66</td>\n",
       "    </tr>\n",
       "    <tr>\n",
       "      <th>5</th>\n",
       "      <td>PSP</td>\n",
       "      <td>3.50</td>\n",
       "    </tr>\n",
       "    <tr>\n",
       "      <th>1</th>\n",
       "      <td>DS</td>\n",
       "      <td>1.54</td>\n",
       "    </tr>\n",
       "  </tbody>\n",
       "</table>\n",
       "</div>"
      ],
      "text/plain": [
       "   platform  all_sales\n",
       "4       PS4     314.14\n",
       "3       PS3     181.43\n",
       "10     XOne     159.32\n",
       "0       3DS     143.25\n",
       "9      X360     136.80\n",
       "8      WiiU      64.63\n",
       "2        PC      39.43\n",
       "6       PSV      32.99\n",
       "7       Wii      13.66\n",
       "5       PSP       3.50\n",
       "1        DS       1.54"
      ]
     },
     "execution_count": 18,
     "metadata": {},
     "output_type": "execute_result"
    }
   ],
   "source": [
    "platform_leader = clear_data_platform.groupby('platform')['all_sales'].sum().reset_index().sort_values(by='all_sales', ascending=False)\n",
    "platform_leader.head(20)\n",
    "\n"
   ]
  },
  {
   "cell_type": "markdown",
   "id": "6a968f10",
   "metadata": {},
   "source": [
    "🧑‍🎓 Ира: Если говорить за весь промежуток данных, то лидерами по продажам являются PS3, PS4 и XOne"
   ]
  },
  {
   "cell_type": "code",
   "execution_count": 19,
   "id": "b749c23f",
   "metadata": {},
   "outputs": [
    {
     "data": {
      "text/html": [
       "<div>\n",
       "<style scoped>\n",
       "    .dataframe tbody tr th:only-of-type {\n",
       "        vertical-align: middle;\n",
       "    }\n",
       "\n",
       "    .dataframe tbody tr th {\n",
       "        vertical-align: top;\n",
       "    }\n",
       "\n",
       "    .dataframe thead th {\n",
       "        text-align: right;\n",
       "    }\n",
       "</style>\n",
       "<table border=\"1\" class=\"dataframe\">\n",
       "  <thead>\n",
       "    <tr style=\"text-align: right;\">\n",
       "      <th></th>\n",
       "      <th>platform</th>\n",
       "      <th>all_sales</th>\n",
       "    </tr>\n",
       "  </thead>\n",
       "  <tbody>\n",
       "    <tr>\n",
       "      <th>3</th>\n",
       "      <td>PS4</td>\n",
       "      <td>188.15</td>\n",
       "    </tr>\n",
       "    <tr>\n",
       "      <th>9</th>\n",
       "      <td>XOne</td>\n",
       "      <td>86.29</td>\n",
       "    </tr>\n",
       "    <tr>\n",
       "      <th>0</th>\n",
       "      <td>3DS</td>\n",
       "      <td>42.92</td>\n",
       "    </tr>\n",
       "    <tr>\n",
       "      <th>7</th>\n",
       "      <td>WiiU</td>\n",
       "      <td>20.95</td>\n",
       "    </tr>\n",
       "    <tr>\n",
       "      <th>2</th>\n",
       "      <td>PS3</td>\n",
       "      <td>20.42</td>\n",
       "    </tr>\n",
       "    <tr>\n",
       "      <th>1</th>\n",
       "      <td>PC</td>\n",
       "      <td>13.77</td>\n",
       "    </tr>\n",
       "    <tr>\n",
       "      <th>8</th>\n",
       "      <td>X360</td>\n",
       "      <td>13.48</td>\n",
       "    </tr>\n",
       "    <tr>\n",
       "      <th>5</th>\n",
       "      <td>PSV</td>\n",
       "      <td>10.50</td>\n",
       "    </tr>\n",
       "    <tr>\n",
       "      <th>6</th>\n",
       "      <td>Wii</td>\n",
       "      <td>1.32</td>\n",
       "    </tr>\n",
       "    <tr>\n",
       "      <th>4</th>\n",
       "      <td>PSP</td>\n",
       "      <td>0.12</td>\n",
       "    </tr>\n",
       "  </tbody>\n",
       "</table>\n",
       "</div>"
      ],
      "text/plain": [
       "  platform  all_sales\n",
       "3      PS4     188.15\n",
       "9     XOne      86.29\n",
       "0      3DS      42.92\n",
       "7     WiiU      20.95\n",
       "2      PS3      20.42\n",
       "1       PC      13.77\n",
       "8     X360      13.48\n",
       "5      PSV      10.50\n",
       "6      Wii       1.32\n",
       "4      PSP       0.12"
      ]
     },
     "execution_count": 19,
     "metadata": {},
     "output_type": "execute_result"
    }
   ],
   "source": [
    "platform_leader_2015 = clear_data_platform.query('year_of_release >= 2015').groupby('platform')['all_sales'].sum().reset_index().sort_values(by='all_sales', ascending=False)\n",
    "platform_leader_2015.head(20)\n",
    "\n"
   ]
  },
  {
   "cell_type": "markdown",
   "id": "b6ba3f49",
   "metadata": {},
   "source": [
    "🧑‍🎓 Ира: Если взять только 2015-2016 год, будет видно, что лидерами остались так же PS4 и XOne, PS4 вообще очень сильно оторвалась от конкурентов, что кстати может говорить о популярности платфомы, так как дата релиза PS4 и XOne - ноябрь 2013 года, то есть платофрмы вышли по сути в одно время, но PS4 заметно опережает по породажам конкурента"
   ]
  },
  {
   "cell_type": "markdown",
   "id": "e479b68e",
   "metadata": {},
   "source": [
    "<div class=\"alert alert-info\">\n",
    "        \n",
    "### «Ящик с усами» по глобальным продажам игр в разбивке по платформам\n",
    "\n",
    "</div>"
   ]
  },
  {
   "cell_type": "code",
   "execution_count": 20,
   "id": "8e173092",
   "metadata": {
    "scrolled": false
   },
   "outputs": [
    {
     "data": {
      "text/plain": [
       "(0.0, 2.0)"
      ]
     },
     "execution_count": 20,
     "metadata": {},
     "output_type": "execute_result"
    },
    {
     "data": {
      "image/png": "[encoded data removed]",
      "text/plain": [
       "<Figure size 720x504 with 1 Axes>"
      ]
     },
     "metadata": {
      "needs_background": "light"
     },
     "output_type": "display_data"
    }
   ],
   "source": [
    "clear_data.query('platform in (\"PS3\", \"X360\", \"PC\", \"PSV\")').boxplot(column='all_sales', by='platform', figsize=(10,7)).set_ylim(0,2)\n",
    "\n",
    "\n"
   ]
  },
  {
   "cell_type": "markdown",
   "id": "ca740f9f",
   "metadata": {},
   "source": [
    "<div class=\"alert alert-info\">\n",
    "        \n",
    "### Как влияют на продажи внутри одной популярной платформы отзывы пользователей и критиков\n",
    "\n",
    "</div>\n"
   ]
  },
  {
   "cell_type": "markdown",
   "id": "67ad024c",
   "metadata": {},
   "source": [
    "Посмотрите, как влияют на продажи внутри одной популярной платформы\n",
    "отзывы пользователей и критиков. Постройте диаграмму рассеяния и\n",
    "посчитайте корреляцию между отзывами и продажами. Сформулируйте\n",
    "выводы."
   ]
  },
  {
   "cell_type": "code",
   "execution_count": 21,
   "id": "fac615b5",
   "metadata": {},
   "outputs": [],
   "source": [
    "ps3_data = clear_data.query('platform == \"PS3\" and critic_score != 101 and user_score != 11')[['critic_score', 'user_score',\n",
    "                                                                                              'na_sales', 'eu_sales',\n",
    "                                                                                               'jp_sales', 'other_sales']]\n",
    "\n"
   ]
  },
  {
   "cell_type": "code",
   "execution_count": 22,
   "id": "d3451c3d",
   "metadata": {},
   "outputs": [
    {
     "data": {
      "text/html": [
       "<div>\n",
       "<style scoped>\n",
       "    .dataframe tbody tr th:only-of-type {\n",
       "        vertical-align: middle;\n",
       "    }\n",
       "\n",
       "    .dataframe tbody tr th {\n",
       "        vertical-align: top;\n",
       "    }\n",
       "\n",
       "    .dataframe thead th {\n",
       "        text-align: right;\n",
       "    }\n",
       "</style>\n",
       "<table border=\"1\" class=\"dataframe\">\n",
       "  <thead>\n",
       "    <tr style=\"text-align: right;\">\n",
       "      <th></th>\n",
       "      <th>critic_score</th>\n",
       "      <th>user_score</th>\n",
       "      <th>na_sales</th>\n",
       "      <th>eu_sales</th>\n",
       "      <th>jp_sales</th>\n",
       "      <th>other_sales</th>\n",
       "    </tr>\n",
       "  </thead>\n",
       "  <tbody>\n",
       "    <tr>\n",
       "      <th>critic_score</th>\n",
       "      <td>1.000000</td>\n",
       "      <td>0.599920</td>\n",
       "      <td>0.334401</td>\n",
       "      <td>0.309752</td>\n",
       "      <td>0.297450</td>\n",
       "      <td>0.315898</td>\n",
       "    </tr>\n",
       "    <tr>\n",
       "      <th>user_score</th>\n",
       "      <td>0.599920</td>\n",
       "      <td>1.000000</td>\n",
       "      <td>0.008990</td>\n",
       "      <td>0.000013</td>\n",
       "      <td>0.215037</td>\n",
       "      <td>0.029920</td>\n",
       "    </tr>\n",
       "    <tr>\n",
       "      <th>na_sales</th>\n",
       "      <td>0.334401</td>\n",
       "      <td>0.008990</td>\n",
       "      <td>1.000000</td>\n",
       "      <td>0.897344</td>\n",
       "      <td>0.552684</td>\n",
       "      <td>0.931878</td>\n",
       "    </tr>\n",
       "    <tr>\n",
       "      <th>eu_sales</th>\n",
       "      <td>0.309752</td>\n",
       "      <td>0.000013</td>\n",
       "      <td>0.897344</td>\n",
       "      <td>1.000000</td>\n",
       "      <td>0.580055</td>\n",
       "      <td>0.986538</td>\n",
       "    </tr>\n",
       "    <tr>\n",
       "      <th>jp_sales</th>\n",
       "      <td>0.297450</td>\n",
       "      <td>0.215037</td>\n",
       "      <td>0.552684</td>\n",
       "      <td>0.580055</td>\n",
       "      <td>1.000000</td>\n",
       "      <td>0.577911</td>\n",
       "    </tr>\n",
       "    <tr>\n",
       "      <th>other_sales</th>\n",
       "      <td>0.315898</td>\n",
       "      <td>0.029920</td>\n",
       "      <td>0.931878</td>\n",
       "      <td>0.986538</td>\n",
       "      <td>0.577911</td>\n",
       "      <td>1.000000</td>\n",
       "    </tr>\n",
       "  </tbody>\n",
       "</table>\n",
       "</div>"
      ],
      "text/plain": [
       "              critic_score  user_score  na_sales  eu_sales  jp_sales  \\\n",
       "critic_score      1.000000    0.599920  0.334401  0.309752  0.297450   \n",
       "user_score        0.599920    1.000000  0.008990  0.000013  0.215037   \n",
       "na_sales          0.334401    0.008990  1.000000  0.897344  0.552684   \n",
       "eu_sales          0.309752    0.000013  0.897344  1.000000  0.580055   \n",
       "jp_sales          0.297450    0.215037  0.552684  0.580055  1.000000   \n",
       "other_sales       0.315898    0.029920  0.931878  0.986538  0.577911   \n",
       "\n",
       "              other_sales  \n",
       "critic_score     0.315898  \n",
       "user_score       0.029920  \n",
       "na_sales         0.931878  \n",
       "eu_sales         0.986538  \n",
       "jp_sales         0.577911  \n",
       "other_sales      1.000000  "
      ]
     },
     "execution_count": 22,
     "metadata": {},
     "output_type": "execute_result"
    }
   ],
   "source": [
    "ps3_data.corr()"
   ]
  },
  {
   "cell_type": "code",
   "execution_count": 23,
   "id": "ebaffc50",
   "metadata": {},
   "outputs": [
    {
     "data": {
      "image/png": "[encoded data removed]",
      "text/plain": [
       "<Figure size 432x288 with 2 Axes>"
      ]
     },
     "metadata": {
      "needs_background": "light"
     },
     "output_type": "display_data"
    }
   ],
   "source": [
    "sns.heatmap(ps3_data.corr())\n",
    "plt.show()"
   ]
  },
  {
   "cell_type": "markdown",
   "id": "78d483ff",
   "metadata": {},
   "source": [
    "🧑‍🎓 Ира: Можно заметить, что оценка критиков достаточно сильно влияет на продажи игр в целом, однако если брать в разбивке по регионам, то оценка критиков с продажами игр в Японии имеет корреляцию всего 0.2, что не очень много на мой взгляд, но тенденция в любом случае очевидна: чем выше оценка критиков, тем лучше продаются игры.\n",
    "\n",
    "Оценки пользователей практически никак не влияют на продажи, корреляции хоть и положительные, но очень маленькие.\n",
    "Я могу предположить, что пользователи покупают игры как раз после их выхода и обзора критиков, а не смотрят на рейтинг таких же пользователей(либо его на момент покупки большинства пользователей еще нет). "
   ]
  },
  {
   "cell_type": "markdown",
   "id": "0a62a685",
   "metadata": {},
   "source": [
    "<div class=\"alert alert-info\">\n",
    "        \n",
    "### Соотнесите выводы с продажами игр на других платформах\n",
    "\n",
    "\n",
    "</div>"
   ]
  },
  {
   "cell_type": "code",
   "execution_count": 24,
   "id": "b5805d11",
   "metadata": {
    "scrolled": false
   },
   "outputs": [
    {
     "data": {
      "text/plain": [
       "'PS4'"
      ]
     },
     "metadata": {},
     "output_type": "display_data"
    },
    {
     "data": {
      "text/html": [
       "<div>\n",
       "<style scoped>\n",
       "    .dataframe tbody tr th:only-of-type {\n",
       "        vertical-align: middle;\n",
       "    }\n",
       "\n",
       "    .dataframe tbody tr th {\n",
       "        vertical-align: top;\n",
       "    }\n",
       "\n",
       "    .dataframe thead th {\n",
       "        text-align: right;\n",
       "    }\n",
       "</style>\n",
       "<table border=\"1\" class=\"dataframe\">\n",
       "  <thead>\n",
       "    <tr style=\"text-align: right;\">\n",
       "      <th></th>\n",
       "      <th>critic_score</th>\n",
       "      <th>user_score</th>\n",
       "      <th>na_sales</th>\n",
       "      <th>eu_sales</th>\n",
       "      <th>jp_sales</th>\n",
       "      <th>other_sales</th>\n",
       "    </tr>\n",
       "  </thead>\n",
       "  <tbody>\n",
       "    <tr>\n",
       "      <th>critic_score</th>\n",
       "      <td>1.000000</td>\n",
       "      <td>0.557654</td>\n",
       "      <td>0.414241</td>\n",
       "      <td>0.346044</td>\n",
       "      <td>0.322057</td>\n",
       "      <td>0.408465</td>\n",
       "    </tr>\n",
       "    <tr>\n",
       "      <th>user_score</th>\n",
       "      <td>0.557654</td>\n",
       "      <td>1.000000</td>\n",
       "      <td>-0.022577</td>\n",
       "      <td>-0.050671</td>\n",
       "      <td>0.174512</td>\n",
       "      <td>-0.037332</td>\n",
       "    </tr>\n",
       "    <tr>\n",
       "      <th>na_sales</th>\n",
       "      <td>0.414241</td>\n",
       "      <td>-0.022577</td>\n",
       "      <td>1.000000</td>\n",
       "      <td>0.714988</td>\n",
       "      <td>0.530480</td>\n",
       "      <td>0.915292</td>\n",
       "    </tr>\n",
       "    <tr>\n",
       "      <th>eu_sales</th>\n",
       "      <td>0.346044</td>\n",
       "      <td>-0.050671</td>\n",
       "      <td>0.714988</td>\n",
       "      <td>1.000000</td>\n",
       "      <td>0.519826</td>\n",
       "      <td>0.935136</td>\n",
       "    </tr>\n",
       "    <tr>\n",
       "      <th>jp_sales</th>\n",
       "      <td>0.322057</td>\n",
       "      <td>0.174512</td>\n",
       "      <td>0.530480</td>\n",
       "      <td>0.519826</td>\n",
       "      <td>1.000000</td>\n",
       "      <td>0.566734</td>\n",
       "    </tr>\n",
       "    <tr>\n",
       "      <th>other_sales</th>\n",
       "      <td>0.408465</td>\n",
       "      <td>-0.037332</td>\n",
       "      <td>0.915292</td>\n",
       "      <td>0.935136</td>\n",
       "      <td>0.566734</td>\n",
       "      <td>1.000000</td>\n",
       "    </tr>\n",
       "  </tbody>\n",
       "</table>\n",
       "</div>"
      ],
      "text/plain": [
       "              critic_score  user_score  na_sales  eu_sales  jp_sales  \\\n",
       "critic_score      1.000000    0.557654  0.414241  0.346044  0.322057   \n",
       "user_score        0.557654    1.000000 -0.022577 -0.050671  0.174512   \n",
       "na_sales          0.414241   -0.022577  1.000000  0.714988  0.530480   \n",
       "eu_sales          0.346044   -0.050671  0.714988  1.000000  0.519826   \n",
       "jp_sales          0.322057    0.174512  0.530480  0.519826  1.000000   \n",
       "other_sales       0.408465   -0.037332  0.915292  0.935136  0.566734   \n",
       "\n",
       "              other_sales  \n",
       "critic_score     0.408465  \n",
       "user_score      -0.037332  \n",
       "na_sales         0.915292  \n",
       "eu_sales         0.935136  \n",
       "jp_sales         0.566734  \n",
       "other_sales      1.000000  "
      ]
     },
     "metadata": {},
     "output_type": "display_data"
    },
    {
     "data": {
      "text/plain": [
       "'XOne'"
      ]
     },
     "metadata": {},
     "output_type": "display_data"
    },
    {
     "data": {
      "text/html": [
       "<div>\n",
       "<style scoped>\n",
       "    .dataframe tbody tr th:only-of-type {\n",
       "        vertical-align: middle;\n",
       "    }\n",
       "\n",
       "    .dataframe tbody tr th {\n",
       "        vertical-align: top;\n",
       "    }\n",
       "\n",
       "    .dataframe thead th {\n",
       "        text-align: right;\n",
       "    }\n",
       "</style>\n",
       "<table border=\"1\" class=\"dataframe\">\n",
       "  <thead>\n",
       "    <tr style=\"text-align: right;\">\n",
       "      <th></th>\n",
       "      <th>critic_score</th>\n",
       "      <th>user_score</th>\n",
       "      <th>na_sales</th>\n",
       "      <th>eu_sales</th>\n",
       "      <th>jp_sales</th>\n",
       "      <th>other_sales</th>\n",
       "    </tr>\n",
       "  </thead>\n",
       "  <tbody>\n",
       "    <tr>\n",
       "      <th>critic_score</th>\n",
       "      <td>1.000000</td>\n",
       "      <td>0.472462</td>\n",
       "      <td>0.381859</td>\n",
       "      <td>0.373454</td>\n",
       "      <td>0.199978</td>\n",
       "      <td>0.404996</td>\n",
       "    </tr>\n",
       "    <tr>\n",
       "      <th>user_score</th>\n",
       "      <td>0.472462</td>\n",
       "      <td>1.000000</td>\n",
       "      <td>-0.094047</td>\n",
       "      <td>-0.075822</td>\n",
       "      <td>0.071915</td>\n",
       "      <td>-0.095963</td>\n",
       "    </tr>\n",
       "    <tr>\n",
       "      <th>na_sales</th>\n",
       "      <td>0.381859</td>\n",
       "      <td>-0.094047</td>\n",
       "      <td>1.000000</td>\n",
       "      <td>0.683604</td>\n",
       "      <td>0.400585</td>\n",
       "      <td>0.982840</td>\n",
       "    </tr>\n",
       "    <tr>\n",
       "      <th>eu_sales</th>\n",
       "      <td>0.373454</td>\n",
       "      <td>-0.075822</td>\n",
       "      <td>0.683604</td>\n",
       "      <td>1.000000</td>\n",
       "      <td>0.381617</td>\n",
       "      <td>0.804073</td>\n",
       "    </tr>\n",
       "    <tr>\n",
       "      <th>jp_sales</th>\n",
       "      <td>0.199978</td>\n",
       "      <td>0.071915</td>\n",
       "      <td>0.400585</td>\n",
       "      <td>0.381617</td>\n",
       "      <td>1.000000</td>\n",
       "      <td>0.419054</td>\n",
       "    </tr>\n",
       "    <tr>\n",
       "      <th>other_sales</th>\n",
       "      <td>0.404996</td>\n",
       "      <td>-0.095963</td>\n",
       "      <td>0.982840</td>\n",
       "      <td>0.804073</td>\n",
       "      <td>0.419054</td>\n",
       "      <td>1.000000</td>\n",
       "    </tr>\n",
       "  </tbody>\n",
       "</table>\n",
       "</div>"
      ],
      "text/plain": [
       "              critic_score  user_score  na_sales  eu_sales  jp_sales  \\\n",
       "critic_score      1.000000    0.472462  0.381859  0.373454  0.199978   \n",
       "user_score        0.472462    1.000000 -0.094047 -0.075822  0.071915   \n",
       "na_sales          0.381859   -0.094047  1.000000  0.683604  0.400585   \n",
       "eu_sales          0.373454   -0.075822  0.683604  1.000000  0.381617   \n",
       "jp_sales          0.199978    0.071915  0.400585  0.381617  1.000000   \n",
       "other_sales       0.404996   -0.095963  0.982840  0.804073  0.419054   \n",
       "\n",
       "              other_sales  \n",
       "critic_score     0.404996  \n",
       "user_score      -0.095963  \n",
       "na_sales         0.982840  \n",
       "eu_sales         0.804073  \n",
       "jp_sales         0.419054  \n",
       "other_sales      1.000000  "
      ]
     },
     "metadata": {},
     "output_type": "display_data"
    },
    {
     "data": {
      "text/plain": [
       "'3DS'"
      ]
     },
     "metadata": {},
     "output_type": "display_data"
    },
    {
     "data": {
      "text/html": [
       "<div>\n",
       "<style scoped>\n",
       "    .dataframe tbody tr th:only-of-type {\n",
       "        vertical-align: middle;\n",
       "    }\n",
       "\n",
       "    .dataframe tbody tr th {\n",
       "        vertical-align: top;\n",
       "    }\n",
       "\n",
       "    .dataframe thead th {\n",
       "        text-align: right;\n",
       "    }\n",
       "</style>\n",
       "<table border=\"1\" class=\"dataframe\">\n",
       "  <thead>\n",
       "    <tr style=\"text-align: right;\">\n",
       "      <th></th>\n",
       "      <th>critic_score</th>\n",
       "      <th>user_score</th>\n",
       "      <th>na_sales</th>\n",
       "      <th>eu_sales</th>\n",
       "      <th>jp_sales</th>\n",
       "      <th>other_sales</th>\n",
       "    </tr>\n",
       "  </thead>\n",
       "  <tbody>\n",
       "    <tr>\n",
       "      <th>critic_score</th>\n",
       "      <td>1.000000</td>\n",
       "      <td>0.769536</td>\n",
       "      <td>0.352655</td>\n",
       "      <td>0.254784</td>\n",
       "      <td>0.284584</td>\n",
       "      <td>0.337180</td>\n",
       "    </tr>\n",
       "    <tr>\n",
       "      <th>user_score</th>\n",
       "      <td>0.769536</td>\n",
       "      <td>1.000000</td>\n",
       "      <td>0.280116</td>\n",
       "      <td>0.184515</td>\n",
       "      <td>0.247439</td>\n",
       "      <td>0.260898</td>\n",
       "    </tr>\n",
       "    <tr>\n",
       "      <th>na_sales</th>\n",
       "      <td>0.352655</td>\n",
       "      <td>0.280116</td>\n",
       "      <td>1.000000</td>\n",
       "      <td>0.884865</td>\n",
       "      <td>0.562605</td>\n",
       "      <td>0.988644</td>\n",
       "    </tr>\n",
       "    <tr>\n",
       "      <th>eu_sales</th>\n",
       "      <td>0.254784</td>\n",
       "      <td>0.184515</td>\n",
       "      <td>0.884865</td>\n",
       "      <td>1.000000</td>\n",
       "      <td>0.623985</td>\n",
       "      <td>0.940184</td>\n",
       "    </tr>\n",
       "    <tr>\n",
       "      <th>jp_sales</th>\n",
       "      <td>0.284584</td>\n",
       "      <td>0.247439</td>\n",
       "      <td>0.562605</td>\n",
       "      <td>0.623985</td>\n",
       "      <td>1.000000</td>\n",
       "      <td>0.593697</td>\n",
       "    </tr>\n",
       "    <tr>\n",
       "      <th>other_sales</th>\n",
       "      <td>0.337180</td>\n",
       "      <td>0.260898</td>\n",
       "      <td>0.988644</td>\n",
       "      <td>0.940184</td>\n",
       "      <td>0.593697</td>\n",
       "      <td>1.000000</td>\n",
       "    </tr>\n",
       "  </tbody>\n",
       "</table>\n",
       "</div>"
      ],
      "text/plain": [
       "              critic_score  user_score  na_sales  eu_sales  jp_sales  \\\n",
       "critic_score      1.000000    0.769536  0.352655  0.254784  0.284584   \n",
       "user_score        0.769536    1.000000  0.280116  0.184515  0.247439   \n",
       "na_sales          0.352655    0.280116  1.000000  0.884865  0.562605   \n",
       "eu_sales          0.254784    0.184515  0.884865  1.000000  0.623985   \n",
       "jp_sales          0.284584    0.247439  0.562605  0.623985  1.000000   \n",
       "other_sales       0.337180    0.260898  0.988644  0.940184  0.593697   \n",
       "\n",
       "              other_sales  \n",
       "critic_score     0.337180  \n",
       "user_score       0.260898  \n",
       "na_sales         0.988644  \n",
       "eu_sales         0.940184  \n",
       "jp_sales         0.593697  \n",
       "other_sales      1.000000  "
      ]
     },
     "metadata": {},
     "output_type": "display_data"
    },
    {
     "data": {
      "text/plain": [
       "'X360'"
      ]
     },
     "metadata": {},
     "output_type": "display_data"
    },
    {
     "data": {
      "text/html": [
       "<div>\n",
       "<style scoped>\n",
       "    .dataframe tbody tr th:only-of-type {\n",
       "        vertical-align: middle;\n",
       "    }\n",
       "\n",
       "    .dataframe tbody tr th {\n",
       "        vertical-align: top;\n",
       "    }\n",
       "\n",
       "    .dataframe thead th {\n",
       "        text-align: right;\n",
       "    }\n",
       "</style>\n",
       "<table border=\"1\" class=\"dataframe\">\n",
       "  <thead>\n",
       "    <tr style=\"text-align: right;\">\n",
       "      <th></th>\n",
       "      <th>critic_score</th>\n",
       "      <th>user_score</th>\n",
       "      <th>na_sales</th>\n",
       "      <th>eu_sales</th>\n",
       "      <th>jp_sales</th>\n",
       "      <th>other_sales</th>\n",
       "    </tr>\n",
       "  </thead>\n",
       "  <tbody>\n",
       "    <tr>\n",
       "      <th>critic_score</th>\n",
       "      <td>1.000000</td>\n",
       "      <td>0.520946</td>\n",
       "      <td>0.342724</td>\n",
       "      <td>0.336418</td>\n",
       "      <td>0.290613</td>\n",
       "      <td>0.349204</td>\n",
       "    </tr>\n",
       "    <tr>\n",
       "      <th>user_score</th>\n",
       "      <td>0.520946</td>\n",
       "      <td>1.000000</td>\n",
       "      <td>-0.007707</td>\n",
       "      <td>-0.002450</td>\n",
       "      <td>0.074947</td>\n",
       "      <td>-0.012678</td>\n",
       "    </tr>\n",
       "    <tr>\n",
       "      <th>na_sales</th>\n",
       "      <td>0.342724</td>\n",
       "      <td>-0.007707</td>\n",
       "      <td>1.000000</td>\n",
       "      <td>0.880260</td>\n",
       "      <td>0.677719</td>\n",
       "      <td>0.982907</td>\n",
       "    </tr>\n",
       "    <tr>\n",
       "      <th>eu_sales</th>\n",
       "      <td>0.336418</td>\n",
       "      <td>-0.002450</td>\n",
       "      <td>0.880260</td>\n",
       "      <td>1.000000</td>\n",
       "      <td>0.651844</td>\n",
       "      <td>0.950823</td>\n",
       "    </tr>\n",
       "    <tr>\n",
       "      <th>jp_sales</th>\n",
       "      <td>0.290613</td>\n",
       "      <td>0.074947</td>\n",
       "      <td>0.677719</td>\n",
       "      <td>0.651844</td>\n",
       "      <td>1.000000</td>\n",
       "      <td>0.685470</td>\n",
       "    </tr>\n",
       "    <tr>\n",
       "      <th>other_sales</th>\n",
       "      <td>0.349204</td>\n",
       "      <td>-0.012678</td>\n",
       "      <td>0.982907</td>\n",
       "      <td>0.950823</td>\n",
       "      <td>0.685470</td>\n",
       "      <td>1.000000</td>\n",
       "    </tr>\n",
       "  </tbody>\n",
       "</table>\n",
       "</div>"
      ],
      "text/plain": [
       "              critic_score  user_score  na_sales  eu_sales  jp_sales  \\\n",
       "critic_score      1.000000    0.520946  0.342724  0.336418  0.290613   \n",
       "user_score        0.520946    1.000000 -0.007707 -0.002450  0.074947   \n",
       "na_sales          0.342724   -0.007707  1.000000  0.880260  0.677719   \n",
       "eu_sales          0.336418   -0.002450  0.880260  1.000000  0.651844   \n",
       "jp_sales          0.290613    0.074947  0.677719  0.651844  1.000000   \n",
       "other_sales       0.349204   -0.012678  0.982907  0.950823  0.685470   \n",
       "\n",
       "              other_sales  \n",
       "critic_score     0.349204  \n",
       "user_score      -0.012678  \n",
       "na_sales         0.982907  \n",
       "eu_sales         0.950823  \n",
       "jp_sales         0.685470  \n",
       "other_sales      1.000000  "
      ]
     },
     "metadata": {},
     "output_type": "display_data"
    },
    {
     "data": {
      "image/png": "[encoded data removed]",
      "text/plain": [
       "<Figure size 432x288 with 2 Axes>"
      ]
     },
     "metadata": {
      "needs_background": "light"
     },
     "output_type": "display_data"
    },
    {
     "data": {
      "image/png": "[encoded data removed]",
      "text/plain": [
       "<Figure size 432x288 with 2 Axes>"
      ]
     },
     "metadata": {
      "needs_background": "light"
     },
     "output_type": "display_data"
    },
    {
     "data": {
      "image/png": "[encoded data removed]",
      "text/plain": [
       "<Figure size 432x288 with 2 Axes>"
      ]
     },
     "metadata": {
      "needs_background": "light"
     },
     "output_type": "display_data"
    },
    {
     "data": {
      "image/png": "[encoded data removed]",
      "text/plain": [
       "<Figure size 432x288 with 2 Axes>"
      ]
     },
     "metadata": {
      "needs_background": "light"
     },
     "output_type": "display_data"
    }
   ],
   "source": [
    "\n",
    "for row in platform_leader['platform'].head().unique():\n",
    "    if row != 'PS3':\n",
    "\n",
    "        row_data = clear_data.query('platform == @row and critic_score != 101 and user_score != 11')[['critic_score', 'user_score',\n",
    "                                                                                              'na_sales', 'eu_sales',\n",
    "                                                                                               'jp_sales', 'other_sales']]\n",
    "\n",
    "        display(row, row_data.corr())\n",
    "        plt.subplots(1, 1)\n",
    "        plt.title(row)\n",
    "        sns.heatmap(row_data.corr())\n",
    "\n",
    "        \n",
    "    "
   ]
  },
  {
   "cell_type": "markdown",
   "id": "0d769279",
   "metadata": {},
   "source": [
    "🧑‍🎓 Ира: нельзя сказать, что для платформ- лидеров продаж утверждение о взаимосвязи оценки критиков и продаж игр соответствует утверждению, которое было сделано для PS3.\n",
    "Корреляция продаж с оценкой критиков у платформ PS4, X360 примерно равно 0,4, что ближе к корреляции PS3.\n",
    "На мой взгляд это может быть связанно с популярностью этих платформ, так как PS и Xbox на слуху даже не у геймеров. \n",
    "То есть, чем популярнее платформа, тем охотнее ее берут на оценку критики, и тем охотнее от высокой оценки ее покупают пользователи. \n",
    "\n",
    "Что интересно- после изменения временного промежутка, за который смотрим данные, изменилась корреляция с пользовательскими оценками, они стали отрицательными, то все еще остаются очень маленькими, так же как и в случае с PS3"
   ]
  },
  {
   "cell_type": "markdown",
   "id": "5fb3039e",
   "metadata": {},
   "source": [
    "<div class=\"alert alert-info\">\n",
    "        \n",
    "### Общее распределение игр по жанрам\n",
    "\n",
    "</div>"
   ]
  },
  {
   "cell_type": "code",
   "execution_count": 25,
   "id": "acfaa36f",
   "metadata": {},
   "outputs": [
    {
     "data": {
      "image/png": "[encoded data removed]",
      "text/plain": [
       "<Figure size 288x288 with 1 Axes>"
      ]
     },
     "metadata": {
      "needs_background": "light"
     },
     "output_type": "display_data"
    }
   ],
   "source": [
    "df_genre_count = clear_data.groupby(['genre'])['all_sales'].count().reset_index()\n",
    "df_genre_count.head()\n",
    "df_genre_count.plot(title='Продажи в зависимости от жанра за все время',\n",
    "                    y='all_sales', x='genre', figsize=(4,4), kind='bar')\n",
    "plt.xlabel('Жанр')\n",
    "plt.ylabel('Суммарные продажи в млн. копий')\n",
    "plt.show()"
   ]
  },
  {
   "cell_type": "code",
   "execution_count": 26,
   "id": "862cb55e",
   "metadata": {
    "scrolled": false
   },
   "outputs": [
    {
     "data": {
      "image/png": "[encoded data removed]",
      "text/plain": [
       "<Figure size 288x288 with 1 Axes>"
      ]
     },
     "metadata": {
      "needs_background": "light"
     },
     "output_type": "display_data"
    },
    {
     "data": {
      "image/png": "[encoded data removed]",
      "text/plain": [
       "<Figure size 288x288 with 1 Axes>"
      ]
     },
     "metadata": {
      "needs_background": "light"
     },
     "output_type": "display_data"
    },
    {
     "data": {
      "image/png": "[encoded data removed]",
      "text/plain": [
       "<Figure size 288x288 with 1 Axes>"
      ]
     },
     "metadata": {
      "needs_background": "light"
     },
     "output_type": "display_data"
    },
    {
     "data": {
      "image/png": "[encoded data removed]",
      "text/plain": [
       "<Figure size 288x288 with 1 Axes>"
      ]
     },
     "metadata": {
      "needs_background": "light"
     },
     "output_type": "display_data"
    },
    {
     "data": {
      "image/png": "[encoded data removed]",
      "text/plain": [
       "<Figure size 288x288 with 1 Axes>"
      ]
     },
     "metadata": {
      "needs_background": "light"
     },
     "output_type": "display_data"
    },
    {
     "data": {
      "image/png": "[encoded data removed]",
      "text/plain": [
       "<Figure size 288x288 with 1 Axes>"
      ]
     },
     "metadata": {
      "needs_background": "light"
     },
     "output_type": "display_data"
    },
    {
     "data": {
      "image/png": "[encoded data removed]",
      "text/plain": [
       "<Figure size 288x288 with 1 Axes>"
      ]
     },
     "metadata": {
      "needs_background": "light"
     },
     "output_type": "display_data"
    },
    {
     "data": {
      "image/png": "[encoded data removed]",
      "text/plain": [
       "<Figure size 288x288 with 1 Axes>"
      ]
     },
     "metadata": {
      "needs_background": "light"
     },
     "output_type": "display_data"
    },
    {
     "data": {
      "image/png": "[encoded data removed]",
      "text/plain": [
       "<Figure size 288x288 with 1 Axes>"
      ]
     },
     "metadata": {
      "needs_background": "light"
     },
     "output_type": "display_data"
    },
    {
     "data": {
      "image/png": "[encoded data removed]",
      "text/plain": [
       "<Figure size 288x288 with 1 Axes>"
      ]
     },
     "metadata": {
      "needs_background": "light"
     },
     "output_type": "display_data"
    },
    {
     "data": {
      "image/png": "[encoded data removed]",
      "text/plain": [
       "<Figure size 288x288 with 1 Axes>"
      ]
     },
     "metadata": {
      "needs_background": "light"
     },
     "output_type": "display_data"
    },
    {
     "data": {
      "image/png": "[encoded data removed]",
      "text/plain": [
       "<Figure size 288x288 with 1 Axes>"
      ]
     },
     "metadata": {
      "needs_background": "light"
     },
     "output_type": "display_data"
    }
   ],
   "source": [
    "genre_names = clear_data['genre'].unique()\n",
    "df_genre = clear_data.groupby(['genre', 'year_of_release'])['all_sales'].mean().reset_index()\n",
    "\n",
    "for row in genre_names:\n",
    "\n",
    "    df_genre.query('genre == @row').plot(title=row, y='all_sales', \n",
    "                                                     x='year_of_release', figsize=(4,4), kind='bar')\n",
    "    plt.xlabel('Год выпуска игр')\n",
    "    plt.ylabel('Суммарные продажи в млн. копий')"
   ]
  },
  {
   "cell_type": "markdown",
   "id": "ca7efda1",
   "metadata": {},
   "source": [
    "🧑‍🎓 Ира: Самый прибыльный жанр - Shooter.\n",
    "    Есть жанры, которые со временем теряют свою популярность, их продажи падают(например жанр Racing, Puzzle)\n",
    "    Есть жанры, которые показывают стабильные продажи каждый год, хоть и небольшие, например как жанр Role-Plaing"
   ]
  },
  {
   "cell_type": "markdown",
   "id": "2aeca6e5",
   "metadata": {},
   "source": [
    "<div class=\"alert alert-info\">\n",
    "        \n",
    "## Портрет пользователя каждого региона\n",
    "\n",
    "</div>"
   ]
  },
  {
   "cell_type": "code",
   "execution_count": 27,
   "id": "b9837669",
   "metadata": {},
   "outputs": [],
   "source": [
    "def popular_region(df, group, var_column, group_desc, column_desc):\n",
    "    if group == 'platform':\n",
    "        popular_region = df.groupby([group])[[var_column, 'all_sales']].sum().reset_index()\n",
    "        popular_region[var_column] = (popular_region[var_column] / popular_region['all_sales'])\n",
    "        popular_region = popular_region.drop(['all_sales'], axis=1)\n",
    "    elif group == 'genre':\n",
    "        popular_region = df.groupby([group])[var_column].sum().reset_index()\n",
    "    else:\n",
    "        popular_region = df.groupby([group])[var_column].sum().reset_index()\n",
    "    \n",
    "    popular_region = popular_region.sort_values(by=var_column, ascending=False).head()\n",
    "\n",
    "    print('Топ-5 категории', group_desc, 'для региона', column_desc)\n",
    "    popular_region.plot(x=group, y=var_column, kind='bar')\n",
    "    \n",
    "    \n"
   ]
  },
  {
   "cell_type": "code",
   "execution_count": 28,
   "id": "33d67f4f",
   "metadata": {},
   "outputs": [
    {
     "name": "stdout",
     "output_type": "stream",
     "text": [
      "Топ-5 категории Платформа для региона NA\n"
     ]
    },
    {
     "data": {
      "image/png": "[encoded data removed]",
      "text/plain": [
       "<Figure size 432x288 with 1 Axes>"
      ]
     },
     "metadata": {
      "needs_background": "light"
     },
     "output_type": "display_data"
    }
   ],
   "source": [
    "df = clear_data\n",
    "group = 'platform'\n",
    "var_column = 'na_sales'\n",
    "group_desc = 'Платформа'\n",
    "column_desc = 'NA'\n",
    "\n",
    "popular_region(df, group, var_column, group_desc, column_desc)"
   ]
  },
  {
   "cell_type": "markdown",
   "id": "0f9d352c",
   "metadata": {},
   "source": [
    "🧑‍🎓 Ира: Доли продаж друг от друга отличаются несильно, но видно, что лидером по продажам в регионе Северной Америки является Xbox."
   ]
  },
  {
   "cell_type": "code",
   "execution_count": 29,
   "id": "573c6119",
   "metadata": {},
   "outputs": [
    {
     "name": "stdout",
     "output_type": "stream",
     "text": [
      "Топ-5 категории Жанр для региона NA\n"
     ]
    },
    {
     "data": {
      "image/png": "[encoded data removed]",
      "text/plain": [
       "<Figure size 432x288 with 1 Axes>"
      ]
     },
     "metadata": {
      "needs_background": "light"
     },
     "output_type": "display_data"
    }
   ],
   "source": [
    "df = clear_data\n",
    "group = 'genre'\n",
    "var_column = 'na_sales'\n",
    "group_desc = 'Жанр'\n",
    "column_desc = 'NA'\n",
    "\n",
    "popular_region(df, group, var_column, group_desc, column_desc)"
   ]
  },
  {
   "cell_type": "code",
   "execution_count": 30,
   "id": "0052611d",
   "metadata": {},
   "outputs": [
    {
     "name": "stdout",
     "output_type": "stream",
     "text": [
      "Топ-5 категории Платформа для региона EU\n"
     ]
    },
    {
     "data": {
      "image/png": "[encoded data removed]",
      "text/plain": [
       "<Figure size 432x288 with 1 Axes>"
      ]
     },
     "metadata": {
      "needs_background": "light"
     },
     "output_type": "display_data"
    }
   ],
   "source": [
    "df = clear_data\n",
    "group = 'platform'\n",
    "var_column = 'eu_sales'\n",
    "group_desc = 'Платформа'\n",
    "column_desc = 'EU'\n",
    "\n",
    "popular_region(df, group, var_column, group_desc, column_desc)"
   ]
  },
  {
   "cell_type": "markdown",
   "id": "7b07e00c",
   "metadata": {},
   "source": [
    "🧑‍🎓 Ира: В регионе EU разница тоже не особо есть, но видно, что здесь люди предпочитают играть на ПК"
   ]
  },
  {
   "cell_type": "code",
   "execution_count": 31,
   "id": "fedafe69",
   "metadata": {},
   "outputs": [
    {
     "name": "stdout",
     "output_type": "stream",
     "text": [
      "Топ-5 категории Жанр для региона EU\n"
     ]
    },
    {
     "data": {
      "image/png": "[encoded data removed]",
      "text/plain": [
       "<Figure size 432x288 with 1 Axes>"
      ]
     },
     "metadata": {
      "needs_background": "light"
     },
     "output_type": "display_data"
    }
   ],
   "source": [
    "df = clear_data\n",
    "group = 'genre'\n",
    "var_column = 'eu_sales'\n",
    "group_desc = 'Жанр'\n",
    "column_desc = 'EU'\n",
    "\n",
    "popular_region(df, group, var_column, group_desc, column_desc)"
   ]
  },
  {
   "cell_type": "code",
   "execution_count": 32,
   "id": "74b10671",
   "metadata": {},
   "outputs": [
    {
     "name": "stdout",
     "output_type": "stream",
     "text": [
      "Топ-5 категории Платформа для региона JP\n"
     ]
    },
    {
     "data": {
      "image/png": "[encoded data removed]",
      "text/plain": [
       "<Figure size 432x288 with 1 Axes>"
      ]
     },
     "metadata": {
      "needs_background": "light"
     },
     "output_type": "display_data"
    }
   ],
   "source": [
    "df = clear_data\n",
    "group = 'platform'\n",
    "var_column = 'jp_sales'\n",
    "group_desc = 'Платформа'\n",
    "column_desc = 'JP'\n",
    "\n",
    "popular_region(df, group, var_column, group_desc, column_desc)"
   ]
  },
  {
   "cell_type": "markdown",
   "id": "b9331fe2",
   "metadata": {},
   "source": [
    "🧑‍🎓 Ира: У Японии разница между платформами самая ощутимая, лидерами продаж так же являются платформы Sony. Кстати, насколько я поняла, все эти платформы портативные, это даже неудивительно, учитывая, что Японцы очень трудолюбивые, и скорее всего играют по пути на работу/с работы"
   ]
  },
  {
   "cell_type": "code",
   "execution_count": 33,
   "id": "7ec18f7c",
   "metadata": {},
   "outputs": [
    {
     "name": "stdout",
     "output_type": "stream",
     "text": [
      "Топ-5 категории Жанр для региона JP\n"
     ]
    },
    {
     "data": {
      "image/png": "[encoded data removed]",
      "text/plain": [
       "<Figure size 432x288 with 1 Axes>"
      ]
     },
     "metadata": {
      "needs_background": "light"
     },
     "output_type": "display_data"
    }
   ],
   "source": [
    "df = clear_data\n",
    "group = 'genre'\n",
    "var_column = 'jp_sales'\n",
    "group_desc = 'Жанр'\n",
    "column_desc = 'JP'\n",
    "\n",
    "popular_region(df, group, var_column, group_desc, column_desc)"
   ]
  },
  {
   "cell_type": "markdown",
   "id": "0e11a7f0",
   "metadata": {},
   "source": [
    "🧑‍🎓 Ира: Разницы в жанрах игр практически нет, у регионов Семерной Америки и Европы они почти 1в1, у Японии список немного меняется, лидерство берет на себя жанр Role-Playing"
   ]
  },
  {
   "cell_type": "code",
   "execution_count": 34,
   "id": "e633bd61",
   "metadata": {},
   "outputs": [
    {
     "name": "stdout",
     "output_type": "stream",
     "text": [
      "Топ-5 категории Рейтинг для региона NA\n"
     ]
    },
    {
     "data": {
      "image/png": "[encoded data removed]",
      "text/plain": [
       "<Figure size 432x288 with 1 Axes>"
      ]
     },
     "metadata": {
      "needs_background": "light"
     },
     "output_type": "display_data"
    }
   ],
   "source": [
    "df = clear_data\n",
    "group = 'rating'\n",
    "var_column = 'na_sales'\n",
    "group_desc = 'Рейтинг'\n",
    "column_desc = 'NA'\n",
    "\n",
    "popular_region(df, group, var_column, group_desc, column_desc)"
   ]
  },
  {
   "cell_type": "code",
   "execution_count": 35,
   "id": "acaec18f",
   "metadata": {},
   "outputs": [
    {
     "name": "stdout",
     "output_type": "stream",
     "text": [
      "Топ-5 категории Рейтинг для региона EU\n"
     ]
    },
    {
     "data": {
      "image/png": "[encoded data removed]",
      "text/plain": [
       "<Figure size 432x288 with 1 Axes>"
      ]
     },
     "metadata": {
      "needs_background": "light"
     },
     "output_type": "display_data"
    }
   ],
   "source": [
    "df = clear_data\n",
    "group = 'rating'\n",
    "var_column = 'eu_sales'\n",
    "group_desc = 'Рейтинг'\n",
    "column_desc = 'EU'\n",
    "\n",
    "popular_region(df, group, var_column, group_desc, column_desc)"
   ]
  },
  {
   "cell_type": "code",
   "execution_count": 36,
   "id": "dd0d73e1",
   "metadata": {},
   "outputs": [
    {
     "name": "stdout",
     "output_type": "stream",
     "text": [
      "Топ-5 категории Рейтинг для региона JP\n"
     ]
    },
    {
     "data": {
      "image/png": "[encoded data removed]",
      "text/plain": [
       "<Figure size 432x288 with 1 Axes>"
      ]
     },
     "metadata": {
      "needs_background": "light"
     },
     "output_type": "display_data"
    }
   ],
   "source": [
    "df = clear_data\n",
    "group = 'rating'\n",
    "var_column = 'jp_sales'\n",
    "group_desc = 'Рейтинг'\n",
    "column_desc = 'JP'\n",
    "\n",
    "popular_region(df, group, var_column, group_desc, column_desc)"
   ]
  },
  {
   "cell_type": "markdown",
   "id": "1c26c02b",
   "metadata": {},
   "source": [
    "🧑‍🎓 Ира: Рейтинг в регионах Северной Америки а Европы не сильно отличается, хотя в топ 5 вошли игры с неопределенным рейтингом.\n",
    "В свою очередь в Японии игры с неопределенным рейтингом лидируют по продажам, и есть небольшое различие в расстановке рейтинга в топе. \n",
    "\n",
    "Можно предположить, что рейтинг не сильно вияет на продажи игр, либо это зависит от платформы, либо пользователи при отсутствии рейтинга смотрят на другие характеристики(может на описание игры).\n",
    "\n",
    "Интересно конечно, что японйы предпочитают игры без рейтинга, может это какие-то игры 18+, которые скрывают свой рейтинг, или супер непопулярные игры..."
   ]
  },
  {
   "cell_type": "markdown",
   "id": "e8656d51",
   "metadata": {},
   "source": [
    "<div class=\"alert alert-info\">\n",
    "        \n",
    "## Проверка гипотез\n",
    "\n",
    "</div>"
   ]
  },
  {
   "cell_type": "markdown",
   "id": "2144a5bc",
   "metadata": {},
   "source": [
    "- Средние пользовательские рейтинги платформ Xbox One и PC одинаковые;\n",
    "- Средние пользовательские рейтинги жанров Action (англ. «действие», экшен-игры) и Sports (англ. «спортивные соревнования») разные.\n",
    "\n",
    "Задайте самостоятельно пороговое значение alpha.\n",
    "\n",
    "Поясните:\n",
    "- Как вы сформулировали нулевую и альтернативную гипотезы;\n",
    "- Какой критерий применили для проверки гипотез и почему."
   ]
  },
  {
   "cell_type": "code",
   "execution_count": 37,
   "id": "fd6d6c59",
   "metadata": {},
   "outputs": [],
   "source": [
    "alpha = .05"
   ]
  },
  {
   "cell_type": "markdown",
   "id": "23c41c5e",
   "metadata": {},
   "source": [
    "<div class=\"alert alert-info\">\n",
    "        \n",
    "### Средние пользовательские рейтинги платформ Xbox One и PC одинаковые\n",
    "\n",
    "</div>\n"
   ]
  },
  {
   "cell_type": "markdown",
   "id": "2966fc2e",
   "metadata": {},
   "source": [
    "Для начала сформулируем нулевую и альтернативную гипотезы:\n",
    "\n",
    "Нулевая: Средние пользовательские оценки игр для платформ Xbox One и PC равны   \n",
    "Альтернативная: Средние пользовательские оценки игр для платформ Xbox One и PC НЕ равны "
   ]
  },
  {
   "cell_type": "code",
   "execution_count": 38,
   "id": "9e333c29",
   "metadata": {},
   "outputs": [
    {
     "name": "stdout",
     "output_type": "stream",
     "text": [
      "(189, 12) (247, 12)\n"
     ]
    }
   ],
   "source": [
    "xone_data = clear_data.query('platform == \"XOne\"')\n",
    "PC_data = clear_data.query('platform == \"PC\"')\n",
    "print( PC_data.shape, xone_data.shape)"
   ]
  },
  {
   "cell_type": "markdown",
   "id": "ef12e067",
   "metadata": {},
   "source": [
    "🧑‍🎓 Ира: Будем пользоваться т-тестом, так как у нас не генеральные совокупности, а лишь выборки"
   ]
  },
  {
   "cell_type": "code",
   "execution_count": 39,
   "id": "69e0775f",
   "metadata": {},
   "outputs": [
    {
     "name": "stdout",
     "output_type": "stream",
     "text": [
      "p-значение: 0.011609441285331012\n",
      "Отвергаем нулевую гипотезу\n"
     ]
    }
   ],
   "source": [
    "rating_results = st.ttest_ind(\n",
    "    xone_data['user_score'], \n",
    "    PC_data['user_score'],\n",
    "    equal_var = False) #так как выборки разного размера\n",
    "\n",
    "print('p-значение:', rating_results.pvalue)\n",
    "\n",
    "if rating_results.pvalue < alpha: \n",
    "    print(\"Отвергаем нулевую гипотезу\")\n",
    "else:\n",
    "    print(\"Не получилось отвергнуть нулевую гипотезу\")"
   ]
  },
  {
   "cell_type": "markdown",
   "id": "658370ff",
   "metadata": {},
   "source": [
    "<div class=\"alert alert-info\">\n",
    "        \n",
    "### Средние пользовательские рейтинги жанров Action и Sports разные.\n",
    "\n",
    "</div>\n"
   ]
  },
  {
   "cell_type": "markdown",
   "id": "c45b8d91",
   "metadata": {},
   "source": [
    "Сформулируем нулевую и альтернативную гипотезы:\n",
    "\n",
    "Нулевая: Средние пользовательские оценки игр для жанров Action и Sports равны   \n",
    "Альтернативная: Средние пользовательские оценки игр для жанров Action и Sports НЕ равны \n"
   ]
  },
  {
   "cell_type": "code",
   "execution_count": 40,
   "id": "dee393ed",
   "metadata": {},
   "outputs": [
    {
     "name": "stdout",
     "output_type": "stream",
     "text": [
      "(766, 12) (214, 12)\n"
     ]
    }
   ],
   "source": [
    "action_data = clear_data.query('genre == \"Action\"')\n",
    "sport_data = clear_data.query('genre == \"Sports\"')\n",
    "print( action_data.shape, sport_data.shape)"
   ]
  },
  {
   "cell_type": "code",
   "execution_count": 41,
   "id": "9f8fbd81",
   "metadata": {},
   "outputs": [
    {
     "name": "stdout",
     "output_type": "stream",
     "text": [
      "p-значение: 1.0957337060814841e-20\n",
      "Отвергаем нулевую гипотезу\n"
     ]
    }
   ],
   "source": [
    "genre_results = st.ttest_ind(\n",
    "    action_data['user_score'], \n",
    "    sport_data['user_score'],\n",
    "    equal_var = False) #так как выборки разного размера\n",
    "\n",
    "print('p-значение:', genre_results.pvalue)\n",
    "\n",
    "if genre_results.pvalue < alpha: \n",
    "    print(\"Отвергаем нулевую гипотезу\")\n",
    "else:\n",
    "    print(\"Не получилось отвергнуть нулевую гипотезу\")"
   ]
  },
  {
   "cell_type": "markdown",
   "id": "75adca58",
   "metadata": {},
   "source": [
    "🧑‍🎓 Ира: Так как нулевая гипотеза отвергается, то можно сказать, что средние пользовательские рейтинги жанров Action и Sports действительно разные\n",
    "    "
   ]
  },
  {
   "cell_type": "markdown",
   "id": "dd9c487c",
   "metadata": {},
   "source": [
    "<div class=\"alert alert-info\">\n",
    "        \n",
    "## Общий вывод\n",
    "\n",
    "</div>"
   ]
  },
  {
   "cell_type": "markdown",
   "id": "31ad7579",
   "metadata": {},
   "source": [
    "Были проанализированы данные по различным метрикам игр, вышедшим на разных платформах за несколько лет.\n",
    "Из данных удалены пустые значения, изменены типы данных в нескольких столбцах, посчитана выручка по всем регионам для каждой игры.\n",
    "\n",
    "Так же была исследована динамика продаж по нескольким платформам и жанрам в зависимости в от года выхода игр. \n",
    "Замечена тенденция, что платформы в основном \"выходят\" из пользования примерно за 10 лет. \n",
    "\n",
    "Так же были проанализированы зависимости продаж игр от оценки критиков и пользователей. \n",
    "\n",
    "Кроме того, были выдвинуты 2 гипотезы о равенстве средних.\n",
    "\n",
    "\n",
    "В целом можно сказать, что регион Северной Америки не сильно отличается от региона Европы по используемым жанрам игр, но отличается в предпочтении разных платформ. \n",
    "Япония же в свою очередь отличается и жанрами, и платформами, используемыми пользователями. \n",
    "\n",
    "Вывод для дальнейщего прогноза: стоит обратить внимание на игры, выпускаемые для платформ XOne, PS46, PSP, PC, так как это самые популярные платформы по разным регионам, касательно жанра различные шутеры, а так же на игры жанра экшн, они входят в топ-5 игр по каждому региону. \n",
    "\n",
    "Отдельно по каждому региону можно сказать, что в Северной Америке и Европе стоит продавать игры на PC, Xbox и Sony, отдавая. предпочтения шутерам, экшну и играм-ролевкам. \n",
    "Для Японии можно сделать такой же вывод, только продавать больше игры для PSP и других портативных платформ, по жанрам можно оставить все так же, как в Европе и Америке\n"
   ]
  },
  {
   "cell_type": "code",
   "execution_count": null,
   "id": "f343de50",
   "metadata": {},
   "outputs": [],
   "source": []
  }
 ],
 "metadata": {
  "ExecuteTimeLog": [
   {
    "duration": 1262,
    "start_time": "2022-04-28T18:31:42.857Z"
   },
   {
    "duration": 137,
    "start_time": "2022-04-28T18:31:44.121Z"
   },
   {
    "duration": 25,
    "start_time": "2022-04-28T18:31:44.260Z"
   },
   {
    "duration": 3,
    "start_time": "2022-04-28T18:31:44.286Z"
   },
   {
    "duration": 10,
    "start_time": "2022-04-28T18:31:44.291Z"
   },
   {
    "duration": 14,
    "start_time": "2022-04-28T18:31:44.303Z"
   },
   {
    "duration": 2,
    "start_time": "2022-04-28T18:31:44.319Z"
   },
   {
    "duration": 4,
    "start_time": "2022-04-28T18:31:44.323Z"
   },
   {
    "duration": 19,
    "start_time": "2022-04-28T18:31:44.329Z"
   },
   {
    "duration": 15,
    "start_time": "2022-04-28T18:31:44.351Z"
   },
   {
    "duration": 48,
    "start_time": "2022-04-28T18:31:44.368Z"
   },
   {
    "duration": 9,
    "start_time": "2022-04-28T18:31:44.418Z"
   },
   {
    "duration": 20,
    "start_time": "2022-04-28T18:31:44.428Z"
   },
   {
    "duration": 5,
    "start_time": "2022-04-28T18:31:44.450Z"
   },
   {
    "duration": 16,
    "start_time": "2022-04-28T18:31:44.457Z"
   },
   {
    "duration": 143,
    "start_time": "2022-04-28T18:31:44.501Z"
   },
   {
    "duration": 695,
    "start_time": "2022-04-28T18:31:44.646Z"
   },
   {
    "duration": 18,
    "start_time": "2022-04-28T18:31:45.343Z"
   },
   {
    "duration": 3,
    "start_time": "2022-04-28T18:31:45.362Z"
   },
   {
    "duration": 1427,
    "start_time": "2022-04-28T18:31:45.366Z"
   },
   {
    "duration": 15,
    "start_time": "2022-04-28T18:31:46.794Z"
   },
   {
    "duration": 14,
    "start_time": "2022-04-28T18:31:46.810Z"
   },
   {
    "duration": 233,
    "start_time": "2022-04-28T18:31:46.825Z"
   },
   {
    "duration": 1821,
    "start_time": "2022-04-28T18:31:47.060Z"
   },
   {
    "duration": 11,
    "start_time": "2022-04-28T18:31:48.882Z"
   },
   {
    "duration": 50,
    "start_time": "2022-04-28T18:31:48.895Z"
   },
   {
    "duration": 189,
    "start_time": "2022-04-28T18:31:48.946Z"
   },
   {
    "duration": 1610,
    "start_time": "2022-04-28T18:31:49.139Z"
   },
   {
    "duration": 5,
    "start_time": "2022-04-28T18:31:50.751Z"
   },
   {
    "duration": 16,
    "start_time": "2022-04-28T18:31:50.757Z"
   },
   {
    "duration": 27,
    "start_time": "2022-04-28T18:31:50.775Z"
   },
   {
    "duration": 11,
    "start_time": "2022-04-28T18:31:50.803Z"
   },
   {
    "duration": 9,
    "start_time": "2022-04-28T18:31:50.816Z"
   },
   {
    "duration": 10,
    "start_time": "2022-04-28T18:31:50.827Z"
   },
   {
    "duration": 9,
    "start_time": "2022-04-28T18:31:50.838Z"
   },
   {
    "duration": 9,
    "start_time": "2022-04-28T18:31:50.849Z"
   },
   {
    "duration": 48,
    "start_time": "2022-04-28T18:31:50.859Z"
   },
   {
    "duration": 9,
    "start_time": "2022-04-28T18:31:50.909Z"
   },
   {
    "duration": 2,
    "start_time": "2022-04-28T18:31:50.920Z"
   },
   {
    "duration": 8,
    "start_time": "2022-04-28T18:31:50.923Z"
   },
   {
    "duration": 4,
    "start_time": "2022-04-28T18:31:50.933Z"
   },
   {
    "duration": 9,
    "start_time": "2022-04-28T18:31:50.938Z"
   },
   {
    "duration": 4,
    "start_time": "2022-04-28T18:31:50.948Z"
   },
   {
    "duration": 7,
    "start_time": "2022-04-29T05:54:18.407Z"
   },
   {
    "duration": 3,
    "start_time": "2022-04-29T05:54:45.884Z"
   },
   {
    "duration": 1219,
    "start_time": "2022-04-29T05:55:21.158Z"
   },
   {
    "duration": 134,
    "start_time": "2022-04-29T05:55:22.379Z"
   },
   {
    "duration": 25,
    "start_time": "2022-04-29T05:55:23.813Z"
   },
   {
    "duration": 4,
    "start_time": "2022-04-29T05:55:27.651Z"
   },
   {
    "duration": 9,
    "start_time": "2022-04-29T05:55:29.641Z"
   },
   {
    "duration": 18,
    "start_time": "2022-04-29T05:55:32.005Z"
   },
   {
    "duration": 15,
    "start_time": "2022-04-29T05:55:34.315Z"
   },
   {
    "duration": 15,
    "start_time": "2022-04-29T05:55:36.357Z"
   },
   {
    "duration": 19,
    "start_time": "2022-04-29T05:55:38.506Z"
   },
   {
    "duration": 9,
    "start_time": "2022-04-29T05:55:40.865Z"
   },
   {
    "duration": 14,
    "start_time": "2022-04-29T05:55:42.495Z"
   },
   {
    "duration": 85,
    "start_time": "2022-04-29T05:55:45.285Z"
   },
   {
    "duration": 137,
    "start_time": "2022-04-29T05:56:11.805Z"
   },
   {
    "duration": 15,
    "start_time": "2022-04-29T05:56:50.881Z"
   },
   {
    "duration": 16,
    "start_time": "2022-04-29T05:57:29.813Z"
   },
   {
    "duration": 115,
    "start_time": "2022-04-29T05:57:35.626Z"
   },
   {
    "duration": 120,
    "start_time": "2022-04-29T05:57:57.158Z"
   },
   {
    "duration": 668,
    "start_time": "2022-04-29T05:58:04.925Z"
   },
   {
    "duration": 115,
    "start_time": "2022-04-29T05:59:48.007Z"
   },
   {
    "duration": 96,
    "start_time": "2022-04-29T06:01:38.656Z"
   },
   {
    "duration": 141,
    "start_time": "2022-04-29T06:01:46.207Z"
   },
   {
    "duration": 16,
    "start_time": "2022-04-29T18:16:38.969Z"
   },
   {
    "duration": 1044,
    "start_time": "2022-04-29T18:16:43.024Z"
   },
   {
    "duration": 18,
    "start_time": "2022-04-29T18:17:23.240Z"
   },
   {
    "duration": 1695,
    "start_time": "2022-04-29T18:17:25.641Z"
   },
   {
    "duration": 26,
    "start_time": "2022-04-29T18:17:42.416Z"
   },
   {
    "duration": 1406,
    "start_time": "2022-04-29T18:17:53.799Z"
   },
   {
    "duration": 23,
    "start_time": "2022-04-29T18:19:12.531Z"
   },
   {
    "duration": 1084,
    "start_time": "2022-04-29T18:19:18.793Z"
   },
   {
    "duration": 1243,
    "start_time": "2022-04-29T18:20:42.457Z"
   },
   {
    "duration": 10,
    "start_time": "2022-04-29T18:20:58.741Z"
   },
   {
    "duration": 12,
    "start_time": "2022-04-29T18:21:14.770Z"
   },
   {
    "duration": 12,
    "start_time": "2022-04-29T18:23:19.341Z"
   },
   {
    "duration": 5,
    "start_time": "2022-04-29T18:27:11.796Z"
   },
   {
    "duration": 336,
    "start_time": "2022-04-29T18:28:09.972Z"
   },
   {
    "duration": 1191,
    "start_time": "2022-04-29T18:35:46.582Z"
   },
   {
    "duration": 997,
    "start_time": "2022-04-29T18:36:26.555Z"
   },
   {
    "duration": 1064,
    "start_time": "2022-04-29T18:36:31.081Z"
   },
   {
    "duration": 1617,
    "start_time": "2022-04-29T18:36:37.768Z"
   },
   {
    "duration": 334,
    "start_time": "2022-04-29T18:44:06.423Z"
   },
   {
    "duration": 268,
    "start_time": "2022-04-29T18:45:44.681Z"
   },
   {
    "duration": 2774,
    "start_time": "2022-04-29T18:52:39.627Z"
   },
   {
    "duration": 17,
    "start_time": "2022-04-29T18:52:51.799Z"
   },
   {
    "duration": 2,
    "start_time": "2022-04-29T18:58:03.844Z"
   },
   {
    "duration": 13,
    "start_time": "2022-04-29T18:58:45.724Z"
   },
   {
    "duration": 82,
    "start_time": "2022-04-29T19:02:36.164Z"
   },
   {
    "duration": 291,
    "start_time": "2022-04-29T19:08:08.447Z"
   },
   {
    "duration": 1387,
    "start_time": "2022-04-29T19:08:14.835Z"
   },
   {
    "duration": 2100,
    "start_time": "2022-04-29T19:09:12.100Z"
   },
   {
    "duration": 5,
    "start_time": "2022-04-29T19:11:37.902Z"
   },
   {
    "duration": 7,
    "start_time": "2022-04-29T19:12:51.073Z"
   },
   {
    "duration": 5,
    "start_time": "2022-04-29T19:20:55.460Z"
   },
   {
    "duration": 28,
    "start_time": "2022-04-29T19:20:57.074Z"
   },
   {
    "duration": 5,
    "start_time": "2022-04-29T19:21:57.974Z"
   },
   {
    "duration": 16,
    "start_time": "2022-04-29T19:21:59.179Z"
   },
   {
    "duration": 7,
    "start_time": "2022-04-29T19:24:24.900Z"
   },
   {
    "duration": 140,
    "start_time": "2022-04-29T19:24:26.265Z"
   },
   {
    "duration": 6,
    "start_time": "2022-04-29T19:24:40.785Z"
   },
   {
    "duration": 166,
    "start_time": "2022-04-29T19:24:43.236Z"
   },
   {
    "duration": 5,
    "start_time": "2022-04-29T19:25:43.834Z"
   },
   {
    "duration": 17,
    "start_time": "2022-04-29T19:25:45.270Z"
   },
   {
    "duration": 4,
    "start_time": "2022-04-29T19:26:09.377Z"
   },
   {
    "duration": 807,
    "start_time": "2022-04-29T19:26:10.782Z"
   },
   {
    "duration": 5,
    "start_time": "2022-04-29T19:26:45.746Z"
   },
   {
    "duration": 814,
    "start_time": "2022-04-29T19:26:47.142Z"
   },
   {
    "duration": 222,
    "start_time": "2022-04-29T19:27:14.481Z"
   },
   {
    "duration": 807,
    "start_time": "2022-04-29T19:27:15.722Z"
   },
   {
    "duration": 202,
    "start_time": "2022-04-29T19:27:31.852Z"
   },
   {
    "duration": 863,
    "start_time": "2022-04-29T19:27:33.122Z"
   },
   {
    "duration": 7,
    "start_time": "2022-04-29T19:28:38.429Z"
   },
   {
    "duration": 18,
    "start_time": "2022-04-29T19:28:39.979Z"
   },
   {
    "duration": 5,
    "start_time": "2022-04-29T19:29:09.284Z"
   },
   {
    "duration": 137,
    "start_time": "2022-04-29T19:29:10.654Z"
   },
   {
    "duration": 141,
    "start_time": "2022-04-29T19:29:37.455Z"
   },
   {
    "duration": 8,
    "start_time": "2022-04-29T19:29:57.445Z"
   },
   {
    "duration": 138,
    "start_time": "2022-04-29T19:29:58.901Z"
   },
   {
    "duration": 5,
    "start_time": "2022-04-29T19:30:11.545Z"
   },
   {
    "duration": 133,
    "start_time": "2022-04-29T19:30:12.842Z"
   },
   {
    "duration": 5,
    "start_time": "2022-04-29T19:30:53.599Z"
   },
   {
    "duration": 147,
    "start_time": "2022-04-29T19:30:56.251Z"
   },
   {
    "duration": 197,
    "start_time": "2022-04-29T19:31:02.145Z"
   },
   {
    "duration": 5,
    "start_time": "2022-04-29T19:31:05.663Z"
   },
   {
    "duration": 7,
    "start_time": "2022-04-29T19:31:23.254Z"
   },
   {
    "duration": 215,
    "start_time": "2022-04-29T19:31:24.342Z"
   },
   {
    "duration": 7,
    "start_time": "2022-04-29T19:33:31.048Z"
   },
   {
    "duration": 150,
    "start_time": "2022-04-29T19:33:33.737Z"
   },
   {
    "duration": 7,
    "start_time": "2022-04-29T19:33:46.465Z"
   },
   {
    "duration": 7,
    "start_time": "2022-04-29T19:33:51.037Z"
   },
   {
    "duration": 109,
    "start_time": "2022-04-29T19:33:53.252Z"
   },
   {
    "duration": 5,
    "start_time": "2022-04-29T19:36:13.382Z"
   },
   {
    "duration": 112,
    "start_time": "2022-04-29T19:36:14.709Z"
   },
   {
    "duration": 5,
    "start_time": "2022-04-29T19:37:16.571Z"
   },
   {
    "duration": 105,
    "start_time": "2022-04-29T19:37:18.061Z"
   },
   {
    "duration": 4,
    "start_time": "2022-04-29T19:37:26.711Z"
   },
   {
    "duration": 133,
    "start_time": "2022-04-29T19:37:28.563Z"
   },
   {
    "duration": 5,
    "start_time": "2022-04-29T19:37:56.738Z"
   },
   {
    "duration": 133,
    "start_time": "2022-04-29T19:37:57.917Z"
   },
   {
    "duration": 5,
    "start_time": "2022-04-29T19:38:03.654Z"
   },
   {
    "duration": 130,
    "start_time": "2022-04-29T19:38:04.764Z"
   },
   {
    "duration": 5,
    "start_time": "2022-04-29T19:38:21.603Z"
   },
   {
    "duration": 109,
    "start_time": "2022-04-29T19:38:23.209Z"
   },
   {
    "duration": 5,
    "start_time": "2022-04-29T19:38:41.606Z"
   },
   {
    "duration": 132,
    "start_time": "2022-04-29T19:38:43.640Z"
   },
   {
    "duration": 200,
    "start_time": "2022-04-29T19:42:00.529Z"
   },
   {
    "duration": 4,
    "start_time": "2022-04-29T19:42:06.077Z"
   },
   {
    "duration": 138,
    "start_time": "2022-04-29T19:42:07.584Z"
   },
   {
    "duration": 150,
    "start_time": "2022-04-29T19:42:18.575Z"
   },
   {
    "duration": 5,
    "start_time": "2022-04-29T19:42:30.580Z"
   },
   {
    "duration": 132,
    "start_time": "2022-04-29T19:42:32.218Z"
   },
   {
    "duration": 4,
    "start_time": "2022-04-29T19:42:37.165Z"
   },
   {
    "duration": 135,
    "start_time": "2022-04-29T19:42:38.530Z"
   },
   {
    "duration": 150,
    "start_time": "2022-04-29T19:42:43.370Z"
   },
   {
    "duration": 5,
    "start_time": "2022-04-29T19:43:24.622Z"
   },
   {
    "duration": 135,
    "start_time": "2022-04-29T19:43:28.854Z"
   },
   {
    "duration": 5,
    "start_time": "2022-04-29T19:44:09.862Z"
   },
   {
    "duration": 21,
    "start_time": "2022-04-29T19:44:11.176Z"
   },
   {
    "duration": 4,
    "start_time": "2022-04-29T19:44:42.077Z"
   },
   {
    "duration": 384,
    "start_time": "2022-04-29T19:44:44.100Z"
   },
   {
    "duration": 7,
    "start_time": "2022-04-29T19:45:12.052Z"
   },
   {
    "duration": 137,
    "start_time": "2022-04-29T19:45:13.303Z"
   },
   {
    "duration": 5,
    "start_time": "2022-04-29T19:45:27.576Z"
   },
   {
    "duration": 115,
    "start_time": "2022-04-29T19:45:30.665Z"
   },
   {
    "duration": 5,
    "start_time": "2022-04-29T19:45:54.078Z"
   },
   {
    "duration": 120,
    "start_time": "2022-04-29T19:45:55.555Z"
   },
   {
    "duration": 5,
    "start_time": "2022-04-29T19:46:08.567Z"
   },
   {
    "duration": 130,
    "start_time": "2022-04-29T19:46:09.785Z"
   },
   {
    "duration": 5,
    "start_time": "2022-04-29T19:46:16.401Z"
   },
   {
    "duration": 152,
    "start_time": "2022-04-29T19:46:17.591Z"
   },
   {
    "duration": 5,
    "start_time": "2022-04-29T19:46:23.814Z"
   },
   {
    "duration": 134,
    "start_time": "2022-04-29T19:46:24.937Z"
   },
   {
    "duration": 4,
    "start_time": "2022-04-29T19:46:40.722Z"
   },
   {
    "duration": 124,
    "start_time": "2022-04-29T19:46:41.809Z"
   },
   {
    "duration": 5,
    "start_time": "2022-04-29T19:46:50.122Z"
   },
   {
    "duration": 118,
    "start_time": "2022-04-29T19:46:51.258Z"
   },
   {
    "duration": 117,
    "start_time": "2022-04-29T19:47:12.774Z"
   },
   {
    "duration": 5,
    "start_time": "2022-04-29T19:47:26.252Z"
   },
   {
    "duration": 5,
    "start_time": "2022-04-29T19:47:31.987Z"
   },
   {
    "duration": 112,
    "start_time": "2022-04-29T19:47:34.993Z"
   },
   {
    "duration": 114,
    "start_time": "2022-04-29T19:47:42.571Z"
   },
   {
    "duration": 116,
    "start_time": "2022-04-29T19:48:01.081Z"
   },
   {
    "duration": 117,
    "start_time": "2022-04-29T19:49:38.465Z"
   },
   {
    "duration": 124,
    "start_time": "2022-04-29T19:49:46.223Z"
   },
   {
    "duration": 114,
    "start_time": "2022-04-29T19:50:39.497Z"
   },
   {
    "duration": 116,
    "start_time": "2022-04-29T19:51:27.273Z"
   },
   {
    "duration": 156,
    "start_time": "2022-04-29T19:51:32.894Z"
   },
   {
    "duration": 194,
    "start_time": "2022-04-29T19:51:36.762Z"
   },
   {
    "duration": 3,
    "start_time": "2022-04-29T19:55:00.553Z"
   },
   {
    "duration": 11,
    "start_time": "2022-04-29T19:55:02.994Z"
   },
   {
    "duration": 11,
    "start_time": "2022-04-29T19:55:10.771Z"
   },
   {
    "duration": 11,
    "start_time": "2022-04-29T19:55:21.442Z"
   },
   {
    "duration": 6,
    "start_time": "2022-04-29T19:55:26.260Z"
   },
   {
    "duration": 1374,
    "start_time": "2022-05-01T17:16:38.995Z"
   },
   {
    "duration": 122,
    "start_time": "2022-05-01T17:16:40.374Z"
   },
   {
    "duration": 45,
    "start_time": "2022-05-01T17:16:40.498Z"
   },
   {
    "duration": 16,
    "start_time": "2022-05-01T17:16:40.545Z"
   },
   {
    "duration": 25,
    "start_time": "2022-05-01T17:16:40.563Z"
   },
   {
    "duration": 29,
    "start_time": "2022-05-01T17:16:40.590Z"
   },
   {
    "duration": 6,
    "start_time": "2022-05-01T17:16:40.621Z"
   },
   {
    "duration": 43,
    "start_time": "2022-05-01T17:16:40.629Z"
   },
   {
    "duration": 35,
    "start_time": "2022-05-01T17:16:40.674Z"
   },
   {
    "duration": 15,
    "start_time": "2022-05-01T17:16:40.712Z"
   },
   {
    "duration": 47,
    "start_time": "2022-05-01T17:16:40.729Z"
   },
   {
    "duration": 8,
    "start_time": "2022-05-01T17:16:40.778Z"
   },
   {
    "duration": 40,
    "start_time": "2022-05-01T17:16:40.788Z"
   },
   {
    "duration": 172,
    "start_time": "2022-05-01T17:16:40.830Z"
   },
   {
    "duration": 17,
    "start_time": "2022-05-01T17:16:41.005Z"
   },
   {
    "duration": 225,
    "start_time": "2022-05-01T17:16:41.023Z"
   },
   {
    "duration": 797,
    "start_time": "2022-05-01T17:16:41.250Z"
   },
   {
    "duration": 20,
    "start_time": "2022-05-01T17:16:42.054Z"
   },
   {
    "duration": 12,
    "start_time": "2022-05-01T17:16:42.078Z"
   },
   {
    "duration": 1424,
    "start_time": "2022-05-01T17:16:42.091Z"
   },
   {
    "duration": 11,
    "start_time": "2022-05-01T17:16:43.517Z"
   },
   {
    "duration": 70,
    "start_time": "2022-05-01T17:16:43.529Z"
   },
   {
    "duration": 492,
    "start_time": "2022-05-01T17:16:43.601Z"
   },
   {
    "duration": 3,
    "start_time": "2022-05-01T17:16:44.095Z"
   },
   {
    "duration": 169,
    "start_time": "2022-05-01T17:16:44.099Z"
   },
   {
    "duration": 0,
    "start_time": "2022-05-01T17:16:44.271Z"
   },
   {
    "duration": 0,
    "start_time": "2022-05-01T17:16:44.273Z"
   },
   {
    "duration": 0,
    "start_time": "2022-05-01T17:16:44.274Z"
   },
   {
    "duration": 0,
    "start_time": "2022-05-01T17:16:44.276Z"
   },
   {
    "duration": 0,
    "start_time": "2022-05-01T17:16:44.277Z"
   },
   {
    "duration": 0,
    "start_time": "2022-05-01T17:16:44.278Z"
   },
   {
    "duration": 0,
    "start_time": "2022-05-01T17:16:44.279Z"
   },
   {
    "duration": 0,
    "start_time": "2022-05-01T17:16:44.280Z"
   },
   {
    "duration": 0,
    "start_time": "2022-05-01T17:16:44.281Z"
   },
   {
    "duration": 0,
    "start_time": "2022-05-01T17:16:44.282Z"
   },
   {
    "duration": 0,
    "start_time": "2022-05-01T17:16:44.283Z"
   },
   {
    "duration": 0,
    "start_time": "2022-05-01T17:16:44.284Z"
   },
   {
    "duration": 0,
    "start_time": "2022-05-01T17:16:44.285Z"
   },
   {
    "duration": 0,
    "start_time": "2022-05-01T17:16:44.286Z"
   },
   {
    "duration": 0,
    "start_time": "2022-05-01T17:16:44.287Z"
   },
   {
    "duration": 0,
    "start_time": "2022-05-01T17:16:44.288Z"
   },
   {
    "duration": 0,
    "start_time": "2022-05-01T17:16:44.289Z"
   },
   {
    "duration": 0,
    "start_time": "2022-05-01T17:16:44.289Z"
   },
   {
    "duration": 141,
    "start_time": "2022-05-01T17:25:57.465Z"
   },
   {
    "duration": 1248,
    "start_time": "2022-05-06T20:47:11.993Z"
   },
   {
    "duration": 84,
    "start_time": "2022-05-06T20:47:13.243Z"
   },
   {
    "duration": 28,
    "start_time": "2022-05-06T20:47:15.868Z"
   },
   {
    "duration": 4,
    "start_time": "2022-05-06T20:47:19.741Z"
   },
   {
    "duration": 10,
    "start_time": "2022-05-06T20:47:22.693Z"
   },
   {
    "duration": 18,
    "start_time": "2022-05-06T20:47:25.925Z"
   },
   {
    "duration": 19,
    "start_time": "2022-05-06T20:47:27.858Z"
   },
   {
    "duration": 17,
    "start_time": "2022-05-06T20:47:30.823Z"
   },
   {
    "duration": 21,
    "start_time": "2022-05-06T20:47:32.551Z"
   },
   {
    "duration": 9,
    "start_time": "2022-05-06T20:47:35.218Z"
   },
   {
    "duration": 16,
    "start_time": "2022-05-06T20:47:35.775Z"
   },
   {
    "duration": 168,
    "start_time": "2022-05-06T20:47:39.527Z"
   },
   {
    "duration": 18,
    "start_time": "2022-05-06T20:50:24.408Z"
   },
   {
    "duration": 140,
    "start_time": "2022-05-06T20:50:27.058Z"
   },
   {
    "duration": 745,
    "start_time": "2022-05-06T20:50:29.451Z"
   },
   {
    "duration": 18,
    "start_time": "2022-05-06T20:50:35.841Z"
   },
   {
    "duration": 1250,
    "start_time": "2022-05-06T20:50:39.541Z"
   },
   {
    "duration": 12,
    "start_time": "2022-05-06T20:50:47.679Z"
   },
   {
    "duration": 13,
    "start_time": "2022-05-06T20:50:50.651Z"
   },
   {
    "duration": 342,
    "start_time": "2022-05-06T20:50:55.639Z"
   },
   {
    "duration": 7,
    "start_time": "2022-05-06T20:51:21.098Z"
   },
   {
    "duration": 14,
    "start_time": "2022-05-06T20:51:23.206Z"
   },
   {
    "duration": 57,
    "start_time": "2022-05-06T20:51:46.411Z"
   },
   {
    "duration": 184,
    "start_time": "2022-05-06T20:51:50.291Z"
   },
   {
    "duration": 1453,
    "start_time": "2022-05-06T20:51:54.172Z"
   },
   {
    "duration": 5,
    "start_time": "2022-05-06T20:52:06.070Z"
   },
   {
    "duration": 121,
    "start_time": "2022-05-06T20:52:08.329Z"
   },
   {
    "duration": 1072,
    "start_time": "2022-05-07T12:47:57.538Z"
   },
   {
    "duration": 88,
    "start_time": "2022-05-07T12:47:58.612Z"
   },
   {
    "duration": 29,
    "start_time": "2022-05-07T12:47:58.701Z"
   },
   {
    "duration": 3,
    "start_time": "2022-05-07T12:47:58.732Z"
   },
   {
    "duration": 12,
    "start_time": "2022-05-07T12:47:58.736Z"
   },
   {
    "duration": 34,
    "start_time": "2022-05-07T12:47:58.750Z"
   },
   {
    "duration": 2,
    "start_time": "2022-05-07T12:47:58.786Z"
   },
   {
    "duration": 9,
    "start_time": "2022-05-07T12:47:58.789Z"
   },
   {
    "duration": 18,
    "start_time": "2022-05-07T12:47:58.799Z"
   },
   {
    "duration": 16,
    "start_time": "2022-05-07T12:47:58.819Z"
   },
   {
    "duration": 41,
    "start_time": "2022-05-07T12:47:58.837Z"
   },
   {
    "duration": 9,
    "start_time": "2022-05-07T12:47:58.879Z"
   },
   {
    "duration": 15,
    "start_time": "2022-05-07T12:47:58.889Z"
   },
   {
    "duration": 191,
    "start_time": "2022-05-07T12:47:58.905Z"
   },
   {
    "duration": 17,
    "start_time": "2022-05-07T12:47:59.098Z"
   },
   {
    "duration": 147,
    "start_time": "2022-05-07T12:47:59.116Z"
   },
   {
    "duration": 776,
    "start_time": "2022-05-07T12:47:59.272Z"
   },
   {
    "duration": 28,
    "start_time": "2022-05-07T12:48:00.049Z"
   },
   {
    "duration": 3,
    "start_time": "2022-05-07T12:48:00.078Z"
   },
   {
    "duration": 1370,
    "start_time": "2022-05-07T12:48:00.082Z"
   },
   {
    "duration": 12,
    "start_time": "2022-05-07T12:48:01.453Z"
   },
   {
    "duration": 14,
    "start_time": "2022-05-07T12:48:01.474Z"
   },
   {
    "duration": 280,
    "start_time": "2022-05-07T12:48:01.489Z"
   },
   {
    "duration": 7,
    "start_time": "2022-05-07T12:48:01.771Z"
   },
   {
    "duration": 27,
    "start_time": "2022-05-07T12:48:01.780Z"
   },
   {
    "duration": 83,
    "start_time": "2022-05-07T12:48:01.809Z"
   },
   {
    "duration": 219,
    "start_time": "2022-05-07T12:48:01.893Z"
   },
   {
    "duration": 1540,
    "start_time": "2022-05-07T12:48:02.116Z"
   },
   {
    "duration": 5,
    "start_time": "2022-05-07T12:48:03.658Z"
   },
   {
    "duration": 245,
    "start_time": "2022-05-07T12:48:03.673Z"
   },
   {
    "duration": 143,
    "start_time": "2022-05-07T12:48:03.920Z"
   },
   {
    "duration": 146,
    "start_time": "2022-05-07T12:48:04.064Z"
   },
   {
    "duration": 137,
    "start_time": "2022-05-07T12:48:04.211Z"
   },
   {
    "duration": 130,
    "start_time": "2022-05-07T12:48:04.349Z"
   },
   {
    "duration": 153,
    "start_time": "2022-05-07T12:48:04.481Z"
   },
   {
    "duration": 137,
    "start_time": "2022-05-07T12:48:04.636Z"
   },
   {
    "duration": 134,
    "start_time": "2022-05-07T12:48:04.775Z"
   },
   {
    "duration": 142,
    "start_time": "2022-05-07T12:48:04.911Z"
   },
   {
    "duration": 3,
    "start_time": "2022-05-07T12:48:05.055Z"
   },
   {
    "duration": 19,
    "start_time": "2022-05-07T12:48:05.060Z"
   },
   {
    "duration": 8,
    "start_time": "2022-05-07T12:48:05.081Z"
   },
   {
    "duration": 9,
    "start_time": "2022-05-07T12:48:05.091Z"
   },
   {
    "duration": 9,
    "start_time": "2022-05-07T12:48:05.102Z"
   },
   {
    "duration": 1133,
    "start_time": "2022-05-07T13:06:15.452Z"
   },
   {
    "duration": 91,
    "start_time": "2022-05-07T13:06:16.587Z"
   },
   {
    "duration": 28,
    "start_time": "2022-05-07T13:06:16.679Z"
   },
   {
    "duration": 3,
    "start_time": "2022-05-07T13:06:16.709Z"
   },
   {
    "duration": 13,
    "start_time": "2022-05-07T13:06:16.714Z"
   },
   {
    "duration": 17,
    "start_time": "2022-05-07T13:06:16.728Z"
   },
   {
    "duration": 2,
    "start_time": "2022-05-07T13:06:16.746Z"
   },
   {
    "duration": 2,
    "start_time": "2022-05-07T13:06:16.773Z"
   },
   {
    "duration": 19,
    "start_time": "2022-05-07T13:06:16.777Z"
   },
   {
    "duration": 16,
    "start_time": "2022-05-07T13:06:16.798Z"
   },
   {
    "duration": 21,
    "start_time": "2022-05-07T13:06:16.815Z"
   },
   {
    "duration": 36,
    "start_time": "2022-05-07T13:06:16.838Z"
   },
   {
    "duration": 19,
    "start_time": "2022-05-07T13:06:16.876Z"
   },
   {
    "duration": 176,
    "start_time": "2022-05-07T13:06:16.897Z"
   },
   {
    "duration": 17,
    "start_time": "2022-05-07T13:06:17.075Z"
   },
   {
    "duration": 148,
    "start_time": "2022-05-07T13:06:17.093Z"
   },
   {
    "duration": 741,
    "start_time": "2022-05-07T13:06:17.243Z"
   },
   {
    "duration": 18,
    "start_time": "2022-05-07T13:06:17.985Z"
   },
   {
    "duration": 3,
    "start_time": "2022-05-07T13:06:18.004Z"
   },
   {
    "duration": 1335,
    "start_time": "2022-05-07T13:06:18.008Z"
   },
   {
    "duration": 11,
    "start_time": "2022-05-07T13:06:19.345Z"
   },
   {
    "duration": 12,
    "start_time": "2022-05-07T13:06:19.373Z"
   },
   {
    "duration": 251,
    "start_time": "2022-05-07T13:06:19.386Z"
   },
   {
    "duration": 7,
    "start_time": "2022-05-07T13:06:19.638Z"
   },
   {
    "duration": 20,
    "start_time": "2022-05-07T13:06:19.647Z"
   },
   {
    "duration": 53,
    "start_time": "2022-05-07T13:06:19.668Z"
   },
   {
    "duration": 208,
    "start_time": "2022-05-07T13:06:19.723Z"
   },
   {
    "duration": 1440,
    "start_time": "2022-05-07T13:06:19.934Z"
   },
   {
    "duration": 5,
    "start_time": "2022-05-07T13:06:21.376Z"
   },
   {
    "duration": 265,
    "start_time": "2022-05-07T13:06:21.382Z"
   },
   {
    "duration": 132,
    "start_time": "2022-05-07T13:06:21.649Z"
   },
   {
    "duration": 131,
    "start_time": "2022-05-07T13:06:21.783Z"
   },
   {
    "duration": 136,
    "start_time": "2022-05-07T13:06:21.915Z"
   },
   {
    "duration": 130,
    "start_time": "2022-05-07T13:06:22.052Z"
   },
   {
    "duration": 135,
    "start_time": "2022-05-07T13:06:22.183Z"
   },
   {
    "duration": 138,
    "start_time": "2022-05-07T13:06:22.320Z"
   },
   {
    "duration": 125,
    "start_time": "2022-05-07T13:06:22.460Z"
   },
   {
    "duration": 137,
    "start_time": "2022-05-07T13:06:22.587Z"
   },
   {
    "duration": 3,
    "start_time": "2022-05-07T13:06:22.726Z"
   },
   {
    "duration": 10,
    "start_time": "2022-05-07T13:06:22.731Z"
   },
   {
    "duration": 7,
    "start_time": "2022-05-07T13:06:22.743Z"
   },
   {
    "duration": 26,
    "start_time": "2022-05-07T13:06:22.752Z"
   },
   {
    "duration": 5,
    "start_time": "2022-05-07T13:06:22.780Z"
   },
   {
    "duration": 1322,
    "start_time": "2022-05-09T11:40:55.074Z"
   },
   {
    "duration": 139,
    "start_time": "2022-05-09T11:40:56.398Z"
   },
   {
    "duration": 30,
    "start_time": "2022-05-09T11:40:57.126Z"
   },
   {
    "duration": 4,
    "start_time": "2022-05-09T11:41:01.000Z"
   },
   {
    "duration": 10,
    "start_time": "2022-05-09T11:41:03.330Z"
   },
   {
    "duration": 18,
    "start_time": "2022-05-09T11:41:05.919Z"
   },
   {
    "duration": 18,
    "start_time": "2022-05-09T11:47:46.694Z"
   },
   {
    "duration": 17,
    "start_time": "2022-05-09T11:47:49.160Z"
   },
   {
    "duration": 28,
    "start_time": "2022-05-09T11:47:53.874Z"
   },
   {
    "duration": 12,
    "start_time": "2022-05-09T11:47:56.632Z"
   },
   {
    "duration": 23,
    "start_time": "2022-05-09T11:47:57.132Z"
   },
   {
    "duration": 273,
    "start_time": "2022-05-09T11:48:01.285Z"
   },
   {
    "duration": 95,
    "start_time": "2022-05-09T11:48:16.428Z"
   },
   {
    "duration": 5,
    "start_time": "2022-05-09T11:49:29.319Z"
   },
   {
    "duration": 3136,
    "start_time": "2022-05-09T11:49:32.561Z"
   },
   {
    "duration": 4,
    "start_time": "2022-05-09T11:50:49.288Z"
   },
   {
    "duration": 3410,
    "start_time": "2022-05-09T11:50:54.573Z"
   },
   {
    "duration": 10,
    "start_time": "2022-05-09T11:51:12.132Z"
   },
   {
    "duration": 3211,
    "start_time": "2022-05-09T11:51:29.887Z"
   },
   {
    "duration": 3397,
    "start_time": "2022-05-09T11:52:49.673Z"
   },
   {
    "duration": 3233,
    "start_time": "2022-05-09T11:53:06.528Z"
   },
   {
    "duration": 169,
    "start_time": "2022-05-09T11:53:20.391Z"
   },
   {
    "duration": 4322,
    "start_time": "2022-05-09T11:53:58.462Z"
   },
   {
    "duration": 3,
    "start_time": "2022-05-09T11:54:15.047Z"
   },
   {
    "duration": 161,
    "start_time": "2022-05-09T11:54:15.443Z"
   },
   {
    "duration": 25,
    "start_time": "2022-05-09T11:54:17.957Z"
   },
   {
    "duration": 3,
    "start_time": "2022-05-09T11:54:22.068Z"
   },
   {
    "duration": 12,
    "start_time": "2022-05-09T11:54:24.630Z"
   },
   {
    "duration": 17,
    "start_time": "2022-05-09T11:54:27.682Z"
   },
   {
    "duration": 29,
    "start_time": "2022-05-09T11:54:30.477Z"
   },
   {
    "duration": 23,
    "start_time": "2022-05-09T11:54:32.918Z"
   },
   {
    "duration": 19,
    "start_time": "2022-05-09T11:54:35.475Z"
   },
   {
    "duration": 16,
    "start_time": "2022-05-09T11:54:37.700Z"
   },
   {
    "duration": 21,
    "start_time": "2022-05-09T11:54:39.533Z"
   },
   {
    "duration": 233,
    "start_time": "2022-05-09T11:54:42.813Z"
   },
   {
    "duration": 3396,
    "start_time": "2022-05-09T11:54:49.026Z"
   },
   {
    "duration": 26,
    "start_time": "2022-05-09T11:56:05.814Z"
   },
   {
    "duration": 24,
    "start_time": "2022-05-09T11:56:14.997Z"
   },
   {
    "duration": 142,
    "start_time": "2022-05-09T11:56:25.926Z"
   },
   {
    "duration": 910,
    "start_time": "2022-05-09T11:56:31.819Z"
   },
   {
    "duration": 3288,
    "start_time": "2022-05-09T11:58:21.365Z"
   },
   {
    "duration": 705,
    "start_time": "2022-05-09T12:10:27.848Z"
   },
   {
    "duration": 35,
    "start_time": "2022-05-09T12:11:32.702Z"
   },
   {
    "duration": 1576,
    "start_time": "2022-05-09T12:11:35.847Z"
   },
   {
    "duration": 10,
    "start_time": "2022-05-09T12:11:41.377Z"
   },
   {
    "duration": 24,
    "start_time": "2022-05-09T12:11:43.902Z"
   },
   {
    "duration": 381,
    "start_time": "2022-05-09T12:12:07.255Z"
   },
   {
    "duration": 10,
    "start_time": "2022-05-09T12:14:01.121Z"
   },
   {
    "duration": 11,
    "start_time": "2022-05-09T12:14:04.869Z"
   },
   {
    "duration": 10,
    "start_time": "2022-05-09T12:15:46.489Z"
   },
   {
    "duration": 9,
    "start_time": "2022-05-09T12:15:52.126Z"
   },
   {
    "duration": 13,
    "start_time": "2022-05-09T12:15:56.573Z"
   },
   {
    "duration": 9,
    "start_time": "2022-05-09T12:16:41.157Z"
   },
   {
    "duration": 76,
    "start_time": "2022-05-09T12:17:18.336Z"
   },
   {
    "duration": 478,
    "start_time": "2022-05-09T12:18:19.348Z"
   },
   {
    "duration": 17,
    "start_time": "2022-05-09T12:18:42.247Z"
   },
   {
    "duration": 3425,
    "start_time": "2022-05-09T12:19:08.328Z"
   },
   {
    "duration": 301,
    "start_time": "2022-05-09T12:19:16.646Z"
   },
   {
    "duration": 3290,
    "start_time": "2022-05-09T12:19:45.333Z"
   },
   {
    "duration": 6,
    "start_time": "2022-05-09T12:19:57.386Z"
   },
   {
    "duration": 17,
    "start_time": "2022-05-09T12:19:59.618Z"
   },
   {
    "duration": 8125,
    "start_time": "2022-05-09T12:20:02.762Z"
   },
   {
    "duration": 6,
    "start_time": "2022-05-09T12:21:21.369Z"
   },
   {
    "duration": 14,
    "start_time": "2022-05-09T12:21:42.290Z"
   },
   {
    "duration": 19,
    "start_time": "2022-05-09T12:21:46.210Z"
   },
   {
    "duration": 433,
    "start_time": "2022-05-09T12:21:55.567Z"
   },
   {
    "duration": 9,
    "start_time": "2022-05-09T12:26:15.788Z"
   },
   {
    "duration": 358,
    "start_time": "2022-05-09T12:26:35.779Z"
   },
   {
    "duration": 71,
    "start_time": "2022-05-09T12:26:43.155Z"
   },
   {
    "duration": 23,
    "start_time": "2022-05-09T12:27:36.186Z"
   },
   {
    "duration": 522,
    "start_time": "2022-05-09T12:27:47.697Z"
   },
   {
    "duration": 713,
    "start_time": "2022-05-09T12:28:05.351Z"
   },
   {
    "duration": 676,
    "start_time": "2022-05-09T12:28:38.508Z"
   },
   {
    "duration": 668,
    "start_time": "2022-05-09T12:28:56.708Z"
   },
   {
    "duration": 68,
    "start_time": "2022-05-09T12:29:46.608Z"
   },
   {
    "duration": 353,
    "start_time": "2022-05-09T12:30:08.026Z"
   },
   {
    "duration": 743,
    "start_time": "2022-05-09T12:30:20.335Z"
   },
   {
    "duration": 840,
    "start_time": "2022-05-09T12:30:36.220Z"
   },
   {
    "duration": 801,
    "start_time": "2022-05-09T12:31:05.079Z"
   },
   {
    "duration": 76,
    "start_time": "2022-05-09T12:31:15.371Z"
   },
   {
    "duration": 398,
    "start_time": "2022-05-09T12:32:53.662Z"
   },
   {
    "duration": 9,
    "start_time": "2022-05-09T12:33:02.757Z"
   },
   {
    "duration": 11,
    "start_time": "2022-05-09T12:33:10.872Z"
   },
   {
    "duration": 9,
    "start_time": "2022-05-09T12:33:13.078Z"
   },
   {
    "duration": 261,
    "start_time": "2022-05-09T12:34:03.790Z"
   },
   {
    "duration": 3448,
    "start_time": "2022-05-09T12:34:27.048Z"
   },
   {
    "duration": 11,
    "start_time": "2022-05-09T12:34:43.726Z"
   },
   {
    "duration": 293,
    "start_time": "2022-05-09T12:36:53.742Z"
   },
   {
    "duration": 171,
    "start_time": "2022-05-09T12:37:41.250Z"
   },
   {
    "duration": 13,
    "start_time": "2022-05-09T12:38:28.251Z"
   },
   {
    "duration": 17,
    "start_time": "2022-05-09T12:39:33.500Z"
   },
   {
    "duration": 370,
    "start_time": "2022-05-09T12:39:38.165Z"
   },
   {
    "duration": 7,
    "start_time": "2022-05-09T12:43:56.072Z"
   },
   {
    "duration": 11,
    "start_time": "2022-05-09T12:43:58.375Z"
   },
   {
    "duration": 288,
    "start_time": "2022-05-09T12:44:30.918Z"
   },
   {
    "duration": 69,
    "start_time": "2022-05-09T12:45:01.006Z"
   },
   {
    "duration": 760,
    "start_time": "2022-05-09T12:45:46.488Z"
   },
   {
    "duration": 762,
    "start_time": "2022-05-09T12:45:56.379Z"
   },
   {
    "duration": 626,
    "start_time": "2022-05-09T12:46:14.299Z"
   },
   {
    "duration": 654,
    "start_time": "2022-05-09T12:46:33.962Z"
   },
   {
    "duration": 666,
    "start_time": "2022-05-09T12:48:56.180Z"
   },
   {
    "duration": 328,
    "start_time": "2022-05-09T12:49:24.798Z"
   },
   {
    "duration": 288,
    "start_time": "2022-05-09T12:49:32.041Z"
   },
   {
    "duration": 332,
    "start_time": "2022-05-09T12:49:37.081Z"
   },
   {
    "duration": 267,
    "start_time": "2022-05-09T12:49:39.618Z"
   },
   {
    "duration": 837,
    "start_time": "2022-05-09T12:49:57.394Z"
   },
   {
    "duration": 614,
    "start_time": "2022-05-09T12:50:04.853Z"
   },
   {
    "duration": 425,
    "start_time": "2022-05-09T12:50:11.958Z"
   },
   {
    "duration": 74,
    "start_time": "2022-05-09T12:50:19.665Z"
   },
   {
    "duration": 4,
    "start_time": "2022-05-09T12:50:55.366Z"
   },
   {
    "duration": 195,
    "start_time": "2022-05-09T12:51:00.980Z"
   },
   {
    "duration": 1638,
    "start_time": "2022-05-09T12:51:27.301Z"
   },
   {
    "duration": 12,
    "start_time": "2022-05-09T12:51:49.301Z"
   },
   {
    "duration": 176,
    "start_time": "2022-05-09T12:51:54.594Z"
   },
   {
    "duration": 204,
    "start_time": "2022-05-09T12:51:58.117Z"
   },
   {
    "duration": 125,
    "start_time": "2022-05-09T12:52:00.338Z"
   },
   {
    "duration": 168,
    "start_time": "2022-05-09T12:52:02.476Z"
   },
   {
    "duration": 173,
    "start_time": "2022-05-09T12:52:04.503Z"
   },
   {
    "duration": 132,
    "start_time": "2022-05-09T12:52:06.480Z"
   },
   {
    "duration": 174,
    "start_time": "2022-05-09T12:52:08.744Z"
   },
   {
    "duration": 133,
    "start_time": "2022-05-09T12:52:10.945Z"
   },
   {
    "duration": 140,
    "start_time": "2022-05-09T12:52:13.075Z"
   },
   {
    "duration": 20,
    "start_time": "2022-05-09T12:53:21.166Z"
   },
   {
    "duration": 7,
    "start_time": "2022-05-09T12:53:34.206Z"
   },
   {
    "duration": 161,
    "start_time": "2022-05-09T12:53:40.679Z"
   },
   {
    "duration": 139,
    "start_time": "2022-05-09T12:53:43.887Z"
   },
   {
    "duration": 172,
    "start_time": "2022-05-09T12:53:46.758Z"
   },
   {
    "duration": 3,
    "start_time": "2022-05-09T12:54:19.572Z"
   },
   {
    "duration": 155,
    "start_time": "2022-05-09T12:54:20.538Z"
   },
   {
    "duration": 23,
    "start_time": "2022-05-09T12:54:24.122Z"
   },
   {
    "duration": 4,
    "start_time": "2022-05-09T12:54:28.829Z"
   },
   {
    "duration": 10,
    "start_time": "2022-05-09T12:54:31.077Z"
   },
   {
    "duration": 15,
    "start_time": "2022-05-09T12:54:34.024Z"
   },
   {
    "duration": 30,
    "start_time": "2022-05-09T12:54:36.787Z"
   },
   {
    "duration": 27,
    "start_time": "2022-05-09T12:54:37.580Z"
   },
   {
    "duration": 20,
    "start_time": "2022-05-09T12:54:40.458Z"
   },
   {
    "duration": 8,
    "start_time": "2022-05-09T12:54:42.033Z"
   },
   {
    "duration": 15,
    "start_time": "2022-05-09T12:54:42.447Z"
   },
   {
    "duration": 216,
    "start_time": "2022-05-09T12:54:55.296Z"
   },
   {
    "duration": 20,
    "start_time": "2022-05-09T12:54:59.549Z"
   },
   {
    "duration": 187,
    "start_time": "2022-05-09T12:55:02.898Z"
   },
   {
    "duration": 849,
    "start_time": "2022-05-09T12:55:05.636Z"
   },
   {
    "duration": 22,
    "start_time": "2022-05-09T12:55:11.696Z"
   },
   {
    "duration": 1471,
    "start_time": "2022-05-09T12:55:14.511Z"
   },
   {
    "duration": 13,
    "start_time": "2022-05-09T12:55:19.278Z"
   },
   {
    "duration": 13,
    "start_time": "2022-05-09T12:55:22.160Z"
   },
   {
    "duration": 253,
    "start_time": "2022-05-09T12:55:25.518Z"
   },
   {
    "duration": 10,
    "start_time": "2022-05-09T12:55:30.914Z"
   },
   {
    "duration": 11,
    "start_time": "2022-05-09T12:55:33.643Z"
   },
   {
    "duration": 351,
    "start_time": "2022-05-09T12:55:36.587Z"
   },
   {
    "duration": 73,
    "start_time": "2022-05-09T12:55:39.871Z"
   },
   {
    "duration": 182,
    "start_time": "2022-05-09T12:55:49.550Z"
   },
   {
    "duration": 1607,
    "start_time": "2022-05-09T12:56:06.090Z"
   },
   {
    "duration": 133,
    "start_time": "2022-05-10T12:15:35.677Z"
   },
   {
    "duration": 68,
    "start_time": "2022-05-10T12:15:57.378Z"
   },
   {
    "duration": 1857,
    "start_time": "2022-05-10T12:16:08.132Z"
   },
   {
    "duration": 93,
    "start_time": "2022-05-10T12:16:09.993Z"
   },
   {
    "duration": 62,
    "start_time": "2022-05-10T12:16:10.089Z"
   },
   {
    "duration": 7,
    "start_time": "2022-05-10T12:16:10.155Z"
   },
   {
    "duration": 17,
    "start_time": "2022-05-10T12:16:10.165Z"
   },
   {
    "duration": 36,
    "start_time": "2022-05-10T12:16:10.185Z"
   },
   {
    "duration": 3,
    "start_time": "2022-05-10T12:16:10.224Z"
   },
   {
    "duration": 4,
    "start_time": "2022-05-10T12:16:10.253Z"
   },
   {
    "duration": 27,
    "start_time": "2022-05-10T12:16:10.260Z"
   },
   {
    "duration": 60,
    "start_time": "2022-05-10T12:16:10.293Z"
   },
   {
    "duration": 31,
    "start_time": "2022-05-10T12:16:10.355Z"
   },
   {
    "duration": 11,
    "start_time": "2022-05-10T12:16:10.389Z"
   },
   {
    "duration": 52,
    "start_time": "2022-05-10T12:16:10.402Z"
   },
   {
    "duration": 298,
    "start_time": "2022-05-10T12:16:10.456Z"
   },
   {
    "duration": 29,
    "start_time": "2022-05-10T12:16:10.756Z"
   },
   {
    "duration": 247,
    "start_time": "2022-05-10T12:16:10.787Z"
   },
   {
    "duration": 66,
    "start_time": "2022-05-10T12:16:11.036Z"
   },
   {
    "duration": 1021,
    "start_time": "2022-05-10T12:16:11.104Z"
   },
   {
    "duration": 39,
    "start_time": "2022-05-10T12:16:12.127Z"
   },
   {
    "duration": 16,
    "start_time": "2022-05-10T12:16:12.168Z"
   },
   {
    "duration": 2224,
    "start_time": "2022-05-10T12:16:12.186Z"
   },
   {
    "duration": 15,
    "start_time": "2022-05-10T12:16:14.412Z"
   },
   {
    "duration": 35,
    "start_time": "2022-05-10T12:16:14.429Z"
   },
   {
    "duration": 432,
    "start_time": "2022-05-10T12:16:14.466Z"
   },
   {
    "duration": 12,
    "start_time": "2022-05-10T12:16:14.900Z"
   },
   {
    "duration": 22,
    "start_time": "2022-05-10T12:16:14.914Z"
   },
   {
    "duration": 434,
    "start_time": "2022-05-10T12:16:14.952Z"
   },
   {
    "duration": 104,
    "start_time": "2022-05-10T12:16:15.393Z"
   },
   {
    "duration": 339,
    "start_time": "2022-05-10T12:16:15.500Z"
   },
   {
    "duration": 2462,
    "start_time": "2022-05-10T12:16:15.841Z"
   },
   {
    "duration": 8,
    "start_time": "2022-05-10T12:16:18.305Z"
   },
   {
    "duration": 218,
    "start_time": "2022-05-10T12:16:18.315Z"
   },
   {
    "duration": 218,
    "start_time": "2022-05-10T12:16:18.535Z"
   },
   {
    "duration": 227,
    "start_time": "2022-05-10T12:16:18.755Z"
   },
   {
    "duration": 221,
    "start_time": "2022-05-10T12:16:18.985Z"
   },
   {
    "duration": 206,
    "start_time": "2022-05-10T12:16:19.208Z"
   },
   {
    "duration": 221,
    "start_time": "2022-05-10T12:16:19.416Z"
   },
   {
    "duration": 227,
    "start_time": "2022-05-10T12:16:19.639Z"
   },
   {
    "duration": 231,
    "start_time": "2022-05-10T12:16:19.868Z"
   },
   {
    "duration": 229,
    "start_time": "2022-05-10T12:16:20.102Z"
   },
   {
    "duration": 4,
    "start_time": "2022-05-10T12:16:20.333Z"
   },
   {
    "duration": 23,
    "start_time": "2022-05-10T12:16:20.339Z"
   },
   {
    "duration": 9,
    "start_time": "2022-05-10T12:16:20.364Z"
   },
   {
    "duration": 13,
    "start_time": "2022-05-10T12:16:20.375Z"
   },
   {
    "duration": 11,
    "start_time": "2022-05-10T12:16:20.390Z"
   },
   {
    "duration": 987,
    "start_time": "2022-05-10T12:18:02.798Z"
   },
   {
    "duration": 606,
    "start_time": "2022-05-10T12:18:07.794Z"
   },
   {
    "duration": 51,
    "start_time": "2022-05-10T12:18:57.728Z"
   },
   {
    "duration": 12,
    "start_time": "2022-05-10T12:27:03.977Z"
   },
   {
    "duration": 38,
    "start_time": "2022-05-10T12:28:12.238Z"
   },
   {
    "duration": 12,
    "start_time": "2022-05-10T12:28:47.023Z"
   },
   {
    "duration": 6,
    "start_time": "2022-05-10T12:28:51.263Z"
   },
   {
    "duration": 2543,
    "start_time": "2022-05-10T12:31:28.699Z"
   },
   {
    "duration": 2263,
    "start_time": "2022-05-10T12:31:41.673Z"
   },
   {
    "duration": 6,
    "start_time": "2022-05-10T12:34:42.737Z"
   },
   {
    "duration": 2270,
    "start_time": "2022-05-10T12:34:46.950Z"
   },
   {
    "duration": 50,
    "start_time": "2022-05-10T12:35:13.714Z"
   },
   {
    "duration": 49,
    "start_time": "2022-05-10T12:35:36.869Z"
   },
   {
    "duration": 212,
    "start_time": "2022-05-10T12:36:09.847Z"
   },
   {
    "duration": 42,
    "start_time": "2022-05-10T12:36:28.581Z"
   },
   {
    "duration": 2072,
    "start_time": "2022-05-10T13:37:34.209Z"
   },
   {
    "duration": 112,
    "start_time": "2022-05-10T13:37:36.285Z"
   },
   {
    "duration": 55,
    "start_time": "2022-05-10T13:37:36.400Z"
   },
   {
    "duration": 6,
    "start_time": "2022-05-10T13:37:36.458Z"
   },
   {
    "duration": 18,
    "start_time": "2022-05-10T13:37:36.465Z"
   },
   {
    "duration": 28,
    "start_time": "2022-05-10T13:37:36.486Z"
   },
   {
    "duration": 36,
    "start_time": "2022-05-10T13:37:36.516Z"
   },
   {
    "duration": 5,
    "start_time": "2022-05-10T13:37:36.556Z"
   },
   {
    "duration": 27,
    "start_time": "2022-05-10T13:37:36.564Z"
   },
   {
    "duration": 58,
    "start_time": "2022-05-10T13:37:36.595Z"
   },
   {
    "duration": 32,
    "start_time": "2022-05-10T13:37:36.655Z"
   },
   {
    "duration": 11,
    "start_time": "2022-05-10T13:37:36.689Z"
   },
   {
    "duration": 51,
    "start_time": "2022-05-10T13:37:36.702Z"
   },
   {
    "duration": 345,
    "start_time": "2022-05-10T13:37:36.755Z"
   },
   {
    "duration": 30,
    "start_time": "2022-05-10T13:37:37.102Z"
   },
   {
    "duration": 241,
    "start_time": "2022-05-10T13:37:37.152Z"
   },
   {
    "duration": 70,
    "start_time": "2022-05-10T13:37:37.395Z"
   },
   {
    "duration": 1143,
    "start_time": "2022-05-10T13:37:37.467Z"
   },
   {
    "duration": 40,
    "start_time": "2022-05-10T13:37:38.613Z"
   },
   {
    "duration": 4,
    "start_time": "2022-05-10T13:37:38.655Z"
   },
   {
    "duration": 2376,
    "start_time": "2022-05-10T13:37:38.661Z"
   },
   {
    "duration": 24,
    "start_time": "2022-05-10T13:37:41.039Z"
   },
   {
    "duration": 20,
    "start_time": "2022-05-10T13:37:41.066Z"
   },
   {
    "duration": 436,
    "start_time": "2022-05-10T13:37:41.088Z"
   },
   {
    "duration": 11,
    "start_time": "2022-05-10T13:37:41.526Z"
   },
   {
    "duration": 15,
    "start_time": "2022-05-10T13:37:41.552Z"
   },
   {
    "duration": 411,
    "start_time": "2022-05-10T13:37:41.569Z"
   },
   {
    "duration": 102,
    "start_time": "2022-05-10T13:37:41.986Z"
   },
   {
    "duration": 436,
    "start_time": "2022-05-10T13:37:42.091Z"
   },
   {
    "duration": 2542,
    "start_time": "2022-05-10T13:37:42.530Z"
   },
   {
    "duration": 7,
    "start_time": "2022-05-10T13:37:45.074Z"
   },
   {
    "duration": 223,
    "start_time": "2022-05-10T13:37:45.083Z"
   },
   {
    "duration": 230,
    "start_time": "2022-05-10T13:37:45.308Z"
   },
   {
    "duration": 223,
    "start_time": "2022-05-10T13:37:45.541Z"
   },
   {
    "duration": 304,
    "start_time": "2022-05-10T13:37:45.767Z"
   },
   {
    "duration": 279,
    "start_time": "2022-05-10T13:37:46.074Z"
   },
   {
    "duration": 290,
    "start_time": "2022-05-10T13:37:46.355Z"
   },
   {
    "duration": 313,
    "start_time": "2022-05-10T13:37:46.653Z"
   },
   {
    "duration": 331,
    "start_time": "2022-05-10T13:37:46.969Z"
   },
   {
    "duration": 227,
    "start_time": "2022-05-10T13:37:47.302Z"
   },
   {
    "duration": 4,
    "start_time": "2022-05-10T13:37:47.531Z"
   },
   {
    "duration": 11,
    "start_time": "2022-05-10T13:37:47.551Z"
   },
   {
    "duration": 9,
    "start_time": "2022-05-10T13:37:47.565Z"
   },
   {
    "duration": 15,
    "start_time": "2022-05-10T13:37:47.576Z"
   },
   {
    "duration": 8,
    "start_time": "2022-05-10T13:37:47.594Z"
   },
   {
    "duration": 1773,
    "start_time": "2022-05-10T13:44:18.009Z"
   },
   {
    "duration": 147,
    "start_time": "2022-05-10T13:44:19.785Z"
   },
   {
    "duration": 39,
    "start_time": "2022-05-10T13:44:20.692Z"
   },
   {
    "duration": 4,
    "start_time": "2022-05-10T13:44:25.710Z"
   },
   {
    "duration": 13,
    "start_time": "2022-05-10T13:44:28.023Z"
   },
   {
    "duration": 18,
    "start_time": "2022-05-10T13:44:30.469Z"
   },
   {
    "duration": 18,
    "start_time": "2022-05-10T13:44:33.094Z"
   },
   {
    "duration": 19,
    "start_time": "2022-05-10T13:44:35.389Z"
   },
   {
    "duration": 29,
    "start_time": "2022-05-10T13:44:37.929Z"
   },
   {
    "duration": 12,
    "start_time": "2022-05-10T13:44:39.755Z"
   },
   {
    "duration": 26,
    "start_time": "2022-05-10T13:44:40.153Z"
   },
   {
    "duration": 210,
    "start_time": "2022-05-10T13:44:44.484Z"
   },
   {
    "duration": 27,
    "start_time": "2022-05-10T13:44:46.643Z"
   },
   {
    "duration": 179,
    "start_time": "2022-05-10T13:44:49.435Z"
   },
   {
    "duration": 764,
    "start_time": "2022-05-10T13:45:02.573Z"
   },
   {
    "duration": 32,
    "start_time": "2022-05-10T13:45:08.639Z"
   },
   {
    "duration": 1740,
    "start_time": "2022-05-10T13:45:13.384Z"
   },
   {
    "duration": 15,
    "start_time": "2022-05-10T13:45:21.362Z"
   },
   {
    "duration": 23,
    "start_time": "2022-05-10T13:45:24.843Z"
   },
   {
    "duration": 186,
    "start_time": "2022-05-10T13:45:30.991Z"
   },
   {
    "duration": 165,
    "start_time": "2022-05-10T13:45:56.295Z"
   },
   {
    "duration": 279,
    "start_time": "2022-05-10T13:46:02.973Z"
   },
   {
    "duration": 11,
    "start_time": "2022-05-10T13:52:55.463Z"
   },
   {
    "duration": 12,
    "start_time": "2022-05-10T13:52:58.382Z"
   },
   {
    "duration": 457,
    "start_time": "2022-05-10T13:53:01.668Z"
   },
   {
    "duration": 1569,
    "start_time": "2022-05-10T13:55:59.238Z"
   },
   {
    "duration": 1512,
    "start_time": "2022-05-10T13:56:51.515Z"
   },
   {
    "duration": 2805,
    "start_time": "2022-05-10T13:57:03.489Z"
   },
   {
    "duration": 1349,
    "start_time": "2022-05-10T13:57:15.638Z"
   },
   {
    "duration": 1410,
    "start_time": "2022-05-10T13:57:33.939Z"
   },
   {
    "duration": 1290,
    "start_time": "2022-05-10T13:57:56.723Z"
   },
   {
    "duration": 5,
    "start_time": "2022-05-10T13:58:21.043Z"
   },
   {
    "duration": 1398,
    "start_time": "2022-05-10T19:17:47.690Z"
   },
   {
    "duration": 99,
    "start_time": "2022-05-10T19:17:49.090Z"
   },
   {
    "duration": 30,
    "start_time": "2022-05-10T19:17:49.190Z"
   },
   {
    "duration": 4,
    "start_time": "2022-05-10T19:17:49.222Z"
   },
   {
    "duration": 12,
    "start_time": "2022-05-10T19:17:49.228Z"
   },
   {
    "duration": 27,
    "start_time": "2022-05-10T19:17:49.242Z"
   },
   {
    "duration": 3,
    "start_time": "2022-05-10T19:17:49.270Z"
   },
   {
    "duration": 5,
    "start_time": "2022-05-10T19:17:49.274Z"
   },
   {
    "duration": 20,
    "start_time": "2022-05-10T19:17:49.280Z"
   },
   {
    "duration": 17,
    "start_time": "2022-05-10T19:17:49.302Z"
   },
   {
    "duration": 51,
    "start_time": "2022-05-10T19:17:49.320Z"
   },
   {
    "duration": 8,
    "start_time": "2022-05-10T19:17:49.372Z"
   },
   {
    "duration": 18,
    "start_time": "2022-05-10T19:17:49.382Z"
   },
   {
    "duration": 193,
    "start_time": "2022-05-10T19:17:49.401Z"
   },
   {
    "duration": 19,
    "start_time": "2022-05-10T19:17:49.595Z"
   },
   {
    "duration": 146,
    "start_time": "2022-05-10T19:17:49.616Z"
   },
   {
    "duration": 36,
    "start_time": "2022-05-10T19:17:49.764Z"
   },
   {
    "duration": 624,
    "start_time": "2022-05-10T19:17:49.801Z"
   },
   {
    "duration": 29,
    "start_time": "2022-05-10T19:17:50.427Z"
   },
   {
    "duration": 3,
    "start_time": "2022-05-10T19:17:50.458Z"
   },
   {
    "duration": 1506,
    "start_time": "2022-05-10T19:17:50.463Z"
   },
   {
    "duration": 11,
    "start_time": "2022-05-10T19:17:51.970Z"
   },
   {
    "duration": 38,
    "start_time": "2022-05-10T19:17:51.983Z"
   },
   {
    "duration": 170,
    "start_time": "2022-05-10T19:17:52.023Z"
   },
   {
    "duration": 8,
    "start_time": "2022-05-10T19:17:52.195Z"
   },
   {
    "duration": 14,
    "start_time": "2022-05-10T19:17:52.204Z"
   },
   {
    "duration": 375,
    "start_time": "2022-05-10T19:17:52.219Z"
   },
   {
    "duration": 1276,
    "start_time": "2022-05-10T19:17:52.598Z"
   },
   {
    "duration": 193,
    "start_time": "2022-05-10T19:17:53.876Z"
   },
   {
    "duration": 1558,
    "start_time": "2022-05-10T19:17:54.071Z"
   },
   {
    "duration": 5,
    "start_time": "2022-05-10T19:17:55.631Z"
   },
   {
    "duration": 125,
    "start_time": "2022-05-10T19:17:55.638Z"
   },
   {
    "duration": 132,
    "start_time": "2022-05-10T19:17:55.765Z"
   },
   {
    "duration": 128,
    "start_time": "2022-05-10T19:17:55.899Z"
   },
   {
    "duration": 132,
    "start_time": "2022-05-10T19:17:56.028Z"
   },
   {
    "duration": 128,
    "start_time": "2022-05-10T19:17:56.161Z"
   },
   {
    "duration": 133,
    "start_time": "2022-05-10T19:17:56.291Z"
   },
   {
    "duration": 146,
    "start_time": "2022-05-10T19:17:56.426Z"
   },
   {
    "duration": 139,
    "start_time": "2022-05-10T19:17:56.574Z"
   },
   {
    "duration": 130,
    "start_time": "2022-05-10T19:17:56.714Z"
   },
   {
    "duration": 9,
    "start_time": "2022-05-10T19:17:56.846Z"
   },
   {
    "duration": 11,
    "start_time": "2022-05-10T19:17:56.856Z"
   },
   {
    "duration": 7,
    "start_time": "2022-05-10T19:17:56.869Z"
   },
   {
    "duration": 9,
    "start_time": "2022-05-10T19:17:56.877Z"
   },
   {
    "duration": 7,
    "start_time": "2022-05-10T19:17:56.887Z"
   },
   {
    "duration": 1621,
    "start_time": "2022-05-12T17:03:28.058Z"
   },
   {
    "duration": 124,
    "start_time": "2022-05-12T17:03:29.686Z"
   },
   {
    "duration": 44,
    "start_time": "2022-05-12T17:03:29.813Z"
   },
   {
    "duration": 23,
    "start_time": "2022-05-12T17:03:29.861Z"
   },
   {
    "duration": 29,
    "start_time": "2022-05-12T17:03:29.889Z"
   },
   {
    "duration": 24,
    "start_time": "2022-05-12T17:03:29.921Z"
   },
   {
    "duration": 3,
    "start_time": "2022-05-12T17:03:29.947Z"
   },
   {
    "duration": 9,
    "start_time": "2022-05-12T17:03:29.953Z"
   },
   {
    "duration": 38,
    "start_time": "2022-05-12T17:03:29.983Z"
   },
   {
    "duration": 27,
    "start_time": "2022-05-12T17:03:30.025Z"
   },
   {
    "duration": 64,
    "start_time": "2022-05-12T17:03:30.054Z"
   },
   {
    "duration": 13,
    "start_time": "2022-05-12T17:03:30.121Z"
   },
   {
    "duration": 26,
    "start_time": "2022-05-12T17:03:30.137Z"
   },
   {
    "duration": 350,
    "start_time": "2022-05-12T17:03:30.165Z"
   },
   {
    "duration": 29,
    "start_time": "2022-05-12T17:03:30.517Z"
   },
   {
    "duration": 260,
    "start_time": "2022-05-12T17:03:30.548Z"
   },
   {
    "duration": 79,
    "start_time": "2022-05-12T17:03:30.811Z"
   },
   {
    "duration": 1333,
    "start_time": "2022-05-12T17:03:30.895Z"
   },
   {
    "duration": 26,
    "start_time": "2022-05-12T17:03:32.231Z"
   },
   {
    "duration": 24,
    "start_time": "2022-05-12T17:03:32.260Z"
   },
   {
    "duration": 2322,
    "start_time": "2022-05-12T17:03:32.287Z"
   },
   {
    "duration": 17,
    "start_time": "2022-05-12T17:03:34.612Z"
   },
   {
    "duration": 20,
    "start_time": "2022-05-12T17:03:34.631Z"
   },
   {
    "duration": 348,
    "start_time": "2022-05-12T17:03:34.653Z"
   },
   {
    "duration": 11,
    "start_time": "2022-05-12T17:03:35.003Z"
   },
   {
    "duration": 23,
    "start_time": "2022-05-12T17:03:35.016Z"
   },
   {
    "duration": 453,
    "start_time": "2022-05-12T17:03:35.042Z"
   },
   {
    "duration": 2159,
    "start_time": "2022-05-12T17:03:35.503Z"
   },
   {
    "duration": 461,
    "start_time": "2022-05-12T17:03:37.665Z"
   },
   {
    "duration": 2977,
    "start_time": "2022-05-12T17:03:38.128Z"
   },
   {
    "duration": 7,
    "start_time": "2022-05-12T17:03:41.108Z"
   },
   {
    "duration": 236,
    "start_time": "2022-05-12T17:03:41.118Z"
   },
   {
    "duration": 308,
    "start_time": "2022-05-12T17:03:41.357Z"
   },
   {
    "duration": 308,
    "start_time": "2022-05-12T17:03:41.668Z"
   },
   {
    "duration": 307,
    "start_time": "2022-05-12T17:03:41.984Z"
   },
   {
    "duration": 302,
    "start_time": "2022-05-12T17:03:42.294Z"
   },
   {
    "duration": 211,
    "start_time": "2022-05-12T17:03:42.599Z"
   },
   {
    "duration": 249,
    "start_time": "2022-05-12T17:03:42.813Z"
   },
   {
    "duration": 237,
    "start_time": "2022-05-12T17:03:43.064Z"
   },
   {
    "duration": 326,
    "start_time": "2022-05-12T17:03:43.304Z"
   },
   {
    "duration": 4,
    "start_time": "2022-05-12T17:03:43.633Z"
   },
   {
    "duration": 19,
    "start_time": "2022-05-12T17:03:43.640Z"
   },
   {
    "duration": 27,
    "start_time": "2022-05-12T17:03:43.686Z"
   },
   {
    "duration": 17,
    "start_time": "2022-05-12T17:03:43.715Z"
   },
   {
    "duration": 9,
    "start_time": "2022-05-12T17:03:43.734Z"
   }
  ],
  "kernelspec": {
   "display_name": "Python 3 (ipykernel)",
   "language": "python",
   "name": "python3"
  },
  "language_info": {
   "codemirror_mode": {
    "name": "ipython",
    "version": 3
   },
   "file_extension": ".py",
   "mimetype": "text/x-python",
   "name": "python",
   "nbconvert_exporter": "python",
   "pygments_lexer": "ipython3",
   "version": "3.9.7"
  },
  "toc": {
   "base_numbering": 1,
   "nav_menu": {},
   "number_sections": true,
   "sideBar": true,
   "skip_h1_title": true,
   "title_cell": "Table of Contents",
   "title_sidebar": "Contents",
   "toc_cell": false,
   "toc_position": {},
   "toc_section_display": true,
   "toc_window_display": false
  }
 },
 "nbformat": 4,
 "nbformat_minor": 5
}
