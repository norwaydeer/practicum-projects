{
 "cells": [
  {
   "cell_type": "markdown",
   "id": "3dbaea31",
   "metadata": {},
   "source": [
    "<div class=\"alert alert-info\">\n",
    "        \n",
    "# Исследование тарифных планов компании\n",
    "\n",
    "</div>"
   ]
  },
  {
   "cell_type": "markdown",
   "id": "8ac24337",
   "metadata": {},
   "source": [
    "Описание проекта  \n",
    "\n",
    "Клиентам предлагают два тарифных плана: «Смарт» и «Ультра». Чтобы скорректировать рекламный бюджет, коммерческий департамент хочет понять, какой тариф приносит больше денег.  \n",
    "\n",
    "Описание тарифов  \n",
    "\n",
    "Тариф «Смарт»  \n",
    "    Ежемесячная плата: 550 рублей  \n",
    "    Включено 500 минут разговора, 50 сообщений и 15 Гб интернет-трафика  \n",
    "    Стоимость услуг сверх тарифного пакета:  \n",
    "    минута разговора: 3 рубля  \n",
    "    сообщение: 3 рубля  \n",
    "    1 Гб интернет-трафика: 200 рублей  \n",
    "\n",
    "Тариф «Ультра»  \n",
    "    Ежемесячная плата: 1950 рублей  \n",
    "    Включено 3000 минут разговора, 1000 сообщений и 30 Гб интернет-трафика  \n",
    "    Стоимость услуг сверх тарифного пакета:  \n",
    "    минута разговора: 1 рубль  \n",
    "    сообщение: 1 рубль  \n",
    "    1 Гб интернет-трафика: 150 рублей  "
   ]
  },
  {
   "cell_type": "markdown",
   "id": "98108abd",
   "metadata": {},
   "source": [
    "<div class=\"alert alert-info\">\n",
    "    \n",
    "## Подготовка данных\n",
    "    \n",
    "</div>"
   ]
  },
  {
   "cell_type": "code",
   "execution_count": 1,
   "id": "bd883f0a",
   "metadata": {},
   "outputs": [],
   "source": [
    "import pandas as pd\n",
    "import math\n",
    "import numpy as np\n",
    "from scipy import stats as st\n",
    "import matplotlib.pyplot as plt"
   ]
  },
  {
   "cell_type": "code",
   "execution_count": 2,
   "id": "822c7e76",
   "metadata": {},
   "outputs": [],
   "source": [
    "try:\n",
    "    calls = pd.read_csv('calls.csv')\n",
    "    internet = pd.read_csv('internet.csv')\n",
    "    messages = pd.read_csv('messages.csv')\n",
    "    tariffs = pd.read_csv('tariffs.csv')\n",
    "    users = pd.read_csv('users.csv')\n",
    "except:\n",
    "    calls = pd.read_csv('/datasets/calls.csv')\n",
    "    internet = pd.read_csv('/datasets/internet.csv')\n",
    "    messages = pd.read_csv('/datasets/messages.csv')\n",
    "    tariffs = pd.read_csv('/datasets/tariffs.csv')\n",
    "    users = pd.read_csv('/datasets/users.csv')"
   ]
  },
  {
   "cell_type": "code",
   "execution_count": 3,
   "id": "63334277",
   "metadata": {},
   "outputs": [
    {
     "name": "stdout",
     "output_type": "stream",
     "text": [
      "<class 'pandas.core.frame.DataFrame'>\n",
      "RangeIndex: 202607 entries, 0 to 202606\n",
      "Data columns (total 4 columns):\n",
      " #   Column     Non-Null Count   Dtype  \n",
      "---  ------     --------------   -----  \n",
      " 0   id         202607 non-null  object \n",
      " 1   call_date  202607 non-null  object \n",
      " 2   duration   202607 non-null  float64\n",
      " 3   user_id    202607 non-null  int64  \n",
      "dtypes: float64(1), int64(1), object(2)\n",
      "memory usage: 6.2+ MB\n"
     ]
    },
    {
     "data": {
      "text/html": [
       "<div>\n",
       "<style scoped>\n",
       "    .dataframe tbody tr th:only-of-type {\n",
       "        vertical-align: middle;\n",
       "    }\n",
       "\n",
       "    .dataframe tbody tr th {\n",
       "        vertical-align: top;\n",
       "    }\n",
       "\n",
       "    .dataframe thead th {\n",
       "        text-align: right;\n",
       "    }\n",
       "</style>\n",
       "<table border=\"1\" class=\"dataframe\">\n",
       "  <thead>\n",
       "    <tr style=\"text-align: right;\">\n",
       "      <th></th>\n",
       "      <th>id</th>\n",
       "      <th>call_date</th>\n",
       "      <th>duration</th>\n",
       "      <th>user_id</th>\n",
       "    </tr>\n",
       "  </thead>\n",
       "  <tbody>\n",
       "    <tr>\n",
       "      <th>0</th>\n",
       "      <td>1000_0</td>\n",
       "      <td>2018-07-25</td>\n",
       "      <td>0.00</td>\n",
       "      <td>1000</td>\n",
       "    </tr>\n",
       "    <tr>\n",
       "      <th>1</th>\n",
       "      <td>1000_1</td>\n",
       "      <td>2018-08-17</td>\n",
       "      <td>0.00</td>\n",
       "      <td>1000</td>\n",
       "    </tr>\n",
       "    <tr>\n",
       "      <th>2</th>\n",
       "      <td>1000_2</td>\n",
       "      <td>2018-06-11</td>\n",
       "      <td>2.85</td>\n",
       "      <td>1000</td>\n",
       "    </tr>\n",
       "    <tr>\n",
       "      <th>3</th>\n",
       "      <td>1000_3</td>\n",
       "      <td>2018-09-21</td>\n",
       "      <td>13.80</td>\n",
       "      <td>1000</td>\n",
       "    </tr>\n",
       "    <tr>\n",
       "      <th>4</th>\n",
       "      <td>1000_4</td>\n",
       "      <td>2018-12-15</td>\n",
       "      <td>5.18</td>\n",
       "      <td>1000</td>\n",
       "    </tr>\n",
       "  </tbody>\n",
       "</table>\n",
       "</div>"
      ],
      "text/plain": [
       "       id   call_date  duration  user_id\n",
       "0  1000_0  2018-07-25      0.00     1000\n",
       "1  1000_1  2018-08-17      0.00     1000\n",
       "2  1000_2  2018-06-11      2.85     1000\n",
       "3  1000_3  2018-09-21     13.80     1000\n",
       "4  1000_4  2018-12-15      5.18     1000"
      ]
     },
     "execution_count": 3,
     "metadata": {},
     "output_type": "execute_result"
    }
   ],
   "source": [
    "calls.info()\n",
    "calls.head()"
   ]
  },
  {
   "cell_type": "code",
   "execution_count": 4,
   "id": "53aa4232",
   "metadata": {},
   "outputs": [
    {
     "name": "stdout",
     "output_type": "stream",
     "text": [
      "<class 'pandas.core.frame.DataFrame'>\n",
      "RangeIndex: 149396 entries, 0 to 149395\n",
      "Data columns (total 5 columns):\n",
      " #   Column        Non-Null Count   Dtype  \n",
      "---  ------        --------------   -----  \n",
      " 0   Unnamed: 0    149396 non-null  int64  \n",
      " 1   id            149396 non-null  object \n",
      " 2   mb_used       149396 non-null  float64\n",
      " 3   session_date  149396 non-null  object \n",
      " 4   user_id       149396 non-null  int64  \n",
      "dtypes: float64(1), int64(2), object(2)\n",
      "memory usage: 5.7+ MB\n"
     ]
    },
    {
     "data": {
      "text/html": [
       "<div>\n",
       "<style scoped>\n",
       "    .dataframe tbody tr th:only-of-type {\n",
       "        vertical-align: middle;\n",
       "    }\n",
       "\n",
       "    .dataframe tbody tr th {\n",
       "        vertical-align: top;\n",
       "    }\n",
       "\n",
       "    .dataframe thead th {\n",
       "        text-align: right;\n",
       "    }\n",
       "</style>\n",
       "<table border=\"1\" class=\"dataframe\">\n",
       "  <thead>\n",
       "    <tr style=\"text-align: right;\">\n",
       "      <th></th>\n",
       "      <th>Unnamed: 0</th>\n",
       "      <th>id</th>\n",
       "      <th>mb_used</th>\n",
       "      <th>session_date</th>\n",
       "      <th>user_id</th>\n",
       "    </tr>\n",
       "  </thead>\n",
       "  <tbody>\n",
       "    <tr>\n",
       "      <th>0</th>\n",
       "      <td>0</td>\n",
       "      <td>1000_0</td>\n",
       "      <td>112.95</td>\n",
       "      <td>2018-11-25</td>\n",
       "      <td>1000</td>\n",
       "    </tr>\n",
       "    <tr>\n",
       "      <th>1</th>\n",
       "      <td>1</td>\n",
       "      <td>1000_1</td>\n",
       "      <td>1052.81</td>\n",
       "      <td>2018-09-07</td>\n",
       "      <td>1000</td>\n",
       "    </tr>\n",
       "    <tr>\n",
       "      <th>2</th>\n",
       "      <td>2</td>\n",
       "      <td>1000_2</td>\n",
       "      <td>1197.26</td>\n",
       "      <td>2018-06-25</td>\n",
       "      <td>1000</td>\n",
       "    </tr>\n",
       "    <tr>\n",
       "      <th>3</th>\n",
       "      <td>3</td>\n",
       "      <td>1000_3</td>\n",
       "      <td>550.27</td>\n",
       "      <td>2018-08-22</td>\n",
       "      <td>1000</td>\n",
       "    </tr>\n",
       "    <tr>\n",
       "      <th>4</th>\n",
       "      <td>4</td>\n",
       "      <td>1000_4</td>\n",
       "      <td>302.56</td>\n",
       "      <td>2018-09-24</td>\n",
       "      <td>1000</td>\n",
       "    </tr>\n",
       "  </tbody>\n",
       "</table>\n",
       "</div>"
      ],
      "text/plain": [
       "   Unnamed: 0      id  mb_used session_date  user_id\n",
       "0           0  1000_0   112.95   2018-11-25     1000\n",
       "1           1  1000_1  1052.81   2018-09-07     1000\n",
       "2           2  1000_2  1197.26   2018-06-25     1000\n",
       "3           3  1000_3   550.27   2018-08-22     1000\n",
       "4           4  1000_4   302.56   2018-09-24     1000"
      ]
     },
     "execution_count": 4,
     "metadata": {},
     "output_type": "execute_result"
    }
   ],
   "source": [
    "internet.info()\n",
    "internet.head()"
   ]
  },
  {
   "cell_type": "code",
   "execution_count": 5,
   "id": "10c49d92",
   "metadata": {},
   "outputs": [
    {
     "name": "stdout",
     "output_type": "stream",
     "text": [
      "<class 'pandas.core.frame.DataFrame'>\n",
      "RangeIndex: 123036 entries, 0 to 123035\n",
      "Data columns (total 3 columns):\n",
      " #   Column        Non-Null Count   Dtype \n",
      "---  ------        --------------   ----- \n",
      " 0   id            123036 non-null  object\n",
      " 1   message_date  123036 non-null  object\n",
      " 2   user_id       123036 non-null  int64 \n",
      "dtypes: int64(1), object(2)\n",
      "memory usage: 2.8+ MB\n"
     ]
    },
    {
     "data": {
      "text/html": [
       "<div>\n",
       "<style scoped>\n",
       "    .dataframe tbody tr th:only-of-type {\n",
       "        vertical-align: middle;\n",
       "    }\n",
       "\n",
       "    .dataframe tbody tr th {\n",
       "        vertical-align: top;\n",
       "    }\n",
       "\n",
       "    .dataframe thead th {\n",
       "        text-align: right;\n",
       "    }\n",
       "</style>\n",
       "<table border=\"1\" class=\"dataframe\">\n",
       "  <thead>\n",
       "    <tr style=\"text-align: right;\">\n",
       "      <th></th>\n",
       "      <th>id</th>\n",
       "      <th>message_date</th>\n",
       "      <th>user_id</th>\n",
       "    </tr>\n",
       "  </thead>\n",
       "  <tbody>\n",
       "    <tr>\n",
       "      <th>0</th>\n",
       "      <td>1000_0</td>\n",
       "      <td>2018-06-27</td>\n",
       "      <td>1000</td>\n",
       "    </tr>\n",
       "    <tr>\n",
       "      <th>1</th>\n",
       "      <td>1000_1</td>\n",
       "      <td>2018-10-08</td>\n",
       "      <td>1000</td>\n",
       "    </tr>\n",
       "    <tr>\n",
       "      <th>2</th>\n",
       "      <td>1000_2</td>\n",
       "      <td>2018-08-04</td>\n",
       "      <td>1000</td>\n",
       "    </tr>\n",
       "    <tr>\n",
       "      <th>3</th>\n",
       "      <td>1000_3</td>\n",
       "      <td>2018-06-16</td>\n",
       "      <td>1000</td>\n",
       "    </tr>\n",
       "    <tr>\n",
       "      <th>4</th>\n",
       "      <td>1000_4</td>\n",
       "      <td>2018-12-05</td>\n",
       "      <td>1000</td>\n",
       "    </tr>\n",
       "  </tbody>\n",
       "</table>\n",
       "</div>"
      ],
      "text/plain": [
       "       id message_date  user_id\n",
       "0  1000_0   2018-06-27     1000\n",
       "1  1000_1   2018-10-08     1000\n",
       "2  1000_2   2018-08-04     1000\n",
       "3  1000_3   2018-06-16     1000\n",
       "4  1000_4   2018-12-05     1000"
      ]
     },
     "execution_count": 5,
     "metadata": {},
     "output_type": "execute_result"
    }
   ],
   "source": [
    "messages.info()\n",
    "messages.head()"
   ]
  },
  {
   "cell_type": "code",
   "execution_count": 6,
   "id": "9f8e808d",
   "metadata": {},
   "outputs": [
    {
     "name": "stdout",
     "output_type": "stream",
     "text": [
      "<class 'pandas.core.frame.DataFrame'>\n",
      "RangeIndex: 2 entries, 0 to 1\n",
      "Data columns (total 8 columns):\n",
      " #   Column                 Non-Null Count  Dtype \n",
      "---  ------                 --------------  ----- \n",
      " 0   messages_included      2 non-null      int64 \n",
      " 1   mb_per_month_included  2 non-null      int64 \n",
      " 2   minutes_included       2 non-null      int64 \n",
      " 3   rub_monthly_fee        2 non-null      int64 \n",
      " 4   rub_per_gb             2 non-null      int64 \n",
      " 5   rub_per_message        2 non-null      int64 \n",
      " 6   rub_per_minute         2 non-null      int64 \n",
      " 7   tariff_name            2 non-null      object\n",
      "dtypes: int64(7), object(1)\n",
      "memory usage: 256.0+ bytes\n"
     ]
    },
    {
     "data": {
      "text/html": [
       "<div>\n",
       "<style scoped>\n",
       "    .dataframe tbody tr th:only-of-type {\n",
       "        vertical-align: middle;\n",
       "    }\n",
       "\n",
       "    .dataframe tbody tr th {\n",
       "        vertical-align: top;\n",
       "    }\n",
       "\n",
       "    .dataframe thead th {\n",
       "        text-align: right;\n",
       "    }\n",
       "</style>\n",
       "<table border=\"1\" class=\"dataframe\">\n",
       "  <thead>\n",
       "    <tr style=\"text-align: right;\">\n",
       "      <th></th>\n",
       "      <th>messages_included</th>\n",
       "      <th>mb_per_month_included</th>\n",
       "      <th>minutes_included</th>\n",
       "      <th>rub_monthly_fee</th>\n",
       "      <th>rub_per_gb</th>\n",
       "      <th>rub_per_message</th>\n",
       "      <th>rub_per_minute</th>\n",
       "      <th>tariff_name</th>\n",
       "    </tr>\n",
       "  </thead>\n",
       "  <tbody>\n",
       "    <tr>\n",
       "      <th>0</th>\n",
       "      <td>50</td>\n",
       "      <td>15360</td>\n",
       "      <td>500</td>\n",
       "      <td>550</td>\n",
       "      <td>200</td>\n",
       "      <td>3</td>\n",
       "      <td>3</td>\n",
       "      <td>smart</td>\n",
       "    </tr>\n",
       "    <tr>\n",
       "      <th>1</th>\n",
       "      <td>1000</td>\n",
       "      <td>30720</td>\n",
       "      <td>3000</td>\n",
       "      <td>1950</td>\n",
       "      <td>150</td>\n",
       "      <td>1</td>\n",
       "      <td>1</td>\n",
       "      <td>ultra</td>\n",
       "    </tr>\n",
       "  </tbody>\n",
       "</table>\n",
       "</div>"
      ],
      "text/plain": [
       "   messages_included  mb_per_month_included  minutes_included  \\\n",
       "0                 50                  15360               500   \n",
       "1               1000                  30720              3000   \n",
       "\n",
       "   rub_monthly_fee  rub_per_gb  rub_per_message  rub_per_minute tariff_name  \n",
       "0              550         200                3               3       smart  \n",
       "1             1950         150                1               1       ultra  "
      ]
     },
     "execution_count": 6,
     "metadata": {},
     "output_type": "execute_result"
    }
   ],
   "source": [
    "tariffs.info()\n",
    "tariffs.head()"
   ]
  },
  {
   "cell_type": "code",
   "execution_count": 7,
   "id": "99093d05",
   "metadata": {
    "scrolled": false
   },
   "outputs": [
    {
     "name": "stdout",
     "output_type": "stream",
     "text": [
      "<class 'pandas.core.frame.DataFrame'>\n",
      "RangeIndex: 500 entries, 0 to 499\n",
      "Data columns (total 8 columns):\n",
      " #   Column      Non-Null Count  Dtype \n",
      "---  ------      --------------  ----- \n",
      " 0   user_id     500 non-null    int64 \n",
      " 1   age         500 non-null    int64 \n",
      " 2   churn_date  38 non-null     object\n",
      " 3   city        500 non-null    object\n",
      " 4   first_name  500 non-null    object\n",
      " 5   last_name   500 non-null    object\n",
      " 6   reg_date    500 non-null    object\n",
      " 7   tariff      500 non-null    object\n",
      "dtypes: int64(2), object(6)\n",
      "memory usage: 31.4+ KB\n"
     ]
    },
    {
     "data": {
      "text/html": [
       "<div>\n",
       "<style scoped>\n",
       "    .dataframe tbody tr th:only-of-type {\n",
       "        vertical-align: middle;\n",
       "    }\n",
       "\n",
       "    .dataframe tbody tr th {\n",
       "        vertical-align: top;\n",
       "    }\n",
       "\n",
       "    .dataframe thead th {\n",
       "        text-align: right;\n",
       "    }\n",
       "</style>\n",
       "<table border=\"1\" class=\"dataframe\">\n",
       "  <thead>\n",
       "    <tr style=\"text-align: right;\">\n",
       "      <th></th>\n",
       "      <th>user_id</th>\n",
       "      <th>age</th>\n",
       "      <th>churn_date</th>\n",
       "      <th>city</th>\n",
       "      <th>first_name</th>\n",
       "      <th>last_name</th>\n",
       "      <th>reg_date</th>\n",
       "      <th>tariff</th>\n",
       "    </tr>\n",
       "  </thead>\n",
       "  <tbody>\n",
       "    <tr>\n",
       "      <th>0</th>\n",
       "      <td>1000</td>\n",
       "      <td>52</td>\n",
       "      <td>NaN</td>\n",
       "      <td>Краснодар</td>\n",
       "      <td>Рафаил</td>\n",
       "      <td>Верещагин</td>\n",
       "      <td>2018-05-25</td>\n",
       "      <td>ultra</td>\n",
       "    </tr>\n",
       "    <tr>\n",
       "      <th>1</th>\n",
       "      <td>1001</td>\n",
       "      <td>41</td>\n",
       "      <td>NaN</td>\n",
       "      <td>Москва</td>\n",
       "      <td>Иван</td>\n",
       "      <td>Ежов</td>\n",
       "      <td>2018-11-01</td>\n",
       "      <td>smart</td>\n",
       "    </tr>\n",
       "    <tr>\n",
       "      <th>2</th>\n",
       "      <td>1002</td>\n",
       "      <td>59</td>\n",
       "      <td>NaN</td>\n",
       "      <td>Стерлитамак</td>\n",
       "      <td>Евгений</td>\n",
       "      <td>Абрамович</td>\n",
       "      <td>2018-06-17</td>\n",
       "      <td>smart</td>\n",
       "    </tr>\n",
       "    <tr>\n",
       "      <th>3</th>\n",
       "      <td>1003</td>\n",
       "      <td>23</td>\n",
       "      <td>NaN</td>\n",
       "      <td>Москва</td>\n",
       "      <td>Белла</td>\n",
       "      <td>Белякова</td>\n",
       "      <td>2018-08-17</td>\n",
       "      <td>ultra</td>\n",
       "    </tr>\n",
       "    <tr>\n",
       "      <th>4</th>\n",
       "      <td>1004</td>\n",
       "      <td>68</td>\n",
       "      <td>NaN</td>\n",
       "      <td>Новокузнецк</td>\n",
       "      <td>Татьяна</td>\n",
       "      <td>Авдеенко</td>\n",
       "      <td>2018-05-14</td>\n",
       "      <td>ultra</td>\n",
       "    </tr>\n",
       "  </tbody>\n",
       "</table>\n",
       "</div>"
      ],
      "text/plain": [
       "   user_id  age churn_date         city first_name  last_name    reg_date  \\\n",
       "0     1000   52        NaN    Краснодар     Рафаил  Верещагин  2018-05-25   \n",
       "1     1001   41        NaN       Москва       Иван       Ежов  2018-11-01   \n",
       "2     1002   59        NaN  Стерлитамак    Евгений  Абрамович  2018-06-17   \n",
       "3     1003   23        NaN       Москва      Белла   Белякова  2018-08-17   \n",
       "4     1004   68        NaN  Новокузнецк    Татьяна   Авдеенко  2018-05-14   \n",
       "\n",
       "  tariff  \n",
       "0  ultra  \n",
       "1  smart  \n",
       "2  smart  \n",
       "3  ultra  \n",
       "4  ultra  "
      ]
     },
     "execution_count": 7,
     "metadata": {},
     "output_type": "execute_result"
    }
   ],
   "source": [
    "users.info()\n",
    "users.head()"
   ]
  },
  {
   "cell_type": "code",
   "execution_count": 8,
   "id": "edc56965",
   "metadata": {
    "scrolled": true
   },
   "outputs": [
    {
     "name": "stdout",
     "output_type": "stream",
     "text": [
      "<class 'pandas.core.frame.DataFrame'>\n",
      "RangeIndex: 149396 entries, 0 to 149395\n",
      "Data columns (total 4 columns):\n",
      " #   Column        Non-Null Count   Dtype  \n",
      "---  ------        --------------   -----  \n",
      " 0   id            149396 non-null  object \n",
      " 1   mb_used       149396 non-null  float64\n",
      " 2   session_date  149396 non-null  object \n",
      " 3   user_id       149396 non-null  int64  \n",
      "dtypes: float64(1), int64(1), object(2)\n",
      "memory usage: 4.6+ MB\n"
     ]
    }
   ],
   "source": [
    "try:\n",
    "    internet = internet.drop(['Unnamed: 0'], axis='columns')\n",
    "except:\n",
    "    print('Такого столбца не существует')\n",
    "internet.info()"
   ]
  },
  {
   "cell_type": "code",
   "execution_count": 9,
   "id": "34717887",
   "metadata": {},
   "outputs": [],
   "source": [
    "def duplicated_values(df):\n",
    "    print('Кол-во дублей в таблице', df.duplicated().sum())\n"
   ]
  },
  {
   "cell_type": "code",
   "execution_count": 10,
   "id": "ff7839ba",
   "metadata": {},
   "outputs": [
    {
     "name": "stdout",
     "output_type": "stream",
     "text": [
      "Кол-во дублей в таблице 0\n"
     ]
    }
   ],
   "source": [
    "duplicated_values(calls)"
   ]
  },
  {
   "cell_type": "code",
   "execution_count": 11,
   "id": "a404d24f",
   "metadata": {},
   "outputs": [
    {
     "name": "stdout",
     "output_type": "stream",
     "text": [
      "Кол-во дублей в таблице 0\n"
     ]
    }
   ],
   "source": [
    "duplicated_values(internet)"
   ]
  },
  {
   "cell_type": "code",
   "execution_count": 12,
   "id": "66e65244",
   "metadata": {},
   "outputs": [
    {
     "name": "stdout",
     "output_type": "stream",
     "text": [
      "Кол-во дублей в таблице 0\n"
     ]
    }
   ],
   "source": [
    "duplicated_values(users)"
   ]
  },
  {
   "cell_type": "code",
   "execution_count": 13,
   "id": "c1c5e002",
   "metadata": {},
   "outputs": [
    {
     "name": "stdout",
     "output_type": "stream",
     "text": [
      "Кол-во дублей в таблице 0\n"
     ]
    }
   ],
   "source": [
    "duplicated_values(messages)"
   ]
  },
  {
   "cell_type": "code",
   "execution_count": 14,
   "id": "a1eaaa92",
   "metadata": {},
   "outputs": [],
   "source": [
    "def unique_values(columns_list, df):\n",
    "    for row in columns_list:\n",
    "        print('Кол-во уникальных значений столбца', row,  df[row].unique())\n",
    "        print()\n"
   ]
  },
  {
   "cell_type": "code",
   "execution_count": 15,
   "id": "23b60d50",
   "metadata": {},
   "outputs": [
    {
     "name": "stdout",
     "output_type": "stream",
     "text": [
      "Кол-во уникальных значений столбца tariff ['ultra' 'smart']\n",
      "\n"
     ]
    }
   ],
   "source": [
    "columns_list = ['tariff']\n",
    "df = users\n",
    "unique_values(columns_list, df)\n"
   ]
  },
  {
   "cell_type": "code",
   "execution_count": 16,
   "id": "89b8e9b5",
   "metadata": {},
   "outputs": [],
   "source": [
    "def to_datetime(df, column):\n",
    "    df[column] = pd.to_datetime(df[column], format='%Y-%m-%d')\n",
    "    "
   ]
  },
  {
   "cell_type": "code",
   "execution_count": 17,
   "id": "d61d5345",
   "metadata": {},
   "outputs": [],
   "source": [
    "df = calls\n",
    "column = 'call_date'\n",
    "to_datetime(df, column)"
   ]
  },
  {
   "cell_type": "code",
   "execution_count": 18,
   "id": "383fa766",
   "metadata": {},
   "outputs": [],
   "source": [
    "df = internet\n",
    "column = 'session_date'\n",
    "to_datetime(df, column)"
   ]
  },
  {
   "cell_type": "code",
   "execution_count": 19,
   "id": "02ce8af0",
   "metadata": {},
   "outputs": [],
   "source": [
    "df = messages\n",
    "column = 'message_date'\n",
    "to_datetime(df, column)\n"
   ]
  },
  {
   "cell_type": "code",
   "execution_count": 20,
   "id": "4f360248",
   "metadata": {},
   "outputs": [],
   "source": [
    "df = users\n",
    "column = 'churn_date'\n",
    "to_datetime(df, column)\n"
   ]
  },
  {
   "cell_type": "code",
   "execution_count": 21,
   "id": "55ce55ad",
   "metadata": {},
   "outputs": [],
   "source": [
    "df = users\n",
    "column = 'reg_date'\n",
    "to_datetime(df, column)\n"
   ]
  },
  {
   "cell_type": "code",
   "execution_count": 22,
   "id": "d507a444",
   "metadata": {},
   "outputs": [],
   "source": [
    "calls['duration_minutes'] = calls['duration'].apply(np.ceil).astype(int)\n",
    "internet['gb_used'] = (internet['mb_used'] / 1024).apply(np.ceil).astype(int)\n"
   ]
  },
  {
   "cell_type": "markdown",
   "id": "7e2b8a36",
   "metadata": {},
   "source": [
    "<div class=\"alert alert-info\">\n",
    "    \n",
    "### Количество сделанных звонков и израсходованных минут разговора по месяцам\n",
    "    \n",
    "</div>\n"
   ]
  },
  {
   "cell_type": "code",
   "execution_count": 23,
   "id": "ae9e657c",
   "metadata": {},
   "outputs": [],
   "source": [
    "calls['month'] = calls['call_date'].dt.month"
   ]
  },
  {
   "cell_type": "code",
   "execution_count": 24,
   "id": "db2495ec",
   "metadata": {},
   "outputs": [
    {
     "data": {
      "text/html": [
       "<div>\n",
       "<style scoped>\n",
       "    .dataframe tbody tr th:only-of-type {\n",
       "        vertical-align: middle;\n",
       "    }\n",
       "\n",
       "    .dataframe tbody tr th {\n",
       "        vertical-align: top;\n",
       "    }\n",
       "\n",
       "    .dataframe thead th {\n",
       "        text-align: right;\n",
       "    }\n",
       "</style>\n",
       "<table border=\"1\" class=\"dataframe\">\n",
       "  <thead>\n",
       "    <tr style=\"text-align: right;\">\n",
       "      <th></th>\n",
       "      <th>user_id</th>\n",
       "      <th>month</th>\n",
       "      <th>duration_minutes</th>\n",
       "    </tr>\n",
       "  </thead>\n",
       "  <tbody>\n",
       "    <tr>\n",
       "      <th>0</th>\n",
       "      <td>1000</td>\n",
       "      <td>5</td>\n",
       "      <td>22</td>\n",
       "    </tr>\n",
       "    <tr>\n",
       "      <th>1</th>\n",
       "      <td>1000</td>\n",
       "      <td>6</td>\n",
       "      <td>43</td>\n",
       "    </tr>\n",
       "    <tr>\n",
       "      <th>2</th>\n",
       "      <td>1000</td>\n",
       "      <td>7</td>\n",
       "      <td>47</td>\n",
       "    </tr>\n",
       "    <tr>\n",
       "      <th>3</th>\n",
       "      <td>1000</td>\n",
       "      <td>8</td>\n",
       "      <td>52</td>\n",
       "    </tr>\n",
       "    <tr>\n",
       "      <th>4</th>\n",
       "      <td>1000</td>\n",
       "      <td>9</td>\n",
       "      <td>58</td>\n",
       "    </tr>\n",
       "  </tbody>\n",
       "</table>\n",
       "</div>"
      ],
      "text/plain": [
       "   user_id  month  duration_minutes\n",
       "0     1000      5                22\n",
       "1     1000      6                43\n",
       "2     1000      7                47\n",
       "3     1000      8                52\n",
       "4     1000      9                58"
      ]
     },
     "execution_count": 24,
     "metadata": {},
     "output_type": "execute_result"
    }
   ],
   "source": [
    "calls_count = calls.groupby(['user_id', 'month'])['duration_minutes'].count().reset_index()\n",
    "calls_count.head()"
   ]
  },
  {
   "cell_type": "code",
   "execution_count": 25,
   "id": "29cfb97e",
   "metadata": {},
   "outputs": [
    {
     "data": {
      "text/html": [
       "<div>\n",
       "<style scoped>\n",
       "    .dataframe tbody tr th:only-of-type {\n",
       "        vertical-align: middle;\n",
       "    }\n",
       "\n",
       "    .dataframe tbody tr th {\n",
       "        vertical-align: top;\n",
       "    }\n",
       "\n",
       "    .dataframe thead th {\n",
       "        text-align: right;\n",
       "    }\n",
       "</style>\n",
       "<table border=\"1\" class=\"dataframe\">\n",
       "  <thead>\n",
       "    <tr style=\"text-align: right;\">\n",
       "      <th></th>\n",
       "      <th>user_id</th>\n",
       "      <th>month</th>\n",
       "      <th>duration_minutes</th>\n",
       "    </tr>\n",
       "  </thead>\n",
       "  <tbody>\n",
       "    <tr>\n",
       "      <th>0</th>\n",
       "      <td>1000</td>\n",
       "      <td>5</td>\n",
       "      <td>159</td>\n",
       "    </tr>\n",
       "    <tr>\n",
       "      <th>1</th>\n",
       "      <td>1000</td>\n",
       "      <td>6</td>\n",
       "      <td>172</td>\n",
       "    </tr>\n",
       "    <tr>\n",
       "      <th>2</th>\n",
       "      <td>1000</td>\n",
       "      <td>7</td>\n",
       "      <td>340</td>\n",
       "    </tr>\n",
       "    <tr>\n",
       "      <th>3</th>\n",
       "      <td>1000</td>\n",
       "      <td>8</td>\n",
       "      <td>408</td>\n",
       "    </tr>\n",
       "    <tr>\n",
       "      <th>4</th>\n",
       "      <td>1000</td>\n",
       "      <td>9</td>\n",
       "      <td>466</td>\n",
       "    </tr>\n",
       "  </tbody>\n",
       "</table>\n",
       "</div>"
      ],
      "text/plain": [
       "   user_id  month  duration_minutes\n",
       "0     1000      5               159\n",
       "1     1000      6               172\n",
       "2     1000      7               340\n",
       "3     1000      8               408\n",
       "4     1000      9               466"
      ]
     },
     "execution_count": 25,
     "metadata": {},
     "output_type": "execute_result"
    }
   ],
   "source": [
    "calls_sum = calls.groupby(['user_id', 'month'])['duration_minutes'].sum().reset_index()\n",
    "calls_sum.head()"
   ]
  },
  {
   "cell_type": "markdown",
   "id": "e2b2eb4e",
   "metadata": {},
   "source": [
    "<div class=\"alert alert-info\">\n",
    "    \n",
    "### Количество отправленных сообщений по месяцам\n",
    "    \n",
    "</div>\n"
   ]
  },
  {
   "cell_type": "code",
   "execution_count": 26,
   "id": "4a263f99",
   "metadata": {},
   "outputs": [],
   "source": [
    "messages['month'] = messages['message_date'].dt.month"
   ]
  },
  {
   "cell_type": "code",
   "execution_count": 27,
   "id": "d208d978",
   "metadata": {
    "scrolled": true
   },
   "outputs": [
    {
     "data": {
      "text/html": [
       "<div>\n",
       "<style scoped>\n",
       "    .dataframe tbody tr th:only-of-type {\n",
       "        vertical-align: middle;\n",
       "    }\n",
       "\n",
       "    .dataframe tbody tr th {\n",
       "        vertical-align: top;\n",
       "    }\n",
       "\n",
       "    .dataframe thead th {\n",
       "        text-align: right;\n",
       "    }\n",
       "</style>\n",
       "<table border=\"1\" class=\"dataframe\">\n",
       "  <thead>\n",
       "    <tr style=\"text-align: right;\">\n",
       "      <th></th>\n",
       "      <th>user_id</th>\n",
       "      <th>month</th>\n",
       "      <th>id</th>\n",
       "    </tr>\n",
       "  </thead>\n",
       "  <tbody>\n",
       "    <tr>\n",
       "      <th>0</th>\n",
       "      <td>1000</td>\n",
       "      <td>5</td>\n",
       "      <td>22</td>\n",
       "    </tr>\n",
       "    <tr>\n",
       "      <th>1</th>\n",
       "      <td>1000</td>\n",
       "      <td>6</td>\n",
       "      <td>60</td>\n",
       "    </tr>\n",
       "    <tr>\n",
       "      <th>2</th>\n",
       "      <td>1000</td>\n",
       "      <td>7</td>\n",
       "      <td>75</td>\n",
       "    </tr>\n",
       "    <tr>\n",
       "      <th>3</th>\n",
       "      <td>1000</td>\n",
       "      <td>8</td>\n",
       "      <td>81</td>\n",
       "    </tr>\n",
       "    <tr>\n",
       "      <th>4</th>\n",
       "      <td>1000</td>\n",
       "      <td>9</td>\n",
       "      <td>57</td>\n",
       "    </tr>\n",
       "  </tbody>\n",
       "</table>\n",
       "</div>"
      ],
      "text/plain": [
       "   user_id  month  id\n",
       "0     1000      5  22\n",
       "1     1000      6  60\n",
       "2     1000      7  75\n",
       "3     1000      8  81\n",
       "4     1000      9  57"
      ]
     },
     "execution_count": 27,
     "metadata": {},
     "output_type": "execute_result"
    }
   ],
   "source": [
    "message_count = messages.groupby(['user_id', 'month'])['id'].count().reset_index()\n",
    "message_count.head()"
   ]
  },
  {
   "cell_type": "markdown",
   "id": "1287d5b3",
   "metadata": {},
   "source": [
    "<div class=\"alert alert-info\">\n",
    "    \n",
    "### Объем израсходованного интернет-трафика по месяцам\n",
    "    \n",
    "</div>\n"
   ]
  },
  {
   "cell_type": "code",
   "execution_count": 28,
   "id": "cc92051f",
   "metadata": {
    "scrolled": true
   },
   "outputs": [],
   "source": [
    "internet['month'] = internet['session_date'].dt.month"
   ]
  },
  {
   "cell_type": "code",
   "execution_count": 29,
   "id": "993a0b76",
   "metadata": {
    "scrolled": true
   },
   "outputs": [
    {
     "data": {
      "text/html": [
       "<div>\n",
       "<style scoped>\n",
       "    .dataframe tbody tr th:only-of-type {\n",
       "        vertical-align: middle;\n",
       "    }\n",
       "\n",
       "    .dataframe tbody tr th {\n",
       "        vertical-align: top;\n",
       "    }\n",
       "\n",
       "    .dataframe thead th {\n",
       "        text-align: right;\n",
       "    }\n",
       "</style>\n",
       "<table border=\"1\" class=\"dataframe\">\n",
       "  <thead>\n",
       "    <tr style=\"text-align: right;\">\n",
       "      <th></th>\n",
       "      <th>user_id</th>\n",
       "      <th>month</th>\n",
       "      <th>gb_used</th>\n",
       "    </tr>\n",
       "  </thead>\n",
       "  <tbody>\n",
       "    <tr>\n",
       "      <th>0</th>\n",
       "      <td>1000</td>\n",
       "      <td>5</td>\n",
       "      <td>4</td>\n",
       "    </tr>\n",
       "    <tr>\n",
       "      <th>1</th>\n",
       "      <td>1000</td>\n",
       "      <td>6</td>\n",
       "      <td>49</td>\n",
       "    </tr>\n",
       "    <tr>\n",
       "      <th>2</th>\n",
       "      <td>1000</td>\n",
       "      <td>7</td>\n",
       "      <td>28</td>\n",
       "    </tr>\n",
       "    <tr>\n",
       "      <th>3</th>\n",
       "      <td>1000</td>\n",
       "      <td>8</td>\n",
       "      <td>27</td>\n",
       "    </tr>\n",
       "    <tr>\n",
       "      <th>4</th>\n",
       "      <td>1000</td>\n",
       "      <td>9</td>\n",
       "      <td>26</td>\n",
       "    </tr>\n",
       "  </tbody>\n",
       "</table>\n",
       "</div>"
      ],
      "text/plain": [
       "   user_id  month  gb_used\n",
       "0     1000      5        4\n",
       "1     1000      6       49\n",
       "2     1000      7       28\n",
       "3     1000      8       27\n",
       "4     1000      9       26"
      ]
     },
     "execution_count": 29,
     "metadata": {},
     "output_type": "execute_result"
    }
   ],
   "source": [
    "internet_sum = internet.groupby(['user_id', 'month'])['gb_used'].sum().reset_index()\n",
    "internet_sum.head()"
   ]
  },
  {
   "cell_type": "markdown",
   "id": "e3245f17",
   "metadata": {},
   "source": [
    "<div class=\"alert alert-info\">\n",
    "    \n",
    "### Помесячная выручку с каждого пользователя \n",
    "    \n",
    "</div>\n",
    "\n"
   ]
  },
  {
   "cell_type": "code",
   "execution_count": 30,
   "id": "48914a8a",
   "metadata": {
    "scrolled": false
   },
   "outputs": [
    {
     "data": {
      "text/html": [
       "<div>\n",
       "<style scoped>\n",
       "    .dataframe tbody tr th:only-of-type {\n",
       "        vertical-align: middle;\n",
       "    }\n",
       "\n",
       "    .dataframe tbody tr th {\n",
       "        vertical-align: top;\n",
       "    }\n",
       "\n",
       "    .dataframe thead th {\n",
       "        text-align: right;\n",
       "    }\n",
       "</style>\n",
       "<table border=\"1\" class=\"dataframe\">\n",
       "  <thead>\n",
       "    <tr style=\"text-align: right;\">\n",
       "      <th></th>\n",
       "      <th>user_id</th>\n",
       "      <th>month</th>\n",
       "      <th>all_margin</th>\n",
       "      <th>tariff_name</th>\n",
       "    </tr>\n",
       "  </thead>\n",
       "  <tbody>\n",
       "    <tr>\n",
       "      <th>0</th>\n",
       "      <td>1000</td>\n",
       "      <td>5</td>\n",
       "      <td>151517.0</td>\n",
       "      <td>ultra</td>\n",
       "    </tr>\n",
       "    <tr>\n",
       "      <th>1</th>\n",
       "      <td>1000</td>\n",
       "      <td>7</td>\n",
       "      <td>143362.0</td>\n",
       "      <td>ultra</td>\n",
       "    </tr>\n",
       "    <tr>\n",
       "      <th>2</th>\n",
       "      <td>1000</td>\n",
       "      <td>8</td>\n",
       "      <td>142395.0</td>\n",
       "      <td>ultra</td>\n",
       "    </tr>\n",
       "    <tr>\n",
       "      <th>3</th>\n",
       "      <td>1000</td>\n",
       "      <td>9</td>\n",
       "      <td>145938.0</td>\n",
       "      <td>ultra</td>\n",
       "    </tr>\n",
       "    <tr>\n",
       "      <th>4</th>\n",
       "      <td>1000</td>\n",
       "      <td>10</td>\n",
       "      <td>143652.0</td>\n",
       "      <td>ultra</td>\n",
       "    </tr>\n",
       "  </tbody>\n",
       "</table>\n",
       "</div>"
      ],
      "text/plain": [
       "   user_id  month  all_margin tariff_name\n",
       "0     1000      5    151517.0       ultra\n",
       "1     1000      7    143362.0       ultra\n",
       "2     1000      8    142395.0       ultra\n",
       "3     1000      9    145938.0       ultra\n",
       "4     1000     10    143652.0       ultra"
      ]
     },
     "execution_count": 30,
     "metadata": {},
     "output_type": "execute_result"
    }
   ],
   "source": [
    "#сначала соединим все вычесления помесячно\n",
    "all_info = calls_count.merge(calls_sum, on=['user_id', 'month'], how='outer')\n",
    "all_info = all_info.merge(message_count, on=['user_id', 'month'], how='outer')\n",
    "all_info = all_info.merge(internet_sum, on=['user_id', 'month'], how='outer')\n",
    "all_info = all_info.rename(columns={'duration_minutes_x':'calls_count', 'duration_minutes_y':'minutes_sum',\n",
    "                        'id':'messages_count', 'gb_used':'gb_sum'})\n",
    "\n",
    "\n",
    "#затем добавим инфо о тарифе пользователя\n",
    "all_info = all_info.merge(users, on=['user_id'])[['user_id','month', 'calls_count','minutes_sum',\n",
    "                                                'messages_count', 'gb_sum', 'tariff']].rename(columns={'tariff':'tariff_name'})\n",
    "\n",
    "#и добавим инфо о самих тарифах \n",
    "#и здесь же избавимся от NaN, которые могли получить в результате мерджа\n",
    "#(так как не все клиенты пользуются всеми услугами тарифа)\n",
    "all_info = all_info.merge(tariffs, on=['tariff_name']).fillna(0)\n",
    "\n",
    "\n",
    "all_info['calls_margin'] = (all_info['minutes_included'] - all_info['minutes_sum'])\n",
    "\n",
    "all_info = all_info.query('calls_margin >= 0')\n",
    "all_info['calls_margin'] *= all_info['rub_per_minute']\n",
    "\n",
    "all_info['message_margin'] = (all_info['messages_included'] - all_info['messages_count'])\n",
    "\n",
    "all_info = all_info.query('message_margin >= 0')\n",
    "all_info['message_margin'] *= all_info['rub_per_message']\n",
    "   \n",
    "all_info['gb_per_month_included'] = (all_info['mb_per_month_included'] / 1024).apply(np.ceil).astype(int)\n",
    "    \n",
    "all_info['gb_margin'] = (all_info['gb_per_month_included'] - all_info['gb_sum'])\n",
    "\n",
    "all_info = all_info.query('gb_margin >= 0')\n",
    "all_info['message_margin'] *= all_info['rub_per_gb']\n",
    "\n",
    "all_info['all_margin'] = all_info['gb_margin'] + all_info['message_margin'] + all_info['calls_margin'] + all_info['rub_monthly_fee']\n",
    "all_info[['user_id','month','all_margin','tariff_name']].sort_values(by='user_id').reset_index(drop=True).head()\n"
   ]
  },
  {
   "cell_type": "code",
   "execution_count": 31,
   "id": "06f40673",
   "metadata": {},
   "outputs": [
    {
     "data": {
      "text/html": [
       "<div>\n",
       "<style scoped>\n",
       "    .dataframe tbody tr th:only-of-type {\n",
       "        vertical-align: middle;\n",
       "    }\n",
       "\n",
       "    .dataframe tbody tr th {\n",
       "        vertical-align: top;\n",
       "    }\n",
       "\n",
       "    .dataframe thead th {\n",
       "        text-align: right;\n",
       "    }\n",
       "</style>\n",
       "<table border=\"1\" class=\"dataframe\">\n",
       "  <thead>\n",
       "    <tr style=\"text-align: right;\">\n",
       "      <th></th>\n",
       "      <th>calls_margin</th>\n",
       "      <th>message_margin</th>\n",
       "      <th>gb_margin</th>\n",
       "    </tr>\n",
       "  </thead>\n",
       "  <tbody>\n",
       "    <tr>\n",
       "      <th>count</th>\n",
       "      <td>473.000000</td>\n",
       "      <td>473.000000</td>\n",
       "      <td>473.000000</td>\n",
       "    </tr>\n",
       "    <tr>\n",
       "      <th>mean</th>\n",
       "      <td>2218.638478</td>\n",
       "      <td>116746.617336</td>\n",
       "      <td>10.940803</td>\n",
       "    </tr>\n",
       "    <tr>\n",
       "      <th>std</th>\n",
       "      <td>652.341274</td>\n",
       "      <td>50569.802920</td>\n",
       "      <td>8.078054</td>\n",
       "    </tr>\n",
       "    <tr>\n",
       "      <th>min</th>\n",
       "      <td>60.000000</td>\n",
       "      <td>11400.000000</td>\n",
       "      <td>0.000000</td>\n",
       "    </tr>\n",
       "    <tr>\n",
       "      <th>25%</th>\n",
       "      <td>1741.000000</td>\n",
       "      <td>130500.000000</td>\n",
       "      <td>4.000000</td>\n",
       "    </tr>\n",
       "    <tr>\n",
       "      <th>50%</th>\n",
       "      <td>2434.000000</td>\n",
       "      <td>143400.000000</td>\n",
       "      <td>10.000000</td>\n",
       "    </tr>\n",
       "    <tr>\n",
       "      <th>75%</th>\n",
       "      <td>2700.000000</td>\n",
       "      <td>148950.000000</td>\n",
       "      <td>16.000000</td>\n",
       "    </tr>\n",
       "    <tr>\n",
       "      <th>max</th>\n",
       "      <td>3000.000000</td>\n",
       "      <td>150000.000000</td>\n",
       "      <td>30.000000</td>\n",
       "    </tr>\n",
       "  </tbody>\n",
       "</table>\n",
       "</div>"
      ],
      "text/plain": [
       "       calls_margin  message_margin   gb_margin\n",
       "count    473.000000      473.000000  473.000000\n",
       "mean    2218.638478   116746.617336   10.940803\n",
       "std      652.341274    50569.802920    8.078054\n",
       "min       60.000000    11400.000000    0.000000\n",
       "25%     1741.000000   130500.000000    4.000000\n",
       "50%     2434.000000   143400.000000   10.000000\n",
       "75%     2700.000000   148950.000000   16.000000\n",
       "max     3000.000000   150000.000000   30.000000"
      ]
     },
     "execution_count": 31,
     "metadata": {},
     "output_type": "execute_result"
    }
   ],
   "source": [
    "all_info[['calls_margin', 'message_margin', 'gb_margin']].describe()"
   ]
  },
  {
   "cell_type": "markdown",
   "id": "002a915b",
   "metadata": {},
   "source": [
    "<div class=\"alert alert-info\">\n",
    "    \n",
    "### Подготовка данных - вывод\n",
    "    \n",
    "</div>"
   ]
  },
  {
   "cell_type": "markdown",
   "id": "9ed1dd15",
   "metadata": {},
   "source": [
    "Были изучены таблицы пользователей и их активности, а так же таблица инфо о тарифных планах.\n",
    "\n",
    "В табоицах изменены типы данных даты, удален лишний столбец таблицы internet.\n",
    "Поссчитана выручка с каждого клиента по месяцам. "
   ]
  },
  {
   "cell_type": "markdown",
   "id": "4418019d",
   "metadata": {},
   "source": [
    "<div class=\"alert alert-info\">\n",
    "    \n",
    "## Анализ данных\n",
    "    \n",
    "</div>"
   ]
  },
  {
   "cell_type": "code",
   "execution_count": 32,
   "id": "043bc0a9",
   "metadata": {},
   "outputs": [
    {
     "data": {
      "text/plain": [
       "(111, 19)"
      ]
     },
     "execution_count": 32,
     "metadata": {},
     "output_type": "execute_result"
    }
   ],
   "source": [
    "df_smart = all_info[all_info['tariff_name'] == 'smart'].reset_index(drop=True)\n",
    "df_smart.shape"
   ]
  },
  {
   "cell_type": "code",
   "execution_count": 33,
   "id": "c252b516",
   "metadata": {},
   "outputs": [
    {
     "data": {
      "text/plain": [
       "(362, 19)"
      ]
     },
     "execution_count": 33,
     "metadata": {},
     "output_type": "execute_result"
    }
   ],
   "source": [
    "df_ultra = all_info[all_info['tariff_name'] == 'ultra'].reset_index(drop=True)\n",
    "df_ultra.shape"
   ]
  },
  {
   "cell_type": "markdown",
   "id": "c206e2b4",
   "metadata": {},
   "source": [
    "<div class=\"alert alert-info\">\n",
    "    \n",
    "### Сколько минут разговора, сколько сообщений и какой объём интернет-трафика требуется пользователям каждого тарифа в месяц\n",
    "    \n",
    "</div>\n",
    "\n"
   ]
  },
  {
   "cell_type": "code",
   "execution_count": 34,
   "id": "13ef93c0",
   "metadata": {},
   "outputs": [],
   "source": [
    "def mean_values(df, column):\n",
    "    return df[column].mean()\n",
    "\n",
    "def var_values(df, column):\n",
    "    return np.var(df[column])"
   ]
  },
  {
   "cell_type": "code",
   "execution_count": 35,
   "id": "63ec003f",
   "metadata": {},
   "outputs": [
    {
     "name": "stdout",
     "output_type": "stream",
     "text": [
      "Среднее кол-во минут тарифа smart = 107.18018018018019\n",
      "Диссперсия минут тарифа smart = 7716.075643210779\n",
      "Стандартное отклонение минут тарифа smart = 87.84119559301763\n"
     ]
    }
   ],
   "source": [
    "smart_calls_mean = mean_values(df_smart, 'minutes_sum')\n",
    "smart_calls_var = var_values(df_smart, 'minutes_sum')\n",
    "smart_calls_std = np.sqrt(smart_calls_var)\n",
    "print('Среднее кол-во минут тарифа smart =', smart_calls_mean)\n",
    "print('Диссперсия минут тарифа smart =', smart_calls_var)\n",
    "print('Стандартное отклонение минут тарифа smart =', smart_calls_std)"
   ]
  },
  {
   "cell_type": "code",
   "execution_count": 36,
   "id": "d4dd8eb2",
   "metadata": {},
   "outputs": [
    {
     "data": {
      "text/plain": [
       "Text(0, 0.5, 'Частота значений')"
      ]
     },
     "execution_count": 36,
     "metadata": {},
     "output_type": "execute_result"
    },
    {
     "data": {
      "image/png": "[encoded data removed]",
      "text/plain": [
       "<Figure size 432x288 with 1 Axes>"
      ]
     },
     "metadata": {
      "needs_background": "light"
     },
     "output_type": "display_data"
    }
   ],
   "source": [
    "df_smart['minutes_sum'].hist(bins=30)\n",
    "plt.title('Распределение кол-ва минут тарифа smart')\n",
    "plt.xlabel('Кол-во минут тарифа, потраченного пользователями')\n",
    "plt.ylabel('Частота значений')"
   ]
  },
  {
   "cell_type": "markdown",
   "id": "0989d726",
   "metadata": {},
   "source": [
    "🧑‍🎓 **Ира:** Распределение кол-ва минут стремится к нормальному\n",
    "\n",
    "Значения больше 200 можно считать выбросами"
   ]
  },
  {
   "cell_type": "code",
   "execution_count": 37,
   "id": "12890297",
   "metadata": {},
   "outputs": [
    {
     "name": "stdout",
     "output_type": "stream",
     "text": [
      "Среднее кол-во сообщений тарифа smart = 6.612612612612613\n",
      "Диссперсия сообщений тарифа smart = 57.71479587695805\n",
      "Стандартное отклонение сообщений тарифа smart = 7.59702546243976\n"
     ]
    }
   ],
   "source": [
    "smart_messages_mean = mean_values(df_smart, 'messages_count')\n",
    "smart_messages_var = var_values(df_smart, 'messages_count')\n",
    "smart_messages_std = np.sqrt(smart_messages_var)\n",
    "print('Среднее кол-во сообщений тарифа smart =', smart_messages_mean)\n",
    "print('Диссперсия сообщений тарифа smart =', smart_messages_var)\n",
    "print('Стандартное отклонение сообщений тарифа smart =', smart_messages_std)"
   ]
  },
  {
   "cell_type": "code",
   "execution_count": 38,
   "id": "ebc8a98a",
   "metadata": {},
   "outputs": [
    {
     "data": {
      "text/plain": [
       "Text(0, 0.5, 'Частота значений')"
      ]
     },
     "execution_count": 38,
     "metadata": {},
     "output_type": "execute_result"
    },
    {
     "data": {
      "image/png": "[encoded data removed]",
      "text/plain": [
       "<Figure size 432x288 with 1 Axes>"
      ]
     },
     "metadata": {
      "needs_background": "light"
     },
     "output_type": "display_data"
    }
   ],
   "source": [
    "df_smart['messages_count'].hist(bins=30)\n",
    "plt.title('Распределение кол-ва сообщений тарифа smart')\n",
    "plt.xlabel('Кол-во сообщений тарифа, потраченного пользователями')\n",
    "plt.ylabel('Частота значений')"
   ]
  },
  {
   "cell_type": "markdown",
   "id": "525ed077",
   "metadata": {},
   "source": [
    "🧑‍🎓 **Ира:** Распределение кол-ва сообщений не похоже на нормальное, я рискну предположить что это больше похоже на распределение Пирсона.  \n",
    "Большое кол-во нулей я бы не считала выбросами- в наше время вообще мало кто пользуется именно смс-ками, особенно молодое поколение, для этого есть месседжеры"
   ]
  },
  {
   "cell_type": "code",
   "execution_count": 39,
   "id": "de08bfef",
   "metadata": {},
   "outputs": [
    {
     "name": "stdout",
     "output_type": "stream",
     "text": [
      "Среднее кол-во интернета тарифа smart = 8.0\n",
      "Диссперсия интернета тарифа smart = 17.873873873873872\n",
      "Стандартное отклонение интернета тарифа smart = 4.227750450756746\n"
     ]
    }
   ],
   "source": [
    "smart_mb_mean = mean_values(df_smart, 'gb_sum')\n",
    "smart_mb_var = var_values(df_smart, 'gb_sum')\n",
    "smart_mb_std = np.sqrt(smart_mb_var)\n",
    "print('Среднее кол-во интернета тарифа smart =', smart_mb_mean)\n",
    "print('Диссперсия интернета тарифа smart =', smart_mb_var)\n",
    "print('Стандартное отклонение интернета тарифа smart =', smart_mb_std)"
   ]
  },
  {
   "cell_type": "code",
   "execution_count": 40,
   "id": "fd98320f",
   "metadata": {},
   "outputs": [
    {
     "data": {
      "text/plain": [
       "Text(0, 0.5, 'Частота значений')"
      ]
     },
     "execution_count": 40,
     "metadata": {},
     "output_type": "execute_result"
    },
    {
     "data": {
      "image/png": "[encoded data removed]",
      "text/plain": [
       "<Figure size 432x288 with 1 Axes>"
      ]
     },
     "metadata": {
      "needs_background": "light"
     },
     "output_type": "display_data"
    }
   ],
   "source": [
    "df_smart['gb_sum'].hist(bins=30)\n",
    "plt.title('Распределение кол-ва гб интернета тарифа smart')\n",
    "plt.xlabel('Кол-во гб интернета тарифа, потраченного пользователями')\n",
    "plt.ylabel('Частота значений')"
   ]
  },
  {
   "cell_type": "markdown",
   "id": "1de32c21",
   "metadata": {},
   "source": [
    "🧑‍🎓 **Ира:** Распределение не сильно похоже на нормальное, но возможно это из-за округления до гб"
   ]
  },
  {
   "cell_type": "code",
   "execution_count": 41,
   "id": "38b60129",
   "metadata": {},
   "outputs": [
    {
     "name": "stdout",
     "output_type": "stream",
     "text": [
      "Среднее кол-во минут тарифа ultra = 462.41160220994476\n",
      "Диссперсия минут тарифа ultra = 100071.77257257105\n",
      "Стандартное отклонение минут тарифа ultra = 316.34122806325934\n"
     ]
    }
   ],
   "source": [
    "ultra_calls_mean = mean_values(df_ultra, 'minutes_sum')\n",
    "ultra_calls_var = var_values(df_ultra, 'minutes_sum')\n",
    "ultra_calls_std = np.sqrt(ultra_calls_var)\n",
    "print('Среднее кол-во минут тарифа ultra =', ultra_calls_mean)\n",
    "print('Диссперсия минут тарифа ultra =', ultra_calls_var)\n",
    "print('Стандартное отклонение минут тарифа ultra =', ultra_calls_std)"
   ]
  },
  {
   "cell_type": "code",
   "execution_count": 42,
   "id": "374b0c1c",
   "metadata": {},
   "outputs": [
    {
     "data": {
      "text/plain": [
       "Text(0, 0.5, 'Частота значений')"
      ]
     },
     "execution_count": 42,
     "metadata": {},
     "output_type": "execute_result"
    },
    {
     "data": {
      "image/png": "[encoded data removed]",
      "text/plain": [
       "<Figure size 432x288 with 1 Axes>"
      ]
     },
     "metadata": {
      "needs_background": "light"
     },
     "output_type": "display_data"
    }
   ],
   "source": [
    "df_ultra['minutes_sum'].hist(bins=30)\n",
    "plt.title('Распределение кол-ва минут тарифа ultra')\n",
    "plt.xlabel('Кол-во минут тарифа, потраченного пользователями')\n",
    "plt.ylabel('Частота значений')"
   ]
  },
  {
   "cell_type": "markdown",
   "id": "a031cf57",
   "metadata": {},
   "source": [
    "🧑‍🎓 **Ира:** Здесь мне не очень понятно, такое ощущение, что распределение хочет быть нормальным, но либо слишком много выбросов6 либо недостаточно данных для корректного построения графика.\n",
    "Выбросы можно заметить и в начале и в конце гистрограммы"
   ]
  },
  {
   "cell_type": "code",
   "execution_count": 43,
   "id": "48104090",
   "metadata": {},
   "outputs": [
    {
     "name": "stdout",
     "output_type": "stream",
     "text": [
      "Среднее кол-во сообщений тарифа ultra = 36.251381215469614\n",
      "Диссперсия сообщений тарифа ultra = 1379.0003433961137\n",
      "Стандартное отклонение сообщений тарифа ultra = 37.13489387888585\n"
     ]
    }
   ],
   "source": [
    "ultra_messages_mean = mean_values(df_ultra, 'messages_count')\n",
    "ultra_messages_var = var_values(df_ultra, 'messages_count')\n",
    "ultra_messages_std = np.sqrt(ultra_messages_var)\n",
    "print('Среднее кол-во сообщений тарифа ultra =', ultra_messages_mean)\n",
    "print('Диссперсия сообщений тарифа ultra =', ultra_messages_var)\n",
    "print('Стандартное отклонение сообщений тарифа ultra =', ultra_messages_std)"
   ]
  },
  {
   "cell_type": "code",
   "execution_count": 44,
   "id": "e8822a32",
   "metadata": {},
   "outputs": [
    {
     "data": {
      "text/plain": [
       "Text(0, 0.5, 'Частота значений')"
      ]
     },
     "execution_count": 44,
     "metadata": {},
     "output_type": "execute_result"
    },
    {
     "data": {
      "image/png": "[encoded data removed]",
      "text/plain": [
       "<Figure size 432x288 with 1 Axes>"
      ]
     },
     "metadata": {
      "needs_background": "light"
     },
     "output_type": "display_data"
    }
   ],
   "source": [
    "df_ultra['messages_count'].hist(bins=30)\n",
    "plt.title('Распределение кол-ва сообщений тарифа ultra')\n",
    "plt.xlabel('Кол-во сообщений тарифа, потраченного пользователями')\n",
    "plt.ylabel('Частота значений')"
   ]
  },
  {
   "cell_type": "markdown",
   "id": "a9b24c22",
   "metadata": {},
   "source": [
    "🧑‍🎓 **Ира:** Так же как и в случае с тарифом смарт - распределение кол-ва сообщений больше похоже на Пирсона"
   ]
  },
  {
   "cell_type": "code",
   "execution_count": 45,
   "id": "151f15d9",
   "metadata": {},
   "outputs": [
    {
     "name": "stdout",
     "output_type": "stream",
     "text": [
      "Среднее кол-во интернета тарифа ultra = 17.85082872928177\n",
      "Диссперсия интернета тарифа ultra = 73.38106284911942\n",
      "Стандартное отклонение интернета тарифа ultra = 8.566274735794984\n"
     ]
    }
   ],
   "source": [
    "ultra_mb_mean = mean_values(df_ultra, 'gb_sum')\n",
    "ultra_mb_var = var_values(df_ultra, 'gb_sum')\n",
    "ultra_mb_std = np.sqrt(ultra_mb_var)\n",
    "print('Среднее кол-во интернета тарифа ultra =', ultra_mb_mean)\n",
    "print('Диссперсия интернета тарифа ultra =', ultra_mb_var)\n",
    "print('Стандартное отклонение интернета тарифа ultra =', ultra_mb_std)"
   ]
  },
  {
   "cell_type": "code",
   "execution_count": 46,
   "id": "b5bd297f",
   "metadata": {},
   "outputs": [
    {
     "data": {
      "text/plain": [
       "Text(0, 0.5, 'Частота значений')"
      ]
     },
     "execution_count": 46,
     "metadata": {},
     "output_type": "execute_result"
    },
    {
     "data": {
      "image/png": "[encoded data removed]",
      "text/plain": [
       "<Figure size 432x288 with 1 Axes>"
      ]
     },
     "metadata": {
      "needs_background": "light"
     },
     "output_type": "display_data"
    }
   ],
   "source": [
    "df_ultra['gb_sum'].hist(bins=30)\n",
    "plt.title('Распределение гб интернета тарифа ultra')\n",
    "plt.xlabel('Кол-во гб интернета тарифа, потраченного пользователями')\n",
    "plt.ylabel('Частота значений')"
   ]
  },
  {
   "cell_type": "markdown",
   "id": "4f29668a",
   "metadata": {},
   "source": [
    "🧑‍🎓 **Ира:** Так же как и в случае с тарифом смарт"
   ]
  },
  {
   "cell_type": "markdown",
   "id": "c35b62f9",
   "metadata": {},
   "source": [
    "<div class=\"alert alert-info\">\n",
    "    \n",
    "## Проверка гипотез\n",
    "    \n",
    "</div>"
   ]
  },
  {
   "cell_type": "markdown",
   "id": "3476a526",
   "metadata": {},
   "source": [
    "Необходимо проверить гипотезы:  \n",
    "- средняя выручка пользователей тарифов «Ультра» и «Смарт» различаются;\n",
    "- средняя выручка пользователей из Москвы отличается от выручки пользователей из других регионов.\n",
    "\n",
    "\n",
    "Пороговое значение alpha задайте самостоятельно.  \n",
    "\n",
    "Поясните:  \n",
    "как вы формулировали нулевую и альтернативную гипотезы;  \n",
    "какой критерий использовали для проверки гипотез и почему.  "
   ]
  },
  {
   "cell_type": "markdown",
   "id": "37604ef6",
   "metadata": {},
   "source": [
    "<div class=\"alert alert-info\">\n",
    "    \n",
    "### Средняя выручка пользователей тарифов «Ультра» и «Смарт» различаются\n",
    "    \n",
    "</div>\n"
   ]
  },
  {
   "cell_type": "markdown",
   "id": "a45683f8",
   "metadata": {},
   "source": [
    "🧑‍🎓 **Ира:**  \n",
    "сформулируем нулевую гипотезу:  \n",
    "Средняя выручка тарифов \"Ультра\" и \"Смарт\" равны \n",
    "\n",
    "В таком случае нулевая гипотеза будет:  \n",
    "Средняя выручка тарифов \"Ультра\" и \"Смарт\" НЕ равны "
   ]
  },
  {
   "cell_type": "code",
   "execution_count": 47,
   "id": "09e9b393",
   "metadata": {},
   "outputs": [],
   "source": [
    "alpha = .05"
   ]
  },
  {
   "cell_type": "code",
   "execution_count": 48,
   "id": "fbdccf58",
   "metadata": {},
   "outputs": [
    {
     "name": "stdout",
     "output_type": "stream",
     "text": [
      "p-значение: 2.961676503794829e-260\n",
      "Отвергаем нулевую гипотезу\n"
     ]
    }
   ],
   "source": [
    "margin_results = st.ttest_ind(\n",
    "    df_smart['all_margin'], \n",
    "    df_ultra['all_margin'],\n",
    "    equal_var = False) #так как выборки разного размера\n",
    "\n",
    "print('p-значение:', margin_results.pvalue)\n",
    "\n",
    "if margin_results.pvalue < alpha: \n",
    "    print(\"Отвергаем нулевую гипотезу\")\n",
    "else:\n",
    "    print(\"Не получилось отвергнуть нулевую гипотезу\")"
   ]
  },
  {
   "cell_type": "markdown",
   "id": "9cc49496",
   "metadata": {},
   "source": [
    "<div class=\"alert alert-info\">\n",
    "    \n",
    "### Средняя выручка пользователей из Москвы отличается от выручки пользователей из других регионов\n",
    "    \n",
    "</div>"
   ]
  },
  {
   "cell_type": "markdown",
   "id": "a22aeaf2",
   "metadata": {},
   "source": [
    "🧑‍🎓 **Ира:**  \n",
    "сформулируем нулевую гипотезу:  \n",
    "Средняя выручка польователей из Москвы и других регионов равны \n",
    "\n",
    "В таком случае нулевая гипотеза будет:  \n",
    "Средняя выручка польователей из Москвы и других регионов НЕ равны "
   ]
  },
  {
   "cell_type": "code",
   "execution_count": 49,
   "id": "ad9c9ef3",
   "metadata": {},
   "outputs": [],
   "source": [
    "msc_users_id = users.query('city == \"Москва\"')['user_id']\n",
    "msc_users_info = all_info.query('user_id in @msc_users_id').reset_index(drop=True)\n",
    "other_users_info = all_info.query('user_id not in @msc_users_id').reset_index(drop=True)"
   ]
  },
  {
   "cell_type": "code",
   "execution_count": 50,
   "id": "edc672e5",
   "metadata": {},
   "outputs": [
    {
     "name": "stdout",
     "output_type": "stream",
     "text": [
      "p-значение: 0.5332116337105697\n",
      "Не получилось отвергнуть нулевую гипотезу\n"
     ]
    }
   ],
   "source": [
    "users_margin_results = st.ttest_ind(\n",
    "    msc_users_info['all_margin'], \n",
    "    other_users_info['all_margin'],\n",
    "    equal_var = False) #так как выборки разного размера\n",
    "\n",
    "print('p-значение:', users_margin_results.pvalue)\n",
    "\n",
    "if users_margin_results.pvalue < alpha: \n",
    "    print(\"Отвергаем нулевую гипотезу\")\n",
    "else:\n",
    "    print(\"Не получилось отвергнуть нулевую гипотезу\")"
   ]
  },
  {
   "cell_type": "markdown",
   "id": "f02b5744",
   "metadata": {},
   "source": [
    "<div class=\"alert alert-info\">\n",
    "    \n",
    "## Общий вывод\n",
    "    \n",
    "</div>"
   ]
  },
  {
   "cell_type": "markdown",
   "id": "018f5387",
   "metadata": {},
   "source": [
    "Были проанализированы данные об активности пользователей на разных тарифных планах, посчитана выручка с каждого клиента по кажлому месяцу в соответствии с его тарифным планом. \n",
    "\n",
    "Изучены отдельные метрики по каждому тарифному плану. \n",
    "\n",
    "Так же были выдвинуты 2 гипотезы о равенстве средних двух совокупностей. "
   ]
  },
  {
   "cell_type": "markdown",
   "id": "df95a5a1",
   "metadata": {},
   "source": [
    "Сложно сказать, какой тариф лучше.\n",
    "По мне так они оба не очень, и самое правильное решение(на мой взгляд)- это сделать тариф- гибрид.\n",
    "\n",
    "Например, в тарифе smart клиенты почти не пользуются большим кол-во минут, среднее значение= 100 при учете, что в тарифе лимит= 500мин\n",
    "СМС так же в этом тарифе использует очень малое кол-во клиентов.\n",
    "И при этом среднее значение расходуемого трафика всего 8гб.\n",
    "\n",
    "В то время как в тарифе Ultra подавляющее большинство пользователей расходуют меньше половины позволенных минут, практически не пишут СМС, зато активно используют интернет, хотя среднее чуть больше половины разрешенного кол-ва гб. \n",
    "\n",
    "С точки зрения компании кажется, что тариф ultra лучше, потому что он явно приносит больше денег, там даже пользователей, кто приносит выручку, больше в 3 раза, и сам тариф дороже. \n",
    "\n",
    "Но с точки зрения клиента, оба тарифа так себе, я бы сделала тариф с +- средними показателями обоих тарифов и какой-то приемлемой ценой, так можно будет и пользователям угодить(и следовательно увеличить их кол-во), и выручки не лишится \n"
   ]
  }
 ],
 "metadata": {
  "ExecuteTimeLog": [
   {
    "duration": 821,
    "start_time": "2022-04-18T18:10:48.580Z"
   },
   {
    "duration": 3817,
    "start_time": "2022-04-18T18:10:49.403Z"
   },
   {
    "duration": 36,
    "start_time": "2022-04-18T18:10:53.221Z"
   },
   {
    "duration": 26,
    "start_time": "2022-04-18T18:10:53.259Z"
   },
   {
    "duration": 21,
    "start_time": "2022-04-18T18:10:53.286Z"
   },
   {
    "duration": 13,
    "start_time": "2022-04-18T18:10:53.309Z"
   },
   {
    "duration": 16,
    "start_time": "2022-04-18T18:10:53.324Z"
   },
   {
    "duration": 23,
    "start_time": "2022-04-18T18:10:53.342Z"
   },
   {
    "duration": 2,
    "start_time": "2022-04-18T18:10:53.367Z"
   },
   {
    "duration": 109,
    "start_time": "2022-04-18T18:10:53.401Z"
   },
   {
    "duration": 46,
    "start_time": "2022-04-18T18:10:53.511Z"
   },
   {
    "duration": 5,
    "start_time": "2022-04-18T18:10:53.559Z"
   },
   {
    "duration": 65,
    "start_time": "2022-04-18T18:10:53.566Z"
   },
   {
    "duration": 2,
    "start_time": "2022-04-18T18:10:53.633Z"
   },
   {
    "duration": 6,
    "start_time": "2022-04-18T18:10:53.637Z"
   },
   {
    "duration": 5,
    "start_time": "2022-04-18T18:10:53.645Z"
   },
   {
    "duration": 35,
    "start_time": "2022-04-18T18:10:53.651Z"
   },
   {
    "duration": 32,
    "start_time": "2022-04-18T18:10:53.687Z"
   },
   {
    "duration": 17,
    "start_time": "2022-04-18T18:10:53.720Z"
   },
   {
    "duration": 4,
    "start_time": "2022-04-18T18:10:53.738Z"
   },
   {
    "duration": 6,
    "start_time": "2022-04-18T18:10:53.743Z"
   },
   {
    "duration": 13,
    "start_time": "2022-04-18T18:10:53.751Z"
   },
   {
    "duration": 44,
    "start_time": "2022-04-18T18:10:53.766Z"
   },
   {
    "duration": 2,
    "start_time": "2022-04-18T18:10:53.812Z"
   },
   {
    "duration": 25,
    "start_time": "2022-04-18T18:10:53.815Z"
   },
   {
    "duration": 20,
    "start_time": "2022-04-18T18:10:53.842Z"
   },
   {
    "duration": 14,
    "start_time": "2022-04-18T18:10:53.864Z"
   },
   {
    "duration": 20,
    "start_time": "2022-04-18T18:10:53.901Z"
   },
   {
    "duration": 17,
    "start_time": "2022-04-18T18:10:53.923Z"
   },
   {
    "duration": 18,
    "start_time": "2022-04-18T18:10:53.941Z"
   },
   {
    "duration": 64,
    "start_time": "2022-04-18T18:10:53.960Z"
   },
   {
    "duration": 5,
    "start_time": "2022-04-18T18:10:54.025Z"
   },
   {
    "duration": 8,
    "start_time": "2022-04-18T18:10:54.031Z"
   },
   {
    "duration": 11,
    "start_time": "2022-04-18T18:10:54.040Z"
   },
   {
    "duration": 11,
    "start_time": "2022-04-18T18:10:54.052Z"
   },
   {
    "duration": 678,
    "start_time": "2022-04-18T18:10:54.064Z"
   },
   {
    "duration": 4,
    "start_time": "2022-04-18T18:10:54.744Z"
   },
   {
    "duration": 150,
    "start_time": "2022-04-18T18:10:54.750Z"
   },
   {
    "duration": 4,
    "start_time": "2022-04-18T18:10:54.902Z"
   },
   {
    "duration": 141,
    "start_time": "2022-04-18T18:10:54.907Z"
   },
   {
    "duration": 5,
    "start_time": "2022-04-18T18:10:55.050Z"
   },
   {
    "duration": 144,
    "start_time": "2022-04-18T18:10:55.056Z"
   },
   {
    "duration": 4,
    "start_time": "2022-04-18T18:10:55.202Z"
   },
   {
    "duration": 129,
    "start_time": "2022-04-18T18:10:55.208Z"
   },
   {
    "duration": 5,
    "start_time": "2022-04-18T18:10:55.338Z"
   },
   {
    "duration": 141,
    "start_time": "2022-04-18T18:10:55.344Z"
   },
   {
    "duration": 2,
    "start_time": "2022-04-18T18:10:55.487Z"
   },
   {
    "duration": 12,
    "start_time": "2022-04-18T18:10:55.491Z"
   },
   {
    "duration": 119,
    "start_time": "2022-04-18T18:10:55.505Z"
   },
   {
    "duration": 0,
    "start_time": "2022-04-18T18:10:55.626Z"
   },
   {
    "duration": 10,
    "start_time": "2022-04-18T18:11:27.673Z"
   },
   {
    "duration": 5,
    "start_time": "2022-04-18T18:11:28.654Z"
   },
   {
    "duration": 20,
    "start_time": "2022-04-18T18:11:40.578Z"
   },
   {
    "duration": 23,
    "start_time": "2022-04-18T18:24:17.000Z"
   },
   {
    "duration": 48,
    "start_time": "2022-04-18T18:24:33.540Z"
   },
   {
    "duration": 10,
    "start_time": "2022-04-18T18:25:03.790Z"
   },
   {
    "duration": 16,
    "start_time": "2022-04-18T18:25:10.084Z"
   },
   {
    "duration": 48,
    "start_time": "2022-04-19T05:27:56.650Z"
   },
   {
    "duration": 806,
    "start_time": "2022-04-19T05:28:04.870Z"
   },
   {
    "duration": 424,
    "start_time": "2022-04-19T05:28:05.678Z"
   },
   {
    "duration": 37,
    "start_time": "2022-04-19T05:28:06.104Z"
   },
   {
    "duration": 27,
    "start_time": "2022-04-19T05:28:08.051Z"
   },
   {
    "duration": 25,
    "start_time": "2022-04-19T05:28:09.997Z"
   },
   {
    "duration": 15,
    "start_time": "2022-04-19T05:28:12.988Z"
   },
   {
    "duration": 16,
    "start_time": "2022-04-19T05:28:13.840Z"
   },
   {
    "duration": 25,
    "start_time": "2022-04-19T05:28:17.920Z"
   },
   {
    "duration": 2,
    "start_time": "2022-04-19T05:28:20.646Z"
   },
   {
    "duration": 102,
    "start_time": "2022-04-19T05:28:21.165Z"
   },
   {
    "duration": 48,
    "start_time": "2022-04-19T05:28:22.016Z"
   },
   {
    "duration": 6,
    "start_time": "2022-04-19T05:28:23.232Z"
   },
   {
    "duration": 45,
    "start_time": "2022-04-19T05:28:23.833Z"
   },
   {
    "duration": 3,
    "start_time": "2022-04-19T05:28:25.619Z"
   },
   {
    "duration": 4,
    "start_time": "2022-04-19T05:28:25.975Z"
   },
   {
    "duration": 3,
    "start_time": "2022-04-19T05:28:27.660Z"
   },
   {
    "duration": 32,
    "start_time": "2022-04-19T05:28:28.049Z"
   },
   {
    "duration": 24,
    "start_time": "2022-04-19T05:28:28.414Z"
   },
   {
    "duration": 19,
    "start_time": "2022-04-19T05:28:28.796Z"
   },
   {
    "duration": 4,
    "start_time": "2022-04-19T05:28:30.872Z"
   },
   {
    "duration": 4,
    "start_time": "2022-04-19T05:28:31.750Z"
   },
   {
    "duration": 11,
    "start_time": "2022-04-19T05:28:32.903Z"
   },
   {
    "duration": 23,
    "start_time": "2022-04-19T05:28:36.800Z"
   },
   {
    "duration": 2,
    "start_time": "2022-04-19T05:28:37.123Z"
   },
   {
    "duration": 23,
    "start_time": "2022-04-19T05:28:37.504Z"
   },
   {
    "duration": 25,
    "start_time": "2022-04-19T05:28:39.457Z"
   },
   {
    "duration": 14,
    "start_time": "2022-04-19T05:28:42.934Z"
   },
   {
    "duration": 21,
    "start_time": "2022-04-19T05:28:43.107Z"
   },
   {
    "duration": 18,
    "start_time": "2022-04-19T05:28:45.873Z"
   },
   {
    "duration": 19,
    "start_time": "2022-04-19T05:28:46.216Z"
   },
   {
    "duration": 40,
    "start_time": "2022-04-19T05:28:48.931Z"
   },
   {
    "duration": 16,
    "start_time": "2022-04-19T05:29:39.401Z"
   },
   {
    "duration": 78,
    "start_time": "2022-04-19T05:35:45.896Z"
   },
   {
    "duration": 34,
    "start_time": "2022-04-19T05:37:09.182Z"
   },
   {
    "duration": 40,
    "start_time": "2022-04-19T05:38:19.707Z"
   },
   {
    "duration": 35,
    "start_time": "2022-04-19T05:39:35.571Z"
   },
   {
    "duration": 40,
    "start_time": "2022-04-19T05:41:32.070Z"
   },
   {
    "duration": 37,
    "start_time": "2022-04-19T05:44:21.684Z"
   },
   {
    "duration": 36,
    "start_time": "2022-04-19T05:45:32.538Z"
   },
   {
    "duration": 18,
    "start_time": "2022-04-19T05:45:40.400Z"
   },
   {
    "duration": 36,
    "start_time": "2022-04-19T05:46:08.472Z"
   },
   {
    "duration": 16,
    "start_time": "2022-04-19T05:46:11.464Z"
   },
   {
    "duration": 140,
    "start_time": "2022-04-19T05:49:01.526Z"
   },
   {
    "duration": 41,
    "start_time": "2022-04-19T05:49:07.774Z"
   },
   {
    "duration": 18,
    "start_time": "2022-04-19T05:49:10.025Z"
   },
   {
    "duration": 41,
    "start_time": "2022-04-19T05:49:28.774Z"
   },
   {
    "duration": 17,
    "start_time": "2022-04-19T05:49:31.251Z"
   },
   {
    "duration": 40,
    "start_time": "2022-04-19T05:49:55.053Z"
   },
   {
    "duration": 16,
    "start_time": "2022-04-19T05:49:57.543Z"
   },
   {
    "duration": 113,
    "start_time": "2022-04-19T16:57:38.724Z"
   },
   {
    "duration": 1058,
    "start_time": "2022-04-19T16:57:49.181Z"
   },
   {
    "duration": 614,
    "start_time": "2022-04-19T16:57:50.243Z"
   },
   {
    "duration": 59,
    "start_time": "2022-04-19T16:57:50.860Z"
   },
   {
    "duration": 47,
    "start_time": "2022-04-19T16:57:50.922Z"
   },
   {
    "duration": 38,
    "start_time": "2022-04-19T16:57:54.092Z"
   },
   {
    "duration": 23,
    "start_time": "2022-04-19T16:57:54.976Z"
   },
   {
    "duration": 51,
    "start_time": "2022-04-19T16:57:57.908Z"
   },
   {
    "duration": 71,
    "start_time": "2022-04-19T16:58:01.275Z"
   },
   {
    "duration": 4,
    "start_time": "2022-04-19T16:58:01.836Z"
   },
   {
    "duration": 180,
    "start_time": "2022-04-19T16:58:02.220Z"
   },
   {
    "duration": 105,
    "start_time": "2022-04-19T16:58:02.698Z"
   },
   {
    "duration": 9,
    "start_time": "2022-04-19T16:58:04.472Z"
   },
   {
    "duration": 83,
    "start_time": "2022-04-19T16:58:04.886Z"
   },
   {
    "duration": 4,
    "start_time": "2022-04-19T16:58:05.327Z"
   },
   {
    "duration": 6,
    "start_time": "2022-04-19T16:58:05.770Z"
   },
   {
    "duration": 5,
    "start_time": "2022-04-19T16:58:06.347Z"
   },
   {
    "duration": 62,
    "start_time": "2022-04-19T16:58:06.772Z"
   },
   {
    "duration": 38,
    "start_time": "2022-04-19T16:58:07.870Z"
   },
   {
    "duration": 33,
    "start_time": "2022-04-19T16:58:10.002Z"
   },
   {
    "duration": 8,
    "start_time": "2022-04-19T16:58:10.349Z"
   },
   {
    "duration": 5,
    "start_time": "2022-04-19T16:58:10.673Z"
   },
   {
    "duration": 1746,
    "start_time": "2022-04-19T16:58:12.429Z"
   },
   {
    "duration": 26,
    "start_time": "2022-04-19T16:58:20.064Z"
   },
   {
    "duration": 10,
    "start_time": "2022-04-19T16:58:41.183Z"
   },
   {
    "duration": 26,
    "start_time": "2022-04-19T16:59:00.298Z"
   },
   {
    "duration": 30,
    "start_time": "2022-04-19T16:59:05.009Z"
   },
   {
    "duration": 29,
    "start_time": "2022-04-19T16:59:05.764Z"
   },
   {
    "duration": 33,
    "start_time": "2022-04-19T16:59:13.262Z"
   },
   {
    "duration": 3,
    "start_time": "2022-04-19T16:59:13.617Z"
   },
   {
    "duration": 30,
    "start_time": "2022-04-19T16:59:13.953Z"
   },
   {
    "duration": 33,
    "start_time": "2022-04-19T16:59:14.388Z"
   },
   {
    "duration": 21,
    "start_time": "2022-04-19T16:59:18.064Z"
   },
   {
    "duration": 30,
    "start_time": "2022-04-19T16:59:18.372Z"
   },
   {
    "duration": 53,
    "start_time": "2022-04-19T17:01:18.755Z"
   },
   {
    "duration": 49,
    "start_time": "2022-04-19T17:02:29.856Z"
   },
   {
    "duration": 77,
    "start_time": "2022-04-19T17:02:38.140Z"
   },
   {
    "duration": 15,
    "start_time": "2022-04-19T17:02:49.506Z"
   },
   {
    "duration": 36,
    "start_time": "2022-04-19T17:02:53.268Z"
   },
   {
    "duration": 82,
    "start_time": "2022-04-19T17:03:33.332Z"
   },
   {
    "duration": 26,
    "start_time": "2022-04-19T17:03:35.392Z"
   },
   {
    "duration": 8,
    "start_time": "2022-04-19T17:03:47.993Z"
   },
   {
    "duration": 8,
    "start_time": "2022-04-19T17:03:48.338Z"
   },
   {
    "duration": 5,
    "start_time": "2022-04-19T17:03:50.904Z"
   },
   {
    "duration": 8,
    "start_time": "2022-04-19T17:03:51.346Z"
   },
   {
    "duration": 123,
    "start_time": "2022-04-19T17:05:08.548Z"
   },
   {
    "duration": 684,
    "start_time": "2022-04-19T17:05:16.202Z"
   },
   {
    "duration": 6,
    "start_time": "2022-04-19T17:07:16.583Z"
   },
   {
    "duration": 8,
    "start_time": "2022-04-19T17:07:19.198Z"
   },
   {
    "duration": 301,
    "start_time": "2022-04-19T17:09:59.573Z"
   },
   {
    "duration": 353,
    "start_time": "2022-04-19T17:17:24.285Z"
   },
   {
    "duration": 1862,
    "start_time": "2022-04-19T17:18:23.550Z"
   },
   {
    "duration": 2525,
    "start_time": "2022-04-19T17:18:32.404Z"
   },
   {
    "duration": 315,
    "start_time": "2022-04-19T17:18:36.468Z"
   },
   {
    "duration": 311,
    "start_time": "2022-04-19T17:19:58.723Z"
   },
   {
    "duration": 290,
    "start_time": "2022-04-19T17:20:28.599Z"
   },
   {
    "duration": 1861,
    "start_time": "2022-04-19T17:20:55.094Z"
   },
   {
    "duration": 2069,
    "start_time": "2022-04-19T17:21:00.457Z"
   },
   {
    "duration": 382,
    "start_time": "2022-04-19T17:21:03.952Z"
   },
   {
    "duration": 4,
    "start_time": "2022-04-19T17:22:49.178Z"
   },
   {
    "duration": 13,
    "start_time": "2022-04-19T17:22:49.724Z"
   },
   {
    "duration": 68,
    "start_time": "2022-04-19T17:24:20.587Z"
   },
   {
    "duration": 14,
    "start_time": "2022-04-19T17:24:31.492Z"
   },
   {
    "duration": 7,
    "start_time": "2022-04-19T17:24:41.648Z"
   },
   {
    "duration": 65,
    "start_time": "2022-04-19T17:29:42.009Z"
   },
   {
    "duration": 110,
    "start_time": "2022-04-19T17:30:22.037Z"
   },
   {
    "duration": 7,
    "start_time": "2022-04-19T17:35:08.736Z"
   },
   {
    "duration": 6,
    "start_time": "2022-04-19T17:37:10.413Z"
   }
  ],
  "kernelspec": {
   "display_name": "Python 3 (ipykernel)",
   "language": "python",
   "name": "python3"
  },
  "language_info": {
   "codemirror_mode": {
    "name": "ipython",
    "version": 3
   },
   "file_extension": ".py",
   "mimetype": "text/x-python",
   "name": "python",
   "nbconvert_exporter": "python",
   "pygments_lexer": "ipython3",
   "version": "3.9.7"
  },
  "toc": {
   "base_numbering": 1,
   "nav_menu": {},
   "number_sections": true,
   "sideBar": true,
   "skip_h1_title": true,
   "title_cell": "Table of Contents",
   "title_sidebar": "Contents",
   "toc_cell": false,
   "toc_position": {},
   "toc_section_display": true,
   "toc_window_display": false
  }
 },
 "nbformat": 4,
 "nbformat_minor": 5
}
