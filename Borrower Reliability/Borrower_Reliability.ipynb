{
 "cells": [
  {
   "cell_type": "markdown",
   "id": "54c54ddf",
   "metadata": {},
   "source": [
    "<div class=\"alert alert-info\">\n",
    "        \n",
    "# Исследование надёжности заёмщиков \n",
    "    \n",
    "Вопросы, на которые необходимо ответить в ходе исследования\n",
    "\n",
    "Есть ли зависимость между количеством детей и возвратом кредита в срок?\n",
    "\n",
    "Есть ли зависимость между семейным положением и возвратом кредита в срок?\n",
    "\n",
    "Есть ли зависимость между уровнем дохода и возвратом кредита в срок?\n",
    "\n",
    "Как разные цели кредита влияют на его возврат в срок?\n",
    "\n",
    "</div>"
   ]
  },
  {
   "cell_type": "markdown",
   "id": "13e05c9c",
   "metadata": {},
   "source": [
    "Исследование надёжности заёмщиков  \n",
    "\n",
    "Описание проекта  \n",
    "\n",
    "Заказчик — кредитный отдел банка. Нужно разобраться, влияет ли семейное положение и количество детей клиента на факт погашения кредита в срок. Входные данные от банка — статистика о платёжеспособности клиентов.  \n",
    "\n",
    "Результаты исследования будут учтены при построении модели кредитного скоринга — специальной системы, которая оценивает способность потенциального заёмщика вернуть кредит банку."
   ]
  },
  {
   "cell_type": "markdown",
   "id": "39f3c367",
   "metadata": {},
   "source": [
    "<div class=\"alert alert-info\">\n",
    "    \n",
    "## Общая информация о данных\n",
    "    \n",
    "</div>"
   ]
  },
  {
   "cell_type": "code",
   "execution_count": 1,
   "id": "811ab718",
   "metadata": {},
   "outputs": [],
   "source": [
    "import pandas as pd"
   ]
  },
  {
   "cell_type": "code",
   "execution_count": 2,
   "id": "4ad566dd",
   "metadata": {
    "scrolled": false
   },
   "outputs": [],
   "source": [
    "\n",
    "try:\n",
    "    df = pd.read_csv('data.csv')\n",
    "except:\n",
    "    df = pd.read_csv('/datasets/data.csv')"
   ]
  },
  {
   "cell_type": "code",
   "execution_count": 3,
   "id": "7f9f3865",
   "metadata": {},
   "outputs": [
    {
     "name": "stdout",
     "output_type": "stream",
     "text": [
      "<class 'pandas.core.frame.DataFrame'>\n",
      "RangeIndex: 21525 entries, 0 to 21524\n",
      "Data columns (total 12 columns):\n",
      " #   Column            Non-Null Count  Dtype  \n",
      "---  ------            --------------  -----  \n",
      " 0   children          21525 non-null  int64  \n",
      " 1   days_employed     19351 non-null  float64\n",
      " 2   dob_years         21525 non-null  int64  \n",
      " 3   education         21525 non-null  object \n",
      " 4   education_id      21525 non-null  int64  \n",
      " 5   family_status     21525 non-null  object \n",
      " 6   family_status_id  21525 non-null  int64  \n",
      " 7   gender            21525 non-null  object \n",
      " 8   income_type       21525 non-null  object \n",
      " 9   debt              21525 non-null  int64  \n",
      " 10  total_income      19351 non-null  float64\n",
      " 11  purpose           21525 non-null  object \n",
      "dtypes: float64(2), int64(5), object(5)\n",
      "memory usage: 2.0+ MB\n"
     ]
    },
    {
     "data": {
      "text/html": [
       "<div>\n",
       "<style scoped>\n",
       "    .dataframe tbody tr th:only-of-type {\n",
       "        vertical-align: middle;\n",
       "    }\n",
       "\n",
       "    .dataframe tbody tr th {\n",
       "        vertical-align: top;\n",
       "    }\n",
       "\n",
       "    .dataframe thead th {\n",
       "        text-align: right;\n",
       "    }\n",
       "</style>\n",
       "<table border=\"1\" class=\"dataframe\">\n",
       "  <thead>\n",
       "    <tr style=\"text-align: right;\">\n",
       "      <th></th>\n",
       "      <th>children</th>\n",
       "      <th>days_employed</th>\n",
       "      <th>dob_years</th>\n",
       "      <th>education</th>\n",
       "      <th>education_id</th>\n",
       "      <th>family_status</th>\n",
       "      <th>family_status_id</th>\n",
       "      <th>gender</th>\n",
       "      <th>income_type</th>\n",
       "      <th>debt</th>\n",
       "      <th>total_income</th>\n",
       "      <th>purpose</th>\n",
       "    </tr>\n",
       "  </thead>\n",
       "  <tbody>\n",
       "    <tr>\n",
       "      <th>0</th>\n",
       "      <td>1</td>\n",
       "      <td>-8437.673028</td>\n",
       "      <td>42</td>\n",
       "      <td>высшее</td>\n",
       "      <td>0</td>\n",
       "      <td>женат / замужем</td>\n",
       "      <td>0</td>\n",
       "      <td>F</td>\n",
       "      <td>сотрудник</td>\n",
       "      <td>0</td>\n",
       "      <td>253875.639453</td>\n",
       "      <td>покупка жилья</td>\n",
       "    </tr>\n",
       "    <tr>\n",
       "      <th>1</th>\n",
       "      <td>1</td>\n",
       "      <td>-4024.803754</td>\n",
       "      <td>36</td>\n",
       "      <td>среднее</td>\n",
       "      <td>1</td>\n",
       "      <td>женат / замужем</td>\n",
       "      <td>0</td>\n",
       "      <td>F</td>\n",
       "      <td>сотрудник</td>\n",
       "      <td>0</td>\n",
       "      <td>112080.014102</td>\n",
       "      <td>приобретение автомобиля</td>\n",
       "    </tr>\n",
       "    <tr>\n",
       "      <th>2</th>\n",
       "      <td>0</td>\n",
       "      <td>-5623.422610</td>\n",
       "      <td>33</td>\n",
       "      <td>Среднее</td>\n",
       "      <td>1</td>\n",
       "      <td>женат / замужем</td>\n",
       "      <td>0</td>\n",
       "      <td>M</td>\n",
       "      <td>сотрудник</td>\n",
       "      <td>0</td>\n",
       "      <td>145885.952297</td>\n",
       "      <td>покупка жилья</td>\n",
       "    </tr>\n",
       "    <tr>\n",
       "      <th>3</th>\n",
       "      <td>3</td>\n",
       "      <td>-4124.747207</td>\n",
       "      <td>32</td>\n",
       "      <td>среднее</td>\n",
       "      <td>1</td>\n",
       "      <td>женат / замужем</td>\n",
       "      <td>0</td>\n",
       "      <td>M</td>\n",
       "      <td>сотрудник</td>\n",
       "      <td>0</td>\n",
       "      <td>267628.550329</td>\n",
       "      <td>дополнительное образование</td>\n",
       "    </tr>\n",
       "    <tr>\n",
       "      <th>4</th>\n",
       "      <td>0</td>\n",
       "      <td>340266.072047</td>\n",
       "      <td>53</td>\n",
       "      <td>среднее</td>\n",
       "      <td>1</td>\n",
       "      <td>гражданский брак</td>\n",
       "      <td>1</td>\n",
       "      <td>F</td>\n",
       "      <td>пенсионер</td>\n",
       "      <td>0</td>\n",
       "      <td>158616.077870</td>\n",
       "      <td>сыграть свадьбу</td>\n",
       "    </tr>\n",
       "  </tbody>\n",
       "</table>\n",
       "</div>"
      ],
      "text/plain": [
       "   children  days_employed  dob_years education  education_id  \\\n",
       "0         1   -8437.673028         42    высшее             0   \n",
       "1         1   -4024.803754         36   среднее             1   \n",
       "2         0   -5623.422610         33   Среднее             1   \n",
       "3         3   -4124.747207         32   среднее             1   \n",
       "4         0  340266.072047         53   среднее             1   \n",
       "\n",
       "      family_status  family_status_id gender income_type  debt   total_income  \\\n",
       "0   женат / замужем                 0      F   сотрудник     0  253875.639453   \n",
       "1   женат / замужем                 0      F   сотрудник     0  112080.014102   \n",
       "2   женат / замужем                 0      M   сотрудник     0  145885.952297   \n",
       "3   женат / замужем                 0      M   сотрудник     0  267628.550329   \n",
       "4  гражданский брак                 1      F   пенсионер     0  158616.077870   \n",
       "\n",
       "                      purpose  \n",
       "0               покупка жилья  \n",
       "1     приобретение автомобиля  \n",
       "2               покупка жилья  \n",
       "3  дополнительное образование  \n",
       "4             сыграть свадьбу  "
      ]
     },
     "execution_count": 3,
     "metadata": {},
     "output_type": "execute_result"
    }
   ],
   "source": [
    "df.info()\n",
    "df.head()"
   ]
  },
  {
   "cell_type": "code",
   "execution_count": 4,
   "id": "95847e63",
   "metadata": {},
   "outputs": [
    {
     "data": {
      "text/plain": [
       "children               0\n",
       "days_employed       2174\n",
       "dob_years              0\n",
       "education              0\n",
       "education_id           0\n",
       "family_status          0\n",
       "family_status_id       0\n",
       "gender                 0\n",
       "income_type            0\n",
       "debt                   0\n",
       "total_income        2174\n",
       "purpose                0\n",
       "dtype: int64"
      ]
     },
     "execution_count": 4,
     "metadata": {},
     "output_type": "execute_result"
    }
   ],
   "source": [
    "df.isna().sum()"
   ]
  },
  {
   "cell_type": "markdown",
   "id": "a95bb20d",
   "metadata": {},
   "source": [
    "<div class=\"alert alert-info\">\n",
    "\n",
    "## Поиск аномалий, дублиукатов и пустых значений в данных\n",
    "\n",
    "</div>"
   ]
  },
  {
   "cell_type": "markdown",
   "id": "3169ebba",
   "metadata": {},
   "source": [
    "<div class=\"alert alert-info\">\n",
    "\n",
    "### Поиск пропусков\n",
    "\n",
    "</div>"
   ]
  },
  {
   "cell_type": "code",
   "execution_count": 5,
   "id": "b84155f5",
   "metadata": {},
   "outputs": [
    {
     "name": "stdout",
     "output_type": "stream",
     "text": [
      "Доля пропущенных значений в столбце days_employed 0.10099883855981417\n",
      "Доля пропущенных значений в столбце total_income 0.10099883855981417\n"
     ]
    }
   ],
   "source": [
    "all_variables = df.shape[0]\n",
    "\n",
    "days_employed_nan = df['days_employed'].isna().sum()\n",
    "days_employed_proportion = days_employed_nan / all_variables\n",
    "\n",
    "total_income_nan = df['total_income'].isna().sum()\n",
    "total_income_proportion = total_income_nan / all_variables\n",
    "\n",
    "print('Доля пропущенных значений в столбце days_employed', days_employed_proportion)\n",
    "print('Доля пропущенных значений в столбце total_income', total_income_proportion)"
   ]
  },
  {
   "cell_type": "markdown",
   "id": "3ef98231",
   "metadata": {},
   "source": [
    "<div class=\"alert alert-info\">\n",
    "\n",
    "### Заполнение пропусков\n",
    "\n",
    "</div>"
   ]
  },
  {
   "cell_type": "code",
   "execution_count": 6,
   "id": "78fb8079",
   "metadata": {},
   "outputs": [],
   "source": [
    "#найдем среднее для каждого столбца с пропусками и сохраним в отдельные переменные\n",
    "days_employed_mean = df['days_employed'].mean()"
   ]
  },
  {
   "cell_type": "code",
   "execution_count": 7,
   "id": "1dc75d26",
   "metadata": {},
   "outputs": [],
   "source": [
    "#затем заменим пропуски в этих переменных на средние значения\n",
    "df['days_employed'] = df['days_employed'].fillna(days_employed_mean)"
   ]
  },
  {
   "cell_type": "code",
   "execution_count": 8,
   "id": "fb39c03e",
   "metadata": {},
   "outputs": [],
   "source": [
    "#total_income_mean = df['total_income'].mean()\n",
    "#df['total_income'] = df['total_income'].fillna(total_income_mean)\n",
    "df['median'] = df.groupby('income_type')['total_income'].transform('median')\n",
    "df['total_income'] = df['total_income'].fillna(df['median'])\n",
    "df = df.drop(columns = ['median'],axis = 1)"
   ]
  },
  {
   "cell_type": "code",
   "execution_count": 9,
   "id": "eed4a734",
   "metadata": {},
   "outputs": [
    {
     "data": {
      "text/plain": [
       "children            0\n",
       "days_employed       0\n",
       "dob_years           0\n",
       "education           0\n",
       "education_id        0\n",
       "family_status       0\n",
       "family_status_id    0\n",
       "gender              0\n",
       "income_type         0\n",
       "debt                0\n",
       "total_income        0\n",
       "purpose             0\n",
       "dtype: int64"
      ]
     },
     "execution_count": 9,
     "metadata": {},
     "output_type": "execute_result"
    }
   ],
   "source": [
    "#проверяем, что пропусков в столбцах days_employed и total_income не осталось\n",
    "df.isna().sum()"
   ]
  },
  {
   "cell_type": "markdown",
   "id": "7da2ceaa",
   "metadata": {},
   "source": [
    "Обработаем отрицательные значения в столбце days_employed\n",
    "мои предположения, откуда взялись эти данные:\n",
    "\n",
    "-дни стажа считали с какой-то конкретной даты, и поэтому стаж, начавшийся раньше этой даты почему-то считается отрицательно\n",
    "\n",
    "-дни стажа отнимали от возраста клиента, а не от его даты начала работы(когда стаж 0 дней)\n",
    "\n",
    "-невнимательность сотрудника, вносившего данные(это же относится к значению -1 в графе \"дети\")\n",
    "\n",
    "на самом деле меня не столько смущают отрицательные значения, сколько значение в 4 строке датасета: 340266.072047, если разделить это число на 365, то выходит стаж больше 932 лет?"
   ]
  },
  {
   "cell_type": "markdown",
   "id": "6306dd34",
   "metadata": {},
   "source": [
    "<div class=\"alert alert-info\">\n",
    "\n",
    "### Поиск аномалий\n",
    "\n",
    "</div>"
   ]
  },
  {
   "cell_type": "code",
   "execution_count": 10,
   "id": "62d71e85",
   "metadata": {},
   "outputs": [],
   "source": [
    "def unique_values(list_column):\n",
    "    for column in list_column:\n",
    "        print('Кол-во уникальных значений в столбце', column, '=', df[column].unique())\n",
    "        print()\n",
    "    "
   ]
  },
  {
   "cell_type": "code",
   "execution_count": 11,
   "id": "146861ac",
   "metadata": {},
   "outputs": [
    {
     "name": "stdout",
     "output_type": "stream",
     "text": [
      "Кол-во уникальных значений в столбце children = [ 1  0  3  2 -1  4 20  5]\n",
      "\n",
      "Кол-во уникальных значений в столбце days_employed = [-8437.67302776 -4024.80375385 -5623.42261023 ... -2113.3468877\n",
      " -3112.4817052  -1984.50758853]\n",
      "\n",
      "Кол-во уникальных значений в столбце dob_years = [42 36 33 32 53 27 43 50 35 41 40 65 54 56 26 48 24 21 57 67 28 63 62 47\n",
      " 34 68 25 31 30 20 49 37 45 61 64 44 52 46 23 38 39 51  0 59 29 60 55 58\n",
      " 71 22 73 66 69 19 72 70 74 75]\n",
      "\n",
      "Кол-во уникальных значений в столбце education = ['высшее' 'среднее' 'Среднее' 'СРЕДНЕЕ' 'ВЫСШЕЕ' 'неоконченное высшее'\n",
      " 'начальное' 'Высшее' 'НЕОКОНЧЕННОЕ ВЫСШЕЕ' 'Неоконченное высшее'\n",
      " 'НАЧАЛЬНОЕ' 'Начальное' 'Ученая степень' 'УЧЕНАЯ СТЕПЕНЬ'\n",
      " 'ученая степень']\n",
      "\n",
      "Кол-во уникальных значений в столбце education_id = [0 1 2 3 4]\n",
      "\n",
      "Кол-во уникальных значений в столбце family_status = ['женат / замужем' 'гражданский брак' 'вдовец / вдова' 'в разводе'\n",
      " 'Не женат / не замужем']\n",
      "\n",
      "Кол-во уникальных значений в столбце family_status_id = [0 1 2 3 4]\n",
      "\n",
      "Кол-во уникальных значений в столбце gender = ['F' 'M' 'XNA']\n",
      "\n",
      "Кол-во уникальных значений в столбце income_type = ['сотрудник' 'пенсионер' 'компаньон' 'госслужащий' 'безработный'\n",
      " 'предприниматель' 'студент' 'в декрете']\n",
      "\n",
      "Кол-во уникальных значений в столбце debt = [0 1]\n",
      "\n",
      "Кол-во уникальных значений в столбце total_income = [253875.6394526  112080.01410244 145885.95229686 ...  89672.56115303\n",
      " 244093.05050043  82047.41889948]\n",
      "\n",
      "Кол-во уникальных значений в столбце purpose = ['покупка жилья' 'приобретение автомобиля' 'дополнительное образование'\n",
      " 'сыграть свадьбу' 'операции с жильем' 'образование'\n",
      " 'на проведение свадьбы' 'покупка жилья для семьи' 'покупка недвижимости'\n",
      " 'покупка коммерческой недвижимости' 'покупка жилой недвижимости'\n",
      " 'строительство собственной недвижимости' 'недвижимость'\n",
      " 'строительство недвижимости' 'на покупку подержанного автомобиля'\n",
      " 'на покупку своего автомобиля' 'операции с коммерческой недвижимостью'\n",
      " 'строительство жилой недвижимости' 'жилье'\n",
      " 'операции со своей недвижимостью' 'автомобили' 'заняться образованием'\n",
      " 'сделка с подержанным автомобилем' 'получение образования' 'автомобиль'\n",
      " 'свадьба' 'получение дополнительного образования' 'покупка своего жилья'\n",
      " 'операции с недвижимостью' 'получение высшего образования'\n",
      " 'свой автомобиль' 'сделка с автомобилем' 'профильное образование'\n",
      " 'высшее образование' 'покупка жилья для сдачи' 'на покупку автомобиля'\n",
      " 'ремонт жилью' 'заняться высшим образованием']\n",
      "\n"
     ]
    }
   ],
   "source": [
    "list_column = ['children','days_employed','dob_years','education','education_id','family_status','family_status_id',\n",
    "              'gender','income_type','debt','total_income','purpose']\n",
    "unique_values(list_column)\n"
   ]
  },
  {
   "cell_type": "markdown",
   "id": "ebbb0d49",
   "metadata": {},
   "source": [
    "<div class=\"alert alert-info\">\n",
    "\n",
    "### Исправление аномалий\n",
    "\n",
    "</div>"
   ]
  },
  {
   "cell_type": "code",
   "execution_count": 12,
   "id": "61c03ef4",
   "metadata": {},
   "outputs": [],
   "source": [
    "df['days_employed'] = df['days_employed'].abs()\n",
    "df['children'] = df['children'].abs()\n",
    "df.loc[df['children'] == 20, 'children'] = 2"
   ]
  },
  {
   "cell_type": "code",
   "execution_count": 13,
   "id": "629b5d1e",
   "metadata": {},
   "outputs": [],
   "source": [
    "df['total_income'] = df['total_income'].astype(int)"
   ]
  },
  {
   "cell_type": "markdown",
   "id": "7002d660",
   "metadata": {},
   "source": [
    "<div class=\"alert alert-info\">\n",
    "\n",
    "### Поиск и удаление дубликатов\n",
    "\n",
    "</div>"
   ]
  },
  {
   "cell_type": "code",
   "execution_count": 14,
   "id": "a7a82a6a",
   "metadata": {},
   "outputs": [
    {
     "data": {
      "text/plain": [
       "54"
      ]
     },
     "execution_count": 14,
     "metadata": {},
     "output_type": "execute_result"
    }
   ],
   "source": [
    "df.duplicated().sum()"
   ]
  },
  {
   "cell_type": "code",
   "execution_count": 15,
   "id": "a4677d0a",
   "metadata": {},
   "outputs": [],
   "source": [
    "#для начала удалим явные дубликаты\n",
    "df = df.drop_duplicates().reset_index(drop=True)"
   ]
  },
  {
   "cell_type": "markdown",
   "id": "ff3c2c2b",
   "metadata": {},
   "source": [
    "<div class=\"alert alert-info\">\n",
    "\n",
    "### Поиск и удаление неявных дубликатов\n",
    "\n",
    "</div>"
   ]
  },
  {
   "cell_type": "code",
   "execution_count": 16,
   "id": "254dfc78",
   "metadata": {},
   "outputs": [],
   "source": [
    "def counts_values(list_categorys):\n",
    "    for column in list_categorys:\n",
    "        print('Категория' , column)\n",
    "        print( df[column].value_counts())\n",
    "        print()"
   ]
  },
  {
   "cell_type": "code",
   "execution_count": 17,
   "id": "7ca47541",
   "metadata": {},
   "outputs": [
    {
     "name": "stdout",
     "output_type": "stream",
     "text": [
      "Категория education\n",
      "среднее                13705\n",
      "высшее                  4710\n",
      "СРЕДНЕЕ                  772\n",
      "Среднее                  711\n",
      "неоконченное высшее      668\n",
      "ВЫСШЕЕ                   273\n",
      "Высшее                   268\n",
      "начальное                250\n",
      "Неоконченное высшее       47\n",
      "НЕОКОНЧЕННОЕ ВЫСШЕЕ       29\n",
      "НАЧАЛЬНОЕ                 17\n",
      "Начальное                 15\n",
      "ученая степень             4\n",
      "Ученая степень             1\n",
      "УЧЕНАЯ СТЕПЕНЬ             1\n",
      "Name: education, dtype: int64\n",
      "\n",
      "Категория family_status\n",
      "женат / замужем          12344\n",
      "гражданский брак          4163\n",
      "Не женат / не замужем     2810\n",
      "в разводе                 1195\n",
      "вдовец / вдова             959\n",
      "Name: family_status, dtype: int64\n",
      "\n",
      "Категория gender\n",
      "F      14189\n",
      "M       7281\n",
      "XNA        1\n",
      "Name: gender, dtype: int64\n",
      "\n",
      "Категория income_type\n",
      "сотрудник          11091\n",
      "компаньон           5080\n",
      "пенсионер           3837\n",
      "госслужащий         1457\n",
      "безработный            2\n",
      "предприниматель        2\n",
      "студент                1\n",
      "в декрете              1\n",
      "Name: income_type, dtype: int64\n",
      "\n"
     ]
    }
   ],
   "source": [
    "list_categorys = ['education','family_status','gender','income_type']\n",
    "counts_values(list_categorys)"
   ]
  },
  {
   "cell_type": "code",
   "execution_count": 18,
   "id": "d27c7d41",
   "metadata": {},
   "outputs": [],
   "source": [
    "#далее избавимся от неявных дубликатов в столбце education\n",
    "df['education'] = df['education'].str.lower()"
   ]
  },
  {
   "cell_type": "markdown",
   "id": "8e19e633",
   "metadata": {},
   "source": [
    "методом duplicated().sum() вычислила кол-во явных дубликатов, для таких целей этот метод подходит.\n",
    "\n",
    "методом value_counts() проверила все категориальные столбцы, чтобы было видно, есть ли неявные дубликаты, таким образом было видно, что в столбце education значения повторяются с разными регистрами\n",
    "\n",
    "этим же методом value_counts() проверила остальные столбцы, в них нет неявных дубликатов, однако есть странный тип гендера: XNA. Выяснить по таблице гендер и заполнить вручную не представляется возможным, поэтому оставлю как есть\n",
    "\n",
    "Дубли могли появиться как в результате технической ошибки(программа-обработчик записала данные одного и того же клиента 2 раза), так и по невнимательности сотрудника"
   ]
  },
  {
   "cell_type": "markdown",
   "id": "dac440e8",
   "metadata": {},
   "source": [
    "<div class=\"alert alert-info\">\n",
    "\n",
    "## Создание таблиц со справочной информацией\n",
    "\n",
    "</div>"
   ]
  },
  {
   "cell_type": "code",
   "execution_count": 19,
   "id": "d27e6f4d",
   "metadata": {},
   "outputs": [
    {
     "name": "stdout",
     "output_type": "stream",
     "text": [
      "<class 'pandas.core.frame.DataFrame'>\n",
      "RangeIndex: 5 entries, 0 to 4\n",
      "Data columns (total 2 columns):\n",
      " #   Column        Non-Null Count  Dtype \n",
      "---  ------        --------------  ----- \n",
      " 0   education     5 non-null      object\n",
      " 1   education_id  5 non-null      int64 \n",
      "dtypes: int64(1), object(1)\n",
      "memory usage: 208.0+ bytes\n"
     ]
    }
   ],
   "source": [
    "education_dict = df[['education', 'education_id']]\n",
    "education_dict = education_dict.drop_duplicates().reset_index(drop=True)\n",
    "education_dict.info()"
   ]
  },
  {
   "cell_type": "code",
   "execution_count": 20,
   "id": "9bb9f7aa",
   "metadata": {},
   "outputs": [
    {
     "name": "stdout",
     "output_type": "stream",
     "text": [
      "<class 'pandas.core.frame.DataFrame'>\n",
      "RangeIndex: 5 entries, 0 to 4\n",
      "Data columns (total 2 columns):\n",
      " #   Column            Non-Null Count  Dtype \n",
      "---  ------            --------------  ----- \n",
      " 0   family_status_id  5 non-null      int64 \n",
      " 1   family_status     5 non-null      object\n",
      "dtypes: int64(1), object(1)\n",
      "memory usage: 208.0+ bytes\n"
     ]
    }
   ],
   "source": [
    "family_status_dict = df[['family_status_id', 'family_status']]\n",
    "family_status_dict = family_status_dict.drop_duplicates().reset_index(drop=True)\n",
    "family_status_dict.info()"
   ]
  },
  {
   "cell_type": "code",
   "execution_count": 21,
   "id": "2ce1b015",
   "metadata": {},
   "outputs": [
    {
     "name": "stdout",
     "output_type": "stream",
     "text": [
      "<class 'pandas.core.frame.DataFrame'>\n",
      "RangeIndex: 21471 entries, 0 to 21470\n",
      "Data columns (total 10 columns):\n",
      " #   Column            Non-Null Count  Dtype  \n",
      "---  ------            --------------  -----  \n",
      " 0   children          21471 non-null  int64  \n",
      " 1   days_employed     21471 non-null  float64\n",
      " 2   dob_years         21471 non-null  int64  \n",
      " 3   education_id      21471 non-null  int64  \n",
      " 4   family_status_id  21471 non-null  int64  \n",
      " 5   gender            21471 non-null  object \n",
      " 6   income_type       21471 non-null  object \n",
      " 7   debt              21471 non-null  int64  \n",
      " 8   total_income      21471 non-null  int64  \n",
      " 9   purpose           21471 non-null  object \n",
      "dtypes: float64(1), int64(6), object(3)\n",
      "memory usage: 1.6+ MB\n"
     ]
    }
   ],
   "source": [
    "df = df.drop(['education', 'family_status'], axis='columns')\n",
    "df.info()"
   ]
  },
  {
   "cell_type": "markdown",
   "id": "f81134c6",
   "metadata": {},
   "source": [
    "<div class=\"alert alert-info\">\n",
    "\n",
    "## Категоризация клиентов по доходу\n",
    "\n",
    "</div>"
   ]
  },
  {
   "cell_type": "code",
   "execution_count": 22,
   "id": "847d8c40",
   "metadata": {},
   "outputs": [],
   "source": [
    "#создадим функцию, которая принимает на вход строку датасета и обрабатывает значения в столбце total_income\n",
    "#в результате функция возвращает категорию в зависиомсти от дохода\n",
    "def total_income_categorys(row):\n",
    "    if 0 < row['total_income'] < 30000:\n",
    "        return 'E'\n",
    "    elif 30001 < row['total_income'] < 50000:\n",
    "        return 'D'\n",
    "    elif 50001 < row['total_income'] < 200000:\n",
    "        return 'C'\n",
    "    elif 200001 < row['total_income'] < 1000000:\n",
    "        return 'B'\n",
    "    elif row['total_income'] > 1000001:\n",
    "        return 'A'"
   ]
  },
  {
   "cell_type": "code",
   "execution_count": 23,
   "id": "2927dbb8",
   "metadata": {},
   "outputs": [],
   "source": [
    "#создадим переменную total_income_category и запишем в нее результат работы функции total_income_categorys\n",
    "df['total_income_category'] = df.apply(total_income_categorys, axis=1)"
   ]
  },
  {
   "cell_type": "markdown",
   "id": "dbc1a8c3",
   "metadata": {},
   "source": [
    "создадим функцию, которая распределит по категориям нужды клиентов\n",
    "\n",
    "‘операции с автомобилем’,\n",
    "‘операции с недвижимостью’,\n",
    "‘проведение свадьбы’,\n",
    "‘получение образования’\n",
    "\n",
    "для начала узнаем какие вообще есть значение в столбце purpose"
   ]
  },
  {
   "cell_type": "code",
   "execution_count": 24,
   "id": "0c0eeb0f",
   "metadata": {},
   "outputs": [
    {
     "data": {
      "text/plain": [
       "array(['покупка жилья', 'приобретение автомобиля',\n",
       "       'дополнительное образование', 'сыграть свадьбу',\n",
       "       'операции с жильем', 'образование', 'на проведение свадьбы',\n",
       "       'покупка жилья для семьи', 'покупка недвижимости',\n",
       "       'покупка коммерческой недвижимости', 'покупка жилой недвижимости',\n",
       "       'строительство собственной недвижимости', 'недвижимость',\n",
       "       'строительство недвижимости', 'на покупку подержанного автомобиля',\n",
       "       'на покупку своего автомобиля',\n",
       "       'операции с коммерческой недвижимостью',\n",
       "       'строительство жилой недвижимости', 'жилье',\n",
       "       'операции со своей недвижимостью', 'автомобили',\n",
       "       'заняться образованием', 'сделка с подержанным автомобилем',\n",
       "       'получение образования', 'автомобиль', 'свадьба',\n",
       "       'получение дополнительного образования', 'покупка своего жилья',\n",
       "       'операции с недвижимостью', 'получение высшего образования',\n",
       "       'свой автомобиль', 'сделка с автомобилем',\n",
       "       'профильное образование', 'высшее образование',\n",
       "       'покупка жилья для сдачи', 'на покупку автомобиля', 'ремонт жилью',\n",
       "       'заняться высшим образованием'], dtype=object)"
      ]
     },
     "execution_count": 24,
     "metadata": {},
     "output_type": "execute_result"
    }
   ],
   "source": [
    "df['purpose'].unique()"
   ]
  },
  {
   "cell_type": "markdown",
   "id": "81ab9fad",
   "metadata": {},
   "source": [
    "значение, связанные с проведением свадьбы, можно отфильтровать по подстроке \"свадьб\"\n",
    "\n",
    "значения, связанные с образованием, можно отфильтровать по подстроке \"образован\"\n",
    "\n",
    "значения, связанные с авто, можно отфильтровать по подстроке \"авто\"\n",
    "\n",
    "значени, связанные с покупкой недвижки, можно отфильтровать по подстрокам \"недвиж\" и \"жиль\" \n",
    "\n",
    "создадим функцию, которая обработает такие подстроки и создать нужные категории"
   ]
  },
  {
   "cell_type": "code",
   "execution_count": 25,
   "id": "fd415815",
   "metadata": {},
   "outputs": [],
   "source": [
    "#создадим функцию, которая принимает на вход строку датасета и обрабатывает значения в столбце purpose\n",
    "#в результате функция возвращает категорию в зависиомсти от запроса клиента на кредит\n",
    "def purpose_categorys(row):\n",
    "    if 'свадьб' in row['purpose']:\n",
    "        return 'проведение свадьбы'\n",
    "    elif 'образован' in row['purpose']:\n",
    "        return 'получение образования'\n",
    "    elif 'авто' in row['purpose']:\n",
    "        return 'операции с автомобилем'\n",
    "    elif 'недвиж' in ['purpose'] or 'жиль' in row['purpose']:\n",
    "        return 'операции с недвижимостью'"
   ]
  },
  {
   "cell_type": "code",
   "execution_count": 26,
   "id": "f132b11d",
   "metadata": {},
   "outputs": [],
   "source": [
    "#создадим переменную purpose_category и запишем в нее результат работы функции purpose_categorys\n",
    "df['purpose_category'] = df.apply(purpose_categorys, axis=1)"
   ]
  },
  {
   "cell_type": "markdown",
   "id": "2420628f",
   "metadata": {},
   "source": [
    "<div class=\"alert alert-info\">\n",
    "\n",
    "## Поиск закономерностей в данных\n",
    "\n",
    "</div>"
   ]
  },
  {
   "cell_type": "markdown",
   "id": "c16dfcab",
   "metadata": {},
   "source": [
    "<div class=\"alert alert-info\">\n",
    "\n",
    "### Есть ли зависимость между количеством детей и возвратом кредита в срок?\n",
    "\n",
    "</div>"
   ]
  },
  {
   "cell_type": "code",
   "execution_count": 27,
   "id": "e05a756e",
   "metadata": {},
   "outputs": [
    {
     "data": {
      "text/html": [
       "<div>\n",
       "<style scoped>\n",
       "    .dataframe tbody tr th:only-of-type {\n",
       "        vertical-align: middle;\n",
       "    }\n",
       "\n",
       "    .dataframe tbody tr th {\n",
       "        vertical-align: top;\n",
       "    }\n",
       "\n",
       "    .dataframe thead th {\n",
       "        text-align: right;\n",
       "    }\n",
       "</style>\n",
       "<table border=\"1\" class=\"dataframe\">\n",
       "  <thead>\n",
       "    <tr style=\"text-align: right;\">\n",
       "      <th></th>\n",
       "      <th>debt</th>\n",
       "    </tr>\n",
       "    <tr>\n",
       "      <th>children</th>\n",
       "      <th></th>\n",
       "    </tr>\n",
       "  </thead>\n",
       "  <tbody>\n",
       "    <tr>\n",
       "      <th>0</th>\n",
       "      <td>7.535266</td>\n",
       "    </tr>\n",
       "    <tr>\n",
       "      <th>1</th>\n",
       "      <td>9.163921</td>\n",
       "    </tr>\n",
       "    <tr>\n",
       "      <th>2</th>\n",
       "      <td>9.492481</td>\n",
       "    </tr>\n",
       "    <tr>\n",
       "      <th>3</th>\n",
       "      <td>8.181818</td>\n",
       "    </tr>\n",
       "    <tr>\n",
       "      <th>4</th>\n",
       "      <td>9.756098</td>\n",
       "    </tr>\n",
       "    <tr>\n",
       "      <th>5</th>\n",
       "      <td>0.000000</td>\n",
       "    </tr>\n",
       "  </tbody>\n",
       "</table>\n",
       "</div>"
      ],
      "text/plain": [
       "              debt\n",
       "children          \n",
       "0         7.535266\n",
       "1         9.163921\n",
       "2         9.492481\n",
       "3         8.181818\n",
       "4         9.756098\n",
       "5         0.000000"
      ]
     },
     "execution_count": 27,
     "metadata": {},
     "output_type": "execute_result"
    }
   ],
   "source": [
    "debt_children = df[['children', 'debt']]\n",
    "debt_children_corr = debt_children.groupby('children').sum() / debt_children.groupby('children').count() * 100\n",
    "pd.pivot_table(debt_children_corr, index='children')\n",
    "\n",
    "\n"
   ]
  },
  {
   "cell_type": "markdown",
   "id": "672e3edf",
   "metadata": {},
   "source": [
    "Есть ли зависимость между количеством детей и возвратом кредита в срок?\n",
    "\n",
    "Зависимость есть, процент просрочки по кредиту находится в диапазоне 7-9%, заемщики без детей всего на 2% реже возвращают кредит с просрочкой"
   ]
  },
  {
   "cell_type": "markdown",
   "id": "6df1715a",
   "metadata": {},
   "source": [
    "<div class=\"alert alert-info\">\n",
    "\n",
    "### Есть ли зависимость между семейным положением и возвратом кредита в срок?\n",
    "\n",
    "</div>"
   ]
  },
  {
   "cell_type": "code",
   "execution_count": 28,
   "id": "ed65622c",
   "metadata": {},
   "outputs": [
    {
     "data": {
      "text/html": [
       "<div>\n",
       "<style scoped>\n",
       "    .dataframe tbody tr th:only-of-type {\n",
       "        vertical-align: middle;\n",
       "    }\n",
       "\n",
       "    .dataframe tbody tr th {\n",
       "        vertical-align: top;\n",
       "    }\n",
       "\n",
       "    .dataframe thead th {\n",
       "        text-align: right;\n",
       "    }\n",
       "</style>\n",
       "<table border=\"1\" class=\"dataframe\">\n",
       "  <thead>\n",
       "    <tr style=\"text-align: right;\">\n",
       "      <th></th>\n",
       "      <th>debt</th>\n",
       "    </tr>\n",
       "    <tr>\n",
       "      <th>family_status_id</th>\n",
       "      <th></th>\n",
       "    </tr>\n",
       "  </thead>\n",
       "  <tbody>\n",
       "    <tr>\n",
       "      <th>0</th>\n",
       "      <td>7.542126</td>\n",
       "    </tr>\n",
       "    <tr>\n",
       "      <th>1</th>\n",
       "      <td>9.320202</td>\n",
       "    </tr>\n",
       "    <tr>\n",
       "      <th>2</th>\n",
       "      <td>6.569343</td>\n",
       "    </tr>\n",
       "    <tr>\n",
       "      <th>3</th>\n",
       "      <td>7.112971</td>\n",
       "    </tr>\n",
       "    <tr>\n",
       "      <th>4</th>\n",
       "      <td>9.750890</td>\n",
       "    </tr>\n",
       "  </tbody>\n",
       "</table>\n",
       "</div>"
      ],
      "text/plain": [
       "                      debt\n",
       "family_status_id          \n",
       "0                 7.542126\n",
       "1                 9.320202\n",
       "2                 6.569343\n",
       "3                 7.112971\n",
       "4                 9.750890"
      ]
     },
     "execution_count": 28,
     "metadata": {},
     "output_type": "execute_result"
    }
   ],
   "source": [
    "debt_family = df[['family_status_id', 'debt']]\n",
    "debt_family_corr = debt_family.groupby('family_status_id').sum() / debt_family.groupby('family_status_id').count() * 100\n",
    "#display(debt_family_corr)\n",
    "pd.pivot_table(debt_family_corr, index='family_status_id')\n"
   ]
  },
  {
   "cell_type": "markdown",
   "id": "c9aef5d5",
   "metadata": {},
   "source": [
    "Есть ли зависимость между семейным положением и возвратом кредита в срок\n",
    "\n",
    "Зависимость есть, процент просрочки по кредиту находится в диапазоне от 6 до почти 10%, самые большие проценты должников у неженатых заемщиков, либо тех, кто живет в гражданском браке"
   ]
  },
  {
   "cell_type": "markdown",
   "id": "091393c8",
   "metadata": {},
   "source": [
    "<div class=\"alert alert-info\">\n",
    "\n",
    "### Есть ли зависимость между уровнем дохода и возвратом кредита в срок?\n",
    "\n",
    "</div>"
   ]
  },
  {
   "cell_type": "code",
   "execution_count": 29,
   "id": "ada37042",
   "metadata": {},
   "outputs": [
    {
     "data": {
      "text/html": [
       "<div>\n",
       "<style scoped>\n",
       "    .dataframe tbody tr th:only-of-type {\n",
       "        vertical-align: middle;\n",
       "    }\n",
       "\n",
       "    .dataframe tbody tr th {\n",
       "        vertical-align: top;\n",
       "    }\n",
       "\n",
       "    .dataframe thead th {\n",
       "        text-align: right;\n",
       "    }\n",
       "</style>\n",
       "<table border=\"1\" class=\"dataframe\">\n",
       "  <thead>\n",
       "    <tr style=\"text-align: right;\">\n",
       "      <th></th>\n",
       "      <th>debt</th>\n",
       "    </tr>\n",
       "    <tr>\n",
       "      <th>total_income_category</th>\n",
       "      <th></th>\n",
       "    </tr>\n",
       "  </thead>\n",
       "  <tbody>\n",
       "    <tr>\n",
       "      <th>A</th>\n",
       "      <td>8.000000</td>\n",
       "    </tr>\n",
       "    <tr>\n",
       "      <th>B</th>\n",
       "      <td>7.062091</td>\n",
       "    </tr>\n",
       "    <tr>\n",
       "      <th>C</th>\n",
       "      <td>8.483034</td>\n",
       "    </tr>\n",
       "    <tr>\n",
       "      <th>D</th>\n",
       "      <td>6.000000</td>\n",
       "    </tr>\n",
       "    <tr>\n",
       "      <th>E</th>\n",
       "      <td>9.090909</td>\n",
       "    </tr>\n",
       "  </tbody>\n",
       "</table>\n",
       "</div>"
      ],
      "text/plain": [
       "                           debt\n",
       "total_income_category          \n",
       "A                      8.000000\n",
       "B                      7.062091\n",
       "C                      8.483034\n",
       "D                      6.000000\n",
       "E                      9.090909"
      ]
     },
     "execution_count": 29,
     "metadata": {},
     "output_type": "execute_result"
    }
   ],
   "source": [
    "debt_income = df[['total_income_category', 'debt']]\n",
    "debt_income_corr = debt_income.groupby('total_income_category').sum() / debt_income.groupby('total_income_category').count() * 100\n",
    "#display(debt_income_corr)\n",
    "pd.pivot_table(debt_income_corr, index='total_income_category')\n"
   ]
  },
  {
   "cell_type": "markdown",
   "id": "6a7b2b41",
   "metadata": {},
   "source": [
    "Есть ли зависимость между уровнем дохода и возвратом кредита в срок?\n",
    "\n",
    "Зависимость есть, процент просрочки по кредиту находится в диапазоне от 6 до почти 9%, самыми добропорядочными являются заемщики с достатком от 30001 до 50000. Так же интересен факт, что процент просрочек у заемщиков с наименьшим достатком всего на 1% выше, чем у заевщиков с наибольшим достатком"
   ]
  },
  {
   "cell_type": "markdown",
   "id": "66f20c5d",
   "metadata": {},
   "source": [
    "<div class=\"alert alert-info\">\n",
    "\n",
    "### Как разные цели кредита влияют на его возврат в срок?\n",
    "\n",
    "</div>"
   ]
  },
  {
   "cell_type": "code",
   "execution_count": 30,
   "id": "70b750fe",
   "metadata": {},
   "outputs": [
    {
     "data": {
      "text/html": [
       "<div>\n",
       "<style scoped>\n",
       "    .dataframe tbody tr th:only-of-type {\n",
       "        vertical-align: middle;\n",
       "    }\n",
       "\n",
       "    .dataframe tbody tr th {\n",
       "        vertical-align: top;\n",
       "    }\n",
       "\n",
       "    .dataframe thead th {\n",
       "        text-align: right;\n",
       "    }\n",
       "</style>\n",
       "<table border=\"1\" class=\"dataframe\">\n",
       "  <thead>\n",
       "    <tr style=\"text-align: right;\">\n",
       "      <th></th>\n",
       "      <th>debt</th>\n",
       "    </tr>\n",
       "    <tr>\n",
       "      <th>purpose_category</th>\n",
       "      <th></th>\n",
       "    </tr>\n",
       "  </thead>\n",
       "  <tbody>\n",
       "    <tr>\n",
       "      <th>операции с автомобилем</th>\n",
       "      <td>9.354689</td>\n",
       "    </tr>\n",
       "    <tr>\n",
       "      <th>операции с недвижимостью</th>\n",
       "      <td>6.904282</td>\n",
       "    </tr>\n",
       "    <tr>\n",
       "      <th>получение образования</th>\n",
       "      <td>9.217738</td>\n",
       "    </tr>\n",
       "    <tr>\n",
       "      <th>проведение свадьбы</th>\n",
       "      <td>7.965739</td>\n",
       "    </tr>\n",
       "  </tbody>\n",
       "</table>\n",
       "</div>"
      ],
      "text/plain": [
       "                              debt\n",
       "purpose_category                  \n",
       "операции с автомобилем    9.354689\n",
       "операции с недвижимостью  6.904282\n",
       "получение образования     9.217738\n",
       "проведение свадьбы        7.965739"
      ]
     },
     "execution_count": 30,
     "metadata": {},
     "output_type": "execute_result"
    }
   ],
   "source": [
    "debt_purpose_corr = df[['purpose_category', 'debt']].groupby('purpose_category').sum() / df[['purpose_category', 'debt']].groupby('purpose_category').count() * 100\n",
    "#display(debt_purpose_corr)\n",
    "pd.pivot_table(debt_purpose_corr, index='purpose_category')\n"
   ]
  },
  {
   "cell_type": "markdown",
   "id": "f4d291cc",
   "metadata": {},
   "source": [
    "Как разные цели кредита влияют на его возврат в срок?\n",
    "\n",
    "Зависимость есть, процент просрочки по кредиту находится в диапазоне 7-9%. Чаще всего кредит в срок возвращают заемщики, у которых цель получения кредита связана с недвижимостью."
   ]
  },
  {
   "cell_type": "markdown",
   "id": "554da7f0",
   "metadata": {},
   "source": [
    "<div class=\"alert alert-info\">\n",
    "\n",
    "## Общий вывод:\n",
    "\n",
    "Была проанализорована таблица заявок на получение кредита для различных групп клиентов на нужды 4 типов:\n",
    "\n",
    "операции с недвижимостью\n",
    "операции с автомобилем\n",
    "получение образования\n",
    "проведение свадьбы\n",
    "\n",
    "из датасета удалены дубликаты, устранены артефакты, а так же созданы 2 справочника: семеного положения и уровня образования\n",
    "\n",
    "Были проведены исследования влияния различных факторов на возврат клиентом кредита в срок. Судя по результатам, кол-во детей, уровень достатка или же причина взятия кредита влияет на показатель, возвращает ли клиент кредит в срок, но во всех случаях процент неуплаты кредита в срок лежит в диапазоне 6-10%\n",
    "    \n",
    "</div>"
   ]
  },
  {
   "cell_type": "code",
   "execution_count": 31,
   "id": "ddb552f3",
   "metadata": {},
   "outputs": [
    {
     "data": {
      "text/plain": [
       "'22.08.2022 21:13'"
      ]
     },
     "execution_count": 31,
     "metadata": {},
     "output_type": "execute_result"
    }
   ],
   "source": [
    "import datetime as dt\n",
    "dt.datetime.today().strftime(\"%d.%m.%Y %H:%M\")"
   ]
  },
  {
   "cell_type": "code",
   "execution_count": null,
   "id": "d16eecd7",
   "metadata": {},
   "outputs": [],
   "source": []
  }
 ],
 "metadata": {
  "ExecuteTimeLog": [
   {
    "duration": 514,
    "start_time": "2022-03-12T18:28:53.587Z"
   },
   {
    "duration": 1289,
    "start_time": "2022-03-12T18:28:54.103Z"
   },
   {
    "duration": 17,
    "start_time": "2022-03-12T18:28:55.377Z"
   },
   {
    "duration": 15,
    "start_time": "2022-03-12T18:28:55.380Z"
   },
   {
    "duration": 13,
    "start_time": "2022-03-12T18:28:55.383Z"
   },
   {
    "duration": 1,
    "start_time": "2022-03-12T18:28:55.396Z"
   },
   {
    "duration": -1,
    "start_time": "2022-03-12T18:28:55.399Z"
   },
   {
    "duration": -3,
    "start_time": "2022-03-12T18:28:55.401Z"
   },
   {
    "duration": -5,
    "start_time": "2022-03-12T18:28:55.404Z"
   },
   {
    "duration": -7,
    "start_time": "2022-03-12T18:28:55.407Z"
   },
   {
    "duration": -8,
    "start_time": "2022-03-12T18:28:55.409Z"
   },
   {
    "duration": -9,
    "start_time": "2022-03-12T18:28:55.411Z"
   },
   {
    "duration": -11,
    "start_time": "2022-03-12T18:28:55.414Z"
   },
   {
    "duration": -12,
    "start_time": "2022-03-12T18:28:55.416Z"
   },
   {
    "duration": -14,
    "start_time": "2022-03-12T18:28:55.418Z"
   },
   {
    "duration": -16,
    "start_time": "2022-03-12T18:28:55.421Z"
   },
   {
    "duration": -18,
    "start_time": "2022-03-12T18:28:55.424Z"
   },
   {
    "duration": -19,
    "start_time": "2022-03-12T18:28:55.426Z"
   },
   {
    "duration": -20,
    "start_time": "2022-03-12T18:28:55.428Z"
   },
   {
    "duration": -20,
    "start_time": "2022-03-12T18:28:55.430Z"
   },
   {
    "duration": -21,
    "start_time": "2022-03-12T18:28:55.432Z"
   },
   {
    "duration": -22,
    "start_time": "2022-03-12T18:28:55.434Z"
   },
   {
    "duration": -23,
    "start_time": "2022-03-12T18:28:55.436Z"
   },
   {
    "duration": -25,
    "start_time": "2022-03-12T18:28:55.438Z"
   },
   {
    "duration": -26,
    "start_time": "2022-03-12T18:28:55.440Z"
   },
   {
    "duration": -27,
    "start_time": "2022-03-12T18:28:55.442Z"
   },
   {
    "duration": 700,
    "start_time": "2022-03-14T07:17:53.636Z"
   },
   {
    "duration": 224,
    "start_time": "2022-03-14T07:17:54.339Z"
   },
   {
    "duration": 41,
    "start_time": "2022-03-14T07:17:54.567Z"
   },
   {
    "duration": 15,
    "start_time": "2022-03-14T07:17:54.612Z"
   },
   {
    "duration": 8,
    "start_time": "2022-03-14T07:17:54.630Z"
   },
   {
    "duration": 5,
    "start_time": "2022-03-14T07:17:54.641Z"
   },
   {
    "duration": 6,
    "start_time": "2022-03-14T07:17:54.688Z"
   },
   {
    "duration": 7,
    "start_time": "2022-03-14T07:17:54.697Z"
   },
   {
    "duration": 7,
    "start_time": "2022-03-14T07:17:54.708Z"
   },
   {
    "duration": 13,
    "start_time": "2022-03-14T07:17:54.718Z"
   },
   {
    "duration": 5,
    "start_time": "2022-03-14T07:17:54.734Z"
   },
   {
    "duration": 46,
    "start_time": "2022-03-14T07:17:54.741Z"
   },
   {
    "duration": 29,
    "start_time": "2022-03-14T07:17:54.789Z"
   },
   {
    "duration": 16,
    "start_time": "2022-03-14T07:17:54.820Z"
   },
   {
    "duration": 14,
    "start_time": "2022-03-14T07:17:54.838Z"
   },
   {
    "duration": 36,
    "start_time": "2022-03-14T07:17:54.855Z"
   },
   {
    "duration": 6,
    "start_time": "2022-03-14T07:17:54.894Z"
   },
   {
    "duration": 7,
    "start_time": "2022-03-14T07:17:54.902Z"
   },
   {
    "duration": 887,
    "start_time": "2022-03-14T07:17:54.912Z"
   },
   {
    "duration": 8,
    "start_time": "2022-03-14T07:17:55.801Z"
   },
   {
    "duration": 5,
    "start_time": "2022-03-14T07:17:55.811Z"
   },
   {
    "duration": 873,
    "start_time": "2022-03-14T07:17:55.818Z"
   },
   {
    "duration": 30,
    "start_time": "2022-03-14T07:17:56.694Z"
   },
   {
    "duration": 28,
    "start_time": "2022-03-14T07:17:56.727Z"
   },
   {
    "duration": 51,
    "start_time": "2022-03-14T07:17:56.757Z"
   },
   {
    "duration": 28,
    "start_time": "2022-03-14T07:17:56.811Z"
   },
   {
    "duration": 6,
    "start_time": "2022-03-14T07:17:56.845Z"
   },
   {
    "duration": 562,
    "start_time": "2022-03-14T16:49:52.271Z"
   },
   {
    "duration": 232,
    "start_time": "2022-03-14T16:49:52.835Z"
   },
   {
    "duration": 26,
    "start_time": "2022-03-14T16:49:53.070Z"
   },
   {
    "duration": 11,
    "start_time": "2022-03-14T16:49:53.099Z"
   },
   {
    "duration": 7,
    "start_time": "2022-03-14T16:49:53.111Z"
   },
   {
    "duration": 6,
    "start_time": "2022-03-14T16:49:53.119Z"
   },
   {
    "duration": 7,
    "start_time": "2022-03-14T16:49:53.127Z"
   },
   {
    "duration": 27,
    "start_time": "2022-03-14T16:49:53.137Z"
   },
   {
    "duration": 8,
    "start_time": "2022-03-14T16:49:53.166Z"
   },
   {
    "duration": 13,
    "start_time": "2022-03-14T16:49:53.175Z"
   },
   {
    "duration": 4,
    "start_time": "2022-03-14T16:49:53.190Z"
   },
   {
    "duration": 14,
    "start_time": "2022-03-14T16:49:53.196Z"
   },
   {
    "duration": 23,
    "start_time": "2022-03-14T16:49:53.212Z"
   },
   {
    "duration": 27,
    "start_time": "2022-03-14T16:49:53.236Z"
   },
   {
    "duration": 12,
    "start_time": "2022-03-14T16:49:53.265Z"
   },
   {
    "duration": 7,
    "start_time": "2022-03-14T16:49:53.279Z"
   },
   {
    "duration": 4,
    "start_time": "2022-03-14T16:49:53.288Z"
   },
   {
    "duration": 7,
    "start_time": "2022-03-14T16:49:53.294Z"
   },
   {
    "duration": 497,
    "start_time": "2022-03-14T16:49:53.303Z"
   },
   {
    "duration": 6,
    "start_time": "2022-03-14T16:49:53.802Z"
   },
   {
    "duration": 6,
    "start_time": "2022-03-14T16:49:53.810Z"
   },
   {
    "duration": 505,
    "start_time": "2022-03-14T16:49:53.818Z"
   },
   {
    "duration": 19,
    "start_time": "2022-03-14T16:49:54.326Z"
   },
   {
    "duration": 31,
    "start_time": "2022-03-14T16:49:54.347Z"
   },
   {
    "duration": 17,
    "start_time": "2022-03-14T16:49:54.380Z"
   },
   {
    "duration": 17,
    "start_time": "2022-03-14T16:49:54.398Z"
   },
   {
    "duration": 4,
    "start_time": "2022-03-14T16:49:54.416Z"
   },
   {
    "duration": 3,
    "start_time": "2022-03-14T17:15:53.717Z"
   },
   {
    "duration": 4,
    "start_time": "2022-03-14T17:18:36.637Z"
   },
   {
    "duration": 74,
    "start_time": "2022-03-14T17:28:23.312Z"
   },
   {
    "duration": 598,
    "start_time": "2022-03-14T17:29:08.168Z"
   },
   {
    "duration": 187,
    "start_time": "2022-03-14T17:29:08.767Z"
   },
   {
    "duration": 24,
    "start_time": "2022-03-14T17:29:08.959Z"
   },
   {
    "duration": 8,
    "start_time": "2022-03-14T17:29:08.985Z"
   },
   {
    "duration": 5,
    "start_time": "2022-03-14T17:29:08.995Z"
   },
   {
    "duration": 5,
    "start_time": "2022-03-14T17:29:09.002Z"
   },
   {
    "duration": 7,
    "start_time": "2022-03-14T17:29:09.008Z"
   },
   {
    "duration": 7,
    "start_time": "2022-03-14T17:29:09.017Z"
   },
   {
    "duration": 5,
    "start_time": "2022-03-14T17:29:09.026Z"
   },
   {
    "duration": 36,
    "start_time": "2022-03-14T17:29:09.032Z"
   },
   {
    "duration": 3,
    "start_time": "2022-03-14T17:29:09.070Z"
   },
   {
    "duration": 3,
    "start_time": "2022-03-14T17:29:09.075Z"
   },
   {
    "duration": 20,
    "start_time": "2022-03-14T17:29:09.080Z"
   },
   {
    "duration": 11,
    "start_time": "2022-03-14T17:29:09.102Z"
   },
   {
    "duration": 13,
    "start_time": "2022-03-14T17:29:09.114Z"
   },
   {
    "duration": 35,
    "start_time": "2022-03-14T17:29:09.129Z"
   },
   {
    "duration": 5,
    "start_time": "2022-03-14T17:29:09.166Z"
   },
   {
    "duration": 6,
    "start_time": "2022-03-14T17:29:09.172Z"
   },
   {
    "duration": 498,
    "start_time": "2022-03-14T17:29:09.179Z"
   },
   {
    "duration": 5,
    "start_time": "2022-03-14T17:29:09.679Z"
   },
   {
    "duration": 4,
    "start_time": "2022-03-14T17:29:09.685Z"
   },
   {
    "duration": 487,
    "start_time": "2022-03-14T17:29:09.690Z"
   },
   {
    "duration": 19,
    "start_time": "2022-03-14T17:29:10.178Z"
   },
   {
    "duration": 16,
    "start_time": "2022-03-14T17:29:10.199Z"
   },
   {
    "duration": 18,
    "start_time": "2022-03-14T17:29:10.217Z"
   },
   {
    "duration": 40,
    "start_time": "2022-03-14T17:29:10.238Z"
   },
   {
    "duration": 3,
    "start_time": "2022-03-14T17:29:10.280Z"
   },
   {
    "duration": 61,
    "start_time": "2022-03-16T15:41:35.808Z"
   },
   {
    "duration": 211,
    "start_time": "2022-03-16T15:43:53.096Z"
   },
   {
    "duration": 526,
    "start_time": "2022-03-16T15:44:43.259Z"
   },
   {
    "duration": 154,
    "start_time": "2022-03-16T15:44:44.784Z"
   },
   {
    "duration": 24,
    "start_time": "2022-03-16T15:44:47.814Z"
   },
   {
    "duration": 10,
    "start_time": "2022-03-16T15:44:52.159Z"
   },
   {
    "duration": 6,
    "start_time": "2022-03-16T15:45:14.164Z"
   },
   {
    "duration": 3,
    "start_time": "2022-03-16T15:45:29.904Z"
   },
   {
    "duration": 4,
    "start_time": "2022-03-16T15:45:31.650Z"
   },
   {
    "duration": 30,
    "start_time": "2022-03-16T15:45:34.513Z"
   },
   {
    "duration": 10,
    "start_time": "2022-03-16T15:45:58.190Z"
   },
   {
    "duration": 209,
    "start_time": "2022-03-16T15:47:01.562Z"
   },
   {
    "duration": 9,
    "start_time": "2022-03-16T15:48:35.074Z"
   },
   {
    "duration": 6,
    "start_time": "2022-03-16T15:48:54.846Z"
   },
   {
    "duration": 63,
    "start_time": "2022-03-16T15:52:09.698Z"
   },
   {
    "duration": 67,
    "start_time": "2022-03-16T15:52:19.422Z"
   },
   {
    "duration": 107,
    "start_time": "2022-03-16T15:52:30.698Z"
   },
   {
    "duration": 3,
    "start_time": "2022-03-16T15:52:52.408Z"
   },
   {
    "duration": 3,
    "start_time": "2022-03-16T15:52:56.422Z"
   },
   {
    "duration": 11,
    "start_time": "2022-03-16T15:53:21.798Z"
   },
   {
    "duration": 27,
    "start_time": "2022-03-16T15:53:26.427Z"
   },
   {
    "duration": 11,
    "start_time": "2022-03-16T15:53:36.141Z"
   },
   {
    "duration": 10,
    "start_time": "2022-03-16T15:53:38.556Z"
   },
   {
    "duration": 246,
    "start_time": "2022-03-16T15:55:01.311Z"
   },
   {
    "duration": 20,
    "start_time": "2022-03-16T15:55:13.267Z"
   },
   {
    "duration": 4,
    "start_time": "2022-03-16T15:55:33.754Z"
   },
   {
    "duration": 18,
    "start_time": "2022-03-16T15:55:35.394Z"
   },
   {
    "duration": 3,
    "start_time": "2022-03-16T15:55:48.408Z"
   },
   {
    "duration": 16,
    "start_time": "2022-03-16T15:55:53.377Z"
   },
   {
    "duration": 17,
    "start_time": "2022-03-16T15:58:26.708Z"
   },
   {
    "duration": 5,
    "start_time": "2022-03-16T15:58:35.500Z"
   },
   {
    "duration": 4,
    "start_time": "2022-03-16T15:58:37.769Z"
   },
   {
    "duration": 21,
    "start_time": "2022-03-16T15:58:58.333Z"
   },
   {
    "duration": 18,
    "start_time": "2022-03-16T15:59:04.178Z"
   },
   {
    "duration": 25,
    "start_time": "2022-03-16T15:59:19.218Z"
   },
   {
    "duration": 3,
    "start_time": "2022-03-16T16:02:00.463Z"
   },
   {
    "duration": 20,
    "start_time": "2022-03-16T16:03:17.171Z"
   },
   {
    "duration": 3,
    "start_time": "2022-03-16T16:04:02.752Z"
   },
   {
    "duration": 21,
    "start_time": "2022-03-16T16:04:05.302Z"
   },
   {
    "duration": 19,
    "start_time": "2022-03-16T16:04:41.819Z"
   },
   {
    "duration": 16,
    "start_time": "2022-03-16T16:04:46.085Z"
   },
   {
    "duration": 11,
    "start_time": "2022-03-16T16:05:17.603Z"
   },
   {
    "duration": 62,
    "start_time": "2022-03-16T16:05:47.265Z"
   },
   {
    "duration": 9,
    "start_time": "2022-03-16T16:05:55.484Z"
   },
   {
    "duration": 7,
    "start_time": "2022-03-16T16:05:57.314Z"
   },
   {
    "duration": 5,
    "start_time": "2022-03-16T16:05:58.846Z"
   },
   {
    "duration": 9,
    "start_time": "2022-03-16T16:06:13.433Z"
   },
   {
    "duration": 174,
    "start_time": "2022-03-16T16:06:42.169Z"
   },
   {
    "duration": 179,
    "start_time": "2022-03-16T16:06:50.762Z"
   },
   {
    "duration": 4779,
    "start_time": "2022-03-16T16:06:57.686Z"
   },
   {
    "duration": 14,
    "start_time": "2022-03-16T16:07:08.343Z"
   },
   {
    "duration": 3,
    "start_time": "2022-03-16T16:07:13.621Z"
   },
   {
    "duration": 4465,
    "start_time": "2022-03-16T16:07:16.470Z"
   },
   {
    "duration": 3,
    "start_time": "2022-03-16T16:07:26.648Z"
   },
   {
    "duration": 154,
    "start_time": "2022-03-16T16:07:28.194Z"
   },
   {
    "duration": 18,
    "start_time": "2022-03-16T16:07:30.359Z"
   },
   {
    "duration": 9,
    "start_time": "2022-03-16T16:07:33.245Z"
   },
   {
    "duration": 5,
    "start_time": "2022-03-16T16:07:35.903Z"
   },
   {
    "duration": 3,
    "start_time": "2022-03-16T16:07:41.294Z"
   },
   {
    "duration": 3,
    "start_time": "2022-03-16T16:07:43.005Z"
   },
   {
    "duration": 11,
    "start_time": "2022-03-16T16:07:45.646Z"
   },
   {
    "duration": 14,
    "start_time": "2022-03-16T16:07:48.908Z"
   },
   {
    "duration": 3,
    "start_time": "2022-03-16T16:07:52.294Z"
   },
   {
    "duration": 20,
    "start_time": "2022-03-16T16:07:58.004Z"
   },
   {
    "duration": 4,
    "start_time": "2022-03-16T16:08:04.030Z"
   },
   {
    "duration": 4,
    "start_time": "2022-03-16T16:08:11.024Z"
   },
   {
    "duration": 17,
    "start_time": "2022-03-16T16:08:12.711Z"
   },
   {
    "duration": 19,
    "start_time": "2022-03-16T16:08:14.999Z"
   },
   {
    "duration": 3,
    "start_time": "2022-03-16T16:08:18.963Z"
   },
   {
    "duration": 16,
    "start_time": "2022-03-16T16:08:23.102Z"
   },
   {
    "duration": 12,
    "start_time": "2022-03-16T16:08:29.550Z"
   },
   {
    "duration": 10,
    "start_time": "2022-03-16T16:08:35.664Z"
   },
   {
    "duration": 11,
    "start_time": "2022-03-16T16:08:43.896Z"
   },
   {
    "duration": 9,
    "start_time": "2022-03-16T16:08:55.447Z"
   },
   {
    "duration": 12,
    "start_time": "2022-03-16T16:09:02.667Z"
   },
   {
    "duration": 3,
    "start_time": "2022-03-16T16:11:12.293Z"
   },
   {
    "duration": 515,
    "start_time": "2022-03-16T16:11:15.495Z"
   },
   {
    "duration": 7,
    "start_time": "2022-03-16T16:11:23.228Z"
   },
   {
    "duration": 3,
    "start_time": "2022-03-16T16:11:43.765Z"
   },
   {
    "duration": 730,
    "start_time": "2022-03-16T16:11:45.618Z"
   },
   {
    "duration": 733,
    "start_time": "2022-03-16T16:12:08.058Z"
   },
   {
    "duration": 22,
    "start_time": "2022-03-16T16:12:23.478Z"
   },
   {
    "duration": 13,
    "start_time": "2022-03-16T16:17:59.384Z"
   },
   {
    "duration": 14,
    "start_time": "2022-03-16T16:18:07.321Z"
   },
   {
    "duration": 195,
    "start_time": "2022-03-16T16:18:45.566Z"
   },
   {
    "duration": 15,
    "start_time": "2022-03-16T16:19:47.566Z"
   },
   {
    "duration": 16,
    "start_time": "2022-03-16T16:19:57.613Z"
   },
   {
    "duration": 17,
    "start_time": "2022-03-16T16:20:30.445Z"
   },
   {
    "duration": 19,
    "start_time": "2022-03-16T16:21:04.461Z"
   },
   {
    "duration": 16,
    "start_time": "2022-03-16T16:21:58.498Z"
   },
   {
    "duration": 14,
    "start_time": "2022-03-16T16:23:03.643Z"
   },
   {
    "duration": 17,
    "start_time": "2022-03-16T16:23:13.943Z"
   },
   {
    "duration": 15,
    "start_time": "2022-03-16T16:24:04.677Z"
   },
   {
    "duration": 18,
    "start_time": "2022-03-16T16:24:13.297Z"
   },
   {
    "duration": 200,
    "start_time": "2022-03-16T16:24:24.753Z"
   },
   {
    "duration": 16,
    "start_time": "2022-03-16T16:24:37.550Z"
   },
   {
    "duration": 19,
    "start_time": "2022-03-16T16:24:46.796Z"
   },
   {
    "duration": 17,
    "start_time": "2022-03-16T16:24:56.663Z"
   },
   {
    "duration": 25,
    "start_time": "2022-03-16T16:26:35.663Z"
   },
   {
    "duration": 187,
    "start_time": "2022-03-16T16:27:05.650Z"
   },
   {
    "duration": 198,
    "start_time": "2022-03-16T16:27:18.420Z"
   },
   {
    "duration": 26,
    "start_time": "2022-03-16T16:27:32.843Z"
   },
   {
    "duration": 29,
    "start_time": "2022-03-16T16:27:59.901Z"
   },
   {
    "duration": 26,
    "start_time": "2022-03-16T16:28:06.191Z"
   },
   {
    "duration": 22,
    "start_time": "2022-03-16T16:28:12.417Z"
   },
   {
    "duration": 15,
    "start_time": "2022-03-16T16:33:50.192Z"
   },
   {
    "duration": 16,
    "start_time": "2022-03-16T16:34:17.586Z"
   },
   {
    "duration": 14,
    "start_time": "2022-03-16T16:34:27.934Z"
   },
   {
    "duration": 17,
    "start_time": "2022-03-16T16:35:09.263Z"
   },
   {
    "duration": 62,
    "start_time": "2022-03-16T16:35:15.492Z"
   },
   {
    "duration": 1066,
    "start_time": "2022-03-16T16:35:30.026Z"
   },
   {
    "duration": 66,
    "start_time": "2022-03-16T16:35:38.096Z"
   },
   {
    "duration": 121,
    "start_time": "2022-03-16T16:35:42.729Z"
   },
   {
    "duration": 16,
    "start_time": "2022-03-16T16:36:02.042Z"
   },
   {
    "duration": 18,
    "start_time": "2022-03-16T16:36:37.064Z"
   },
   {
    "duration": 32,
    "start_time": "2022-03-16T16:37:09.899Z"
   },
   {
    "duration": 4367,
    "start_time": "2022-03-16T16:37:17.325Z"
   },
   {
    "duration": 29,
    "start_time": "2022-03-16T16:37:27.246Z"
   },
   {
    "duration": 4087,
    "start_time": "2022-03-16T16:38:11.532Z"
   },
   {
    "duration": 13,
    "start_time": "2022-03-16T16:38:30.700Z"
   },
   {
    "duration": 15,
    "start_time": "2022-03-16T16:40:00.141Z"
   },
   {
    "duration": 16,
    "start_time": "2022-03-16T16:40:35.673Z"
   },
   {
    "duration": 56,
    "start_time": "2022-03-16T16:43:50.221Z"
   },
   {
    "duration": 69,
    "start_time": "2022-03-16T16:48:12.503Z"
   },
   {
    "duration": 60,
    "start_time": "2022-03-16T16:49:22.252Z"
   },
   {
    "duration": 2,
    "start_time": "2022-03-16T16:53:19.238Z"
   },
   {
    "duration": 61,
    "start_time": "2022-03-16T16:55:41.971Z"
   },
   {
    "duration": 803,
    "start_time": "2022-03-16T17:12:49.497Z"
   },
   {
    "duration": 293,
    "start_time": "2022-03-16T17:12:50.303Z"
   },
   {
    "duration": 46,
    "start_time": "2022-03-16T17:12:50.599Z"
   },
   {
    "duration": 13,
    "start_time": "2022-03-16T17:12:50.648Z"
   },
   {
    "duration": 25,
    "start_time": "2022-03-16T17:12:50.663Z"
   },
   {
    "duration": 19,
    "start_time": "2022-03-16T17:12:50.691Z"
   },
   {
    "duration": 28,
    "start_time": "2022-03-16T17:12:50.712Z"
   },
   {
    "duration": 31,
    "start_time": "2022-03-16T17:12:50.744Z"
   },
   {
    "duration": 28,
    "start_time": "2022-03-16T17:12:50.779Z"
   },
   {
    "duration": 24,
    "start_time": "2022-03-16T17:12:50.809Z"
   },
   {
    "duration": 35,
    "start_time": "2022-03-16T17:12:50.836Z"
   },
   {
    "duration": 6,
    "start_time": "2022-03-16T17:12:50.875Z"
   },
   {
    "duration": 8,
    "start_time": "2022-03-16T17:12:50.884Z"
   },
   {
    "duration": 49,
    "start_time": "2022-03-16T17:12:50.895Z"
   },
   {
    "duration": 30,
    "start_time": "2022-03-16T17:12:50.947Z"
   },
   {
    "duration": 4,
    "start_time": "2022-03-16T17:12:50.979Z"
   },
   {
    "duration": 29,
    "start_time": "2022-03-16T17:12:50.986Z"
   },
   {
    "duration": 39,
    "start_time": "2022-03-16T17:12:51.017Z"
   },
   {
    "duration": 16,
    "start_time": "2022-03-16T17:12:51.058Z"
   },
   {
    "duration": 14,
    "start_time": "2022-03-16T17:12:51.076Z"
   },
   {
    "duration": 57,
    "start_time": "2022-03-16T17:12:51.093Z"
   },
   {
    "duration": 7,
    "start_time": "2022-03-16T17:12:51.152Z"
   },
   {
    "duration": 1336,
    "start_time": "2022-03-16T17:12:51.164Z"
   },
   {
    "duration": 10,
    "start_time": "2022-03-16T17:12:52.503Z"
   },
   {
    "duration": 6,
    "start_time": "2022-03-16T17:12:52.516Z"
   },
   {
    "duration": 1296,
    "start_time": "2022-03-16T17:12:52.544Z"
   },
   {
    "duration": 31,
    "start_time": "2022-03-16T17:12:53.843Z"
   },
   {
    "duration": 27,
    "start_time": "2022-03-16T17:12:53.877Z"
   },
   {
    "duration": 51,
    "start_time": "2022-03-16T17:12:53.906Z"
   },
   {
    "duration": 26,
    "start_time": "2022-03-16T17:12:53.960Z"
   },
   {
    "duration": 7,
    "start_time": "2022-03-16T17:12:53.989Z"
   },
   {
    "duration": 716,
    "start_time": "2022-03-16T18:12:11.897Z"
   },
   {
    "duration": 278,
    "start_time": "2022-03-16T18:12:12.615Z"
   },
   {
    "duration": 37,
    "start_time": "2022-03-16T18:12:12.896Z"
   },
   {
    "duration": 13,
    "start_time": "2022-03-16T18:12:12.944Z"
   },
   {
    "duration": 8,
    "start_time": "2022-03-16T18:12:12.959Z"
   },
   {
    "duration": 6,
    "start_time": "2022-03-16T18:12:12.969Z"
   },
   {
    "duration": 6,
    "start_time": "2022-03-16T18:12:12.978Z"
   },
   {
    "duration": 57,
    "start_time": "2022-03-16T18:12:12.987Z"
   },
   {
    "duration": 13,
    "start_time": "2022-03-16T18:12:13.047Z"
   },
   {
    "duration": 4,
    "start_time": "2022-03-16T18:12:13.062Z"
   },
   {
    "duration": 34,
    "start_time": "2022-03-16T18:12:13.068Z"
   },
   {
    "duration": 5,
    "start_time": "2022-03-16T18:12:13.104Z"
   },
   {
    "duration": 5,
    "start_time": "2022-03-16T18:12:13.144Z"
   },
   {
    "duration": 25,
    "start_time": "2022-03-16T18:12:13.151Z"
   },
   {
    "duration": 27,
    "start_time": "2022-03-16T18:12:13.178Z"
   },
   {
    "duration": 36,
    "start_time": "2022-03-16T18:12:13.208Z"
   },
   {
    "duration": 25,
    "start_time": "2022-03-16T18:12:13.247Z"
   },
   {
    "duration": 18,
    "start_time": "2022-03-16T18:12:13.275Z"
   },
   {
    "duration": 52,
    "start_time": "2022-03-16T18:12:13.296Z"
   },
   {
    "duration": 14,
    "start_time": "2022-03-16T18:12:13.350Z"
   },
   {
    "duration": 14,
    "start_time": "2022-03-16T18:12:13.367Z"
   },
   {
    "duration": 5,
    "start_time": "2022-03-16T18:12:13.383Z"
   },
   {
    "duration": 888,
    "start_time": "2022-03-16T18:12:13.393Z"
   },
   {
    "duration": 8,
    "start_time": "2022-03-16T18:12:14.283Z"
   },
   {
    "duration": 5,
    "start_time": "2022-03-16T18:12:14.293Z"
   },
   {
    "duration": 866,
    "start_time": "2022-03-16T18:12:14.301Z"
   },
   {
    "duration": 26,
    "start_time": "2022-03-16T18:12:15.170Z"
   },
   {
    "duration": 19,
    "start_time": "2022-03-16T18:12:15.199Z"
   },
   {
    "duration": 22,
    "start_time": "2022-03-16T18:12:15.243Z"
   },
   {
    "duration": 22,
    "start_time": "2022-03-16T18:12:15.268Z"
   },
   {
    "duration": 5,
    "start_time": "2022-03-16T18:12:15.292Z"
   },
   {
    "duration": 83,
    "start_time": "2022-03-17T13:53:19.383Z"
   },
   {
    "duration": 759,
    "start_time": "2022-03-17T13:53:29.440Z"
   },
   {
    "duration": 119,
    "start_time": "2022-03-17T13:53:32.970Z"
   },
   {
    "duration": 67,
    "start_time": "2022-03-17T13:53:38.397Z"
   },
   {
    "duration": 18,
    "start_time": "2022-03-17T13:53:40.904Z"
   },
   {
    "duration": 10,
    "start_time": "2022-03-17T13:53:44.362Z"
   },
   {
    "duration": 5,
    "start_time": "2022-03-17T13:53:47.344Z"
   },
   {
    "duration": 7,
    "start_time": "2022-03-17T13:53:48.867Z"
   },
   {
    "duration": 19,
    "start_time": "2022-03-17T13:53:51.319Z"
   },
   {
    "duration": 13,
    "start_time": "2022-03-17T13:53:55.507Z"
   },
   {
    "duration": 5,
    "start_time": "2022-03-17T13:53:58.482Z"
   },
   {
    "duration": 33,
    "start_time": "2022-03-17T13:54:00.425Z"
   },
   {
    "duration": 7,
    "start_time": "2022-03-17T13:54:03.392Z"
   },
   {
    "duration": 5,
    "start_time": "2022-03-17T13:54:06.970Z"
   },
   {
    "duration": 37,
    "start_time": "2022-03-17T13:54:09.283Z"
   },
   {
    "duration": 38,
    "start_time": "2022-03-17T13:54:11.072Z"
   },
   {
    "duration": 5,
    "start_time": "2022-03-17T13:54:14.180Z"
   },
   {
    "duration": 32,
    "start_time": "2022-03-17T13:54:17.463Z"
   },
   {
    "duration": 23,
    "start_time": "2022-03-17T13:54:20.263Z"
   },
   {
    "duration": 31,
    "start_time": "2022-03-17T13:54:23.699Z"
   },
   {
    "duration": 24,
    "start_time": "2022-03-17T13:54:25.970Z"
   },
   {
    "duration": 25,
    "start_time": "2022-03-17T13:54:28.629Z"
   },
   {
    "duration": 7,
    "start_time": "2022-03-17T13:54:32.212Z"
   },
   {
    "duration": 455,
    "start_time": "2022-03-17T13:54:35.621Z"
   },
   {
    "duration": 8,
    "start_time": "2022-03-17T13:54:38.154Z"
   },
   {
    "duration": 7,
    "start_time": "2022-03-17T13:54:41.438Z"
   },
   {
    "duration": 459,
    "start_time": "2022-03-17T13:54:43.714Z"
   },
   {
    "duration": 66,
    "start_time": "2022-03-17T13:54:51.411Z"
   },
   {
    "duration": 41,
    "start_time": "2022-03-17T13:55:11.125Z"
   },
   {
    "duration": 29,
    "start_time": "2022-03-17T13:55:42.886Z"
   },
   {
    "duration": 34,
    "start_time": "2022-03-17T13:56:05.751Z"
   },
   {
    "duration": 44,
    "start_time": "2022-03-17T13:56:12.463Z"
   },
   {
    "duration": 28,
    "start_time": "2022-03-17T13:58:07.168Z"
   },
   {
    "duration": 21,
    "start_time": "2022-03-17T13:58:21.115Z"
   },
   {
    "duration": 28,
    "start_time": "2022-03-17T13:58:32.157Z"
   },
   {
    "duration": 419,
    "start_time": "2022-03-17T13:58:40.338Z"
   },
   {
    "duration": 12,
    "start_time": "2022-03-17T13:58:54.955Z"
   },
   {
    "duration": 17,
    "start_time": "2022-03-17T13:58:59.882Z"
   },
   {
    "duration": 31,
    "start_time": "2022-03-17T13:59:10.289Z"
   },
   {
    "duration": 15,
    "start_time": "2022-03-17T13:59:46.296Z"
   },
   {
    "duration": 13,
    "start_time": "2022-03-17T14:00:03.875Z"
   },
   {
    "duration": 26,
    "start_time": "2022-03-17T14:00:54.781Z"
   },
   {
    "duration": 2888,
    "start_time": "2022-03-17T14:00:58.299Z"
   },
   {
    "duration": 29,
    "start_time": "2022-03-17T14:01:12.295Z"
   },
   {
    "duration": 1066,
    "start_time": "2022-03-17T14:09:39.910Z"
   },
   {
    "duration": 59,
    "start_time": "2022-03-17T14:09:56.923Z"
   },
   {
    "duration": 1307,
    "start_time": "2022-03-17T14:12:06.475Z"
   },
   {
    "duration": 926,
    "start_time": "2022-03-17T14:12:34.188Z"
   },
   {
    "duration": 26,
    "start_time": "2022-03-17T14:13:07.352Z"
   },
   {
    "duration": 1066,
    "start_time": "2022-03-17T14:20:39.987Z"
   },
   {
    "duration": 20,
    "start_time": "2022-03-17T14:37:45.829Z"
   },
   {
    "duration": 3,
    "start_time": "2022-03-17T14:38:29.617Z"
   },
   {
    "duration": 134,
    "start_time": "2022-03-17T14:39:06.131Z"
   },
   {
    "duration": 229,
    "start_time": "2022-03-17T14:39:34.560Z"
   },
   {
    "duration": 112,
    "start_time": "2022-03-17T14:40:30.884Z"
   },
   {
    "duration": 126,
    "start_time": "2022-03-17T14:40:44.007Z"
   },
   {
    "duration": 108,
    "start_time": "2022-03-17T14:40:55.677Z"
   },
   {
    "duration": 119,
    "start_time": "2022-03-17T14:42:52.379Z"
   },
   {
    "duration": 663,
    "start_time": "2022-03-17T14:43:22.426Z"
   },
   {
    "duration": 918,
    "start_time": "2022-03-17T14:45:06.047Z"
   },
   {
    "duration": 2275,
    "start_time": "2022-03-17T14:45:37.638Z"
   },
   {
    "duration": 44,
    "start_time": "2022-03-17T14:48:05.649Z"
   },
   {
    "duration": 26,
    "start_time": "2022-03-17T14:48:35.204Z"
   },
   {
    "duration": 23,
    "start_time": "2022-03-17T14:50:31.818Z"
   },
   {
    "duration": 29,
    "start_time": "2022-03-17T14:50:37.350Z"
   },
   {
    "duration": 197,
    "start_time": "2022-03-17T14:51:03.069Z"
   },
   {
    "duration": 13,
    "start_time": "2022-03-17T14:54:35.872Z"
   },
   {
    "duration": 26,
    "start_time": "2022-03-17T14:55:37.780Z"
   },
   {
    "duration": 24,
    "start_time": "2022-03-17T14:55:51.999Z"
   },
   {
    "duration": 16,
    "start_time": "2022-03-17T14:56:49.838Z"
   },
   {
    "duration": 25,
    "start_time": "2022-03-17T14:56:59.575Z"
   },
   {
    "duration": 28,
    "start_time": "2022-03-17T14:57:57.684Z"
   },
   {
    "duration": 27,
    "start_time": "2022-03-17T14:58:20.645Z"
   },
   {
    "duration": 17,
    "start_time": "2022-03-17T15:00:22.759Z"
   },
   {
    "duration": 5,
    "start_time": "2022-03-17T15:00:31.447Z"
   },
   {
    "duration": 30,
    "start_time": "2022-03-17T15:00:54.062Z"
   },
   {
    "duration": 12,
    "start_time": "2022-03-17T15:03:07.954Z"
   },
   {
    "duration": 40,
    "start_time": "2022-03-17T15:03:16.073Z"
   },
   {
    "duration": 44,
    "start_time": "2022-03-17T15:03:31.491Z"
   },
   {
    "duration": 4,
    "start_time": "2022-03-17T15:03:57.805Z"
   },
   {
    "duration": 3,
    "start_time": "2022-03-17T15:04:01.077Z"
   },
   {
    "duration": 213,
    "start_time": "2022-03-17T15:04:02.543Z"
   },
   {
    "duration": 36,
    "start_time": "2022-03-17T15:04:06.099Z"
   },
   {
    "duration": 15,
    "start_time": "2022-03-17T15:04:08.743Z"
   },
   {
    "duration": 7,
    "start_time": "2022-03-17T15:04:12.363Z"
   },
   {
    "duration": 5,
    "start_time": "2022-03-17T15:04:19.923Z"
   },
   {
    "duration": 5,
    "start_time": "2022-03-17T15:04:21.489Z"
   },
   {
    "duration": 14,
    "start_time": "2022-03-17T15:04:23.346Z"
   },
   {
    "duration": 13,
    "start_time": "2022-03-17T15:04:31.167Z"
   },
   {
    "duration": 3,
    "start_time": "2022-03-17T15:04:35.775Z"
   },
   {
    "duration": 30,
    "start_time": "2022-03-17T15:04:38.285Z"
   },
   {
    "duration": 8,
    "start_time": "2022-03-17T15:04:44.609Z"
   },
   {
    "duration": 34,
    "start_time": "2022-03-17T15:04:51.087Z"
   },
   {
    "duration": 37,
    "start_time": "2022-03-17T15:05:13.224Z"
   },
   {
    "duration": 19,
    "start_time": "2022-03-17T15:06:00.785Z"
   },
   {
    "duration": 45,
    "start_time": "2022-03-17T15:06:08.388Z"
   },
   {
    "duration": 39,
    "start_time": "2022-03-17T15:08:11.345Z"
   },
   {
    "duration": 5,
    "start_time": "2022-03-17T15:09:36.372Z"
   },
   {
    "duration": 26,
    "start_time": "2022-03-17T15:09:38.437Z"
   },
   {
    "duration": 28,
    "start_time": "2022-03-17T15:09:40.149Z"
   },
   {
    "duration": 4,
    "start_time": "2022-03-17T15:09:42.664Z"
   },
   {
    "duration": 21,
    "start_time": "2022-03-17T15:09:45.299Z"
   },
   {
    "duration": 15,
    "start_time": "2022-03-17T15:09:47.895Z"
   },
   {
    "duration": 24,
    "start_time": "2022-03-17T15:09:50.834Z"
   },
   {
    "duration": 21,
    "start_time": "2022-03-17T15:09:52.967Z"
   },
   {
    "duration": 21,
    "start_time": "2022-03-17T15:09:55.446Z"
   },
   {
    "duration": 5,
    "start_time": "2022-03-17T15:09:59.960Z"
   },
   {
    "duration": 431,
    "start_time": "2022-03-17T15:10:03.191Z"
   },
   {
    "duration": 9,
    "start_time": "2022-03-17T15:10:05.974Z"
   },
   {
    "duration": 5,
    "start_time": "2022-03-17T15:10:09.085Z"
   },
   {
    "duration": 437,
    "start_time": "2022-03-17T15:10:11.230Z"
   },
   {
    "duration": 26,
    "start_time": "2022-03-17T15:10:15.010Z"
   },
   {
    "duration": 12,
    "start_time": "2022-03-17T15:16:27.331Z"
   },
   {
    "duration": 537,
    "start_time": "2022-03-17T19:08:17.302Z"
   },
   {
    "duration": 187,
    "start_time": "2022-03-17T19:08:17.843Z"
   },
   {
    "duration": 47,
    "start_time": "2022-03-17T19:08:18.032Z"
   },
   {
    "duration": 14,
    "start_time": "2022-03-17T19:08:18.083Z"
   },
   {
    "duration": 7,
    "start_time": "2022-03-17T19:08:18.100Z"
   },
   {
    "duration": 34,
    "start_time": "2022-03-17T19:08:18.109Z"
   },
   {
    "duration": 10,
    "start_time": "2022-03-17T19:08:18.145Z"
   },
   {
    "duration": 15,
    "start_time": "2022-03-17T19:08:18.157Z"
   },
   {
    "duration": 14,
    "start_time": "2022-03-17T19:08:18.174Z"
   },
   {
    "duration": 5,
    "start_time": "2022-03-17T19:08:18.191Z"
   },
   {
    "duration": 71,
    "start_time": "2022-03-17T19:08:18.198Z"
   },
   {
    "duration": 12,
    "start_time": "2022-03-17T19:08:18.271Z"
   },
   {
    "duration": 5,
    "start_time": "2022-03-17T19:08:18.285Z"
   },
   {
    "duration": 61,
    "start_time": "2022-03-17T19:08:18.292Z"
   },
   {
    "duration": 29,
    "start_time": "2022-03-17T19:08:18.356Z"
   },
   {
    "duration": 4,
    "start_time": "2022-03-17T19:08:18.387Z"
   },
   {
    "duration": 51,
    "start_time": "2022-03-17T19:08:18.393Z"
   },
   {
    "duration": 16,
    "start_time": "2022-03-17T19:08:18.446Z"
   },
   {
    "duration": 25,
    "start_time": "2022-03-17T19:08:18.464Z"
   },
   {
    "duration": 22,
    "start_time": "2022-03-17T19:08:18.491Z"
   },
   {
    "duration": 25,
    "start_time": "2022-03-17T19:08:18.544Z"
   },
   {
    "duration": 7,
    "start_time": "2022-03-17T19:08:18.571Z"
   },
   {
    "duration": 477,
    "start_time": "2022-03-17T19:08:18.580Z"
   },
   {
    "duration": 9,
    "start_time": "2022-03-17T19:08:19.060Z"
   },
   {
    "duration": 5,
    "start_time": "2022-03-17T19:08:19.071Z"
   },
   {
    "duration": 460,
    "start_time": "2022-03-17T19:08:19.078Z"
   },
   {
    "duration": 25,
    "start_time": "2022-03-17T19:08:19.542Z"
   },
   {
    "duration": 22,
    "start_time": "2022-03-17T19:08:19.571Z"
   },
   {
    "duration": 55,
    "start_time": "2022-03-17T19:08:19.596Z"
   },
   {
    "duration": 28,
    "start_time": "2022-03-17T19:08:19.653Z"
   },
   {
    "duration": 7,
    "start_time": "2022-03-17T19:08:19.684Z"
   },
   {
    "duration": 483,
    "start_time": "2022-03-17T19:18:25.984Z"
   },
   {
    "duration": 181,
    "start_time": "2022-03-17T19:18:26.469Z"
   },
   {
    "duration": 45,
    "start_time": "2022-03-17T19:18:26.652Z"
   },
   {
    "duration": 12,
    "start_time": "2022-03-17T19:18:26.701Z"
   },
   {
    "duration": 31,
    "start_time": "2022-03-17T19:18:26.716Z"
   },
   {
    "duration": 5,
    "start_time": "2022-03-17T19:18:26.750Z"
   },
   {
    "duration": 6,
    "start_time": "2022-03-17T19:18:26.758Z"
   },
   {
    "duration": 17,
    "start_time": "2022-03-17T19:18:26.767Z"
   },
   {
    "duration": 18,
    "start_time": "2022-03-17T19:18:26.786Z"
   },
   {
    "duration": 4,
    "start_time": "2022-03-17T19:18:26.846Z"
   },
   {
    "duration": 34,
    "start_time": "2022-03-17T19:18:26.853Z"
   },
   {
    "duration": 17,
    "start_time": "2022-03-17T19:18:26.890Z"
   },
   {
    "duration": 36,
    "start_time": "2022-03-17T19:18:26.908Z"
   },
   {
    "duration": 33,
    "start_time": "2022-03-17T19:18:26.946Z"
   },
   {
    "duration": 30,
    "start_time": "2022-03-17T19:18:26.982Z"
   },
   {
    "duration": 29,
    "start_time": "2022-03-17T19:18:27.015Z"
   },
   {
    "duration": 25,
    "start_time": "2022-03-17T19:18:27.046Z"
   },
   {
    "duration": 15,
    "start_time": "2022-03-17T19:18:27.073Z"
   },
   {
    "duration": 54,
    "start_time": "2022-03-17T19:18:27.090Z"
   },
   {
    "duration": 21,
    "start_time": "2022-03-17T19:18:27.147Z"
   },
   {
    "duration": 22,
    "start_time": "2022-03-17T19:18:27.170Z"
   },
   {
    "duration": 5,
    "start_time": "2022-03-17T19:18:27.195Z"
   },
   {
    "duration": 469,
    "start_time": "2022-03-17T19:18:27.202Z"
   },
   {
    "duration": 8,
    "start_time": "2022-03-17T19:18:27.673Z"
   },
   {
    "duration": 5,
    "start_time": "2022-03-17T19:18:27.683Z"
   },
   {
    "duration": 467,
    "start_time": "2022-03-17T19:18:27.690Z"
   },
   {
    "duration": 26,
    "start_time": "2022-03-17T19:18:28.159Z"
   },
   {
    "duration": 23,
    "start_time": "2022-03-17T19:18:28.189Z"
   },
   {
    "duration": 53,
    "start_time": "2022-03-17T19:18:28.214Z"
   },
   {
    "duration": 28,
    "start_time": "2022-03-17T19:18:28.270Z"
   },
   {
    "duration": 42,
    "start_time": "2022-03-17T19:18:28.301Z"
   },
   {
    "duration": 431,
    "start_time": "2022-07-02T13:36:18.726Z"
   },
   {
    "duration": 356,
    "start_time": "2022-07-02T13:36:19.159Z"
   },
   {
    "duration": 32,
    "start_time": "2022-07-02T13:36:19.799Z"
   },
   {
    "duration": 10,
    "start_time": "2022-07-02T13:36:21.636Z"
   },
   {
    "duration": 6,
    "start_time": "2022-07-02T13:36:24.333Z"
   },
   {
    "duration": 3,
    "start_time": "2022-07-02T13:36:28.042Z"
   },
   {
    "duration": 3,
    "start_time": "2022-07-02T13:36:28.691Z"
   }
  ],
  "kernelspec": {
   "display_name": "Python 3 (ipykernel)",
   "language": "python",
   "name": "python3"
  },
  "language_info": {
   "codemirror_mode": {
    "name": "ipython",
    "version": 3
   },
   "file_extension": ".py",
   "mimetype": "text/x-python",
   "name": "python",
   "nbconvert_exporter": "python",
   "pygments_lexer": "ipython3",
   "version": "3.9.7"
  },
  "toc": {
   "base_numbering": 1,
   "nav_menu": {},
   "number_sections": true,
   "sideBar": true,
   "skip_h1_title": true,
   "title_cell": "Table of Contents",
   "title_sidebar": "Contents",
   "toc_cell": false,
   "toc_position": {
    "height": "calc(100% - 180px)",
    "left": "10px",
    "top": "150px",
    "width": "165px"
   },
   "toc_section_display": true,
   "toc_window_display": true
  }
 },
 "nbformat": 4,
 "nbformat_minor": 5
}
